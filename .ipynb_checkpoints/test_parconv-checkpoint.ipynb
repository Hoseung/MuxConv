{
 "cells": [
  {
   "cell_type": "code",
   "execution_count": 1,
   "id": "45a306b7",
   "metadata": {},
   "outputs": [],
   "source": [
    "%load_ext autoreload\n",
    "%autoreload 2\n",
    "from hlee_utils import *"
   ]
  },
  {
   "cell_type": "markdown",
   "id": "ef9efbaa",
   "metadata": {},
   "source": [
    "# 0. [U] Get 12 (3x3) kernels "
   ]
  },
  {
   "cell_type": "code",
   "execution_count": 15,
   "id": "395aa279",
   "metadata": {},
   "outputs": [
    {
     "name": "stdout",
     "output_type": "stream",
     "text": [
      "The autoreload extension is already loaded. To reload it, use:\n",
      "  %reload_ext autoreload\n",
      "run torchconv\n",
      "16\n",
      "channel out : 16\n",
      "channel out : 16\n",
      "[cnn] U_multconv  : (3, 3, 3, 16)\n",
      "[cnn] U_torchconv : torch.Size([16, 3, 3, 3])\n",
      "\n",
      "\n",
      "------------------Parameters--------------------\n",
      "\n",
      "hi,wi,ci (ki,ti) = 32,32,3 (1,4)\n",
      "ho,wo,co (ko,to) = 32,32,16 (1,16)\n",
      "fh,fw = 3,3\n",
      "nslots = 16384\n",
      "U_mpconv : (3, 3, 3, 16)\n",
      "[MultConv] (hi,wi,ci) =(32,32,3),(ho,wo,co)=(32,32,16),(fh,fw)=(3,3)\n",
      "[MultConv] (ki,ti) =(1,4), (ko,to) =(1,16)\n",
      "\n",
      "\n",
      "------------------START MultConv()--------------------\n",
      "\n",
      "[MultConv][(fh,fw) LOOP] rot [   33] #rotation_count = 1\n",
      "[MultConv][(fh,fw) LOOP] rot [   32] #rotation_count = 2\n",
      "[MultConv][(fh,fw) LOOP] rot [   31] #rotation_count = 3\n",
      "[MultConv][(fh,fw) LOOP] rot [    1] #rotation_count = 4\n",
      "[MultConv][(fh,fw) LOOP] rot [    0] #rotation_count = 4\n",
      "[MultConv][(fh,fw) LOOP] rot [   -1] #rotation_count = 5\n",
      "[MultConv][(fh,fw) LOOP] rot [  -31] #rotation_count = 6\n",
      "[MultConv][(fh,fw) LOOP] rot [  -32] #rotation_count = 7\n",
      "[MultConv][(fh,fw) LOOP] rot [  -33] #rotation_count = 8\n",
      "nrows = 3\n",
      "ncols = 3\n",
      "depth = 16384\n",
      "[SumSlot][LOOP1] rot [-1024] #rotation_count = 9\n",
      "[SumSlot][LOOP1] rot [-2048] #rotation_count = 10\n",
      "\t\t\t\t\t\t\t______________ 0=0+0+0\n",
      "[MultConv][(co) LOOP] rot [    0] #rotation_count = 10\n",
      "[SumSlot][LOOP1] rot [-1024] #rotation_count = 11\n",
      "[SumSlot][LOOP1] rot [-2048] #rotation_count = 12\n",
      "\t\t\t\t\t\t\t______________ -1024=1024+0+0\n",
      "[MultConv][(co) LOOP] rot [-1024] #rotation_count = 13\n",
      "[SumSlot][LOOP1] rot [-1024] #rotation_count = 14\n",
      "[SumSlot][LOOP1] rot [-2048] #rotation_count = 15\n",
      "\t\t\t\t\t\t\t______________ -2048=2048+0+0\n",
      "[MultConv][(co) LOOP] rot [-2048] #rotation_count = 16\n",
      "[SumSlot][LOOP1] rot [-1024] #rotation_count = 17\n",
      "[SumSlot][LOOP1] rot [-2048] #rotation_count = 18\n",
      "\t\t\t\t\t\t\t______________ -3072=3072+0+0\n",
      "[MultConv][(co) LOOP] rot [-3072] #rotation_count = 19\n",
      "[SumSlot][LOOP1] rot [-1024] #rotation_count = 20\n",
      "[SumSlot][LOOP1] rot [-2048] #rotation_count = 21\n",
      "\t\t\t\t\t\t\t______________ -4096=4096+0+0\n",
      "[MultConv][(co) LOOP] rot [-4096] #rotation_count = 22\n",
      "[SumSlot][LOOP1] rot [-1024] #rotation_count = 23\n",
      "[SumSlot][LOOP1] rot [-2048] #rotation_count = 24\n",
      "\t\t\t\t\t\t\t______________ -5120=5120+0+0\n",
      "[MultConv][(co) LOOP] rot [-5120] #rotation_count = 25\n",
      "[SumSlot][LOOP1] rot [-1024] #rotation_count = 26\n",
      "[SumSlot][LOOP1] rot [-2048] #rotation_count = 27\n",
      "\t\t\t\t\t\t\t______________ -6144=6144+0+0\n",
      "[MultConv][(co) LOOP] rot [-6144] #rotation_count = 28\n",
      "[SumSlot][LOOP1] rot [-1024] #rotation_count = 29\n",
      "[SumSlot][LOOP1] rot [-2048] #rotation_count = 30\n",
      "\t\t\t\t\t\t\t______________ -7168=7168+0+0\n",
      "[MultConv][(co) LOOP] rot [-7168] #rotation_count = 31\n",
      "[SumSlot][LOOP1] rot [-1024] #rotation_count = 32\n",
      "[SumSlot][LOOP1] rot [-2048] #rotation_count = 33\n",
      "\t\t\t\t\t\t\t______________ -8192=8192+0+0\n",
      "[MultConv][(co) LOOP] rot [-8192] #rotation_count = 34\n",
      "[SumSlot][LOOP1] rot [-1024] #rotation_count = 35\n",
      "[SumSlot][LOOP1] rot [-2048] #rotation_count = 36\n",
      "\t\t\t\t\t\t\t______________ -9216=9216+0+0\n",
      "[MultConv][(co) LOOP] rot [-9216] #rotation_count = 37\n",
      "[SumSlot][LOOP1] rot [-1024] #rotation_count = 38\n",
      "[SumSlot][LOOP1] rot [-2048] #rotation_count = 39\n",
      "\t\t\t\t\t\t\t______________ -10240=10240+0+0\n",
      "[MultConv][(co) LOOP] rot [-10240] #rotation_count = 40\n",
      "[SumSlot][LOOP1] rot [-1024] #rotation_count = 41\n",
      "[SumSlot][LOOP1] rot [-2048] #rotation_count = 42\n",
      "\t\t\t\t\t\t\t______________ -11264=11264+0+0\n",
      "[MultConv][(co) LOOP] rot [-11264] #rotation_count = 43\n",
      "[SumSlot][LOOP1] rot [-1024] #rotation_count = 44\n",
      "[SumSlot][LOOP1] rot [-2048] #rotation_count = 45\n",
      "\t\t\t\t\t\t\t______________ -12288=12288+0+0\n",
      "[MultConv][(co) LOOP] rot [-12288] #rotation_count = 46\n",
      "[SumSlot][LOOP1] rot [-1024] #rotation_count = 47\n",
      "[SumSlot][LOOP1] rot [-2048] #rotation_count = 48\n",
      "\t\t\t\t\t\t\t______________ -13312=13312+0+0\n",
      "[MultConv][(co) LOOP] rot [-13312] #rotation_count = 49\n",
      "[SumSlot][LOOP1] rot [-1024] #rotation_count = 50\n",
      "[SumSlot][LOOP1] rot [-2048] #rotation_count = 51\n",
      "\t\t\t\t\t\t\t______________ -14336=14336+0+0\n",
      "[MultConv][(co) LOOP] rot [-14336] #rotation_count = 52\n",
      "[SumSlot][LOOP1] rot [-1024] #rotation_count = 53\n",
      "[SumSlot][LOOP1] rot [-2048] #rotation_count = 54\n",
      "\t\t\t\t\t\t\t______________ -15360=15360+0+0\n",
      "[MultConv][(co) LOOP] rot [-15360] #rotation_count = 55\n",
      "cipher : dim=(16384,)\n"
     ]
    }
   ],
   "source": [
    "%load_ext autoreload\n",
    "%autoreload 2\n",
    "from hlee_run import *\n",
    "\n",
    "#plt.imshow(cv2.imread(\"cute.jpg\"))\n",
    "co=16\n",
    "fp=\"./models/simple_model_hlee_co16.pt\"\n",
    "#fp=\"./models/simple_model_hlee.pt\"\n",
    "run = CompareConv(fimage=\"./cute.jpg\",fparam=fp,kernel_size=3,co=co);\n",
    "torout,mpout,unpacked,nrots = run.compare();"
   ]
  },
  {
   "cell_type": "code",
   "execution_count": 20,
   "id": "203d5554",
   "metadata": {},
   "outputs": [
    {
     "data": {
      "image/png": "[encoded data removed]",
      "text/plain": [
       "<Figure size 432x288 with 1 Axes>"
      ]
     },
     "metadata": {
      "needs_background": "light"
     },
     "output_type": "display_data"
    }
   ],
   "source": [
    "plt.imshow(unpacked[3])\n",
    "U=run.U_multconv\n",
    "U_torchconv= run.U_torchconv.numpy()"
   ]
  },
  {
   "cell_type": "markdown",
   "id": "c4aa23dc",
   "metadata": {},
   "source": [
    "# 2. Try ParConv...."
   ]
  },
  {
   "cell_type": "code",
   "execution_count": 1,
   "id": "16a1953a",
   "metadata": {},
   "outputs": [],
   "source": [
    "%load_ext autoreload\n",
    "%autoreload\n",
    "from inspect import getmembers, isfunction\n",
    "from hlee_notClass_multiplexed_lee22e import *\n",
    "from hlee_utils import *"
   ]
  },
  {
   "cell_type": "markdown",
   "id": "aa892efc",
   "metadata": {},
   "source": [
    "## MultPack() <> unpack()\n",
    "ci=3 <-- fixed.\n"
   ]
  },
  {
   "cell_type": "code",
   "execution_count": 2,
   "id": "e4ad2b00",
   "metadata": {},
   "outputs": [],
   "source": [
    "################\n",
    "#  unpack()    #\n",
    "################\n",
    "def unpack_noC(ct,ha,wa,ca,ka,ta):\n",
    "    tsize = ha*wa*ka**2\n",
    "    ch  = []\n",
    "    for channel in range(ka**2*ta):\n",
    "        r = channel%(ka**2)\n",
    "        idx_start_channel = ta*(r%ka)+int(np.floor(r/ka))*ta*ka*wa +int(np.floor(channel/(ka**2)))\n",
    "        mat=[]\n",
    "        for i in range(ha):\n",
    "            row = []\n",
    "            for j in range(wa):\n",
    "                idx = idx_start_channel+i*wa*ta*ka**2+j*ka*ta\n",
    "                row.append(ct[idx])\n",
    "            mat.append(row)\n",
    "        ch.append(mat)\n",
    "    return np.array(ch)"
   ]
  },
  {
   "cell_type": "code",
   "execution_count": 5,
   "id": "569cd8b6",
   "metadata": {},
   "outputs": [
    {
     "data": {
      "text/plain": [
       "<matplotlib.image.AxesImage at 0x7f5d2671f640>"
      ]
     },
     "execution_count": 5,
     "metadata": {},
     "output_type": "execute_result"
    },
    {
     "data": {
      "image/png": "[encoded data removed]",
      "text/plain": [
       "<Figure size 432x288 with 1 Axes>"
      ]
     },
     "metadata": {
      "needs_background": "light"
     },
     "output_type": "display_data"
    }
   ],
   "source": [
    "ti=4\n",
    "hi,wi,ci,ki = 32,32,3,1\n",
    "ins = [hi,wi,ci,ki,ti]\n",
    "ho,wo,co,ko,to = 32,32,4,1,4\n",
    "fh,fw = 3,3\n",
    "outs = [ho,wo,co,ko,to]\n",
    "kernels = [fh,fw]\n",
    "img = cv2.resize(cv2.imread(\"cute.jpg\"),(hi,wi))\n",
    "c = unpack(MultPack(img,ki,ti),hi,wi,ci,ki,ti)\n",
    "plt.imshow(c[0])"
   ]
  },
  {
   "cell_type": "markdown",
   "id": "a4d7debd",
   "metadata": {},
   "source": [
    "ho,wo,co,ko,to = 32,32,16,1,16\n",
    "fh,fw = 3,3\n",
    "ins = [hi,wi,ci,ki,ti]\n",
    "outs = [ho,wo,co,ko,to]\n",
    "kernels = [fh,fw]"
   ]
  },
  {
   "cell_type": "markdown",
   "id": "241bdfd6",
   "metadata": {},
   "source": [
    "f = get_channel_first(img)\n",
    "zero = np.zeros([32,32])\n",
    "ff = np.array([f[0],f[1],f[2],zero])\n",
    "print(ff.shape)\n",
    "fff = get_channel_last(ff)"
   ]
  },
  {
   "cell_type": "code",
   "execution_count": 16,
   "id": "7341918f",
   "metadata": {},
   "outputs": [
    {
     "data": {
      "text/plain": [
       "<matplotlib.image.AxesImage at 0x7f5d25954760>"
      ]
     },
     "execution_count": 16,
     "metadata": {},
     "output_type": "execute_result"
    },
    {
     "data": {
      "image/png": "[encoded data removed]",
      "text/plain": [
       "<Figure size 432x288 with 1 Axes>"
      ]
     },
     "metadata": {
      "needs_background": "light"
     },
     "output_type": "display_data"
    }
   ],
   "source": [
    "U = np.zeros([co,3,fh,fw])\n",
    "for l in range(co):\n",
    "    for k in range(ci):\n",
    "        for i in range(fh):\n",
    "            for j in range(fw):\n",
    "                if i==1 and j==1:\n",
    "                    U[l,k,i,j]=1\n",
    "U = get_channel_last(U)\n",
    "U.shape\n",
    "check = get_channel_first(U)\n",
    "plt.imshow(check[3])"
   ]
  },
  {
   "cell_type": "code",
   "execution_count": 8,
   "id": "9821e7c3",
   "metadata": {},
   "outputs": [
    {
     "name": "stdout",
     "output_type": "stream",
     "text": [
      "[MultConv] (hi,wi,ci) =(32,32,3),(ho,wo,co)=(32,32,4),(fh,fw)=(3,3)\n",
      "[MultConv] (ki,ti) =(1,4), (ko,to) =(1,4)\n",
      "\n",
      "\n",
      "------------------START MultConv()--------------------\n",
      "\n",
      "loop1\n",
      "[SumSlot][LOOP1] rot [-1024] #rotation_count = 1\n",
      "loop1\n",
      "[SumSlot][LOOP1] rot [-2048] #rotation_count = 2\n",
      "loop2\n",
      "loop2\n",
      "loop1\n",
      "[SumSlot][LOOP1] rot [-1024] #rotation_count = 1\n",
      "loop1\n",
      "[SumSlot][LOOP1] rot [-2048] #rotation_count = 2\n",
      "loop2\n",
      "loop2\n",
      "loop1\n",
      "[SumSlot][LOOP1] rot [-1024] #rotation_count = 1\n",
      "loop1\n",
      "[SumSlot][LOOP1] rot [-2048] #rotation_count = 2\n",
      "loop2\n",
      "loop2\n",
      "loop1\n",
      "[SumSlot][LOOP1] rot [-1024] #rotation_count = 1\n",
      "loop1\n",
      "[SumSlot][LOOP1] rot [-2048] #rotation_count = 2\n",
      "loop2\n",
      "loop2\n"
     ]
    }
   ],
   "source": [
    "ct_a = MultPack(img,ki,ti)\n",
    "ct_d = MultConv(ct_a,U,ins,outs,kernels,nslots=2**14)"
   ]
  },
  {
   "cell_type": "code",
   "execution_count": 12,
   "id": "a02a5ff5",
   "metadata": {},
   "outputs": [
    {
     "data": {
      "text/plain": [
       "<matplotlib.image.AxesImage at 0x7f5d25b94760>"
      ]
     },
     "execution_count": 12,
     "metadata": {},
     "output_type": "execute_result"
    },
    {
     "data": {
      "image/png": "[encoded data removed]",
      "text/plain": [
       "<Figure size 432x288 with 1 Axes>"
      ]
     },
     "metadata": {
      "needs_background": "light"
     },
     "output_type": "display_data"
    }
   ],
   "source": [
    "a = unpack(ct_d,ho,wo,co,ko,to)\n",
    "a.shape\n",
    "plt.imshow(a[3])"
   ]
  },
  {
   "cell_type": "code",
   "execution_count": 58,
   "id": "46ce03df",
   "metadata": {},
   "outputs": [
    {
     "name": "stdout",
     "output_type": "stream",
     "text": [
      "The autoreload extension is already loaded. To reload it, use:\n",
      "  %reload_ext autoreload\n",
      "\n",
      "--------ct_a[:72] = \n",
      " [111. 112. 113. 121. 122. 123. 131. 132. 133. 211. 212. 213. 221. 222.\n",
      " 223. 231. 232. 233. 311. 312. 313. 321. 322. 323. 331. 332. 333.   0.\n",
      "   0.   0.   0.   0.   0.   0.   0.   0.   0.   0.   0.   0.   0.   0.\n",
      "   0.   0.   0.   0.   0.   0.   0.   0.   0.   0.   0.   0.   0.   0.\n",
      "   0.   0.   0.   0.   0.   0.   0.   0.   0.   0.   0.   0.   0.   0.\n",
      "   0.   0.]\n"
     ]
    }
   ],
   "source": [
    "%load_ext autoreload\n",
    "%autoreload\n",
    "from inspect import getmembers, isfunction\n",
    "from hlee_notClass_multiplexed_lee22e import *\n",
    "from hlee_utils import *\n",
    "fh,fw = 3,3\n",
    "hi,wi,ci,ki,ti = 3,3,3,1,3\n",
    "ho,wo,co,ko,to = 3,3,4,1,3\n",
    "#hi,wi,ci,ki,ti = 3,3,3,2,1\n",
    "#ho,wo,co,ko,to = 3,3,4,2,1\n",
    "\n",
    "ins = [hi,wi,ci,ki,ti]\n",
    "outs = [ho,wo,co,ko,to]\n",
    "nslots = 2**14\n",
    "\n",
    "A = np.zeros([hi,wi,ci])\n",
    "for i in range(hi):\n",
    "    for j in range(wi):\n",
    "        for k in range(ci):\n",
    "            A[i,j,k]=(i+1)*100+(j+1)*10+k+1\n",
    "\n",
    "A_ch1st = get_channel_first(A)\n",
    "ct_a = MultPack(A,ki,ti)\n",
    "print(f\"\\n--------ct_a[:72] = \\n {ct_a[:72]}\")\n",
    "\n",
    "#print(\"\\n---------------------------image for each channel\")\n",
    "#a = get_channel_first(A)\n",
    "#l=input_data_3channels = np.hstack((a[0],a[1],a[2]))\n",
    "#plt.imshow(l)"
   ]
  },
  {
   "cell_type": "markdown",
   "id": "0ff9fdb5",
   "metadata": {},
   "source": [
    "## MultConv($ct_a$, U) :"
   ]
  },
  {
   "cell_type": "code",
   "execution_count": 223,
   "id": "b6e1eece",
   "metadata": {},
   "outputs": [
    {
     "name": "stdout",
     "output_type": "stream",
     "text": [
      "[111. 112. 113. 121. 122. 123. 131. 132. 133. 211. 212. 213. 221. 222.\n",
      " 223. 231. 232. 233. 311. 312. 313. 321. 322. 323. 331. 332. 333.]\n",
      "----------------------------------------------------------------------------------(i1,i2,rot)=(0,0,4)\n",
      "[122. 123. 131. 132. 133. 211. 212. 213. 221. 222. 223. 231. 232. 233.\n",
      " 311. 312. 313. 321. 322. 323. 331. 332. 333.   0.   0.   0.   0.]\n",
      "----------------------------------------------------------------------------------(i1,i2,rot)=(0,1,3)\n",
      "[  0.   0.   0.   0. 111. 112. 113. 121. 122. 123. 131. 132. 133. 211.\n",
      " 212. 213. 221. 222. 223. 231. 232. 233. 311. 312. 313. 321. 322.]\n",
      "----------------------------------------------------------------------------------(i1,i2,rot)=(0,2,2)\n",
      "[  0.   0.   0. 111. 112. 113. 121. 122. 123. 131. 132. 133. 211. 212.\n",
      " 213. 221. 222. 223. 231. 232. 233. 311. 312. 313. 321. 322. 323.]\n",
      "----------------------------------------------------------------------------------(i1,i2,rot)=(1,0,1)\n",
      "[  0.   0. 111. 112. 113. 121. 122. 123. 131. 132. 133. 211. 212. 213.\n",
      " 221. 222. 223. 231. 232. 233. 311. 312. 313. 321. 322. 323. 331.]\n",
      "----------------------------------------------------------------------------------(i1,i2,rot)=(1,1,0)\n",
      "[  0. 111. 112. 113. 121. 122. 123. 131. 132. 133. 211. 212. 213. 221.\n",
      " 222. 223. 231. 232. 233. 311. 312. 313. 321. 322. 323. 331. 332.]\n",
      "----------------------------------------------------------------------------------(i1,i2,rot)=(1,2,-1)\n",
      "[111. 112. 113. 121. 122. 123. 131. 132. 133. 211. 212. 213. 221. 222.\n",
      " 223. 231. 232. 233. 311. 312. 313. 321. 322. 323. 331. 332. 333.]\n",
      "----------------------------------------------------------------------------------(i1,i2,rot)=(2,0,-2)\n",
      "[112. 113. 121. 122. 123. 131. 132. 133. 211. 212. 213. 221. 222. 223.\n",
      " 231. 232. 233. 311. 312. 313. 321. 322. 323. 331. 332. 333.   0.]\n",
      "----------------------------------------------------------------------------------(i1,i2,rot)=(2,1,-3)\n",
      "[113. 121. 122. 123. 131. 132. 133. 211. 212. 213. 221. 222. 223. 231.\n",
      " 232. 233. 311. 312. 313. 321. 322. 323. 331. 332. 333.   0.   0.]\n",
      "----------------------------------------------------------------------------------(i1,i2,rot)=(2,2,-4)\n",
      "[121. 122. 123. 131. 132. 133. 211. 212. 213. 221. 222. 223. 231. 232.\n",
      " 233. 311. 312. 313. 321. 322. 323. 331. 332. 333.   0.   0.   0.]\n",
      "hello\n",
      "[112. 113. 121. ...   0.   0. 111.]\n"
     ]
    }
   ],
   "source": [
    "ct = []\n",
    "print(ct_a[:27])\n",
    "for i1 in range(0,fh):\n",
    "    row = []\n",
    "    for i2 in range(0,fw):\n",
    "        rot = -1*int(np.round((ki**2*wi*(i1-(fh-1)/2)+ki*(i2-(fw-1)/2))))\n",
    "        print(f\"----------------------------------------------------------------------------------(i1,i2,rot)=({i1},{i2},{rot})\")\n",
    "        print(ct_a_ROTATED[:27])\n",
    "        ct_a_ROTATED = np.roll(ct_a,rot)\n",
    "        row.append(ct_a_ROTATED)\n",
    "    ct.append(row)\n",
    "##########\n",
    "리스트-배열문제인지좀 보고, 병렬도 병렬로하자. 폴더카피해서"
   ]
  },
  {
   "cell_type": "markdown",
   "id": "617d9e65",
   "metadata": {},
   "source": [
    "# 3. [A] 이미지 데이터 : $ct_a$ = MultPack(A,$k_i$,$t_i$)\n",
    "\n",
    "<span style = \"color:red;font-size:150%\">\n",
    "1) $ct_{a : kt13}$</br>\n",
    "2) $ct_{a : kt21}$"
   ]
  },
  {
   "cell_type": "code",
   "execution_count": 167,
   "id": "ec82200b",
   "metadata": {},
   "outputs": [
    {
     "name": "stdout",
     "output_type": "stream",
     "text": [
      "\n",
      "--------ct_a_kt13 [:72] = \n",
      " [111. 112. 113. 121. 122. 123. 131. 132. 133. 141. 142. 143. 151. 152.\n",
      " 153. 161. 162. 163. 171. 172. 173. 181. 182. 183. 211. 212. 213. 221.\n",
      " 222. 223. 231. 232. 233. 241. 242. 243. 251. 252. 253. 261. 262. 263.\n",
      " 271. 272. 273. 281. 282. 283. 311. 312. 313. 321. 322. 323. 331. 332.\n",
      " 333. 341. 342. 343. 351. 352. 353. 361. 362. 363. 371. 372. 373. 381.\n",
      " 382. 383.]\n",
      "\n",
      "--------ct_a_kt21 [:72] = \n",
      " [111. 112. 121. 122. 131. 132. 141. 142. 151. 152. 161. 162. 171. 172.\n",
      " 181. 182. 113.   0. 123.   0. 133.   0. 143.   0. 153.   0. 163.   0.\n",
      " 173.   0. 183.   0. 211. 212. 221. 222. 231. 232. 241. 242. 251. 252.\n",
      " 261. 262. 271. 272. 281. 282. 213.   0. 223.   0. 233.   0. 243.   0.\n",
      " 253.   0. 263.   0. 273.   0. 283.   0. 311. 312. 321. 322. 331. 332.\n",
      " 341. 342.]\n",
      "\n",
      "---------------------------image for each channel\n"
     ]
    },
    {
     "data": {
      "text/plain": [
       "<matplotlib.image.AxesImage at 0x7f359f890b80>"
      ]
     },
     "execution_count": 167,
     "metadata": {},
     "output_type": "execute_result"
    },
    {
     "data": {
      "image/png": "[encoded data removed]",
      "text/plain": [
       "<Figure size 432x288 with 1 Axes>"
      ]
     },
     "metadata": {
      "needs_background": "light"
     },
     "output_type": "display_data"
    }
   ],
   "source": [
    "from hlee_utils import *\n",
    "fh,fw = 3,3\n",
    "hi,wi,ci,ki,ti = 8,8,3,1,3\n",
    "ho,wo,co,ko,to = 8,8,4,1,3\n",
    "ins = [hi,wi,ci,ki,ti]\n",
    "outs = [ho,wo,co,ko,to]\n",
    "nslots = 2**14\n",
    "A = np.zeros([hi,wi,ci])\n",
    "for i in range(hi):\n",
    "    for j in range(wi):\n",
    "        for k in range(ci):\n",
    "            A[i,j,k]=(i+1)*100+(j+1)*10+k+1\n",
    "#MultPack()\n",
    "A_ch1st = get_channel_first(A)\n",
    "ct_a_kt13 = MultPack(A,1,3)\n",
    "ct_a_kt21 = MultPack(A,2,1)\n",
    "print(f\"\\n--------ct_a_kt13 [:72] = \\n {ct_a_kt13[:72]}\")\n",
    "print(f\"\\n--------ct_a_kt21 [:72] = \\n {ct_a_kt21[:72]}\")\n",
    "#check out the image I made\n",
    "print(\"\\n---------------------------image for each channel\")\n",
    "a = get_channel_first(A)\n",
    "l=input_data_3channels = np.hstack((a[0],a[1],a[2]))\n",
    "plt.imshow(l)"
   ]
  },
  {
   "cell_type": "markdown",
   "id": "1ee80903",
   "metadata": {},
   "source": [
    "# 4. multiplexed : step by step Go."
   ]
  },
  {
   "cell_type": "markdown",
   "id": "367ad9fa",
   "metadata": {},
   "source": [
    "## 4-1 MultPack(), Unpack()"
   ]
  },
  {
   "cell_type": "code",
   "execution_count": 168,
   "id": "7dc18b16",
   "metadata": {},
   "outputs": [
    {
     "data": {
      "text/plain": [
       "<matplotlib.image.AxesImage at 0x7f359f8dd390>"
      ]
     },
     "execution_count": 168,
     "metadata": {},
     "output_type": "execute_result"
    },
    {
     "data": {
      "image/png": "[encoded data removed]",
      "text/plain": [
       "<Figure size 432x288 with 1 Axes>"
      ]
     },
     "metadata": {
      "needs_background": "light"
     },
     "output_type": "display_data"
    }
   ],
   "source": [
    "hi,wi,ci,ho,wo,co = 8,8,3,8,8,4\n",
    "ki13,ti13,ki21,ti21 = 1,3,2,1\n",
    "cute = cv2.resize(cv2.imread('cute.jpg'),(wi,hi))\n",
    "cute_mp13 = MultPack(cute,ki13,ti13)\n",
    "cute_mp21 = MultPack(cute,ki21,ti21)\n",
    "cute_unp13 = unpack(cute_mp13,hi,wi,ci,ki13,ti13)\n",
    "cute_unp21 = unpack(cute_mp21,hi,wi,ci,ki21,ti21)\n",
    "stack_unpacked = np.hstack([cute_unp13[2],cute_unp21[2]])\n",
    "plt.imshow(stack_unpacked)"
   ]
  },
  {
   "cell_type": "markdown",
   "id": "c0c9b41a",
   "metadata": {},
   "source": [
    "## 4-2. [SumSlot(x,m,p)]\n",
    "- m : number of cells linked in a unit\n",
    "- p : separation between units"
   ]
  },
  {
   "cell_type": "markdown",
   "id": "fa0e4dd2",
   "metadata": {},
   "source": [
    "### 4-2-1. Using Sparse Matrix"
   ]
  },
  {
   "cell_type": "code",
   "execution_count": 190,
   "id": "d44e506d",
   "metadata": {},
   "outputs": [
    {
     "name": "stdout",
     "output_type": "stream",
     "text": [
      "--------------------Matrix : ------------------\n",
      "(8, 8, 3)\n"
     ]
    },
    {
     "ename": "TypeError",
     "evalue": "SumSlots() takes 3 positional arguments but 6 were given",
     "output_type": "error",
     "traceback": [
      "\u001b[0;31m---------------------------------------------------------------------------\u001b[0m",
      "\u001b[0;31mTypeError\u001b[0m                                 Traceback (most recent call last)",
      "Input \u001b[0;32mIn [190]\u001b[0m, in \u001b[0;36m<cell line: 15>\u001b[0;34m()\u001b[0m\n\u001b[1;32m     13\u001b[0m imshow_with_value(mat_ch1st[\u001b[38;5;241m0\u001b[39m])\n\u001b[1;32m     14\u001b[0m vec \u001b[38;5;241m=\u001b[39m Vec(mat)\n\u001b[0;32m---> 15\u001b[0m ss \u001b[38;5;241m=\u001b[39m \u001b[43mSumSlots\u001b[49m\u001b[43m(\u001b[49m\u001b[43mvec\u001b[49m\u001b[43m,\u001b[49m\u001b[43mh\u001b[49m\u001b[43m,\u001b[49m\u001b[43mw\u001b[49m\u001b[43m,\u001b[49m\u001b[43mc\u001b[49m\u001b[43m,\u001b[49m\u001b[43mki13\u001b[49m\u001b[43m,\u001b[49m\u001b[43mti13\u001b[49m\u001b[43m)\u001b[49m\n",
      "\u001b[0;31mTypeError\u001b[0m: SumSlots() takes 3 positional arguments but 6 were given"
     ]
    },
    {
     "data": {
      "image/png": "[encoded data removed]",
      "text/plain": [
       "<Figure size 432x288 with 1 Axes>"
      ]
     },
     "metadata": {
      "needs_background": "light"
     },
     "output_type": "display_data"
    }
   ],
   "source": [
    "h,w,c=8,8,3\n",
    "k,t = 1,3\n",
    "m,p = 1,4\n",
    "\n",
    "mat = get_sparse_matrix(h,w,m,p)\n",
    "mat = np.expand_dims(mat, axis=2)\n",
    "mat0 = mat.copy()\n",
    "mat=np.concatenate((mat,mat0),axis=2)\n",
    "mat=np.concatenate((mat,mat0),axis=2)\n",
    "print(\"--------------------Matrix : ------------------\")\n",
    "print (mat.shape)\n",
    "mat_ch1st = get_channel_first(mat)\n",
    "imshow_with_value(mat_ch1st[0])\n",
    "vec = Vec(mat)\n",
    "ss = SumSlots(vec,ki13,ti13)"
   ]
  },
  {
   "cell_type": "code",
   "execution_count": 133,
   "id": "0b3f5849",
   "metadata": {},
   "outputs": [
    {
     "name": "stdout",
     "output_type": "stream",
     "text": [
      "64\n",
      "16448\n",
      "[1. 1. 0. 0. 1. 1. 0. 0. 0. 0. 0. 0. 0. 0. 0. 0. 0. 0. 0. 0. 0. 0. 0. 0.\n",
      " 0. 0. 0. 0. 0. 0. 0. 0.]\n",
      "[SumSlot][LOOP1] rot [-4] #rotation_count = 1\n",
      "[SumSlot][LOOP1] rot [-8] #rotation_count = 2\n",
      "[SumSlot][LOOP1] rot [-16] #rotation_count = 3\n",
      "[SumSlot][LOOP1] rot [-32] #rotation_count = 4\n",
      "--------------------SumSlots(mat,m=16,p=4) : ------------------\n",
      "4.0\n"
     ]
    },
    {
     "data": {
      "text/plain": [
       "257.0"
      ]
     },
     "execution_count": 133,
     "metadata": {},
     "output_type": "execute_result"
    },
    {
     "data": {
      "image/png": "[encoded data removed]",
      "text/plain": [
       "<Figure size 432x288 with 1 Axes>"
      ]
     },
     "metadata": {
      "needs_background": "light"
     },
     "output_type": "display_data"
    }
   ],
   "source": []
  },
  {
   "cell_type": "code",
   "execution_count": 94,
   "id": "4c82c678",
   "metadata": {},
   "outputs": [
    {
     "name": "stdout",
     "output_type": "stream",
     "text": [
      "The autoreload extension is already loaded. To reload it, use:\n",
      "  %reload_ext autoreload\n",
      "[SumSlot][LOOP1] rot [-4] #rotation_count = 1\n",
      "[SumSlot][LOOP1] rot [-8] #rotation_count = 2\n",
      "[(m,p)=(1,4)] 16.0,4\n",
      "[SumSlot][LOOP1] rot [-4] #rotation_count = 1\n",
      "[SumSlot][LOOP1] rot [-8] #rotation_count = 2\n",
      "[SumSlot][LOOP1] rot [-16] #rotation_count = 3\n",
      "[(m,p)=(4,8)] 64.0,8\n",
      "[SumSlot][LOOP1] rot [-4] #rotation_count = 1\n",
      "[SumSlot][LOOP1] rot [-8] #rotation_count = 2\n"
     ]
    },
    {
     "data": {
      "text/plain": [
       "array([2., 0., 0., 0., 1., 0., 0., 0., 0., 0., 0., 0., 0., 0., 0., 0., 0.,\n",
       "       0., 0., 0., 1., 0., 0., 0., 2., 0., 0., 0., 2., 0., 0., 0., 2., 0.,\n",
       "       0., 0., 1., 0., 0., 0., 0., 0., 0., 0., 0., 0., 0., 0., 0., 0., 0.,\n",
       "       0., 0., 0., 0., 0., 0., 0., 0., 0., 0., 0., 0., 0., 0., 0., 0., 0.,\n",
       "       0., 0., 0., 0., 0., 0., 0., 0., 0., 0., 0., 0., 0., 0., 0., 0., 0.,\n",
       "       0., 0., 0., 0., 0., 0., 0., 0., 0., 0., 0., 0., 0., 0., 0., 0., 0.,\n",
       "       0., 0., 0., 0., 0., 0., 0., 0., 0., 0., 0., 0., 0., 0., 0., 0., 0.,\n",
       "       0., 0., 0., 0., 0., 0., 0., 0., 0.])"
      ]
     },
     "execution_count": 94,
     "metadata": {},
     "output_type": "execute_result"
    },
    {
     "data": {
      "image/png": "[encoded data removed]",
      "text/plain": [
       "<Figure size 432x288 with 1 Axes>"
      ]
     },
     "metadata": {
      "needs_background": "light"
     },
     "output_type": "display_data"
    }
   ],
   "source": [
    "%load_ext autoreload\n",
    "%autoreload 2\n",
    "from hlee_utils import *\n",
    "h,w=8,8\n",
    "m,p, m2,p2 = 1,4,2,4\n",
    "ss1 = get_sparse_matrix(h,w,m ,p )\n",
    "ss2 = get_sparse_matrix(h,w,m2,p2)\n",
    "print(f\"[(m,p)=(1,4)] {SumSlots(Vec(ss1),count_ones(ss1) ,p ).sum() },{count_ones(ss1)}\")\n",
    "print(f\"[(m,p)=(4,8)] {SumSlots(Vec(ss2),count_ones(ss2),p2).sum()},{count_ones(ss2)}\")\n",
    "imshow_with_value(ss1)\n",
    "SumSlots(Vec(ss1),count_ones(ss1),p)[:2*h*w]\n",
    "\n",
    "#imshow_with_value(SumSlots(Vec(ss2),m2,p2))\n",
    "#plt.imshow(stack_sparse,cmap='Greys_r')"
   ]
  },
  {
   "cell_type": "code",
   "execution_count": 158,
   "id": "6112ceb6",
   "metadata": {},
   "outputs": [
    {
     "name": "stdout",
     "output_type": "stream",
     "text": [
      "[SumSlot][LOOP1] rot [-1] #rotation_count = 1\n"
     ]
    },
    {
     "data": {
      "text/plain": [
       "<matplotlib.image.AxesImage at 0x7f359f9b3100>"
      ]
     },
     "execution_count": 158,
     "metadata": {},
     "output_type": "execute_result"
    },
    {
     "data": {
      "image/png": "[encoded data removed]",
      "text/plain": [
       "<Figure size 432x288 with 1 Axes>"
      ]
     },
     "metadata": {
      "needs_background": "light"
     },
     "output_type": "display_data"
    }
   ],
   "source": [
    "a=SumSlots(ct_a_kt21,2,1)\n",
    "b = a[:8*8*4]\n",
    "c =unpack(b,8,8,4,2,1)\n",
    "plt.imshow(c[3],'Greys_r')"
   ]
  },
  {
   "cell_type": "markdown",
   "id": "bd8ced41",
   "metadata": {},
   "source": [
    "## 4-3. [S] selecting tensor\n",
    "- Conv계산이 입력채널별로 다른 커널들이 이미지를 sweep하면서 hadamard곱한 결과를 모두 더해서 출력 채널 하나를 만든다.\n",
    "- 2차원의 텐서곱 (component-wise) 을 FHE에서 인덱싱이 불가능하므로 암호화된 이미지데이터 보다는 plaintext인 필터를 최대한 rotation시켜서 c*p를 수행하고, 필요한 셀값만 더한다. \n",
    "- 필요한 셀값을 선택하는 방법으로 selecting 텐서를 사용한다.</br>\n",
    "\n",
    "**Expected result?  Verify를 하려면 expected 결과가 있어야 하는데 아직 떠오르는 것이 없음.**\n",
    "</br>\n",
    "<span style=\"color:blue\">\n",
    "def **tensor_multiplexed_selecting(ho,wo,co,ko,to,i)** :</br>\n",
    "&ensp;&ensp;    return S </br>\n",
    "</span>\n",
    "S-shape = (ko*ho, ko*wo, to)"
   ]
  },
  {
   "cell_type": "code",
   "execution_count": null,
   "id": "5794680a",
   "metadata": {},
   "outputs": [],
   "source": [
    "S_h8,w8,c4,kt13,"
   ]
  },
  {
   "cell_type": "code",
   "execution_count": null,
   "id": "50e2399f",
   "metadata": {},
   "outputs": [],
   "source": [
    "i="
   ]
  },
  {
   "cell_type": "code",
   "execution_count": 7,
   "id": "d1860b0e",
   "metadata": {},
   "outputs": [
    {
     "ename": "NameError",
     "evalue": "name 'ct_a' is not defined",
     "output_type": "error",
     "traceback": [
      "\u001b[0;31m---------------------------------------------------------------------------\u001b[0m",
      "\u001b[0;31mNameError\u001b[0m                                 Traceback (most recent call last)",
      "Input \u001b[0;32mIn [7]\u001b[0m, in \u001b[0;36m<cell line: 4>\u001b[0;34m()\u001b[0m\n\u001b[1;32m      7\u001b[0m     lrots \u001b[38;5;241m=\u001b[39m  \u001b[38;5;28mint\u001b[39m((\u001b[38;5;241m-\u001b[39m(ki\u001b[38;5;241m*\u001b[39m\u001b[38;5;241m*\u001b[39m\u001b[38;5;241m2\u001b[39m)\u001b[38;5;241m*\u001b[39mwi\u001b[38;5;241m*\u001b[39m(i1\u001b[38;5;241m-\u001b[39m(fh\u001b[38;5;241m-\u001b[39m\u001b[38;5;241m1\u001b[39m)\u001b[38;5;241m/\u001b[39m\u001b[38;5;241m2\u001b[39m) \u001b[38;5;241m-\u001b[39m ki\u001b[38;5;241m*\u001b[39m(i2\u001b[38;5;241m-\u001b[39m(fw\u001b[38;5;241m-\u001b[39m\u001b[38;5;241m1\u001b[39m)\u001b[38;5;241m/\u001b[39m\u001b[38;5;241m2\u001b[39m))) \n\u001b[1;32m      8\u001b[0m     \u001b[38;5;66;03m#print(lrots)\u001b[39;00m\n\u001b[0;32m----> 9\u001b[0m     rolled \u001b[38;5;241m=\u001b[39m np\u001b[38;5;241m.\u001b[39mroll(\u001b[43mct_a\u001b[49m,lrots)\n\u001b[1;32m     10\u001b[0m     temp\u001b[38;5;241m.\u001b[39mappend(rolled)\n\u001b[1;32m     11\u001b[0m ct\u001b[38;5;241m.\u001b[39mappend(temp)\n",
      "\u001b[0;31mNameError\u001b[0m: name 'ct_a' is not defined"
     ]
    }
   ],
   "source": [
    "ct_d = np.zeros(nslots)\n",
    "ct=[]\n",
    "i1,i2,i=0,0,0\n",
    "for i in range(fh):\n",
    "    temp=[]\n",
    "    for j in range(fw):\n",
    "        lrots =  int((-(ki**2)*wi*(i1-(fh-1)/2) - ki*(i2-(fw-1)/2))) \n",
    "        #print(lrots)\n",
    "        rolled = np.roll(ct_a,lrots)\n",
    "        temp.append(rolled)\n",
    "    ct.append(temp)\n",
    "ct_arr=np.array(ct)\n",
    "print(ct_arr.size/9)\n",
    "#peek = get_channel_first(ct_arr[0,0])\n",
    "#imshow_with_value(peek[2])\n",
    "ct_arr[0].shape"
   ]
  },
  {
   "cell_type": "code",
   "execution_count": 38,
   "id": "0780b22f",
   "metadata": {},
   "outputs": [
    {
     "ename": "SyntaxError",
     "evalue": "invalid syntax (3892576031.py, line 7)",
     "output_type": "error",
     "traceback": [
      "\u001b[0;36m  Input \u001b[0;32mIn [38]\u001b[0;36m\u001b[0m\n\u001b[0;31m    hstack = np.\u001b[0m\n\u001b[0m                ^\u001b[0m\n\u001b[0;31mSyntaxError\u001b[0m\u001b[0;31m:\u001b[0m invalid syntax\n"
     ]
    }
   ],
   "source": [
    "for i in range(fh):\n",
    "    h=[]\n",
    "    for j in range(fw):\n",
    "        img = np.array(ct_arr[i,j])\n",
    "        img = np.reshape(img,(hi,wi,ki))\n",
    "        h.append(img)\n",
    "    hstack = np."
   ]
  },
  {
   "cell_type": "code",
   "execution_count": null,
   "id": "ec923a6c",
   "metadata": {},
   "outputs": [],
   "source": []
  },
  {
   "cell_type": "code",
   "execution_count": null,
   "id": "79a6e57d",
   "metadata": {},
   "outputs": [],
   "source": []
  },
  {
   "cell_type": "code",
   "execution_count": null,
   "id": "97da6b18",
   "metadata": {},
   "outputs": [],
   "source": []
  },
  {
   "cell_type": "code",
   "execution_count": null,
   "id": "5af8acb1",
   "metadata": {},
   "outputs": [],
   "source": []
  }
 ],
 "metadata": {
  "kernelspec": {
   "display_name": "Python 3 (ipykernel)",
   "language": "python",
   "name": "python3"
  },
  "language_info": {
   "codemirror_mode": {
    "name": "ipython",
    "version": 3
   },
   "file_extension": ".py",
   "mimetype": "text/x-python",
   "name": "python",
   "nbconvert_exporter": "python",
   "pygments_lexer": "ipython3",
   "version": "3.10.4"
  }
 },
 "nbformat": 4,
 "nbformat_minor": 5
}
