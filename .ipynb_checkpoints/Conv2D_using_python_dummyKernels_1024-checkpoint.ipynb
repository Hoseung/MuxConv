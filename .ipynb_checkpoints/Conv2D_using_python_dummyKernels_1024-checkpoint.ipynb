{
 "cells": [
  {
   "cell_type": "markdown",
   "id": "aa5d981a",
   "metadata": {},
   "source": [
    "https://medium.com/analytics-vidhya/2d-convolution-using-python-numpy-43442ff5f381\n",
    "# 2D Convolution using Python & Numpy\n",
    "- FHE로 ResNet관련 알아보기 전에 CNN부터 어떻게 돌아가는지 알아보려는 의도임.\n",
    "- 특정한 특징을 detection하는 typical한 kernel(필터)들 보통 3x3가 있음.\n",
    "- kernel을 이미지 x,y축 따라서 strides만큼의 픽셀간격으로 이동, 행렬곱한 결과로 출력이미지 채운다.\n",
    "- edge부분은 padding을 하는데 원본을 유지하도록 padding하는 방식을 padding=0, 그 외에는 padding값만큼 img_padded 크기 양옆으로 늘어난다.\n",
    "- kernel이동시에 9개 element가 이미지와 잘 겹치는지 확인하는 과정이 필요.\n",
    "- 나머지는 쉽다. 결과 참조.\n",
    "\n",
    "**kernel을 미리 알고 시작하는것은 MV이고, ML에서는 kernel값 또한 훈련대상이어서 어떤 layer, 어떤 neuron에서 무슨 kernel을 사용한 것인지 알기가 어렵고 또 추상적이다.** \n"
   ]
  },
  {
   "cell_type": "code",
   "execution_count": 32,
   "id": "d3dcb9c9",
   "metadata": {},
   "outputs": [],
   "source": [
    "%load_ext autoreload\n",
    "%autoreload\n",
    "from inspect import getmembers, isfunction\n",
    "from hlee_notClass_multiplexed_lee22e import *\n",
    "from hlee_utils import *\n",
    "from icecream import ic\n",
    "from hlee_notClass_multiplexed_lee22e_par import *\n",
    "nslots = 2**15\n",
    "fh,fw = 3,3\n",
    "import cv2\n",
    "import numpy as np\n",
    "from hlee_utils import *"
   ]
  },
  {
   "cell_type": "code",
   "execution_count": 44,
   "id": "d54c5410",
   "metadata": {},
   "outputs": [
    {
     "name": "stderr",
     "output_type": "stream",
     "text": [
      "ic| out[0]: array([ 90.,   6., 108.,  75.,  11., 128.,  32.,  40.,  42.,  70., 143.,\n",
      "                    56., 114., -12., -19.,  85., 153., 115.,  65.,  87., 131.,  61.,\n",
      "                    65.,  89., 140., -11.,  83., 196.,  29., 155.,   0.,   0.])\n",
      "ic| img: array([[22., 13., 34., ..., 51., 20., 18.],\n",
      "                [ 7.,  3., 17., ..., 47., 28., 29.],\n",
      "                [23., 20., 50., ..., 21., 43., 21.],\n",
      "                ...,\n",
      "                [18., 13., 10., ..., 10., 13., 26.],\n",
      "                [14.,  4.,  0., ..., 10., 38., 38.],\n",
      "                [17., 13.,  2., ...,  2., 14.,  8.]])\n"
     ]
    },
    {
     "data": {
      "text/plain": [
       "True"
      ]
     },
     "execution_count": 44,
     "metadata": {},
     "output_type": "execute_result"
    },
    {
     "data": {
      "image/png": "[encoded data removed]",
      "text/plain": [
       "<Figure size 432x288 with 1 Axes>"
      ]
     },
     "metadata": {
      "needs_background": "light"
     },
     "output_type": "display_data"
    }
   ],
   "source": [
    "def image_color_to_gray(img):\n",
    "    img = cv2.imread(img)\n",
    "    img = cv2.cvtColor(img,code=cv2.COLOR_BGR2GRAY)\n",
    "    return img\n",
    "def conv2D(img,kernel,padding=0,strides=1):\n",
    "    kernel = np.flipud(np.fliplr(kernel))\n",
    "    dim_img = np.array(np.shape(img))\n",
    "    dim_kernel = np.array(np.shape(kernel))\n",
    "    dim_padded = (dim_img+2*padding).astype('int')\n",
    "    dim_out = (((dim_img+2*padding-dim_kernel)/strides)+1).astype('int')\n",
    "    out = np.zeros((dim_out[0],dim_out[1]))\n",
    "    if padding != 0:\n",
    "        img_padded = np.zeros((dim_padded[0], dim_padded[1]))\n",
    "        img_padded[int(padding):int(-1*padding), int(padding):int(-1*padding)] = img\n",
    "    else:\n",
    "        img_padded = img\n",
    "    for j in range(0,dim_img[1]):\n",
    "        if j>dim_img[1]-dim_kernel[1]:\n",
    "            break\n",
    "        if j%strides==0:\n",
    "            for i in range(0,dim_img[0]):\n",
    "                if i>dim_img[0]-dim_kernel[0]:\n",
    "                    break\n",
    "                try:\n",
    "                    if i%strides==0:\n",
    "                        out[i,j]=(kernel*img_padded[i:i+dim_kernel[0],j:j+dim_kernel[1]]).sum()\n",
    "                except:\n",
    "                    break\n",
    "    return out\n",
    "#############################\n",
    "#  Edit here                #\n",
    "#############################\n",
    "hi,wi,ci,ki,ti = 32,32,3,1,3\n",
    "ho,wo,co,ko,to = 32,32,3,1,3\n",
    "#############################\n",
    "#  Do Not Edit              #\n",
    "#############################\n",
    "pi,ins,po,outs = get_dims(hi,wi,ci,ki,ti,ho,wo,co,ko,to)\n",
    "#img = get_channel_first(create_img(ins,False))[0]\n",
    "fh,fw=3,3\n",
    "#img = np.array([[10,10,10],[100,100,100],[1000,1000,1000]])\n",
    "\n",
    "#U=get_channel_first(create_U(fh,fw,ci,co))[0,0]\n",
    "U= np.array([[ 0,-1, 0],[-1, 5,-1],[ 0,-1, 0]])\n",
    "img = create_img(ins)\n",
    "img = get_channel_first(img)[0]\n",
    "out = conv2D(img,U,padding=1)\n",
    "plt.imshow(out)\n",
    "ic(out[0])\n",
    "ic(img)\n",
    "cv2.imwrite(\"ref.jpg\",out)"
   ]
  },
  {
   "cell_type": "code",
   "execution_count": 52,
   "id": "e6d0c5e8",
   "metadata": {},
   "outputs": [],
   "source": [
    "kernels_name = ['edge1','edge2','edge3','sharpen','blur_box','blur_Gaussian']\n",
    "kernels = np.array([\n",
    "    [[ 1, 0,-1],[ 0, 0, 0],[-1, 0, 1]],\n",
    "    [[ 0, 1, 0],[ 1,-4, 1],[ 0, 1, 0]],\n",
    "    [[-1,-1,-1],[-1, 8,-1],[-1,-1,-1]],\n",
    "    [[ 0,-1, 0],[-1, 5,-1],[ 0,-1, 0]],\n",
    "    np.dot([[ 1, 1, 1],[ 1, 1, 1],[ 1, 1, 1]],1/9.0),\n",
    "    np.dot([[ 1, 2, 1],[ 2, 4, 2],[ 1, 2, 1]],1/16.0)\n",
    "])\n",
    "fname_img = 'cute.jpg'"
   ]
  },
  {
   "cell_type": "code",
   "execution_count": 53,
   "id": "1cdc7ada",
   "metadata": {},
   "outputs": [],
   "source": [
    "for i in range (0,len(kernels_name)):\n",
    "    fout = 'out_'+str(i)+'_'+kernels_name[i]+\".jpg\"\n",
    "    out = conv2D(image_color_to_gray(fname_img),kernels[i],padding=2)\n",
    "    cv2.imwrite(fout,out)"
   ]
  },
  {
   "cell_type": "code",
   "execution_count": 45,
   "id": "cc7b3cfa",
   "metadata": {},
   "outputs": [
    {
     "ename": "NameError",
     "evalue": "name 'fname_img' is not defined",
     "output_type": "error",
     "traceback": [
      "\u001b[0;31m---------------------------------------------------------------------------\u001b[0m",
      "\u001b[0;31mNameError\u001b[0m                                 Traceback (most recent call last)",
      "Input \u001b[0;32mIn [45]\u001b[0m, in \u001b[0;36m<cell line: 1>\u001b[0;34m()\u001b[0m\n\u001b[0;32m----> 1\u001b[0m image_color_to_gray(\u001b[43mfname_img\u001b[49m,cmap\u001b[38;5;241m=\u001b[39m\u001b[38;5;124m\"\u001b[39m\u001b[38;5;124mgray\u001b[39m\u001b[38;5;124m\"\u001b[39m)\n",
      "\u001b[0;31mNameError\u001b[0m: name 'fname_img' is not defined"
     ]
    }
   ],
   "source": [
    "image_color_to_gray(fname_img)"
   ]
  },
  {
   "cell_type": "markdown",
   "id": "833b6415",
   "metadata": {},
   "source": [
    "# Original Image\n",
    "<img src=\"./city.jpg\" width=\"300px\">\n",
    "\n",
    "# Conv2D Results\n",
    "Kernel | definition (3x3) | result\n",
    ":-|:-|:-\n",
    "Edge detection 1 |$$\n",
    "\t\\begin{bmatrix} \n",
    "\t1 & 0 & -1 \\\\\n",
    "\t0 & 0 & 0\\\\\n",
    "\t-1 & 0 & 1 \\\\\n",
    "\t\\end{bmatrix}\n",
    "\t\\quad\n",
    "\t$$ | <img src=\"./out_0_edge1.jpg\" width=\"300px\">\n",
    "Edge detection 2 |$$\n",
    "\t\\begin{bmatrix} \n",
    "\t0 & 1 & 0 \\\\\n",
    "\t1 & -4 & 1\\\\\n",
    "\t0 & 1 & 0 \\\\\n",
    "\t\\end{bmatrix}\n",
    "\t\\quad\n",
    "\t$$ | <img src=\"./out_1_edge2.jpg\" width=\"300px\">\n",
    "Edge detection 3 |$$\n",
    "\t\\begin{bmatrix} \n",
    "\t-1 & -1 & -1 \\\\\n",
    "\t-1 & 8 & -1\\\\\n",
    "\t-1 & -1 & -1 \\\\\n",
    "\t\\end{bmatrix}\n",
    "\t\\quad\n",
    "\t$$ | <img src=\"./out_2_edge3.jpg\" width=\"300px\">\n",
    "Sharpen |$$\n",
    "\t\\begin{bmatrix} \n",
    "\t0 & -1 & 0 \\\\\n",
    "\t-1 & 5 & -1\\\\\n",
    "\t0 & -1 & 0 \\\\\n",
    "\t\\end{bmatrix}\n",
    "\t\\quad\n",
    "\t$$ | <img src=\"./out_3_sharpen.jpg\" width=\"300px\">\n",
    "Box Blur |$$\\frac{1}{9}\n",
    "\t\\begin{bmatrix} \n",
    "\t1 & 1 & 1 \\\\\n",
    "\t1 & 1 & 1\\\\\n",
    "\t1 & 1 & 1 \\\\\n",
    "\t\\end{bmatrix}\n",
    "\t\\quad\n",
    "\t$$ | <img src=\"./out_4_blur_box.jpg\" width=\"300px\">\n",
    "Gaussian Blur |$$\\frac{1}{16}\n",
    "\t\\begin{bmatrix} \n",
    "\t1 & 2 & 1 \\\\\n",
    "\t2 & 4 & 2\\\\\n",
    "\t1 & 2 & 1 \\\\\n",
    "\t\\end{bmatrix}\n",
    "\t\\quad\n",
    "\t$$ | <img src=\"./out_5_blur_Gaussian.jpg\" width=\"300px\">\n",
    "\n"
   ]
  }
 ],
 "metadata": {
  "kernelspec": {
   "display_name": "Python 3 (ipykernel)",
   "language": "python",
   "name": "python3"
  },
  "language_info": {
   "codemirror_mode": {
    "name": "ipython",
    "version": 3
   },
   "file_extension": ".py",
   "mimetype": "text/x-python",
   "name": "python",
   "nbconvert_exporter": "python",
   "pygments_lexer": "ipython3",
   "version": "3.10.4"
  }
 },
 "nbformat": 4,
 "nbformat_minor": 5
}
