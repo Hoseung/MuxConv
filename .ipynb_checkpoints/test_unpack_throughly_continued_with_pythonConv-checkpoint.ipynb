{
 "cells": [
  {
   "cell_type": "code",
   "execution_count": 4,
   "id": "a81101c6",
   "metadata": {},
   "outputs": [
    {
     "name": "stdout",
     "output_type": "stream",
     "text": [
      "The autoreload extension is already loaded. To reload it, use:\n",
      "  %reload_ext autoreload\n"
     ]
    }
   ],
   "source": [
    "%load_ext autoreload\n",
    "%autoreload\n",
    "from inspect import getmembers, isfunction\n",
    "from hlee_notClass_multiplexed_lee22e import *\n",
    "from hlee_utils import *\n",
    "\n",
    "################\n",
    "#  unpack()    # \n",
    "################\n",
    "def unpack(ct,ha,wa,ca,ka,ta):\n",
    "    tsize = ha*wa*ka**2\n",
    "    ch  = []\n",
    "    for channel in range(ta*ka**2):\n",
    "        r = channel%(ka**2)\n",
    "        idx_start_channel = ta*(r%ka)+int(np.floor(r/ka))*ta*ka*wa +int(np.floor(channel/(ka**2)))\n",
    "        mat=[]\n",
    "        for i in range(ha):\n",
    "            row = []\n",
    "            for j in range(wa):\n",
    "                idx = idx_start_channel+i*wa*ta*ka**2+j*ka*ta\n",
    "                row.append(ct[idx])\n",
    "            mat.append(row)\n",
    "        ch.append(mat)\n",
    "    return np.array(ch)\n",
    "\n",
    "\n",
    "####################\n",
    "#  unpack_sum()    #\n",
    "####################\n",
    "def unpack_sum(ct,ha,wa,ca,ka,ta,ci):\n",
    "    tsize = ha*wa*ka**2*ci\n",
    "    ch  = []\n",
    "    for channel in range(ka**2*ta):\n",
    "        r = channel%(ka**2)\n",
    "        idx_start_channel = ta*(r%ka)+int(np.floor(r/ka))*ta*ka*wa +int(np.floor(channel/(ka**2)))\n",
    "        mat=[]\n",
    "        for i in range(ha):\n",
    "            row = []\n",
    "            for j in range(wa):\n",
    "                idx = idx_start_channel+i*wa*ta*ka**2+j*ka*ta+ci\n",
    "                sum=0\n",
    "                for s in range(ci):\n",
    "                    sum+=ct[idx+s]\n",
    "                #row.append(ct[idx])\n",
    "                row.append(sum)\n",
    "            mat.append(row)\n",
    "        ch.append(mat)\n",
    "    return np.array(ch)\n",
    "\n",
    "####################\n",
    "#  unpack_sum3()    #\n",
    "####################\n",
    "def unpack_sum3(ct,ha,wa,ca,ka,ta,ci):\n",
    "    tsize = ha*wa*ka**2*ci\n",
    "    ch  = []\n",
    "    for channel in range(ka**2*ta):\n",
    "        r = channel%(ka**2)\n",
    "        idx_start_channel = ta*(r%ka)+int(np.floor(r/ka))*ta*ka*wa +int(np.floor(channel/(ka**2)))\n",
    "        mat=[]\n",
    "        for i in range(ha):\n",
    "            row = []\n",
    "            for j in range(wa):\n",
    "                idx = idx_start_channel+i*wa*ta*ka**2+j*ka*ta+ci\n",
    "                sum=0\n",
    "                for s in range(ci):\n",
    "                    sum+=ct[idx+s]\n",
    "                #row.append(ct[idx])\n",
    "                row.append(sum)\n",
    "            mat.append(row)\n",
    "        ch.append(mat)\n",
    "    return np.array(ch)"
   ]
  },
  {
   "cell_type": "markdown",
   "id": "1ef5b264",
   "metadata": {},
   "source": [
    "# 5th trial \n",
    "\n",
    "- input data all filled with one\n",
    "- U from the 1st trial\n",
    "- image =8x8"
   ]
  },
  {
   "cell_type": "code",
   "execution_count": 5,
   "id": "5b8e5f91",
   "metadata": {},
   "outputs": [
    {
     "name": "stdout",
     "output_type": "stream",
     "text": [
      "[MultConv] (hi,wi,ci) =(8,8,4),(ho,wo,co)=(8,8,4),(fh,fw)=(3,3)\n",
      "[MultConv] (ki,ti) =(1,4), (ko,to) =(1,4)\n",
      "----------------ct_a = \n",
      "[1. 1. 1. 1. 1. 1. 1. 1. 1. 1. 1. 1. 1. 1. 1. 1. 1. 1. 1. 1. 1. 1. 1. 1.\n",
      " 1. 1. 1. 1. 1. 1. 1. 1. 1. 1. 1. 1. 1. 1. 1. 1. 1. 1. 1. 1. 1. 1. 1. 1.\n",
      " 1. 1. 1. 1. 1. 1. 1. 1. 1. 1. 1. 1. 1. 1. 1. 1.]\n",
      "----------------ct_d = \n",
      "[4. 3. 2. 1. 4. 3. 2. 1. 4. 3. 2. 1. 4. 3. 2. 1. 4. 3. 2. 1. 4. 3. 2. 1.\n",
      " 4. 3. 2. 1. 4. 3. 2. 1. 4. 3. 2. 1. 4. 3. 2. 1. 4. 3. 2. 1. 4. 3. 2. 1.\n",
      " 4. 3. 2. 1. 4. 3. 2. 1. 4. 3. 2. 1. 4. 3. 2. 1.]\n"
     ]
    }
   ],
   "source": [
    "#############################\n",
    "#  Dimensions, Params       #\n",
    "#############################\n",
    "fh,fw = 3,3\n",
    "hi,wi,ci,ki,ti = 8,8,4,1,4\n",
    "ho,wo,co,ko,to = 8,8,4,1,4\n",
    "kernels= [fh,fw]\n",
    "ins  = [hi,wi,ci,ki,ti]\n",
    "outs = [ho,wo,co,ko,to]\n",
    "nslots = 2**15\n",
    "\n",
    "#############################\n",
    "#  kernels that do nothing  #\n",
    "############################\n",
    "U = np.zeros([co,ci,fh,fw])\n",
    "for l in range(co):\n",
    "    for k in range(ci):\n",
    "        for i in range(fh):\n",
    "            for j in range(fw):\n",
    "                if i==1 and j==1:\n",
    "                    U[l,k,i,j]=1\n",
    "U = get_channel_last(U)\n",
    "U_ch1st = get_channel_first(U)\n",
    "#############################\n",
    "#  Dummy Small image        #\n",
    "#############################\n",
    "A = np.ones([hi,wi,ci])\n",
    "A_ch1st = get_channel_first(A)\n",
    "ct_a = MultPack(A,ki,ti)\n",
    "#_____________________________________________________________________\n",
    "ct_d = MultConv(ct_a,U,ins,outs,kernels,nslots=2**15)\n",
    "out = unpack(ct_d,ho,wo,co,ko,to)\n",
    "out2 = unpack_sum(ct_d,ho,wo,co,ko,to,ci)\n",
    "\n",
    "print(f\"----------------ct_a = \\n{ct_a[:64]}\")\n",
    "print(f\"----------------ct_d = \\n{ct_d[:64]}\")\n"
   ]
  },
  {
   "cell_type": "markdown",
   "id": "7a2faec8",
   "metadata": {},
   "source": [
    "imshow_with_value(A_ch1st[0],0)\n",
    "\n",
    "imshow_with_value(out[0],0)\n",
    "imshow_with_value(out[1],0)\n",
    "imshow_with_value(out[2],0)\n",
    "imshow_with_value(out[3],0)"
   ]
  },
  {
   "cell_type": "markdown",
   "id": "c51687d2",
   "metadata": {},
   "source": [
    "for i in range(0,int(2**14/64)-1):\n",
    "    print(ct_d[64*i:64*(i+1)])"
   ]
  },
  {
   "cell_type": "markdown",
   "id": "6d163aed",
   "metadata": {},
   "source": [
    "# 5th--> k2t1"
   ]
  },
  {
   "cell_type": "code",
   "execution_count": 6,
   "id": "1a4ecf57",
   "metadata": {},
   "outputs": [
    {
     "name": "stdout",
     "output_type": "stream",
     "text": [
      "[MultConv] (hi,wi,ci) =(8,8,4),(ho,wo,co)=(8,8,4),(fh,fw)=(3,3)\n",
      "[MultConv] (ki,ti) =(2,1), (ko,to) =(2,1)\n",
      "----------------ct_a = \n",
      "[1. 1. 1. 1. 1. 1. 1. 1. 1. 1. 1. 1. 1. 1. 1. 1. 1. 1. 1. 1. 1. 1. 1. 1.\n",
      " 1. 1. 1. 1. 1. 1. 1. 1. 1. 1. 1. 1. 1. 1. 1. 1. 1. 1. 1. 1. 1. 1. 1. 1.\n",
      " 1. 1. 1. 1. 1. 1. 1. 1. 1. 1. 1. 1. 1. 1. 1. 1.]\n",
      "----------------ct_d = \n",
      "[4. 4. 4. 4. 4. 4. 4. 4. 4. 4. 4. 4. 4. 4. 4. 4. 4. 4. 4. 4. 4. 4. 4. 4.\n",
      " 4. 4. 4. 4. 4. 4. 4. 4. 4. 4. 4. 4. 4. 4. 4. 4. 4. 4. 4. 4. 4. 4. 4. 4.\n",
      " 4. 4. 4. 4. 4. 4. 4. 4. 4. 4. 4. 4. 4. 4. 4. 4.]\n"
     ]
    }
   ],
   "source": [
    "#############################\n",
    "#  Dimensions, Params       #\n",
    "#############################\n",
    "fh,fw = 3,3\n",
    "hi,wi,ci,ki,ti = 8,8,4,2,1\n",
    "ho,wo,co,ko,to = 8,8,4,2,1\n",
    "kernels= [fh,fw]\n",
    "ins  = [hi,wi,ci,ki,ti]\n",
    "outs = [ho,wo,co,ko,to]\n",
    "nslots = 2**15\n",
    "\n",
    "#############################\n",
    "#  kernels that do nothing  #\n",
    "############################\n",
    "U = np.zeros([co,ci,fh,fw])\n",
    "for l in range(co):\n",
    "    for k in range(ci):\n",
    "        for i in range(fh):\n",
    "            for j in range(fw):\n",
    "                if i==1 and j==1:\n",
    "                    U[l,k,i,j]=1\n",
    "U = get_channel_last(U)\n",
    "U_ch1st = get_channel_first(U)\n",
    "#############################\n",
    "#  Dummy Small image        #\n",
    "#############################\n",
    "A = np.ones([hi,wi,ci])\n",
    "A_ch1st = get_channel_first(A)\n",
    "ct_a = MultPack(A,ki,ti)\n",
    "#_____________________________________________________________________\n",
    "ct_d = MultConv(ct_a,U,ins,outs,kernels,nslots=2**15)\n",
    "out = unpack(ct_d,ho,wo,co,ko,to)\n",
    "out2 = unpack_sum(ct_d,ho,wo,co,ko,to,ci)\n",
    "\n",
    "print(f\"----------------ct_a = \\n{ct_a[:64]}\")\n",
    "print(f\"----------------ct_d = \\n{ct_d[:64]}\")"
   ]
  },
  {
   "cell_type": "markdown",
   "id": "812240b5",
   "metadata": {},
   "source": [
    "imshow_with_value(A_ch1st[0],0)\n",
    "imshow_with_value(out[0],0)\n",
    "imshow_with_value(out[1],0)\n",
    "imshow_with_value(out[2],0)\n",
    "imshow_with_value(out[3],0)"
   ]
  },
  {
   "cell_type": "markdown",
   "id": "1f461e0b",
   "metadata": {},
   "source": [
    "# try ti=to=2, k=2"
   ]
  },
  {
   "cell_type": "code",
   "execution_count": 7,
   "id": "70c42ad6",
   "metadata": {
    "scrolled": false
   },
   "outputs": [
    {
     "name": "stdout",
     "output_type": "stream",
     "text": [
      "[MultConv] (hi,wi,ci) =(8,8,8),(ho,wo,co)=(8,8,8),(fh,fw)=(3,3)\n",
      "[MultConv] (ki,ti) =(2,2), (ko,to) =(2,2)\n",
      "----------------ct_a = \n",
      "[1. 1. 1. 1. 1. 1. 1. 1. 1. 1. 1. 1. 1. 1. 1. 1. 1. 1. 1. 1. 1. 1. 1. 1.\n",
      " 1. 1. 1. 1. 1. 1. 1. 1. 1. 1. 1. 1. 1. 1. 1. 1. 1. 1. 1. 1. 1. 1. 1. 1.\n",
      " 1. 1. 1. 1. 1. 1. 1. 1. 1. 1. 1. 1. 1. 1. 1. 1.]\n",
      "----------------ct_d = \n",
      "[8. 4. 8. 4. 8. 4. 8. 4. 8. 4. 8. 4. 8. 4. 8. 4. 8. 4. 8. 4. 8. 4. 8. 4.\n",
      " 8. 4. 8. 4. 8. 4. 8. 4. 8. 4. 8. 4. 8. 4. 8. 4. 8. 4. 8. 4. 8. 4. 8. 4.\n",
      " 8. 4. 8. 4. 8. 4. 8. 4. 8. 4. 8. 4. 8. 4. 8. 4.]\n"
     ]
    },
    {
     "data": {
      "image/png": "[encoded data removed]",
      "text/plain": [
       "<Figure size 432x288 with 1 Axes>"
      ]
     },
     "metadata": {
      "needs_background": "light"
     },
     "output_type": "display_data"
    },
    {
     "data": {
      "image/png": "[encoded data removed]",
      "text/plain": [
       "<Figure size 432x288 with 1 Axes>"
      ]
     },
     "metadata": {
      "needs_background": "light"
     },
     "output_type": "display_data"
    },
    {
     "data": {
      "image/png": "[encoded data removed]",
      "text/plain": [
       "<Figure size 432x288 with 1 Axes>"
      ]
     },
     "metadata": {
      "needs_background": "light"
     },
     "output_type": "display_data"
    },
    {
     "data": {
      "image/png": "[encoded data removed]",
      "text/plain": [
       "<Figure size 432x288 with 1 Axes>"
      ]
     },
     "metadata": {
      "needs_background": "light"
     },
     "output_type": "display_data"
    },
    {
     "data": {
      "image/png": "[encoded data removed]",
      "text/plain": [
       "<Figure size 432x288 with 1 Axes>"
      ]
     },
     "metadata": {
      "needs_background": "light"
     },
     "output_type": "display_data"
    }
   ],
   "source": [
    "#############################\n",
    "#  Dimensions, Params       #\n",
    "#############################\n",
    "fh,fw = 3,3\n",
    "hi,wi,ci,ki,ti = 8,8,8,2,2\n",
    "ho,wo,co,ko,to = 8,8,8,2,2\n",
    "kernels= [fh,fw]\n",
    "ins  = [hi,wi,ci,ki,ti]\n",
    "outs = [ho,wo,co,ko,to]\n",
    "nslots = 2**15\n",
    "\n",
    "#############################\n",
    "#  kernels that do nothing  #\n",
    "############################\n",
    "U = np.zeros([co,ci,fh,fw])\n",
    "for l in range(co):\n",
    "    for k in range(ci):\n",
    "        for i in range(fh):\n",
    "            for j in range(fw):\n",
    "                if i==1 and j==1:\n",
    "                    U[l,k,i,j]=1\n",
    "U = get_channel_last(U)\n",
    "U_ch1st = get_channel_first(U)\n",
    "#############################\n",
    "#  Dummy Small image        #\n",
    "#############################\n",
    "A = np.ones([hi,wi,ci])\n",
    "A_ch1st = get_channel_first(A)\n",
    "ct_a = MultPack(A,ki,ti)\n",
    "#_____________________________________________________________________\n",
    "ct_d = MultConv(ct_a,U,ins,outs,kernels,nslots=2**15)\n",
    "out = unpack(ct_d,ho,wo,co,ko,to)\n",
    "out2 = unpack_sum(ct_d,ho,wo,co,ko,to,ci)\n",
    "\n",
    "print(f\"----------------ct_a = \\n{ct_a[:64]}\")\n",
    "print(f\"----------------ct_d = \\n{ct_d[:64]}\")\n",
    "imshow_with_value(A_ch1st[0],0)\n",
    "imshow_with_value(out[0],0)\n",
    "imshow_with_value(out[1],0)\n",
    "imshow_with_value(out[2],0)\n",
    "imshow_with_value(out[3],0)"
   ]
  },
  {
   "cell_type": "code",
   "execution_count": 8,
   "id": "bfc8db77",
   "metadata": {},
   "outputs": [],
   "source": []
  },
  {
   "cell_type": "code",
   "execution_count": 18,
   "id": "4d58eb4e",
   "metadata": {},
   "outputs": [
    {
     "data": {
      "text/plain": [
       "8.0"
      ]
     },
     "execution_count": 18,
     "metadata": {},
     "output_type": "execute_result"
    }
   ],
   "source": []
  },
  {
   "cell_type": "code",
   "execution_count": null,
   "id": "7c4f19f1",
   "metadata": {},
   "outputs": [],
   "source": []
  }
 ],
 "metadata": {
  "kernelspec": {
   "display_name": "Python 3 (ipykernel)",
   "language": "python",
   "name": "python3"
  },
  "language_info": {
   "codemirror_mode": {
    "name": "ipython",
    "version": 3
   },
   "file_extension": ".py",
   "mimetype": "text/x-python",
   "name": "python",
   "nbconvert_exporter": "python",
   "pygments_lexer": "ipython3",
   "version": "3.10.4"
  }
 },
 "nbformat": 4,
 "nbformat_minor": 5
}
