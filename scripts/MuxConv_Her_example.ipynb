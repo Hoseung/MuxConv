{
 "cells": [
  {
   "cell_type": "code",
   "execution_count": 2,
   "id": "bfd4f7f8",
   "metadata": {},
   "outputs": [],
   "source": [
    "%load_ext autoreload\n",
    "%autoreload 2"
   ]
  },
  {
   "cell_type": "code",
   "execution_count": 3,
   "id": "c7907150",
   "metadata": {},
   "outputs": [],
   "source": [
    "from muxcnn.utils import load_params, load_img\n",
    "import torch\n",
    "from muxcnn.resnet_muxconv import ResNet_MuxConv"
   ]
  },
  {
   "cell_type": "markdown",
   "id": "acbd4950",
   "metadata": {},
   "source": [
    "## Torch model"
   ]
  },
  {
   "cell_type": "code",
   "execution_count": 4,
   "id": "8d430ea2",
   "metadata": {},
   "outputs": [],
   "source": [
    "from muxcnn.models.ResNet20 import ResNet, BasicBlock\n",
    "\n",
    "model = ResNet(BasicBlock,[1,1,1])\n",
    "model.eval() ########## 필수! \n",
    "load_params(model, fn_param=\"./ResNet8.pt\",device='cpu')"
   ]
  },
  {
   "cell_type": "code",
   "execution_count": 5,
   "id": "be34ed92",
   "metadata": {},
   "outputs": [],
   "source": [
    "img_tensor = load_img(\"./cute.jpg\", hi=32, wi=32)"
   ]
  },
  {
   "cell_type": "code",
   "execution_count": 6,
   "id": "8bc68ada",
   "metadata": {},
   "outputs": [
    {
     "name": "stdout",
     "output_type": "stream",
     "text": [
      "before softmax tensor([[ -9.3005, -11.0586,  -2.9741,  -2.9179,  -9.3500,   4.1474,  -6.8721,\n",
      "          -3.6999,  -8.9446,  -7.6901]], grad_fn=<AddmmBackward0>)\n",
      "tensor([[-1.3450e+01, -1.5208e+01, -7.1236e+00, -7.0674e+00, -1.3500e+01,\n",
      "         -2.0791e-03, -1.1022e+01, -7.8494e+00, -1.3094e+01, -1.1840e+01]],\n",
      "       grad_fn=<LogSoftmaxBackward0>)\n"
     ]
    }
   ],
   "source": [
    "print(model(img_tensor))"
   ]
  },
  {
   "cell_type": "markdown",
   "id": "71331020",
   "metadata": {},
   "source": []
  },
  {
   "cell_type": "markdown",
   "id": "ded2ebd6",
   "metadata": {},
   "source": [
    "# MuxConv"
   ]
  },
  {
   "cell_type": "code",
   "execution_count": 7,
   "id": "faeef6b2",
   "metadata": {},
   "outputs": [],
   "source": [
    "from time import time"
   ]
  },
  {
   "cell_type": "code",
   "execution_count": 19,
   "id": "1803bb6b",
   "metadata": {},
   "outputs": [
    {
     "name": "stdout",
     "output_type": "stream",
     "text": [
      "functions set\n",
      "degrees = [15, 15, 15, 15], margin = 0.01, eps = 0.02\n"
     ]
    }
   ],
   "source": [
    "muxed_model = ResNet_MuxConv(model, alpha=12)"
   ]
  },
  {
   "cell_type": "code",
   "execution_count": 20,
   "id": "6b4769cb",
   "metadata": {},
   "outputs": [
    {
     "name": "stdout",
     "output_type": "stream",
     "text": [
      "[MultParConvBN] (hi,wi,ci,ki,ti,pi) =(32,32, 3, 1, 3,  8)\n",
      "1.2639 s\n",
      "[ 1.23083757e+00  4.86967574e-01  2.75344729e-01  3.29138183e-01\n",
      "  4.28335613e-01  3.70344855e-01  4.40048646e-01  4.22215130e-01\n",
      "  3.75639522e-01  4.12476729e-01  3.55572611e-01  1.82748623e-01\n",
      "  2.23403126e-12 -1.25110832e-12 -3.93159852e-12  2.29966678e-02\n",
      "  7.94883424e-02  1.53448636e-01  2.66038135e-01  4.51326009e-01\n",
      "  4.74084721e-01  4.09967894e-01  3.81854797e-01  3.23575674e-01\n",
      "  3.89218624e-01  4.11176149e-01  2.51731082e-01  2.53241743e-01\n",
      "  3.68447519e-01  2.82682075e-01  3.29150118e-01  2.50681995e-01\n",
      "  1.44370664e+00  1.43021865e-01  4.49264536e-02  5.36310604e-02\n",
      "  9.95615098e-02 -6.66724757e-04  5.28738508e-02  1.67052255e-01\n",
      " -6.62974982e-04  6.76758060e-12  5.58868822e-12  8.63362800e-11\n",
      "  1.20594992e-10  1.16509341e-10  1.52629003e-10 -8.16614189e-11\n",
      "  6.68249524e-11  1.00328779e-10 -3.75426353e-12  1.81684809e-01\n",
      "  2.61866027e-01  8.90501600e-02  4.47203087e-02  4.56751499e-02\n",
      "  1.33089175e-01  8.68538922e-02 -1.85397055e-06 -4.47627471e-05\n",
      "  3.95503112e-02  9.86060014e-12  2.21770164e-03 -2.95885302e-12]\n",
      "[MultParConvBN] (hi,wi,ci,ki,ti,pi) =(32,32,16, 1,16,  2)\n",
      "4.9421 s\n",
      "[MultParConvBN] (hi,wi,ci,ki,ti,pi) =(32,32,16, 1,16,  2)\n",
      "4.9864 s\n",
      "[ 2.29267628e+00  6.47757060e-12  1.19674630e-01  7.13168094e-01\n",
      "  1.15488693e+00  5.16513303e-01  5.55035775e-01  9.74370834e-01\n",
      "  5.54489085e-01  6.66801426e-01  8.39005060e-01  3.64784055e-01\n",
      "  6.27757118e-01  6.06545058e-01  1.53876369e-11  1.09556754e+00\n",
      "  8.27282541e-01  8.23243136e-01  4.39561743e-01  9.06786279e-01\n",
      "  8.52977332e-01  7.75908007e-12  3.07748895e-01  4.79347050e-01\n",
      "  6.03900807e-01  7.09090862e-01  6.10174728e-01  4.81896420e-01\n",
      "  1.02451825e+00  3.24767487e-01  6.81767194e-11  1.32001591e+00\n",
      "  1.91701067e+00  2.50555909e-10  1.20338392e-10  9.75345044e-02\n",
      "  4.87956585e-02 -3.32138069e-11 -4.66118738e-11  1.32923196e-02\n",
      "  3.65359630e-12  6.74719861e-02  8.57896191e-01  2.86617135e-01\n",
      "  1.46063904e+00  1.37253706e+00  1.86505058e-01  1.61490148e+00\n",
      "  5.09154603e-01  1.65831965e+00 -5.07699703e-12  7.92230985e-01\n",
      "  5.21887172e-01 -2.16597783e-11  1.21418344e-10 -1.25857514e-11\n",
      "  1.28433485e-01  6.38984742e-13  1.77142534e-01 -6.40709980e-12\n",
      "  1.98366150e-01 -3.02675411e-11 -9.79684373e-11  7.40100974e-01]\n",
      "[MultParConvBN] (hi,wi,ci,ki,ti,pi) =(32,32,16, 1,16,  2)\n",
      "9.7476 s\n",
      "[MultParConvBN] (hi,wi,ci,ki,ti,pi) =(16,16,32, 2, 8,  4)\n",
      "4.7197 s\n",
      "[MultParConvBN] (hi,wi,ci,ki,ti,pi) =(32,32,16, 1,16,  2)\n",
      "1.4422 s\n",
      "[-7.79822351e-11 -1.72587882e-10  1.06146363e+00 -7.32303140e-11\n",
      "  5.48896383e-01  7.20119235e-11  1.06144016e+00 -8.13500200e-11\n",
      "  5.16885015e-01  1.32140994e-01  6.89505981e-11  1.33063332e+00\n",
      " -1.91349641e-10  2.36428056e+00  1.22538818e-10 -1.82611009e-11\n",
      " -4.74950551e-11  9.53302222e-01  6.65548053e-11  1.03243494e+00\n",
      "  1.85909100e-10  2.70565247e+00  2.69077455e-01  9.59507322e-01\n",
      "  2.15155021e-01  1.20813044e-10  3.38472666e-02 -4.31738138e-11\n",
      "  1.94396030e-01 -5.16200008e-11 -5.16907447e-12 -2.79491614e-10\n",
      "  7.91372773e-01  7.67988207e-01  1.64557818e-10  5.10139649e-01\n",
      "  7.19180089e-01  2.05380365e-01  1.17426497e+00 -1.00885945e-11\n",
      "  1.78485319e+00  9.57439991e-12  1.52154571e+00  1.27684230e-01\n",
      " -4.96988673e-08  1.44686376e+00  6.68435577e-11  1.01105556e+00\n",
      " -4.45443531e-12  5.46584826e-02 -4.17407187e-12  7.30562478e-11\n",
      "  1.07942147e+00  1.87133731e-10  1.52127879e+00 -2.07230528e-12\n",
      "  1.35396060e+00  2.69887425e-01  4.65569458e-01  1.36761195e-01\n",
      " -6.62254352e-12 -5.63663594e-12 -4.67722605e-11  6.40313118e-01]\n",
      "[MultParConvBN] (hi,wi,ci,ki,ti,pi) =(16,16,32, 2, 8,  4)\n",
      "9.0716 s\n",
      "[MultParConvBN] (hi,wi,ci,ki,ti,pi) =( 8, 8,64, 4, 4,  8)\n",
      "4.4423 s\n",
      "[MultParConvBN] (hi,wi,ci,ki,ti,pi) =(16,16,32, 2, 8,  4)\n",
      "1.3687 s\n",
      "[-5.26669929e-11  9.92734635e-11  2.13160161e-10 -2.98540940e-10\n",
      "  3.02768598e-10  1.22581185e-10 -3.69733551e-10  1.16907293e-10\n",
      " -9.92272788e-11  1.75624996e-01 -9.60073972e-11  9.68608328e-11\n",
      "  1.20075681e-10  1.55769343e+00 -8.02404953e-11  4.52564050e-01\n",
      "  3.62151406e-01  2.23384927e+00  3.44182499e-10  1.28071141e-10\n",
      " -1.01918075e-11  8.00307261e-01 -1.38316244e-11  9.32344958e-11\n",
      "  2.26931918e-01  9.41534216e-03  1.14273087e-11  2.20061158e-11\n",
      " -9.50903719e-11 -1.80149117e-11 -6.29076634e-11  1.05522805e-10\n",
      "  1.45182193e-10  3.27021784e-10  2.89128819e-10 -5.45075420e-11\n",
      "  3.11056559e-10  1.56668122e-10 -1.42166908e-10  1.69565502e-11\n",
      "  4.86304946e-11  4.01317815e-11  9.58811751e-11  6.75589747e-11\n",
      "  2.20328109e-11  1.12596754e+00  6.13835450e-11  1.60710437e-01\n",
      " -9.69556662e-11  1.85595754e+00 -4.41851294e-11  1.64646067e+00\n",
      "  3.34626408e-10  8.51742876e-01  6.15934934e-11  1.58887497e-10\n",
      "  3.37264514e-10  8.00285846e-01 -3.33752929e-11  2.23442225e-01\n",
      " -3.75465270e-10  6.59750135e-11 -1.55506206e-10  7.02310750e-01]\n"
     ]
    }
   ],
   "source": [
    "ctxt, outs0 = muxed_model.forward_early(img_tensor)\n",
    "print(ctxt[:64])        \n",
    "# Basic blocks\n",
    "ctxt, outs1 = muxed_model.forward_bb(model.layer1[0], ctxt, outs0)\n",
    "print(ctxt[:64])        \n",
    "ctxt, outs2 = muxed_model.forward_bb(model.layer2[0], ctxt, outs1)\n",
    "print(ctxt[:64])        \n",
    "ctxt, outs3 = muxed_model.forward_bb(model.layer3[0], ctxt, outs2)\n",
    "print(ctxt[:64])        "
   ]
  },
  {
   "cell_type": "code",
   "execution_count": 7,
   "id": "d76caecc",
   "metadata": {
    "scrolled": true
   },
   "outputs": [
    {
     "name": "stdout",
     "output_type": "stream",
     "text": [
      "[MultParConvBN] (hi,wi,ci,ki,ti,pi) =(32,32, 3, 1, 3,  8)\n",
      "1.3540 s\n",
      "[MultParConvBN] (hi,wi,ci,ki,ti,pi) =(32,32,16, 1,16,  2)\n",
      "5.3013 s\n",
      "[MultParConvBN] (hi,wi,ci,ki,ti,pi) =(32,32,16, 1,16,  2)\n",
      "5.3148 s\n",
      "[MultParConvBN] (hi,wi,ci,ki,ti,pi) =(32,32,16, 1,16,  2)\n",
      "10.2857 s\n",
      "[MultParConvBN] (hi,wi,ci,ki,ti,pi) =(16,16,32, 2, 8,  4)\n",
      "4.8755 s\n",
      "[MultParConvBN] (hi,wi,ci,ki,ti,pi) =(32,32,16, 1,16,  2)\n",
      "1.4668 s\n",
      "[MultParConvBN] (hi,wi,ci,ki,ti,pi) =(16,16,32, 2, 8,  4)\n",
      "9.2939 s\n",
      "[MultParConvBN] (hi,wi,ci,ki,ti,pi) =( 8, 8,64, 4, 4,  8)\n",
      "4.6312 s\n",
      "[MultParConvBN] (hi,wi,ci,ki,ti,pi) =(16,16,32, 2, 8,  4)\n",
      "1.4283 s\n",
      "43.9756 s\n"
     ]
    }
   ],
   "source": [
    "t0 = time()\n",
    "result = muxed_model(img_tensor)\n",
    "print(f\"{time() - t0:.4f} s\")"
   ]
  },
  {
   "cell_type": "code",
   "execution_count": 19,
   "id": "2b96cb73",
   "metadata": {},
   "outputs": [
    {
     "data": {
      "text/plain": [
       "tensor([ -9.2678, -10.8151,  -3.1035,  -2.9026,  -9.4615,   4.3280,  -6.9753,\n",
       "         -3.5617,  -8.8841,  -7.5631], dtype=torch.float64)"
      ]
     },
     "execution_count": 19,
     "metadata": {},
     "output_type": "execute_result"
    }
   ],
   "source": [
    "torch.tensor(result[::64][:10])"
   ]
  },
  {
   "cell_type": "code",
   "execution_count": null,
   "id": "83095b77",
   "metadata": {},
   "outputs": [],
   "source": []
  }
 ],
 "metadata": {
  "kernelspec": {
   "display_name": "Python 3 (ipykernel)",
   "language": "python",
   "name": "python3"
  },
  "language_info": {
   "codemirror_mode": {
    "name": "ipython",
    "version": 3
   },
   "file_extension": ".py",
   "mimetype": "text/x-python",
   "name": "python",
   "nbconvert_exporter": "python",
   "pygments_lexer": "ipython3",
   "version": "3.10.11"
  },
  "vscode": {
   "interpreter": {
    "hash": "60d42a677e1abf850e158ee39e01a5d70da0f6529681f4a4eca4a35dff8a082c"
   }
  }
 },
 "nbformat": 4,
 "nbformat_minor": 5
}
