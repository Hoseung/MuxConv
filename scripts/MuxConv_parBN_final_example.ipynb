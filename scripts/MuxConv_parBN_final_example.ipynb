{
 "cells": [
  {
   "cell_type": "code",
   "execution_count": 1,
   "id": "bfd4f7f8",
   "metadata": {},
   "outputs": [],
   "source": [
    "%load_ext autoreload\n",
    "%autoreload 2"
   ]
  },
  {
   "cell_type": "code",
   "execution_count": 4,
   "id": "c7907150",
   "metadata": {},
   "outputs": [],
   "source": [
    "from muxcnn.utils import load_params, load_img\n",
    "#from muxcnn.hecnn_par import *\n",
    "#from muxcnn.comparator import ApprRelu\n",
    "import torch\n",
    "from muxcnn.resnet_muxconv import ResNet_MuxConv"
   ]
  },
  {
   "cell_type": "markdown",
   "id": "acbd4950",
   "metadata": {},
   "source": [
    "## Torch model"
   ]
  },
  {
   "cell_type": "code",
   "execution_count": 5,
   "id": "8d430ea2",
   "metadata": {},
   "outputs": [],
   "source": [
    "from muxcnn.models.ResNet20 import ResNet, BasicBlock\n",
    "\n",
    "model = ResNet(BasicBlock,[1,1,1])\n",
    "model.eval() ########## 필수! \n",
    "load_params(model, fn_param=\"./ResNet8.pt\",device='cpu')"
   ]
  },
  {
   "cell_type": "code",
   "execution_count": 6,
   "id": "be34ed92",
   "metadata": {},
   "outputs": [],
   "source": [
    "img_tensor = load_img(\"./cute.jpg\", hi=32, wi=32)"
   ]
  },
  {
   "cell_type": "code",
   "execution_count": 7,
   "id": "8bc68ada",
   "metadata": {},
   "outputs": [
    {
     "name": "stdout",
     "output_type": "stream",
     "text": [
      "before softmax tensor([[ -9.3005, -11.0586,  -2.9741,  -2.9179,  -9.3500,   4.1474,  -6.8721,\n",
      "          -3.6999,  -8.9446,  -7.6901]], grad_fn=<AddmmBackward0>)\n",
      "tensor([[-1.3450e+01, -1.5208e+01, -7.1236e+00, -7.0674e+00, -1.3500e+01,\n",
      "         -2.0791e-03, -1.1022e+01, -7.8494e+00, -1.3094e+01, -1.1840e+01]],\n",
      "       grad_fn=<LogSoftmaxBackward0>)\n"
     ]
    }
   ],
   "source": [
    "print(model(img_tensor))"
   ]
  },
  {
   "cell_type": "markdown",
   "id": "ded2ebd6",
   "metadata": {},
   "source": [
    "# FHE"
   ]
  },
  {
   "cell_type": "code",
   "execution_count": 8,
   "id": "faeef6b2",
   "metadata": {},
   "outputs": [],
   "source": [
    "from time import time"
   ]
  },
  {
   "cell_type": "code",
   "execution_count": 9,
   "id": "1803bb6b",
   "metadata": {},
   "outputs": [
    {
     "name": "stdout",
     "output_type": "stream",
     "text": [
      "functions set\n",
      "degrees = [15, 15, 15, 15], margin = 0.01, eps = 0.02\n"
     ]
    }
   ],
   "source": [
    "fhe_model = ResNet_MuxConv(model, alpha=12)"
   ]
  },
  {
   "cell_type": "code",
   "execution_count": 24,
   "id": "1872dfc1",
   "metadata": {},
   "outputs": [
    {
     "name": "stdout",
     "output_type": "stream",
     "text": [
      "[MultParConv] (hi,wi,ci,ki,ti,pi) =(32,32, 3, 1, 3,  8)\n",
      "[MultParConv] (ho,wo,co,ko,to,po) =(32,32,16, 1,16,  2)\n",
      "[MultParConv] q = 2\n",
      "2.4993 s\n",
      "2.5166 s\n"
     ]
    }
   ],
   "source": [
    "t0 = time()\n",
    "ctxt, outs0 = fhe_model.forward_early(img_tensor)\n",
    "print(f\"{time() - t0:.4f} s\")"
   ]
  },
  {
   "cell_type": "code",
   "execution_count": 25,
   "id": "4243a7c0",
   "metadata": {},
   "outputs": [
    {
     "name": "stdout",
     "output_type": "stream",
     "text": [
      "[ 1.23083757e+00 -1.26932767e-09  8.31757006e-01  5.57055145e-01\n",
      "  1.46344638e+00  5.52875764e-01  9.16643332e-10  3.22529485e-01\n",
      "  1.66880482e-01 -1.47863135e-10 -4.83194805e-10  5.25957644e-02\n",
      " -1.02005576e-08  8.14742655e-01  3.52006406e-01  9.86855254e-01\n",
      " -5.28150661e-09 -2.99751585e-10  2.00753382e-01  4.62600850e+00\n",
      "  1.45841416e+00  1.12151311e-01  2.53264001e-01  2.61802319e+00\n",
      "  6.75758605e-02  2.28868991e-02 -9.50749179e-09  1.08192038e-09\n",
      "  3.17374896e-09  9.83460247e-01  9.61286445e-01  4.02652655e-01\n",
      "  3.70484902e-10]\n"
     ]
    }
   ],
   "source": [
    "print(ctxt[::1000])"
   ]
  },
  {
   "cell_type": "code",
   "execution_count": 17,
   "id": "874b8d16",
   "metadata": {},
   "outputs": [
    {
     "name": "stdout",
     "output_type": "stream",
     "text": [
      "[MultParConv] (hi,wi,ci,ki,ti,pi) =(32,32,16, 1,16,  2)\n",
      "[MultParConv] (ho,wo,co,ko,to,po) =(32,32,16, 1,16,  2)\n",
      "[MultParConv] q = 8\n",
      "15.1050 s\n",
      "[MultParConv] (hi,wi,ci,ki,ti,pi) =(32,32,16, 1,16,  2)\n",
      "[MultParConv] (ho,wo,co,ko,to,po) =(32,32,16, 1,16,  2)\n",
      "[MultParConv] q = 8\n",
      "13.0218 s\n"
     ]
    }
   ],
   "source": [
    "ctxt2, outs1 = fhe_model.forward_bb(model.layer1[0], ctxt, outs0)"
   ]
  },
  {
   "cell_type": "code",
   "execution_count": 22,
   "id": "3558b8da",
   "metadata": {},
   "outputs": [
    {
     "name": "stdout",
     "output_type": "stream",
     "text": [
      "[ 2.29267736e+00  1.55785321e-01  2.07220434e-01  6.34568482e-01\n",
      "  1.73384565e+00  4.63323207e-10  9.20647750e-01  1.24998424e-01\n",
      "  7.27318138e-01  1.15989112e-09  4.58737551e-01  9.81055376e-01\n",
      " -7.62398747e-09  1.77523743e+00  1.86425350e-01  8.93213558e-01\n",
      "  9.10392226e-01  4.85560791e-04  1.02342889e+00  1.03987971e+00\n",
      "  1.41272675e+00  5.91650931e-10  1.30377909e-01  1.31060697e+00\n",
      "  1.66285891e-01 -1.18811039e-09 -5.08807410e-09  1.49653335e-09\n",
      " -4.20501259e-09  7.86966889e-01  1.64648186e+00 -5.06177593e-09\n",
      "  8.46363515e-01]\n"
     ]
    }
   ],
   "source": [
    "print(ctxt2[::1000])"
   ]
  },
  {
   "cell_type": "code",
   "execution_count": null,
   "id": "8945720e",
   "metadata": {},
   "outputs": [],
   "source": [
    "ctxt2, outs1 = fhe_model.forward_bb(model.layer1[0], ctxt2, outs1)"
   ]
  },
  {
   "cell_type": "code",
   "execution_count": 13,
   "id": "662cab63",
   "metadata": {},
   "outputs": [
    {
     "name": "stdout",
     "output_type": "stream",
     "text": [
      "(array([ 1.23083757e+00,  4.86967574e-01,  2.75344729e-01, ...,\n",
      "       -5.07707003e-10,  7.09786031e-10,  1.15663971e-10]), {'h': 32, 'w': 32, 'c': 16, 'k': 1, 't': 16, 'p': 2})\n"
     ]
    }
   ],
   "source": [
    "print(result[:10])"
   ]
  },
  {
   "cell_type": "code",
   "execution_count": 20,
   "id": "d76caecc",
   "metadata": {
    "scrolled": true
   },
   "outputs": [
    {
     "name": "stdout",
     "output_type": "stream",
     "text": [
      "[MultParConv] (hi,wi,ci,ki,ti,pi) =(32,32, 3, 1, 3,  8)\n",
      "[MultParConv] (ho,wo,co,ko,to,po) =(32,32,16, 1,16,  2)\n",
      "[MultParConv] q = 2\n",
      "1.9421 s\n",
      "[MultParConv] (hi,wi,ci,ki,ti,pi) =(32,32,16, 1,16,  2)\n",
      "[MultParConv] (ho,wo,co,ko,to,po) =(32,32,16, 1,16,  2)\n",
      "[MultParConv] q = 8\n",
      "7.5915 s\n",
      "[MultParConv] (hi,wi,ci,ki,ti,pi) =(32,32,16, 1,16,  2)\n",
      "[MultParConv] (ho,wo,co,ko,to,po) =(32,32,16, 1,16,  2)\n",
      "[MultParConv] q = 8\n",
      "7.5881 s\n",
      "[MultParConv] (hi,wi,ci,ki,ti,pi) =(32,32,16, 1,16,  2)\n",
      "[MultParConv] (ho,wo,co,ko,to,po) =(16,16,32, 2, 8,  4)\n",
      "[MultParConv] q = 16\n",
      "14.5817 s\n",
      "[MultParConv] (hi,wi,ci,ki,ti,pi) =(16,16,32, 2, 8,  4)\n",
      "[MultParConv] (ho,wo,co,ko,to,po) =(16,16,32, 2, 8,  4)\n",
      "[MultParConv] q = 8\n",
      "6.9168 s\n",
      "[MultParConv] (hi,wi,ci,ki,ti,pi) =(32,32,16, 1,16,  2)\n",
      "[MultParConv] (ho,wo,co,ko,to,po) =(16,16,32, 2, 8,  4)\n",
      "[MultParConv] q = 16\n",
      "2.1417 s\n",
      "[MultParConv] (hi,wi,ci,ki,ti,pi) =(16,16,32, 2, 8,  4)\n",
      "[MultParConv] (ho,wo,co,ko,to,po) =( 8, 8,64, 4, 4,  8)\n",
      "[MultParConv] q = 16\n",
      "13.3325 s\n",
      "[MultParConv] (hi,wi,ci,ki,ti,pi) =( 8, 8,64, 4, 4,  8)\n",
      "[MultParConv] (ho,wo,co,ko,to,po) =( 8, 8,64, 4, 4,  8)\n",
      "[MultParConv] q = 8\n",
      "6.5365 s\n",
      "[MultParConv] (hi,wi,ci,ki,ti,pi) =(16,16,32, 2, 8,  4)\n",
      "[MultParConv] (ho,wo,co,ko,to,po) =( 8, 8,64, 4, 4,  8)\n",
      "[MultParConv] q = 16\n",
      "2.0079 s\n",
      "62.6637 s\n"
     ]
    }
   ],
   "source": [
    "t0 = time()\n",
    "result = fhe_model(img_tensor)\n",
    "print(f\"{time() - t0:.4f} s\")"
   ]
  },
  {
   "cell_type": "code",
   "execution_count": 21,
   "id": "2b96cb73",
   "metadata": {},
   "outputs": [
    {
     "data": {
      "text/plain": [
       "tensor([ -9.2678, -10.8150,  -3.1036,  -2.9026,  -9.4616,   4.3280,  -6.9752,\n",
       "         -3.5619,  -8.8842,  -7.5630], dtype=torch.float64)"
      ]
     },
     "execution_count": 21,
     "metadata": {},
     "output_type": "execute_result"
    }
   ],
   "source": [
    "torch.tensor(result[::64][:10])"
   ]
  },
  {
   "cell_type": "code",
   "execution_count": 10,
   "id": "b649b49c",
   "metadata": {},
   "outputs": [
    {
     "data": {
      "text/plain": [
       "tensor([ -9.2678, -10.8150,  -3.1036,  -2.9026,  -9.4616,   4.3280,  -6.9752,\n",
       "         -3.5619,  -8.8842,  -7.5630], dtype=torch.float64)"
      ]
     },
     "execution_count": 10,
     "metadata": {},
     "output_type": "execute_result"
    }
   ],
   "source": [
    "torch.tensor(result[::64][:10])"
   ]
  },
  {
   "cell_type": "code",
   "execution_count": null,
   "id": "ad866842",
   "metadata": {},
   "outputs": [],
   "source": []
  }
 ],
 "metadata": {
  "kernelspec": {
   "display_name": "Python 3 (ipykernel)",
   "language": "python",
   "name": "python3"
  },
  "language_info": {
   "codemirror_mode": {
    "name": "ipython",
    "version": 3
   },
   "file_extension": ".py",
   "mimetype": "text/x-python",
   "name": "python",
   "nbconvert_exporter": "python",
   "pygments_lexer": "ipython3",
   "version": "3.10.4"
  },
  "vscode": {
   "interpreter": {
    "hash": "60d42a677e1abf850e158ee39e01a5d70da0f6529681f4a4eca4a35dff8a082c"
   }
  }
 },
 "nbformat": 4,
 "nbformat_minor": 5
}
