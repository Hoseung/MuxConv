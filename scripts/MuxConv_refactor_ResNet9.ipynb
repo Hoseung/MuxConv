{
 "cells": [
  {
   "cell_type": "code",
   "execution_count": null,
   "id": "cd4378b9",
   "metadata": {},
   "outputs": [],
   "source": [
    "%load_ext autoreload\n",
    "%autoreload"
   ]
  },
  {
   "cell_type": "code",
   "execution_count": 1,
   "id": "c7907150",
   "metadata": {},
   "outputs": [],
   "source": [
    "from muxcnn.utils import *\n",
    "from muxcnn.hecnn import *\n",
    "from icecream import ic\n",
    "import torch\n",
    "import torch.nn.functional as F"
   ]
  },
  {
   "cell_type": "code",
   "execution_count": 2,
   "id": "6859d831",
   "metadata": {},
   "outputs": [],
   "source": [
    "################\n",
    "#  unpack()    #\n",
    "################\n",
    "def plot_4x4(img, co=None, fn=None):\n",
    "    fig, axs = plt.subplots(4,4, figsize=(8,8))\n",
    "    axs = axs.ravel()\n",
    "    vmin = img.min()\n",
    "    vmax = img.max()\n",
    "    if co is None:\n",
    "        co = len(img)\n",
    "    for ico in range(co):\n",
    "        axs[ico].imshow(img[ico], vmin=vmin, vmax=vmax)\n",
    "    plt.tight_layout()\n",
    "    if fn is not None:\n",
    "        plt.savefig(fn)\n",
    "        plt.close()"
   ]
  },
  {
   "cell_type": "markdown",
   "id": "acbd4950",
   "metadata": {},
   "source": [
    "## Torch model"
   ]
  },
  {
   "cell_type": "code",
   "execution_count": 3,
   "id": "2e3d8d1e",
   "metadata": {},
   "outputs": [],
   "source": [
    "def load_params(model, fn_param, device):\n",
    "    trained_param = torch.load(fn_param, map_location = torch.device(device))\n",
    "    trained_param = {key : value.cpu()   for key,value in trained_param.items()}\n",
    "    params_np     = {key : value.numpy() for key,value in trained_param.items()}\n",
    "    model.load_state_dict(trained_param)\n",
    "\n",
    "def load_img(fname, hi=None, wi=None):\n",
    "    image = cv2.imread(fname)\n",
    "    if hi is not None and wi is not None:\n",
    "        image = cv2.resize(image,(hi,wi))\n",
    "    img = get_channel_first(image)\n",
    "    img = torch.tensor(img).unsqueeze(0)\n",
    "    return img.type(torch.FloatTensor)"
   ]
  },
  {
   "cell_type": "code",
   "execution_count": 4,
   "id": "8d430ea2",
   "metadata": {},
   "outputs": [],
   "source": [
    "from muxcnn.models.ResNet20 import ResNet, BasicBlock\n",
    "\n",
    "activation = F.relu\n",
    "\n",
    "model = ResNet(BasicBlock,[1,1,1])\n",
    "load_params(model, fn_param=\"./ResNet8.pt\",device='cpu')"
   ]
  },
  {
   "cell_type": "code",
   "execution_count": 5,
   "id": "b631a8da",
   "metadata": {},
   "outputs": [
    {
     "data": {
      "text/plain": [
       "ResNet(\n",
       "  (conv1): Conv2d(3, 16, kernel_size=(3, 3), stride=(1, 1), padding=(1, 1), bias=False)\n",
       "  (bn1): BatchNorm2d(16, eps=1e-05, momentum=0.1, affine=True, track_running_stats=True)\n",
       "  (layer1): Sequential(\n",
       "    (0): BasicBlock(\n",
       "      (conv1): Conv2d(16, 16, kernel_size=(3, 3), stride=(1, 1), padding=(1, 1), bias=False)\n",
       "      (bn1): BatchNorm2d(16, eps=1e-05, momentum=0.1, affine=False, track_running_stats=True)\n",
       "      (conv2): Conv2d(16, 16, kernel_size=(3, 3), stride=(1, 1), padding=(1, 1), bias=False)\n",
       "      (bn2): BatchNorm2d(16, eps=1e-05, momentum=0.1, affine=False, track_running_stats=True)\n",
       "      (shortcut): Sequential()\n",
       "    )\n",
       "  )\n",
       "  (layer2): Sequential(\n",
       "    (0): BasicBlock(\n",
       "      (conv1): Conv2d(16, 32, kernel_size=(3, 3), stride=(2, 2), padding=(1, 1), bias=False)\n",
       "      (bn1): BatchNorm2d(32, eps=1e-05, momentum=0.1, affine=False, track_running_stats=True)\n",
       "      (conv2): Conv2d(32, 32, kernel_size=(3, 3), stride=(1, 1), padding=(1, 1), bias=False)\n",
       "      (bn2): BatchNorm2d(32, eps=1e-05, momentum=0.1, affine=False, track_running_stats=True)\n",
       "      (shortcut): Sequential(\n",
       "        (0): Conv2d(16, 32, kernel_size=(1, 1), stride=(2, 2), bias=False)\n",
       "        (1): BatchNorm2d(32, eps=1e-05, momentum=0.1, affine=False, track_running_stats=True)\n",
       "      )\n",
       "    )\n",
       "  )\n",
       "  (layer3): Sequential(\n",
       "    (0): BasicBlock(\n",
       "      (conv1): Conv2d(32, 64, kernel_size=(3, 3), stride=(2, 2), padding=(1, 1), bias=False)\n",
       "      (bn1): BatchNorm2d(64, eps=1e-05, momentum=0.1, affine=False, track_running_stats=True)\n",
       "      (conv2): Conv2d(64, 64, kernel_size=(3, 3), stride=(1, 1), padding=(1, 1), bias=False)\n",
       "      (bn2): BatchNorm2d(64, eps=1e-05, momentum=0.1, affine=False, track_running_stats=True)\n",
       "      (shortcut): Sequential(\n",
       "        (0): Conv2d(32, 64, kernel_size=(1, 1), stride=(2, 2), bias=False)\n",
       "        (1): BatchNorm2d(64, eps=1e-05, momentum=0.1, affine=False, track_running_stats=True)\n",
       "      )\n",
       "    )\n",
       "  )\n",
       "  (linear): Linear(in_features=64, out_features=10, bias=True)\n",
       "  (avgpool): AvgPool2d(kernel_size=8, stride=8, padding=0)\n",
       ")"
      ]
     },
     "execution_count": 5,
     "metadata": {},
     "output_type": "execute_result"
    }
   ],
   "source": [
    "model"
   ]
  },
  {
   "cell_type": "code",
   "execution_count": 6,
   "id": "be34ed92",
   "metadata": {},
   "outputs": [],
   "source": [
    "img_tensor = load_img(\"./cute.jpg\", hi=32, wi=32)"
   ]
  },
  {
   "cell_type": "code",
   "execution_count": 7,
   "id": "edcb92ac",
   "metadata": {},
   "outputs": [
    {
     "name": "stdout",
     "output_type": "stream",
     "text": [
      "torch.Size([1, 16, 32, 32])\n"
     ]
    },
    {
     "data": {
      "text/plain": [
       "Text(0.5, 1.0, 'After bn1')"
      ]
     },
     "execution_count": 7,
     "metadata": {},
     "output_type": "execute_result"
    },
    {
     "data": {
      "image/png": "[encoded data removed]",
      "text/plain": [
       "<Figure size 640x480 with 2 Axes>"
      ]
     },
     "metadata": {},
     "output_type": "display_data"
    }
   ],
   "source": [
    "#img_tensor = convert_tensor(img)\n",
    "res1 = model.conv1(img_tensor)\n",
    "print(res1.shape)\n",
    "fig, axs = plt.subplots(1,2)\n",
    "axs[0].imshow(res1[0,0,:,:].detach().numpy())\n",
    "axs[0].set_title(\"After conv1\")\n",
    "\n",
    "res2 = model.bn1(res1)\n",
    "axs[1].imshow(res2[0,0,:,:].detach().numpy())\n",
    "axs[1].set_title(\"After bn1\")"
   ]
  },
  {
   "cell_type": "markdown",
   "id": "b1aac562",
   "metadata": {},
   "source": [
    "# FHE-frinedly model"
   ]
  },
  {
   "cell_type": "code",
   "execution_count": 9,
   "id": "918c6337",
   "metadata": {},
   "outputs": [
    {
     "name": "stdout",
     "output_type": "stream",
     "text": [
      "[MultConv] (hi,wi,ci) =(32,32,3),(ho,wo,co)=(32,32,16),(fh,fw)=(3,3)\n",
      "[MultConv] (ki,ti) =(1,3), (ko,to) =(1,16)\n"
     ]
    }
   ],
   "source": [
    "imgl = get_channel_last(img_tensor[0])\n",
    "ki = 1\n",
    "hi, wi, ch = imgl.shape\n",
    "\n",
    "U, ins, outs = prepare_conv(model.conv1, ki=ki, hi=hi, wi=wi)\n",
    "ct_a = MultPack(imgl, ins)\n",
    "\n",
    "out, un = forward_conv(model.conv1, ct_a, ki, hi, wi)"
   ]
  },
  {
   "cell_type": "code",
   "execution_count": 10,
   "id": "9550baec",
   "metadata": {},
   "outputs": [
    {
     "data": {
      "text/plain": [
       "Text(0.5, 1.0, 'After conv1')"
      ]
     },
     "execution_count": 10,
     "metadata": {},
     "output_type": "execute_result"
    },
    {
     "data": {
      "image/png": "[encoded data removed]",
      "text/plain": [
       "<Figure size 640x480 with 1 Axes>"
      ]
     },
     "metadata": {},
     "output_type": "display_data"
    }
   ],
   "source": [
    "un = unpack(out,outs)\n",
    "\n",
    "fig, ax = plt.subplots()\n",
    "ax.imshow(un[0,:,:])\n",
    "ax.set_title(\"After conv1\")"
   ]
  },
  {
   "cell_type": "code",
   "execution_count": null,
   "id": "c1ed7746",
   "metadata": {},
   "outputs": [],
   "source": []
  }
 ],
 "metadata": {
  "kernelspec": {
   "display_name": "Python 3 (ipykernel)",
   "language": "python",
   "name": "python3"
  },
  "language_info": {
   "codemirror_mode": {
    "name": "ipython",
    "version": 3
   },
   "file_extension": ".py",
   "mimetype": "text/x-python",
   "name": "python",
   "nbconvert_exporter": "python",
   "pygments_lexer": "ipython3",
   "version": "3.10.6"
  },
  "vscode": {
   "interpreter": {
    "hash": "312595a83d408892f860676df71d6f6088a279ffd0ace127ffe1e58bd7b9393c"
   }
  }
 },
 "nbformat": 4,
 "nbformat_minor": 5
}
