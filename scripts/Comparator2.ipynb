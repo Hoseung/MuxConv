{
 "cells": [
  {
   "cell_type": "markdown",
   "id": "949ac9c6",
   "metadata": {},
   "source": [
    "## Minimax ReLU bug fix\n",
    "\n",
    "python emulator로 알고리즘 확인. "
   ]
  },
  {
   "cell_type": "code",
   "execution_count": 1,
   "id": "e076e7ca",
   "metadata": {},
   "outputs": [],
   "source": [
    "from hemul.comparator_fhe import ApprRelu_FHE\n",
    "from hemul.comparator import ApprRelu"
   ]
  },
  {
   "cell_type": "code",
   "execution_count": null,
   "id": "30a0899a",
   "metadata": {},
   "outputs": [],
   "source": []
  },
  {
   "cell_type": "code",
   "execution_count": 2,
   "id": "77e445e5",
   "metadata": {},
   "outputs": [
    {
     "name": "stdout",
     "output_type": "stream",
     "text": [
      "functions set\n",
      "degrees = [15, 15, 15, 15], margin = 0.01, eps = 0.02\n"
     ]
    },
    {
     "ename": "NameError",
     "evalue": "name 'out1' is not defined",
     "output_type": "error",
     "traceback": [
      "\u001b[0;31m---------------------------------------------------------------------------\u001b[0m",
      "\u001b[0;31mNameError\u001b[0m                                 Traceback (most recent call last)",
      "Cell \u001b[0;32mIn [2], line 2\u001b[0m\n\u001b[1;32m      1\u001b[0m appr_relu \u001b[38;5;241m=\u001b[39m ApprRelu(xmin\u001b[38;5;241m=\u001b[39m\u001b[38;5;241m-\u001b[39m\u001b[38;5;241m10\u001b[39m, xmax\u001b[38;5;241m=\u001b[39m\u001b[38;5;241m10\u001b[39m, min_depth\u001b[38;5;241m=\u001b[39m\u001b[38;5;28;01mTrue\u001b[39;00m)\n\u001b[0;32m----> 2\u001b[0m out1 \u001b[38;5;241m=\u001b[39m appr_relu(\u001b[43mout1\u001b[49m)\n\u001b[1;32m      3\u001b[0m \u001b[38;5;28mprint\u001b[39m(out1)\n",
      "\u001b[0;31mNameError\u001b[0m: name 'out1' is not defined"
     ]
    }
   ],
   "source": [
    "appr_relu = ApprRelu(xmin=-10, xmax=10, min_depth=True)\n",
    "out1 = appr_relu(out1)\n",
    "print(out1)"
   ]
  },
  {
   "cell_type": "code",
   "execution_count": null,
   "id": "31731093",
   "metadata": {},
   "outputs": [],
   "source": [
    "appr = ApprRelu_FHE(ev, xmin=-10, xmax=10, min_depth=True)\n",
    "activated = appr(ctxt)\n",
    "print(activated._arr)"
   ]
  },
  {
   "cell_type": "code",
   "execution_count": null,
   "id": "5869c19f",
   "metadata": {},
   "outputs": [],
   "source": []
  },
  {
   "cell_type": "code",
   "execution_count": null,
   "id": "9487e21c",
   "metadata": {},
   "outputs": [],
   "source": [
    "np.all(np.isclose(out1,activated._arr))"
   ]
  }
 ],
 "metadata": {
  "kernelspec": {
   "display_name": "Python 3 (ipykernel)",
   "language": "python",
   "name": "python3"
  },
  "language_info": {
   "codemirror_mode": {
    "name": "ipython",
    "version": 3
   },
   "file_extension": ".py",
   "mimetype": "text/x-python",
   "name": "python",
   "nbconvert_exporter": "python",
   "pygments_lexer": "ipython3",
   "version": "3.10.8"
  }
 },
 "nbformat": 4,
 "nbformat_minor": 5
}
