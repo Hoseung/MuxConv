{
 "cells": [
  {
   "cell_type": "code",
   "execution_count": 1,
   "id": "bfd4f7f8",
   "metadata": {},
   "outputs": [],
   "source": [
    "%load_ext autoreload\n",
    "%autoreload 2"
   ]
  },
  {
   "cell_type": "code",
   "execution_count": 2,
   "id": "c7907150",
   "metadata": {},
   "outputs": [],
   "source": [
    "from muxcnn.utils import load_params, load_img\n",
    "import torch\n",
    "from muxcnn.resnet_muxconv import ResNet_MuxConv"
   ]
  },
  {
   "cell_type": "markdown",
   "id": "acbd4950",
   "metadata": {},
   "source": [
    "## Torch model"
   ]
  },
  {
   "cell_type": "code",
   "execution_count": 3,
   "id": "8d430ea2",
   "metadata": {},
   "outputs": [],
   "source": [
    "from muxcnn.models.ResNet20 import ResNet, BasicBlock\n",
    "\n",
    "model = ResNet(BasicBlock,[1,1,1])\n",
    "model.eval() ########## 필수! \n",
    "load_params(model, fn_param=\"./ResNet8.pt\",device='cpu')"
   ]
  },
  {
   "cell_type": "code",
   "execution_count": 4,
   "id": "be34ed92",
   "metadata": {},
   "outputs": [],
   "source": [
    "img_tensor = load_img(\"./cute.jpg\", hi=32, wi=32)"
   ]
  },
  {
   "cell_type": "code",
   "execution_count": 5,
   "id": "8bc68ada",
   "metadata": {},
   "outputs": [
    {
     "name": "stdout",
     "output_type": "stream",
     "text": [
      "before softmax tensor([[ -9.3005, -11.0586,  -2.9741,  -2.9179,  -9.3500,   4.1474,  -6.8721,\n",
      "          -3.6999,  -8.9446,  -7.6901]], grad_fn=<AddmmBackward0>)\n",
      "tensor([[-1.3450e+01, -1.5208e+01, -7.1236e+00, -7.0674e+00, -1.3500e+01,\n",
      "         -2.0791e-03, -1.1022e+01, -7.8494e+00, -1.3094e+01, -1.1840e+01]],\n",
      "       grad_fn=<LogSoftmaxBackward0>)\n"
     ]
    }
   ],
   "source": [
    "print(model(img_tensor))"
   ]
  },
  {
   "cell_type": "markdown",
   "id": "3ec99b0f",
   "metadata": {},
   "source": [
    "# MuxedCNN"
   ]
  },
  {
   "cell_type": "code",
   "execution_count": 6,
   "id": "1803bb6b",
   "metadata": {},
   "outputs": [
    {
     "name": "stdout",
     "output_type": "stream",
     "text": [
      "functions set\n",
      "degrees = [15, 15, 15, 15], margin = 0.01, eps = 0.02\n"
     ]
    }
   ],
   "source": [
    "muxed_model = ResNet_MuxConv(model, alpha=12)"
   ]
  },
  {
   "cell_type": "code",
   "execution_count": 10,
   "id": "d01e08c3",
   "metadata": {},
   "outputs": [],
   "source": [
    "from muxcnn.utils import get_channel_last, get_conv_params\n",
    "from muxcnn.hecnn_par import MultParPack\n",
    "imgl = get_channel_last(img_tensor[0].detach().numpy())\n",
    "ki = 1 # initial ki\n",
    "hi, wi, ch = imgl.shape\n",
    "\n",
    "# early conv and bn\n",
    "_, ins0, outs0 = get_conv_params(model.conv1, {'k':ki, 'h':hi, 'w':wi})\n",
    "ct_a = MultParPack(imgl, ins0)"
   ]
  },
  {
   "cell_type": "code",
   "execution_count": 11,
   "id": "01b23558",
   "metadata": {},
   "outputs": [
    {
     "data": {
      "text/plain": [
       "array([-0.74901962, -0.78823531, -0.67843139, ...,  0.        ,\n",
       "        0.        ,  0.        ])"
      ]
     },
     "execution_count": 11,
     "metadata": {},
     "output_type": "execute_result"
    }
   ],
   "source": [
    "ct_a"
   ]
  },
  {
   "cell_type": "code",
   "execution_count": 13,
   "id": "4e72812e",
   "metadata": {},
   "outputs": [
    {
     "name": "stdout",
     "output_type": "stream",
     "text": [
      "[MultParConv] (hi,wi,ci,ki,ti,pi) =(32,32, 3, 1, 3,  8)\n",
      "[MultParConv] (ho,wo,co,ko,to,po) =(32,32,16, 1,16,  2)\n",
      "[MultParConv] q = 2\n",
      "2.3326 s\n"
     ]
    }
   ],
   "source": [
    "from muxcnn.hecnn_par import forward_convbn_par\n",
    "out1, un1 = forward_convbn_par(model.conv1, \n",
    "                              model.bn1, ct_a, ins0)"
   ]
  },
  {
   "cell_type": "code",
   "execution_count": 14,
   "id": "037d2463",
   "metadata": {},
   "outputs": [
    {
     "data": {
      "text/plain": [
       "array([ 1.23083757,  0.48696757,  0.27534473, ..., -0.56643627,\n",
       "       -0.52875873, -0.39520764])"
      ]
     },
     "execution_count": 14,
     "metadata": {},
     "output_type": "execute_result"
    }
   ],
   "source": [
    "out1"
   ]
  },
  {
   "cell_type": "markdown",
   "id": "ccda683f",
   "metadata": {},
   "source": [
    "# FHE Context"
   ]
  },
  {
   "cell_type": "code",
   "execution_count": 14,
   "id": "b97a8a36",
   "metadata": {},
   "outputs": [
    {
     "name": "stdout",
     "output_type": "stream",
     "text": [
      "cwd =  /home/hoseung/Work/MuxConv/scripts\n",
      "runnin in emulation mode\n",
      "FHE context is set\n"
     ]
    }
   ],
   "source": [
    "from muxcnn.resnet_fhe import ResNetFHE\n",
    "import numpy as np\n",
    "\n",
    "from hemul.cipher import *\n",
    "from hemul.scheme import *\n",
    "from hemul.context import set_all\n",
    "\n",
    "\n",
    "context, ev, encoder, encryptor, decryptor = set_all(30, 900, 15)\n",
    "nslots = context.params.nslots"
   ]
  },
  {
   "cell_type": "code",
   "execution_count": 19,
   "id": "e9e83f8f",
   "metadata": {},
   "outputs": [
    {
     "name": "stdout",
     "output_type": "stream",
     "text": [
      "functions set\n",
      "degrees = [15, 15, 15, 15], margin = 0.01, eps = 0.02\n"
     ]
    }
   ],
   "source": [
    "fhemodel = ResNetFHE(model)\n",
    "fhemodel.set_agents(context, ev, encoder, encryptor)"
   ]
  },
  {
   "cell_type": "code",
   "execution_count": 20,
   "id": "c83d8342",
   "metadata": {},
   "outputs": [
    {
     "name": "stdout",
     "output_type": "stream",
     "text": [
      "[MultParConv] (hi,wi,ci,ki,ti,pi) =(32,32, 3, 1, 3,  8)\n",
      "[MultParConv] (ho,wo,co,ko,to,po) =(32,32,16, 1,16,  2)\n",
      "[MultParConv] q = 2\n"
     ]
    },
    {
     "ename": "AttributeError",
     "evalue": "'CiphertextStat' object has no attribute '_n_elements'",
     "output_type": "error",
     "traceback": [
      "\u001b[0;31m---------------------------------------------------------------------------\u001b[0m",
      "\u001b[0;31mAttributeError\u001b[0m                            Traceback (most recent call last)",
      "Cell \u001b[0;32mIn [20], line 3\u001b[0m\n\u001b[1;32m      1\u001b[0m \u001b[38;5;66;03m# FHE\u001b[39;00m\n\u001b[1;32m      2\u001b[0m ctx_a \u001b[38;5;241m=\u001b[39m fhemodel\u001b[38;5;241m.\u001b[39mpack_img_ctxt(img_tensor)\n\u001b[0;32m----> 3\u001b[0m result \u001b[38;5;241m=\u001b[39m \u001b[43mfhemodel\u001b[49m\u001b[43m(\u001b[49m\u001b[43mctx_a\u001b[49m\u001b[43m)\u001b[49m\n",
      "File \u001b[0;32m~/Work/MuxConv/muxcnn/resnet_fhe.py:116\u001b[0m, in \u001b[0;36mResNetFHE.__call__\u001b[0;34m(self, img_tensor)\u001b[0m\n\u001b[1;32m    115\u001b[0m \u001b[38;5;28;01mdef\u001b[39;00m \u001b[38;5;21m__call__\u001b[39m(\u001b[38;5;28mself\u001b[39m, img_tensor):\n\u001b[0;32m--> 116\u001b[0m     \u001b[38;5;28;01mreturn\u001b[39;00m \u001b[38;5;28;43mself\u001b[39;49m\u001b[38;5;241;43m.\u001b[39;49m\u001b[43mforward\u001b[49m\u001b[43m(\u001b[49m\u001b[43mimg_tensor\u001b[49m\u001b[43m)\u001b[49m\n",
      "File \u001b[0;32m~/Work/MuxConv/muxcnn/resnet_fhe.py:39\u001b[0m, in \u001b[0;36mResNetFHE.forward\u001b[0;34m(self, img_tensor, ki, hi, wi)\u001b[0m\n\u001b[1;32m     37\u001b[0m \u001b[38;5;28;01mdef\u001b[39;00m \u001b[38;5;21mforward\u001b[39m(\u001b[38;5;28mself\u001b[39m, img_tensor, ki\u001b[38;5;241m=\u001b[39m\u001b[38;5;241m1\u001b[39m, hi\u001b[38;5;241m=\u001b[39m\u001b[38;5;241m32\u001b[39m, wi\u001b[38;5;241m=\u001b[39m\u001b[38;5;241m32\u001b[39m):\n\u001b[1;32m     38\u001b[0m     model \u001b[38;5;241m=\u001b[39m \u001b[38;5;28mself\u001b[39m\u001b[38;5;241m.\u001b[39mtorch_model\n\u001b[0;32m---> 39\u001b[0m     ctxt, outs0 \u001b[38;5;241m=\u001b[39m \u001b[38;5;28;43mself\u001b[39;49m\u001b[38;5;241;43m.\u001b[39;49m\u001b[43mforward_early\u001b[49m\u001b[43m(\u001b[49m\u001b[43mimg_tensor\u001b[49m\u001b[43m,\u001b[49m\u001b[43m \u001b[49m\u001b[43mki\u001b[49m\u001b[43m,\u001b[49m\u001b[43m \u001b[49m\u001b[43mhi\u001b[49m\u001b[43m,\u001b[49m\u001b[43m \u001b[49m\u001b[43mwi\u001b[49m\u001b[43m)\u001b[49m\n\u001b[1;32m     41\u001b[0m     \u001b[38;5;66;03m# Basic blocks\u001b[39;00m\n\u001b[1;32m     42\u001b[0m     ctxt, outs1 \u001b[38;5;241m=\u001b[39m \u001b[38;5;28mself\u001b[39m\u001b[38;5;241m.\u001b[39mforward_bb(model\u001b[38;5;241m.\u001b[39mlayer1[\u001b[38;5;241m0\u001b[39m], ctxt, outs0)\n",
      "File \u001b[0;32m~/Work/MuxConv/muxcnn/resnet_fhe.py:67\u001b[0m, in \u001b[0;36mResNetFHE.forward_early\u001b[0;34m(self, ct_a, ki, hi, wi)\u001b[0m\n\u001b[1;32m     64\u001b[0m _, ins0, outs0 \u001b[38;5;241m=\u001b[39m get_conv_params(model\u001b[38;5;241m.\u001b[39mconv1, {\u001b[38;5;124m'\u001b[39m\u001b[38;5;124mk\u001b[39m\u001b[38;5;124m'\u001b[39m:ki, \u001b[38;5;124m'\u001b[39m\u001b[38;5;124mh\u001b[39m\u001b[38;5;124m'\u001b[39m:hi, \u001b[38;5;124m'\u001b[39m\u001b[38;5;124mw\u001b[39m\u001b[38;5;124m'\u001b[39m:wi})\n\u001b[1;32m     65\u001b[0m ctxt \u001b[38;5;241m=\u001b[39m \u001b[38;5;28mself\u001b[39m\u001b[38;5;241m.\u001b[39mforward_convbn_par_fhe(model\u001b[38;5;241m.\u001b[39mconv1, \n\u001b[1;32m     66\u001b[0m                                 model\u001b[38;5;241m.\u001b[39mbn1, ct_a, ins0)\n\u001b[0;32m---> 67\u001b[0m ctxt \u001b[38;5;241m=\u001b[39m \u001b[38;5;28;43mself\u001b[39;49m\u001b[38;5;241;43m.\u001b[39;49m\u001b[43mactivation\u001b[49m\u001b[43m(\u001b[49m\u001b[43mctxt\u001b[49m\u001b[43m)\u001b[49m\n\u001b[1;32m     68\u001b[0m \u001b[38;5;28;01mreturn\u001b[39;00m ctxt, outs0\n",
      "File \u001b[0;32m~/Work/FHE_simulator/hemul/comparator_fhe.py:106\u001b[0m, in \u001b[0;36mApprRelu_FHE.__call__\u001b[0;34m(self, xin)\u001b[0m\n\u001b[1;32m    104\u001b[0m \u001b[38;5;28;01mdef\u001b[39;00m \u001b[38;5;21m__call__\u001b[39m(\u001b[38;5;28mself\u001b[39m, xin):\n\u001b[1;32m    105\u001b[0m     ev \u001b[38;5;241m=\u001b[39m \u001b[38;5;28mself\u001b[39m\u001b[38;5;241m.\u001b[39mev\n\u001b[0;32m--> 106\u001b[0m     out \u001b[38;5;241m=\u001b[39m ApprSign_FHE\u001b[38;5;241m.\u001b[39m\u001b[38;5;21m__call__\u001b[39m(\u001b[38;5;28mself\u001b[39m, \u001b[43mev\u001b[49m\u001b[38;5;241;43m.\u001b[39;49m\u001b[43mcopy\u001b[49m\u001b[43m(\u001b[49m\u001b[43mxin\u001b[49m\u001b[43m)\u001b[49m)\n\u001b[1;32m    107\u001b[0m     tmp \u001b[38;5;241m=\u001b[39m ev\u001b[38;5;241m.\u001b[39madd_plain(out, \u001b[38;5;241m1\u001b[39m, logp \u001b[38;5;241m=\u001b[39m out\u001b[38;5;241m.\u001b[39mlogp)\n\u001b[1;32m    108\u001b[0m     tmp \u001b[38;5;241m=\u001b[39m ev\u001b[38;5;241m.\u001b[39mmult_by_plain(tmp, \u001b[38;5;241m1\u001b[39m\u001b[38;5;241m/\u001b[39m\u001b[38;5;241m2\u001b[39m, logp \u001b[38;5;241m=\u001b[39m tmp\u001b[38;5;241m.\u001b[39mlogp)\n",
      "File \u001b[0;32m~/Work/FHE_simulator/hemul/scheme.py:88\u001b[0m, in \u001b[0;36mEvaluator.copy\u001b[0;34m(self, ctxt)\u001b[0m\n\u001b[1;32m     87\u001b[0m \u001b[38;5;28;01mdef\u001b[39;00m \u001b[38;5;21mcopy\u001b[39m(\u001b[38;5;28mself\u001b[39m, ctxt):\n\u001b[0;32m---> 88\u001b[0m     \u001b[38;5;28;01mreturn\u001b[39;00m \u001b[43mcopy_ctxt\u001b[49m\u001b[43m(\u001b[49m\u001b[43mctxt\u001b[49m\u001b[43m)\u001b[49m\n",
      "File \u001b[0;32m~/Work/FHE_simulator/hemul/scheme.py:73\u001b[0m, in \u001b[0;36mcopy_ctxt\u001b[0;34m(ctxt)\u001b[0m\n\u001b[1;32m     70\u001b[0m \u001b[38;5;124;03m\"\"\"copy a ciphertextStat instance\"\"\"\u001b[39;00m\n\u001b[1;32m     71\u001b[0m new_ctxt \u001b[38;5;241m=\u001b[39m create_new_ctxt(ctxt)\n\u001b[1;32m     72\u001b[0m new_ctxt\u001b[38;5;241m.\u001b[39m_set_arr(ctxt\u001b[38;5;241m.\u001b[39m_enckey_hash, ctxt\u001b[38;5;241m.\u001b[39m_arr, \n\u001b[0;32m---> 73\u001b[0m                     n_elements\u001b[38;5;241m=\u001b[39m\u001b[43mctxt\u001b[49m\u001b[38;5;241;43m.\u001b[39;49m\u001b[43m_n_elements\u001b[49m)\n\u001b[1;32m     74\u001b[0m new_ctxt\u001b[38;5;241m.\u001b[39m_encrypted \u001b[38;5;241m=\u001b[39m ctxt\u001b[38;5;241m.\u001b[39m_encrypted\n\u001b[1;32m     75\u001b[0m new_ctxt\u001b[38;5;241m.\u001b[39m_n_elements \u001b[38;5;241m=\u001b[39m ctxt\u001b[38;5;241m.\u001b[39m_n_elements\n",
      "\u001b[0;31mAttributeError\u001b[0m: 'CiphertextStat' object has no attribute '_n_elements'"
     ]
    }
   ],
   "source": [
    "# FHE\n",
    "ctx_a = fhemodel.pack_img_ctxt(img_tensor)\n",
    "result = fhemodel(ctx_a)"
   ]
  },
  {
   "cell_type": "code",
   "execution_count": 12,
   "id": "5a4a7152",
   "metadata": {},
   "outputs": [
    {
     "name": "stdout",
     "output_type": "stream",
     "text": [
      "[MultParConv] (hi,wi,ci,ki,ti,pi) =(32,32, 3, 1, 3,  8)\n",
      "[MultParConv] (ho,wo,co,ko,to,po) =(32,32,16, 1,16,  2)\n",
      "[MultParConv] q = 2\n"
     ]
    }
   ],
   "source": [
    "ctxt = fhemodel.forward_convbn_par_fhe(model.conv1, \n",
    "                          model.bn1, ctx_a, ins0)"
   ]
  },
  {
   "cell_type": "code",
   "execution_count": 13,
   "id": "fa017900",
   "metadata": {},
   "outputs": [
    {
     "name": "stdout",
     "output_type": "stream",
     "text": [
      "[ True  True  True  True  True  True  True  True  True  True  True  True\n",
      "  True  True  True  True  True  True  True  True  True  True  True  True\n",
      "  True  True  True  True  True  True  True  True  True  True  True  True\n",
      "  True  True  True  True  True  True  True  True  True  True  True  True\n",
      "  True  True]\n"
     ]
    }
   ],
   "source": [
    "print(ctxt._arr[2000:2050] == out1[2000:2050])"
   ]
  },
  {
   "cell_type": "markdown",
   "id": "6008513a",
   "metadata": {},
   "source": [
    "## Activation"
   ]
  },
  {
   "cell_type": "code",
   "execution_count": 24,
   "id": "5eebd5d0",
   "metadata": {},
   "outputs": [],
   "source": [
    "from hemul.comparator_fhe import ApprRelu_FHE\n",
    "from hemul.comparator import ApprRelu"
   ]
  },
  {
   "cell_type": "code",
   "execution_count": 31,
   "id": "f9332281",
   "metadata": {},
   "outputs": [
    {
     "name": "stdout",
     "output_type": "stream",
     "text": [
      "functions set\n",
      "degrees = [15, 15, 15, 15], margin = 0.01, eps = 0.02\n",
      "[ 1.23083757e+00  4.86967574e-01  2.75344729e-01 ... -5.07712600e-10\n",
      "  7.09781745e-10  1.15660812e-10]\n"
     ]
    }
   ],
   "source": [
    "appr_relu = ApprRelu(xmin=-10, xmax=10, min_depth=True)\n",
    "out1 = appr_relu(out1)\n",
    "print(out1)"
   ]
  },
  {
   "cell_type": "code",
   "execution_count": 36,
   "id": "6fcce1aa",
   "metadata": {},
   "outputs": [
    {
     "name": "stdout",
     "output_type": "stream",
     "text": [
      "functions set\n",
      "degrees = [15, 15, 15, 15], margin = 0.01, eps = 0.02\n",
      "[ 1.23083757e+00  4.86967574e-01  2.75344729e-01 ... -5.07710431e-10\n",
      "  7.09780806e-10  1.15659451e-10]\n"
     ]
    }
   ],
   "source": [
    "appr = ApprRelu_FHE(ev, xmin=-10, xmax=10, min_depth=True)\n",
    "activated = appr(ctxt)\n",
    "print(activated._arr)"
   ]
  },
  {
   "cell_type": "code",
   "execution_count": 43,
   "id": "94524fad",
   "metadata": {},
   "outputs": [
    {
     "data": {
      "text/plain": [
       "True"
      ]
     },
     "execution_count": 43,
     "metadata": {},
     "output_type": "execute_result"
    }
   ],
   "source": [
    "np.all(np.isclose(out1,activated._arr))"
   ]
  },
  {
   "cell_type": "code",
   "execution_count": null,
   "id": "6d253789",
   "metadata": {},
   "outputs": [],
   "source": [
    "def forward_early(self, img_tensor):\n",
    "    model = self.torch_model\n",
    "    imgl = get_channel_last(img_tensor[0].detach().numpy())\n",
    "    ki = 1 # initial ki\n",
    "    hi, wi, ch = imgl.shape\n",
    "\n",
    "    # early conv and bn\n",
    "    _, ins0, outs0 = get_conv_params(model.conv1, {'k':ki, 'h':hi, 'w':wi})\n",
    "    ct_a = MultParPack(imgl, ins0)\n",
    "    ctxt, un1 = forward_convbn_par(model.conv1, \n",
    "                                   model.bn1, ct_a, ins0)\n",
    "    ctxt = self.activation(ctxt)\n",
    "    return ctxt, outs0 "
   ]
  },
  {
   "cell_type": "code",
   "execution_count": null,
   "id": "e351329d",
   "metadata": {},
   "outputs": [],
   "source": []
  },
  {
   "cell_type": "code",
   "execution_count": null,
   "id": "cba00d57",
   "metadata": {},
   "outputs": [],
   "source": []
  },
  {
   "cell_type": "code",
   "execution_count": null,
   "id": "dec95454",
   "metadata": {},
   "outputs": [],
   "source": []
  },
  {
   "cell_type": "code",
   "execution_count": 21,
   "id": "2b96cb73",
   "metadata": {},
   "outputs": [
    {
     "data": {
      "text/plain": [
       "tensor([ -9.2678, -10.8150,  -3.1036,  -2.9026,  -9.4616,   4.3280,  -6.9752,\n",
       "         -3.5619,  -8.8842,  -7.5630], dtype=torch.float64)"
      ]
     },
     "execution_count": 21,
     "metadata": {},
     "output_type": "execute_result"
    }
   ],
   "source": [
    "torch.tensor(result[::64][:10])"
   ]
  },
  {
   "cell_type": "code",
   "execution_count": 10,
   "id": "b649b49c",
   "metadata": {},
   "outputs": [
    {
     "data": {
      "text/plain": [
       "tensor([ -9.2678, -10.8150,  -3.1036,  -2.9026,  -9.4616,   4.3280,  -6.9752,\n",
       "         -3.5619,  -8.8842,  -7.5630], dtype=torch.float64)"
      ]
     },
     "execution_count": 10,
     "metadata": {},
     "output_type": "execute_result"
    }
   ],
   "source": [
    "torch.tensor(result[::64][:10])"
   ]
  }
 ],
 "metadata": {
  "kernelspec": {
   "display_name": "Python 3 (ipykernel)",
   "language": "python",
   "name": "python3"
  },
  "language_info": {
   "codemirror_mode": {
    "name": "ipython",
    "version": 3
   },
   "file_extension": ".py",
   "mimetype": "text/x-python",
   "name": "python",
   "nbconvert_exporter": "python",
   "pygments_lexer": "ipython3",
   "version": "3.10.4"
  },
  "vscode": {
   "interpreter": {
    "hash": "312595a83d408892f860676df71d6f6088a279ffd0ace127ffe1e58bd7b9393c"
   }
  }
 },
 "nbformat": 4,
 "nbformat_minor": 5
}
