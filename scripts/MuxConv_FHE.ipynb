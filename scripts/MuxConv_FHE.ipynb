{
 "cells": [
  {
   "cell_type": "code",
   "execution_count": 1,
   "id": "bfd4f7f8",
   "metadata": {},
   "outputs": [],
   "source": [
    "%load_ext autoreload\n",
    "%autoreload 2"
   ]
  },
  {
   "cell_type": "code",
   "execution_count": 2,
   "id": "c7907150",
   "metadata": {},
   "outputs": [],
   "source": [
    "from muxcnn.utils import load_params, load_img\n",
    "import torch\n",
    "from muxcnn.resnet_muxconv import ResNet_MuxConv"
   ]
  },
  {
   "cell_type": "markdown",
   "id": "acbd4950",
   "metadata": {},
   "source": [
    "## Torch model"
   ]
  },
  {
   "cell_type": "code",
   "execution_count": 3,
   "id": "8d430ea2",
   "metadata": {},
   "outputs": [],
   "source": [
    "from muxcnn.models.ResNet20 import ResNet, BasicBlock\n",
    "\n",
    "model = ResNet(BasicBlock,[1,1,1])\n",
    "model.eval() ########## 필수! \n",
    "load_params(model, fn_param=\"./ResNet8.pt\",device='cpu')"
   ]
  },
  {
   "cell_type": "code",
   "execution_count": 4,
   "id": "be34ed92",
   "metadata": {},
   "outputs": [],
   "source": [
    "img_tensor = load_img(\"./cute.jpg\", hi=32, wi=32)"
   ]
  },
  {
   "cell_type": "code",
   "execution_count": 5,
   "id": "8bc68ada",
   "metadata": {},
   "outputs": [
    {
     "name": "stdout",
     "output_type": "stream",
     "text": [
      "before softmax tensor([[ -9.3005, -11.0586,  -2.9741,  -2.9179,  -9.3500,   4.1474,  -6.8721,\n",
      "          -3.6999,  -8.9446,  -7.6901]], grad_fn=<AddmmBackward0>)\n",
      "tensor([[-1.3450e+01, -1.5208e+01, -7.1236e+00, -7.0674e+00, -1.3500e+01,\n",
      "         -2.0791e-03, -1.1022e+01, -7.8494e+00, -1.3094e+01, -1.1840e+01]],\n",
      "       grad_fn=<LogSoftmaxBackward0>)\n"
     ]
    }
   ],
   "source": [
    "print(model(img_tensor))"
   ]
  },
  {
   "cell_type": "markdown",
   "id": "3ec99b0f",
   "metadata": {},
   "source": [
    "# MuxCNN"
   ]
  },
  {
   "cell_type": "code",
   "execution_count": 6,
   "id": "1803bb6b",
   "metadata": {},
   "outputs": [
    {
     "name": "stdout",
     "output_type": "stream",
     "text": [
      "functions set\n",
      "degrees = [15, 15, 15, 15], margin = 0.01, eps = 0.02\n"
     ]
    }
   ],
   "source": [
    "muxed_model = ResNet_MuxConv(model, alpha=12)"
   ]
  },
  {
   "cell_type": "code",
   "execution_count": 7,
   "id": "1872dfc1",
   "metadata": {},
   "outputs": [
    {
     "ename": "NameError",
     "evalue": "name 'time' is not defined",
     "output_type": "error",
     "traceback": [
      "\u001b[0;31m---------------------------------------------------------------------------\u001b[0m",
      "\u001b[0;31mNameError\u001b[0m                                 Traceback (most recent call last)",
      "Cell \u001b[0;32mIn [7], line 1\u001b[0m\n\u001b[0;32m----> 1\u001b[0m t0 \u001b[38;5;241m=\u001b[39m \u001b[43mtime\u001b[49m()\n\u001b[1;32m      2\u001b[0m result \u001b[38;5;241m=\u001b[39m fhe_model\u001b[38;5;241m.\u001b[39mforward_early(img_tensor)\n\u001b[1;32m      3\u001b[0m \u001b[38;5;28mprint\u001b[39m(\u001b[38;5;124mf\u001b[39m\u001b[38;5;124m\"\u001b[39m\u001b[38;5;132;01m{\u001b[39;00mtime() \u001b[38;5;241m-\u001b[39m t0\u001b[38;5;132;01m:\u001b[39;00m\u001b[38;5;124m.4f\u001b[39m\u001b[38;5;132;01m}\u001b[39;00m\u001b[38;5;124m s\u001b[39m\u001b[38;5;124m\"\u001b[39m)\n",
      "\u001b[0;31mNameError\u001b[0m: name 'time' is not defined"
     ]
    }
   ],
   "source": [
    "result = fhe_model.forward_early(img_tensor)"
   ]
  },
  {
   "cell_type": "markdown",
   "id": "ccda683f",
   "metadata": {},
   "source": [
    "# FHE Context"
   ]
  },
  {
   "cell_type": "code",
   "execution_count": 7,
   "id": "976902c1",
   "metadata": {},
   "outputs": [],
   "source": [
    "import numpy as np\n",
    "import pandas as pd\n",
    "\n",
    "from hemul.cipher import *\n",
    "from hemul.ciphertext import Plaintext\n",
    "from hemul.scheme import *\n",
    "\n",
    "from hemul.algorithms import Algorithms \n",
    "from hemul.stats import Statistics\n",
    "from hemul.context import set_all\n",
    "\n",
    "from math import sqrt"
   ]
  },
  {
   "cell_type": "code",
   "execution_count": 8,
   "id": "8ca3f3d7",
   "metadata": {},
   "outputs": [],
   "source": [
    "def gen_new_ctxt(ev):\n",
    "    this_contxt = ev.context.params\n",
    "    newctxt = CiphertextStat(logp = this_contxt.logp,\n",
    "                          logq = this_contxt.logq,\n",
    "                          logn = this_contxt.logn)\n",
    "    newctxt._enckey_hash = key_hash(ev.context.enc_key)\n",
    "    return newctxt"
   ]
  },
  {
   "cell_type": "code",
   "execution_count": 9,
   "id": "2689ac9a",
   "metadata": {},
   "outputs": [],
   "source": [
    "context, ev, encoder, encryptor, decryptor = set_all(30, 600, 15)\n",
    "nslots = context.params.nslots"
   ]
  },
  {
   "cell_type": "code",
   "execution_count": 10,
   "id": "d01e08c3",
   "metadata": {},
   "outputs": [],
   "source": [
    "from muxcnn.utils import get_channel_last, get_conv_params\n",
    "from muxcnn.hecnn_par import MultParPack, parMuxBN, ParMultWgt, \\\n",
    "    tensor_multiplexed_shifted_weight_par, tensor_multiplexed_selecting, Vec\n",
    "imgl = get_channel_last(img_tensor[0].detach().numpy())\n",
    "ki = 1 # initial ki\n",
    "hi, wi, ch = imgl.shape\n",
    "\n",
    "# early conv and bn\n",
    "_, ins0, outs0 = get_conv_params(model.conv1, {'k':ki, 'h':hi, 'w':wi})\n",
    "ct_a = MultParPack(imgl, ins0)"
   ]
  },
  {
   "cell_type": "code",
   "execution_count": 51,
   "id": "d9f1900b",
   "metadata": {},
   "outputs": [],
   "source": [
    "def SumSlots(ct_a,m,p):\n",
    "    \"\"\"Addition only\"\"\"\n",
    "    nrots = 0\n",
    "    n = int(np.floor(np.log2(m)))\n",
    "    #ct_b = []\n",
    "    #ct_b.append(ct_a._arr)\n",
    "    ctx_b = [] ####\n",
    "    ctx_b.append(ct_a) ####\n",
    "    for j in range(1,n+1):\n",
    "        lrots = int(p*2**(j-1))\n",
    "        #ct_b.append(ct_b[j-1]+np.roll(ct_b[j-1],-lrots))\n",
    "        ctx_b.append(ev.add(ctx_b[j-1], \n",
    "                            ev.lrot(ctx_b[j-1], lrots, inplace=False),\n",
    "                           inplace=False)) ####\n",
    "        if lrots!=0:\n",
    "            nrots=nrots+1  #______________________________ROTATION\n",
    "    #ct_c = ct_b[n]\n",
    "    ctx_c = ctx_b[n] ####\n",
    "    for j in range(0,n):\n",
    "        n1 = np.floor((m/(2**j))%2)\n",
    "        if n1==1:\n",
    "            n2 =int(np.floor((m/(2**(j+1)))%2))\n",
    "            lrots = int(p*2**(j+1))*n2\n",
    "            #ct_c += np.roll(ct_b[j],-lrots)\n",
    "            ev.add(ctx_c, \n",
    "                   ev.lrot(ctx_b[j],lrots, inplace=False),\n",
    "                  inplace=True) ####\n",
    "            if lrots!=0:\n",
    "                nrots=nrots+1#____________________________ROTATION\n",
    "    #print(ctx_c._arr == ct_c) ####\n",
    "    return ctx_c,nrots"
   ]
  },
  {
   "cell_type": "code",
   "execution_count": 85,
   "id": "cd078df1",
   "metadata": {},
   "outputs": [],
   "source": [
    "from muxcnn.utils import get_p, get_q, get_t \n",
    "def MultParConvBN_fhe(ct_a, U, bn_layer, ins:Dict, outs:Dict,\n",
    "                    kernels=[3,3],\n",
    "                    nslots=2**15, \n",
    "                    scale_factor=1):\n",
    "    hi,wi,ci,ki,ti,pi = [ins[k] for k in ins.keys()]\n",
    "    ho,wo,co,ko,to,po = [outs[k] for k in outs.keys()]\n",
    "    q = get_q(co,pi)\n",
    "    fh,fw= kernels[0],kernels[1]\n",
    "    print(f\"[MultParConv] (hi,wi,ci,ki,ti,pi) =({hi:2},{wi:2},{ci:2},{ki:2},{ti:2}, {pi:2})\")\n",
    "    print(f\"[MultParConv] (ho,wo,co,ko,to,po) =({ho:2},{wo:2},{co:2},{ko:2},{to:2}, {po:2})\")\n",
    "    print(f\"[MultParConv] q = {q}\")\n",
    "\n",
    "    MuxBN_C, MuxBN_M, MuxBN_I = parMuxBN(bn_layer, outs, nslots)\n",
    "\n",
    "    #ct_d = np.zeros(nslots)\n",
    "    ct_d = gen_new_ctxt(ev) ####\n",
    "    ev.mod_down_by(ct_d, 2*ct_d.logp)\n",
    "    ct = []\n",
    "    nrots=0\n",
    "    for i1 in range(fh):\n",
    "        temp = []\n",
    "        for i2 in range(fw):\n",
    "            lrots = int((-(ki**2)*wi*(i1-(fh-1)/2) - ki*(i2-(fw-1)/2))) #both neg in the paper, git -,+\n",
    "            #temp.append(np.roll(ct_a,lrots))\n",
    "            temp.append(ev.lrot(ct_a, -lrots, inplace=False))\n",
    "            if lrots!=0:\n",
    "                nrots = nrots+ 1#____________________________________ROTATION\n",
    "        ct.append(temp)\n",
    "\n",
    "    for i3 in range(q):\n",
    "        #ct_b = np.zeros(nslots)\n",
    "        ct_b = gen_new_ctxt(ev) ####\n",
    "        ev.mod_down_by(ct_b, ct_b.logp)\n",
    "        for i1 in range(fh):\n",
    "            for i2 in range(fw):\n",
    "                w = ParMultWgt(U,i1,i2,i3,ins,co,kernels,nslots)\n",
    "                #ct_b += ct[i1][i2]*w                \n",
    "                w_enc = encoder.encode(w, ct[i1][i2].logp) ####\n",
    "                tmp = ev.mult_by_plain(ct[i1][i2], w_enc, inplace=False)\n",
    "                ev.rescale_next(tmp)\n",
    "                ev.add(ct_b, tmp, inplace=True) ####\n",
    "        \n",
    "        #ev.rescale_next(ct_b)\n",
    "        #print(\"ct_b\", ct_b._arr)#[2000:2010])\n",
    "        ct_c,nrots0 = SumSlots(ct_b, ki,              1)\n",
    "        ct_c,nrots1 = SumSlots(ct_c, ki,          ki*wi)\n",
    "        ct_c,nrots2 = SumSlots(ct_c, ti,  (ki**2)*hi*wi)\n",
    "        #print(\"ct_c\",ct_c._arr)#[2000:2010])\n",
    "        nrots += nrots0 + nrots1 + nrots2#____________________________________ROTATION\n",
    "\n",
    "        \n",
    "        for i4 in range(0,min(pi,co-pi*i3)):\n",
    "            i = pi*i3 +i4\n",
    "            r0 = int(np.floor(nslots/pi))*(i%pi)\n",
    "            r1 = int(np.floor(i/(ko**2)))*ko**2*ho*wo\n",
    "            r2 = int(np.floor((i%(ko**2))/ko))*ko*wo\n",
    "            r3 = i%ko\n",
    "            rrots = (-r1-r2-r3)+r0\n",
    "            #rolled =  np.roll(ct_c, -rrots)\n",
    "            rolled = ev.lrot(ct_c, rrots, inplace=False)\n",
    "            S_mp = tensor_multiplexed_selecting(ho,wo,co,ko,to,i)\n",
    "            vec_S = Vec(S_mp,nslots)\n",
    "            #ct_d += rolled*vec_S * MuxBN_C\n",
    "            tmp = ev.mult_by_plain(rolled, \n",
    "                                   encoder.encode(vec_S * MuxBN_C, \n",
    "                                                  rolled.logp), \n",
    "                                   inplace=False)\n",
    "            ev.rescale_next(tmp)\n",
    "            ev.add(ct_d, tmp, inplace=True)\n",
    "            if rrots!=0:\n",
    "                nrots=nrots+1 #_________________________________________ROTATION\n",
    "\n",
    "    #ev.rescale_next(ct_d)\n",
    "    #print(\"ct_d\", ct_d._arr[2040:2050])\n",
    "    for j in range(int(np.round(np.log2(po)))):\n",
    "        r = -int(np.round(2**j*(nslots/po)))\n",
    "        #ct_d += np.roll(ct_d,-r)\n",
    "        ev.add(ct_d, ev.lrot(ct_d, r, inplace=False), inplace=True)\n",
    "        if r !=0:\n",
    "            nrots+=1\n",
    "            #ic(po,j)\n",
    "    \n",
    "    #print(\"ct_d\", ct_d._arr[2040:2050])\n",
    "    #ct_d -= 1/scale_factor*(MuxBN_C*MuxBN_M-MuxBN_I)\n",
    "    plain_vec = encoder.encode(-1/scale_factor*(MuxBN_C*MuxBN_M-MuxBN_I), \n",
    "                              ct_d.logp)\n",
    "    #print(\"last\", ct_d.logp, ct_d.logq, plain_vec.logp)\n",
    "    ev.add_plain(ct_d, plain_vec, inplace=True)\n",
    "\n",
    "    return ct_d"
   ]
  },
  {
   "cell_type": "code",
   "execution_count": 73,
   "id": "4af42856",
   "metadata": {},
   "outputs": [],
   "source": [
    "def forward_convbn_par_fhe(cnn_layer, bn_layer, ctx, ins, kernels=[3,3]):\n",
    "    U, ins, outs = get_conv_params(cnn_layer, ins)\n",
    "    out = MultParConvBN_fhe(ctx, U, bn_layer, ins, outs, kernels)\n",
    "    return out"
   ]
  },
  {
   "cell_type": "code",
   "execution_count": 11,
   "id": "5a4a7152",
   "metadata": {},
   "outputs": [],
   "source": [
    "# FHE\n",
    "ctx_a = encryptor.encrypt(ct_a)\n",
    "ctxt = forward_convbn_par_fhe(model.conv1, \n",
    "                          model.bn1, ctx_a, ins0)"
   ]
  },
  {
   "cell_type": "code",
   "execution_count": 87,
   "id": "4587972a",
   "metadata": {},
   "outputs": [
    {
     "name": "stdout",
     "output_type": "stream",
     "text": [
      "[MultParConv] (hi,wi,ci,ki,ti,pi) =(32,32, 3, 1, 3,  8)\n",
      "[MultParConv] (ho,wo,co,ko,to,po) =(32,32,16, 1,16,  2)\n",
      "[MultParConv] q = 2\n",
      "2.5291 s\n"
     ]
    }
   ],
   "source": [
    "# Muxed\n",
    "U, ins1, outs1 = get_conv_params(model.conv1, {'k':ki, 'h':hi, 'w':wi})\n",
    "ct_a = MultParPack(imgl, ins1)\n",
    "from muxcnn.hecnn_par import forward_convbn_par\n",
    "out1, un1 = forward_convbn_par(model.conv1, \n",
    "                              model.bn1, ct_a, ins1)"
   ]
  },
  {
   "cell_type": "code",
   "execution_count": 88,
   "id": "fa017900",
   "metadata": {},
   "outputs": [
    {
     "name": "stdout",
     "output_type": "stream",
     "text": [
      "[ True  True  True  True  True  True  True  True  True  True  True  True\n",
      "  True  True  True  True  True  True  True  True  True  True  True  True\n",
      "  True  True  True  True  True  True  True  True  True  True  True  True\n",
      "  True  True  True  True  True  True  True  True  True  True  True  True\n",
      "  True  True]\n"
     ]
    }
   ],
   "source": [
    "print(ctxt._arr[2000:2050] == out1[2000:2050])"
   ]
  },
  {
   "cell_type": "markdown",
   "id": "6008513a",
   "metadata": {},
   "source": [
    "## Activation"
   ]
  },
  {
   "cell_type": "code",
   "execution_count": null,
   "id": "e9bc6c5f",
   "metadata": {},
   "outputs": [],
   "source": []
  },
  {
   "cell_type": "code",
   "execution_count": null,
   "id": "6c53f554",
   "metadata": {},
   "outputs": [],
   "source": [
    "if do_activation:\n",
    "    out1 = appr_relu(out1, xmin=-10, xmax=10, alpha=12)"
   ]
  },
  {
   "cell_type": "code",
   "execution_count": null,
   "id": "9197d426",
   "metadata": {},
   "outputs": [],
   "source": []
  },
  {
   "cell_type": "code",
   "execution_count": null,
   "id": "8545f10c",
   "metadata": {},
   "outputs": [],
   "source": []
  },
  {
   "cell_type": "code",
   "execution_count": 20,
   "id": "d76caecc",
   "metadata": {
    "scrolled": true
   },
   "outputs": [
    {
     "name": "stdout",
     "output_type": "stream",
     "text": [
      "[MultParConv] (hi,wi,ci,ki,ti,pi) =(32,32, 3, 1, 3,  8)\n",
      "[MultParConv] (ho,wo,co,ko,to,po) =(32,32,16, 1,16,  2)\n",
      "[MultParConv] q = 2\n",
      "1.9421 s\n",
      "[MultParConv] (hi,wi,ci,ki,ti,pi) =(32,32,16, 1,16,  2)\n",
      "[MultParConv] (ho,wo,co,ko,to,po) =(32,32,16, 1,16,  2)\n",
      "[MultParConv] q = 8\n",
      "7.5915 s\n",
      "[MultParConv] (hi,wi,ci,ki,ti,pi) =(32,32,16, 1,16,  2)\n",
      "[MultParConv] (ho,wo,co,ko,to,po) =(32,32,16, 1,16,  2)\n",
      "[MultParConv] q = 8\n",
      "7.5881 s\n",
      "[MultParConv] (hi,wi,ci,ki,ti,pi) =(32,32,16, 1,16,  2)\n",
      "[MultParConv] (ho,wo,co,ko,to,po) =(16,16,32, 2, 8,  4)\n",
      "[MultParConv] q = 16\n",
      "14.5817 s\n",
      "[MultParConv] (hi,wi,ci,ki,ti,pi) =(16,16,32, 2, 8,  4)\n",
      "[MultParConv] (ho,wo,co,ko,to,po) =(16,16,32, 2, 8,  4)\n",
      "[MultParConv] q = 8\n",
      "6.9168 s\n",
      "[MultParConv] (hi,wi,ci,ki,ti,pi) =(32,32,16, 1,16,  2)\n",
      "[MultParConv] (ho,wo,co,ko,to,po) =(16,16,32, 2, 8,  4)\n",
      "[MultParConv] q = 16\n",
      "2.1417 s\n",
      "[MultParConv] (hi,wi,ci,ki,ti,pi) =(16,16,32, 2, 8,  4)\n",
      "[MultParConv] (ho,wo,co,ko,to,po) =( 8, 8,64, 4, 4,  8)\n",
      "[MultParConv] q = 16\n",
      "13.3325 s\n",
      "[MultParConv] (hi,wi,ci,ki,ti,pi) =( 8, 8,64, 4, 4,  8)\n",
      "[MultParConv] (ho,wo,co,ko,to,po) =( 8, 8,64, 4, 4,  8)\n",
      "[MultParConv] q = 8\n",
      "6.5365 s\n",
      "[MultParConv] (hi,wi,ci,ki,ti,pi) =(16,16,32, 2, 8,  4)\n",
      "[MultParConv] (ho,wo,co,ko,to,po) =( 8, 8,64, 4, 4,  8)\n",
      "[MultParConv] q = 16\n",
      "2.0079 s\n",
      "62.6637 s\n"
     ]
    }
   ],
   "source": [
    "t0 = time()\n",
    "result = fhe_model(img_tensor)\n",
    "print(f\"{time() - t0:.4f} s\")"
   ]
  },
  {
   "cell_type": "code",
   "execution_count": 21,
   "id": "2b96cb73",
   "metadata": {},
   "outputs": [
    {
     "data": {
      "text/plain": [
       "tensor([ -9.2678, -10.8150,  -3.1036,  -2.9026,  -9.4616,   4.3280,  -6.9752,\n",
       "         -3.5619,  -8.8842,  -7.5630], dtype=torch.float64)"
      ]
     },
     "execution_count": 21,
     "metadata": {},
     "output_type": "execute_result"
    }
   ],
   "source": [
    "torch.tensor(result[::64][:10])"
   ]
  },
  {
   "cell_type": "code",
   "execution_count": 10,
   "id": "b649b49c",
   "metadata": {},
   "outputs": [
    {
     "data": {
      "text/plain": [
       "tensor([ -9.2678, -10.8150,  -3.1036,  -2.9026,  -9.4616,   4.3280,  -6.9752,\n",
       "         -3.5619,  -8.8842,  -7.5630], dtype=torch.float64)"
      ]
     },
     "execution_count": 10,
     "metadata": {},
     "output_type": "execute_result"
    }
   ],
   "source": [
    "torch.tensor(result[::64][:10])"
   ]
  }
 ],
 "metadata": {
  "kernelspec": {
   "display_name": "Python 3.10.6 ('cnn')",
   "language": "python",
   "name": "python3"
  },
  "language_info": {
   "codemirror_mode": {
    "name": "ipython",
    "version": 3
   },
   "file_extension": ".py",
   "mimetype": "text/x-python",
   "name": "python",
   "nbconvert_exporter": "python",
   "pygments_lexer": "ipython3",
   "version": "3.10.6"
  },
  "vscode": {
   "interpreter": {
    "hash": "312595a83d408892f860676df71d6f6088a279ffd0ace127ffe1e58bd7b9393c"
   }
  }
 },
 "nbformat": 4,
 "nbformat_minor": 5
}
