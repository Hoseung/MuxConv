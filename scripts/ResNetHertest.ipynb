{
 "cells": [
  {
   "cell_type": "code",
   "execution_count": 1,
   "metadata": {},
   "outputs": [
    {
     "name": "stderr",
     "output_type": "stream",
     "text": [
      "/home/hoseung/anaconda3/envs/fhe/lib/python3.10/site-packages/lightning_utilities/core/imports.py:132: Unbuilt egg for bbsQt [unknown version] (/home/hoseung/Work/FHE/Kinect_BBS_demo)\n",
      "/home/hoseung/anaconda3/envs/fhe/lib/python3.10/site-packages/lightning_utilities/core/imports.py:132: Unbuilt egg for bbsQt [unknown version] (/home/hoseung/Work/FHE/Kinect_BBS_demo)\n"
     ]
    }
   ],
   "source": [
    "import numpy as np\n",
    "import torch\n",
    "import torch.nn as nn\n",
    "from muxcnn.models.ResNetHer import ResNetHer\n",
    "from muxcnn.models.lightning import LitModel\n",
    "from muxcnn.utils import load_params, load_img\n",
    "from muxcnn.resnet_muxconvHer import ResNet_MuxConvHer\n",
    "fn_chk = \"./smooth_sep_bn3.pt\""
   ]
  },
  {
   "cell_type": "markdown",
   "metadata": {},
   "source": [
    "# Comapre MuxedHer and TorchHer"
   ]
  },
  {
   "cell_type": "markdown",
   "metadata": {},
   "source": [
    "## Torch"
   ]
  },
  {
   "cell_type": "code",
   "execution_count": 2,
   "metadata": {},
   "outputs": [],
   "source": [
    "classes = ['airplane', 'automobile', 'bird', 'cat', 'deer',\n",
    "           'dog', 'frog', 'horse', 'ship', 'truck']\n",
    "model = ResNetHer([1,1,1])\n",
    "model.eval()\n",
    "model.to('cpu')\n",
    "\n",
    "# Instantiate the model and Lightning module\n",
    "criterion = nn.CrossEntropyLoss()\n",
    "\n",
    "lit_model = LitModel.load_from_checkpoint(fn_chk, \n",
    "                                          model=model, \n",
    "                                          criterion=criterion,\n",
    "                                          map_location=torch.device('cpu'))"
   ]
  },
  {
   "cell_type": "code",
   "execution_count": 3,
   "metadata": {},
   "outputs": [],
   "source": [
    "img_tensor = load_img(\"./cute.jpg\", hi=32, wi=32)"
   ]
  },
  {
   "cell_type": "code",
   "execution_count": 4,
   "metadata": {},
   "outputs": [
    {
     "name": "stdout",
     "output_type": "stream",
     "text": [
      "tensor([[-14.2979, -18.1204,  -3.9596, -10.2655, -13.0855,  -0.0199, -13.6690,\n",
      "          -7.4303, -15.6138, -18.0879]], grad_fn=<LogSoftmaxBackward0>)\n",
      "[PyTorch] It's a dog\n"
     ]
    }
   ],
   "source": [
    "torch_result = lit_model(img_tensor)\n",
    "print(torch_result)\n",
    "torch_class = torch.argmax(torch_result)\n",
    "print(f\"[PyTorch] It's a {classes[torch_class]}\")"
   ]
  },
  {
   "cell_type": "markdown",
   "metadata": {},
   "source": [
    "## Mux"
   ]
  },
  {
   "cell_type": "code",
   "execution_count": 5,
   "metadata": {},
   "outputs": [],
   "source": [
    "muxed_model = ResNet_MuxConvHer(model)\n",
    "img_tensor = load_img(\"./cute.jpg\", hi=32, wi=32)"
   ]
  },
  {
   "cell_type": "code",
   "execution_count": 6,
   "metadata": {},
   "outputs": [
    {
     "name": "stdout",
     "output_type": "stream",
     "text": [
      "[MultParConv] (hi,wi,ci,ki,ti,pi) =(32,32, 3, 1, 3,  8)\n",
      "[MultParConv] (ho,wo,co,ko,to,po) =(32,32,16, 1,16,  2)\n",
      "[MultParConv] q = 2\n",
      "[MultParConv] (hi,wi,ci,ki,ti,pi) =(32,32,16, 1,16,  2)\n",
      "[MultParConv] (ho,wo,co,ko,to,po) =(32,32,16, 1,16,  2)\n",
      "[MultParConv] q = 8\n",
      "1 [-0.93062665]\n",
      "[MultParConv] (hi,wi,ci,ki,ti,pi) =(32,32,16, 1,16,  2)\n",
      "[MultParConv] (ho,wo,co,ko,to,po) =(32,32,16, 1,16,  2)\n",
      "[MultParConv] q = 8\n",
      "2 [1.38483201]\n",
      "[MultParConv] (hi,wi,ci,ki,ti,pi) =(32,32,16, 1,16,  2)\n",
      "[MultParConv] (ho,wo,co,ko,to,po) =(16,16,32, 2, 8,  4)\n",
      "[MultParConv] q = 16\n",
      "1 [-0.65823687]\n",
      "[MultParConv] (hi,wi,ci,ki,ti,pi) =(16,16,32, 2, 8,  4)\n",
      "[MultParConv] (ho,wo,co,ko,to,po) =(16,16,32, 2, 8,  4)\n",
      "[MultParConv] q = 8\n",
      "2 [1.78798806]\n",
      "[MultParConv] (hi,wi,ci,ki,ti,pi) =(32,32,16, 1,16,  2)\n",
      "[MultParConv] (ho,wo,co,ko,to,po) =(16,16,32, 2, 8,  4)\n",
      "[MultParConv] q = 16\n",
      "[MultParConv] (hi,wi,ci,ki,ti,pi) =(16,16,32, 2, 8,  4)\n",
      "[MultParConv] (ho,wo,co,ko,to,po) =( 8, 8,64, 4, 4,  8)\n",
      "[MultParConv] q = 16\n",
      "1 [-0.58107837]\n",
      "[MultParConv] (hi,wi,ci,ki,ti,pi) =( 8, 8,64, 4, 4,  8)\n",
      "[MultParConv] (ho,wo,co,ko,to,po) =( 8, 8,64, 4, 4,  8)\n",
      "[MultParConv] q = 8\n",
      "2 [1.56364464]\n",
      "[MultParConv] (hi,wi,ci,ki,ti,pi) =(16,16,32, 2, 8,  4)\n",
      "[MultParConv] (ho,wo,co,ko,to,po) =( 8, 8,64, 4, 4,  8)\n",
      "[MultParConv] q = 16\n"
     ]
    }
   ],
   "source": [
    "result = muxed_model(img_tensor)"
   ]
  },
  {
   "cell_type": "code",
   "execution_count": 7,
   "metadata": {},
   "outputs": [
    {
     "name": "stdout",
     "output_type": "stream",
     "text": [
      "[-7.31288361 -7.23378001 -6.57424678 ... -6.902275   -7.4838038\n",
      " -7.72304292]\n",
      "[Muxed] It's a dog\n"
     ]
    }
   ],
   "source": [
    "print(result[::64])\n",
    "torch_class = np.argmax(result[::64][:10])\n",
    "print(f\"[Muxed] It's a {classes[torch_class]}\")"
   ]
  },
  {
   "cell_type": "code",
   "execution_count": null,
   "metadata": {},
   "outputs": [],
   "source": []
  }
 ],
 "metadata": {
  "kernelspec": {
   "display_name": "Python 3",
   "language": "python",
   "name": "python3"
  },
  "language_info": {
   "codemirror_mode": {
    "name": "ipython",
    "version": 3
   },
   "file_extension": ".py",
   "mimetype": "text/x-python",
   "name": "python",
   "nbconvert_exporter": "python",
   "pygments_lexer": "ipython3",
   "version": "3.10.11"
  }
 },
 "nbformat": 4,
 "nbformat_minor": 2
}
