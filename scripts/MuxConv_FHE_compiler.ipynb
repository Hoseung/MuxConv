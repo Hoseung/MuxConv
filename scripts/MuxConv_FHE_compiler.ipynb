{
 "cells": [
  {
   "cell_type": "code",
   "execution_count": 1,
   "id": "bfd4f7f8",
   "metadata": {},
   "outputs": [],
   "source": [
    "%load_ext autoreload\n",
    "%autoreload 2"
   ]
  },
  {
   "cell_type": "code",
   "execution_count": 2,
   "id": "c7907150",
   "metadata": {},
   "outputs": [],
   "source": [
    "from muxcnn.utils import load_params, load_img\n",
    "import torch\n",
    "from muxcnn.resnet_muxconv import ResNet_MuxConv"
   ]
  },
  {
   "cell_type": "markdown",
   "id": "acbd4950",
   "metadata": {},
   "source": [
    "## Torch model"
   ]
  },
  {
   "cell_type": "code",
   "execution_count": 3,
   "id": "8d430ea2",
   "metadata": {},
   "outputs": [],
   "source": [
    "from muxcnn.models.ResNet20 import ResNet, BasicBlock\n",
    "\n",
    "model = ResNet(BasicBlock,[1,1,1])\n",
    "model.eval() ########## 필수! \n",
    "load_params(model, fn_param=\"./ResNet8.pt\",device='cpu')"
   ]
  },
  {
   "cell_type": "code",
   "execution_count": 4,
   "id": "be34ed92",
   "metadata": {},
   "outputs": [],
   "source": [
    "img_tensor = load_img(\"./cute.jpg\", hi=32, wi=32)"
   ]
  },
  {
   "cell_type": "code",
   "execution_count": 5,
   "id": "8bc68ada",
   "metadata": {},
   "outputs": [
    {
     "name": "stdout",
     "output_type": "stream",
     "text": [
      "before softmax tensor([[ -9.3005, -11.0586,  -2.9741,  -2.9179,  -9.3500,   4.1474,  -6.8721,\n",
      "          -3.6999,  -8.9446,  -7.6901]], grad_fn=<AddmmBackward0>)\n",
      "tensor([[-1.3450e+01, -1.5208e+01, -7.1236e+00, -7.0674e+00, -1.3500e+01,\n",
      "         -2.0791e-03, -1.1022e+01, -7.8494e+00, -1.3094e+01, -1.1840e+01]],\n",
      "       grad_fn=<LogSoftmaxBackward0>)\n"
     ]
    }
   ],
   "source": [
    "print(model(img_tensor))"
   ]
  },
  {
   "cell_type": "markdown",
   "id": "3ec99b0f",
   "metadata": {},
   "source": [
    "# MuxCNN"
   ]
  },
  {
   "cell_type": "code",
   "execution_count": 5,
   "id": "1803bb6b",
   "metadata": {},
   "outputs": [
    {
     "name": "stdout",
     "output_type": "stream",
     "text": [
      "functions set\n",
      "degrees = [15, 15, 15, 15], margin = 0.01, eps = 0.02\n"
     ]
    }
   ],
   "source": [
    "muxed_model = ResNet_MuxConv(model, alpha=12)"
   ]
  },
  {
   "cell_type": "code",
   "execution_count": 6,
   "id": "1872dfc1",
   "metadata": {},
   "outputs": [
    {
     "ename": "NameError",
     "evalue": "name 'fhe_model' is not defined",
     "output_type": "error",
     "traceback": [
      "\u001b[0;31m---------------------------------------------------------------------------\u001b[0m",
      "\u001b[0;31mNameError\u001b[0m                                 Traceback (most recent call last)",
      "Cell \u001b[0;32mIn [6], line 1\u001b[0m\n\u001b[0;32m----> 1\u001b[0m result \u001b[38;5;241m=\u001b[39m \u001b[43mfhe_model\u001b[49m\u001b[38;5;241m.\u001b[39mforward_early(img_tensor)\n",
      "\u001b[0;31mNameError\u001b[0m: name 'fhe_model' is not defined"
     ]
    }
   ],
   "source": [
    "result = fhe_model.forward_early(img_tensor)"
   ]
  },
  {
   "cell_type": "markdown",
   "id": "ccda683f",
   "metadata": {},
   "source": [
    "# FHE Context"
   ]
  },
  {
   "cell_type": "code",
   "execution_count": 10,
   "id": "976902c1",
   "metadata": {},
   "outputs": [],
   "source": [
    "import numpy as np\n",
    "import pandas as pd\n",
    "\n",
    "from hemul.cipher import *\n",
    "from hemul.ciphertext import Plaintext\n",
    "from hemul.scheme import *\n",
    "\n",
    "from hemul.algorithms import Algorithms \n",
    "from hemul.stats import Statistics\n",
    "from hemul.context import set_all\n",
    "\n",
    "from math import sqrt"
   ]
  },
  {
   "cell_type": "code",
   "execution_count": 11,
   "id": "8ca3f3d7",
   "metadata": {},
   "outputs": [],
   "source": [
    "@persistent_locals\n",
    "def gen_new_ctxt(ev):\n",
    "    this_contxt = ev.context.params\n",
    "    newctxt = CiphertextStat(logp = this_contxt.logp,\n",
    "                          logq = this_contxt.logq,\n",
    "                          logn = this_contxt.logn)\n",
    "    newctxt._enckey_hash = key_hash(ev.context.enc_key)\n",
    "    return newctxt"
   ]
  },
  {
   "cell_type": "code",
   "execution_count": 12,
   "id": "2689ac9a",
   "metadata": {},
   "outputs": [],
   "source": [
    "context, ev, encoder, encryptor, decryptor = set_all(30, 600, 15)\n",
    "nslots = context.params.nslots"
   ]
  },
  {
   "cell_type": "code",
   "execution_count": 13,
   "id": "8f03f533",
   "metadata": {},
   "outputs": [],
   "source": [
    "import astroid\n",
    "import inspect"
   ]
  },
  {
   "cell_type": "code",
   "execution_count": 14,
   "id": "f621938c",
   "metadata": {},
   "outputs": [
    {
     "name": "stdout",
     "output_type": "stream",
     "text": [
      "{'local1': 1, 'local2': 2}\n"
     ]
    }
   ],
   "source": [
    "import sys\n",
    "\n",
    "class persistent_locals():\n",
    "    \"\"\"https://stackoverflow.com/a/9187022\"\"\"\n",
    "    def __init__(self, func):\n",
    "        self._locals = {}\n",
    "        self.func = func\n",
    "\n",
    "    def __call__(self, *args, **kwargs):\n",
    "        def tracer(frame, event, arg):\n",
    "            if event=='return':\n",
    "                self._locals = frame.f_locals.copy()\n",
    "\n",
    "        # tracer is activated on next call, return or exception\n",
    "        sys.setprofile(tracer)\n",
    "        try:\n",
    "            # trace the function call\n",
    "            res = self.func(*args, **kwargs)\n",
    "        finally:\n",
    "            # disable tracer and replace with old one\n",
    "            sys.setprofile(None)\n",
    "        return res\n",
    "\n",
    "    def clear_locals(self):\n",
    "        self._locals = {}\n",
    "\n",
    "    @property\n",
    "    def locals(self):\n",
    "        return self._locals\n",
    "\n",
    "@persistent_locals\n",
    "def func():\n",
    "    local1 = 1\n",
    "    local2 = 2\n",
    "\n",
    "func()\n",
    "print(func.locals)"
   ]
  },
  {
   "cell_type": "code",
   "execution_count": 15,
   "id": "bef1985a",
   "metadata": {},
   "outputs": [],
   "source": [
    "import ast\n",
    "import typing"
   ]
  },
  {
   "cell_type": "code",
   "execution_count": 16,
   "id": "36867331",
   "metadata": {},
   "outputs": [],
   "source": [
    "nc = gen_new_ctxt(ev)"
   ]
  },
  {
   "cell_type": "code",
   "execution_count": 17,
   "id": "f13aa50e",
   "metadata": {},
   "outputs": [
    {
     "data": {
      "text/plain": [
       "{'ev': <hemul.scheme.Evaluator at 0x7faef84a67d0>,\n",
       " 'this_contxt':  logp: 30\n",
       "  logq: 600 \n",
       "  logn: 15,\n",
       " 'newctxt': You can't read the content}"
      ]
     },
     "execution_count": 17,
     "metadata": {},
     "output_type": "execute_result"
    }
   ],
   "source": [
    "gen_new_ctxt.locals"
   ]
  },
  {
   "cell_type": "code",
   "execution_count": 18,
   "id": "51e2d925",
   "metadata": {},
   "outputs": [],
   "source": [
    "def fhe_fun(ctxt1:Ciphertext, ctxt2:Ciphertext, param1, kwg1):\n",
    "    print(\"this is param1\", param1)\n",
    "    print(\"this is kwg\", kwg1)\n",
    "    ctxt3 = ctxt1 + ctxt2\n",
    "    return ctxt3\n",
    "\n",
    "\n",
    "source = inspect.getsource(fhe_fun)"
   ]
  },
  {
   "cell_type": "code",
   "execution_count": 19,
   "id": "ea0b04a2",
   "metadata": {},
   "outputs": [
    {
     "data": {
      "text/plain": [
       "{'ctxt1': hemul.ciphertext.Ciphertext, 'ctxt2': hemul.ciphertext.Ciphertext}"
      ]
     },
     "execution_count": 19,
     "metadata": {},
     "output_type": "execute_result"
    }
   ],
   "source": [
    "typing.get_type_hints(fhe_fun)"
   ]
  },
  {
   "cell_type": "code",
   "execution_count": 20,
   "id": "855c5fd8",
   "metadata": {},
   "outputs": [],
   "source": [
    "tree = ast.parse(source)"
   ]
  },
  {
   "cell_type": "code",
   "execution_count": null,
   "id": "b7db799d",
   "metadata": {},
   "outputs": [],
   "source": []
  },
  {
   "cell_type": "code",
   "execution_count": null,
   "id": "a30a6705",
   "metadata": {},
   "outputs": [],
   "source": []
  },
  {
   "cell_type": "code",
   "execution_count": 21,
   "id": "107ee271",
   "metadata": {},
   "outputs": [
    {
     "data": {
      "text/plain": [
       "dict_keys(['__name__', '__doc__', '__package__', '__loader__', '__spec__', '__builtin__', '__builtins__', '_ih', '_oh', '_dh', 'In', 'Out', 'get_ipython', 'exit', 'quit', 'open', '_', '__', '___', '_i', '_ii', '_iii', '_i1', '_i2', 'load_params', 'load_img', 'torch', 'ResNet_MuxConv', '_i3', 'ResNet', 'BasicBlock', 'model', '_i4', 'img_tensor', '_i5', '_i6', 'muxed_model', '_i7', 'np', 'pd', 'Parameters', 'CKKS_Parameters', 'Ring', 'Context', 'Plaintext', 'Dict', 'valid_ident', 'InvalidParamError', 'CipherABC', 'Ciphertext', 'CiphertextStat', 'CustomException', 'ScaleMisMatchError', 'DepthExhaustionError', 'ErrorOutOfBoudError', 'LengthMisMatchError', 'numbers', 'Call_counter', 'key_hash', 'secret_key_match_encryptor_key', 'check_compatible', 'check_plain_length', 'Checker', 'copy', 'Encryptor', 'Decryptor', 'Evaluator', 'Encoder', 'Algorithms', 'Statistics', 'set_all', 'sqrt', '_i8', 'gen_new_ctxt', '_i9', 'context', 'ev', 'encoder', 'encryptor', 'decryptor', 'nslots', '_i10', '_i11', 'astroid', 'inspect', '_i12', '_12', '_i13', '_13', '_i14', '_i15', '_i16', '_16', '_i17', 'get_channel_last', 'get_conv_params', 'MultParPack', 'parMuxBN', 'ParMultWgt', 'tensor_multiplexed_shifted_weight_par', 'tensor_multiplexed_selecting', 'Vec', 'imgl', 'ki', 'hi', 'wi', 'ch', 'ins0', 'outs0', 'ct_a', '_i18', '_18', '_i19', '_19', '_i20', 'ctx_a', '_i21'])"
      ]
     },
     "execution_count": 21,
     "metadata": {},
     "output_type": "execute_result"
    }
   ],
   "source": [
    "locals().keys()"
   ]
  },
  {
   "cell_type": "code",
   "execution_count": 22,
   "id": "7703bf97",
   "metadata": {},
   "outputs": [
    {
     "data": {
      "text/plain": [
       "You can't read the content"
      ]
     },
     "execution_count": 22,
     "metadata": {},
     "output_type": "execute_result"
    }
   ],
   "source": [
    "locals()['ctx_a']"
   ]
  },
  {
   "cell_type": "code",
   "execution_count": 42,
   "id": "3dd3edd6",
   "metadata": {},
   "outputs": [],
   "source": [
    "def fun1(ctxta:Ciphertext, ctxtb:Ciphertext):\n",
    "    return ctxta+ctxtb\n",
    "\n",
    "def wrapper():\n",
    "    \n",
    "    ctx_a = encryptor.encrypt(ct_a)\n",
    "    ctx_b = Ciphertext()\n",
    "    #ctx_b = encryptor.encrypt(ct_a)\n",
    "    return fun1(ctxt_a, ctxt_b)\n",
    "\n"
   ]
  },
  {
   "cell_type": "code",
   "execution_count": 43,
   "id": "af6b7c3a",
   "metadata": {},
   "outputs": [],
   "source": [
    "source = inspect.getsource(wrapper)\n",
    "tree = astroid.parse(source)"
   ]
  },
  {
   "cell_type": "code",
   "execution_count": 29,
   "id": "c7ebb455",
   "metadata": {
    "scrolled": true
   },
   "outputs": [
    {
     "name": "stdout",
     "output_type": "stream",
     "text": [
      "Module(\n",
      "   name='',\n",
      "   file='<?>',\n",
      "   path=['<?>'],\n",
      "   package=False,\n",
      "   pure_python=True,\n",
      "   future_imports=set(),\n",
      "   doc_node=None,\n",
      "   body=[FunctionDef(\n",
      "         name='wrapper',\n",
      "         position=[\n",
      "            1,\n",
      "            0,\n",
      "            1,\n",
      "            11],\n",
      "         decorators=None,\n",
      "         args=Arguments(\n",
      "            vararg=None,\n",
      "            kwarg=None,\n",
      "            args=[],\n",
      "            defaults=[],\n",
      "            kwonlyargs=[],\n",
      "            posonlyargs=[],\n",
      "            posonlyargs_annotations=[],\n",
      "            kw_defaults=[],\n",
      "            annotations=[],\n",
      "            varargannotation=None,\n",
      "            kwargannotation=None,\n",
      "            kwonlyargs_annotations=[],\n",
      "            type_comment_args=[],\n",
      "            type_comment_kwonlyargs=[],\n",
      "            type_comment_posonlyargs=[]),\n",
      "         returns=None,\n",
      "         doc_node=None,\n",
      "         body=[\n",
      "            Assign(\n",
      "               targets=[AssignName(name='ctx_a')],\n",
      "               value=Call(\n",
      "                  func=Attribute(\n",
      "                     attrname='encrypt',\n",
      "                     expr=Name(name='encryptor')),\n",
      "                  args=[Name(name='ct_a')],\n",
      "                  keywords=[])),\n",
      "            Assign(\n",
      "               targets=[AssignName(name='ctx_b')],\n",
      "               value=Call(\n",
      "                  func=Attribute(\n",
      "                     attrname='encrypt',\n",
      "                     expr=Name(name='encryptor')),\n",
      "                  args=[Name(name='ct_a')],\n",
      "                  keywords=[])),\n",
      "            Return(value=Call(\n",
      "                  func=Name(name='fun1'),\n",
      "                  args=[Name(name='ctxt_a'), Name(name='ctxt_b')],\n",
      "                  keywords=[]))])])\n"
     ]
    }
   ],
   "source": [
    "print(tree.repr_tree())"
   ]
  },
  {
   "cell_type": "code",
   "execution_count": 50,
   "id": "f2e4b32a",
   "metadata": {},
   "outputs": [],
   "source": [
    "def simple(a):\n",
    "    a += 1\n",
    "    return a\n",
    "\n",
    "def simple2(a):\n",
    "    a = a + 1\n",
    "    return a"
   ]
  },
  {
   "cell_type": "code",
   "execution_count": 52,
   "id": "ab545114",
   "metadata": {},
   "outputs": [],
   "source": [
    "def print_ast(func):\n",
    "    aa = ast.parse(inspect.getsource(func))\n",
    "    print(ast.dump(aa, indent=True))\n",
    "    return aa"
   ]
  },
  {
   "cell_type": "code",
   "execution_count": 53,
   "id": "fa8cdaf6",
   "metadata": {},
   "outputs": [
    {
     "name": "stdout",
     "output_type": "stream",
     "text": [
      "Module(\n",
      " body=[\n",
      "  FunctionDef(\n",
      "   name='simple',\n",
      "   args=arguments(\n",
      "    posonlyargs=[],\n",
      "    args=[\n",
      "     arg(arg='a')],\n",
      "    kwonlyargs=[],\n",
      "    kw_defaults=[],\n",
      "    defaults=[]),\n",
      "   body=[\n",
      "    AugAssign(\n",
      "     target=Name(id='a', ctx=Store()),\n",
      "     op=Add(),\n",
      "     value=Constant(value=1)),\n",
      "    Return(\n",
      "     value=Name(id='a', ctx=Load()))],\n",
      "   decorator_list=[])],\n",
      " type_ignores=[])\n"
     ]
    }
   ],
   "source": [
    "aa = print_ast(simple)"
   ]
  },
  {
   "cell_type": "code",
   "execution_count": 55,
   "id": "5240274d",
   "metadata": {},
   "outputs": [
    {
     "name": "stdout",
     "output_type": "stream",
     "text": [
      "Module(\n",
      " body=[\n",
      "  FunctionDef(\n",
      "   name='simple2',\n",
      "   args=arguments(\n",
      "    posonlyargs=[],\n",
      "    args=[\n",
      "     arg(arg='a')],\n",
      "    kwonlyargs=[],\n",
      "    kw_defaults=[],\n",
      "    defaults=[]),\n",
      "   body=[\n",
      "    Assign(\n",
      "     targets=[\n",
      "      Name(id='a', ctx=Store())],\n",
      "     value=BinOp(\n",
      "      left=Name(id='a', ctx=Load()),\n",
      "      op=Add(),\n",
      "      right=Constant(value=1))),\n",
      "    Return(\n",
      "     value=Name(id='a', ctx=Load()))],\n",
      "   decorator_list=[])],\n",
      " type_ignores=[])\n"
     ]
    }
   ],
   "source": [
    "# The AST of \"a = a + 1\" is different from that of \"a += 1\"\n",
    "aa = print_ast(simple2) "
   ]
  },
  {
   "cell_type": "code",
   "execution_count": 37,
   "id": "649a8745",
   "metadata": {},
   "outputs": [],
   "source": [
    "import ast"
   ]
  },
  {
   "cell_type": "code",
   "execution_count": 43,
   "id": "0666abaf",
   "metadata": {},
   "outputs": [],
   "source": [
    "aa = ast.parse(source, type_comments=True)"
   ]
  },
  {
   "cell_type": "code",
   "execution_count": 44,
   "id": "7dd308d3",
   "metadata": {
    "scrolled": true
   },
   "outputs": [
    {
     "name": "stdout",
     "output_type": "stream",
     "text": [
      "Module(\n",
      " body=[\n",
      "  FunctionDef(\n",
      "   name='fhe_fun',\n",
      "   args=arguments(\n",
      "    posonlyargs=[],\n",
      "    args=[\n",
      "     arg(\n",
      "      arg='ctxt1',\n",
      "      annotation=Name(id='Ciphertext', ctx=Load())),\n",
      "     arg(\n",
      "      arg='ctxt2',\n",
      "      annotation=Name(id='Ciphertext', ctx=Load())),\n",
      "     arg(arg='param1'),\n",
      "     arg(arg='kwg1')],\n",
      "    kwonlyargs=[],\n",
      "    kw_defaults=[],\n",
      "    defaults=[]),\n",
      "   body=[\n",
      "    Expr(\n",
      "     value=Call(\n",
      "      func=Name(id='print', ctx=Load()),\n",
      "      args=[\n",
      "       Constant(value='this is param1'),\n",
      "       Name(id='param1', ctx=Load())],\n",
      "      keywords=[])),\n",
      "    Expr(\n",
      "     value=Call(\n",
      "      func=Name(id='print', ctx=Load()),\n",
      "      args=[\n",
      "       Constant(value='this is kwg'),\n",
      "       Name(id='kwg1', ctx=Load())],\n",
      "      keywords=[])),\n",
      "    Assign(\n",
      "     targets=[\n",
      "      Name(id='ctxt3', ctx=Store())],\n",
      "     value=BinOp(\n",
      "      left=Name(id='ctxt1', ctx=Load()),\n",
      "      op=Add(),\n",
      "      right=Name(id='ctxt2', ctx=Load()))),\n",
      "    Return(\n",
      "     value=Name(id='ctxt3', ctx=Load()))],\n",
      "   decorator_list=[])],\n",
      " type_ignores=[])\n"
     ]
    }
   ],
   "source": [
    "print(ast.dump(aa, indent=True))"
   ]
  },
  {
   "cell_type": "code",
   "execution_count": 56,
   "id": "3658594d",
   "metadata": {},
   "outputs": [
    {
     "name": "stdout",
     "output_type": "stream",
     "text": [
      "entering Module\n",
      "entering FunctionDef\n",
      "entering arguments\n",
      "entering arg\n",
      "entering Assign\n",
      "entering Name\n",
      "entering Store\n",
      "entering BinOp\n",
      "entering Name\n",
      "entering Load\n",
      "entering Add\n",
      "entering Constant\n",
      "entering Return\n",
      "entering Name\n",
      "entering Load\n"
     ]
    }
   ],
   "source": [
    "class MyVisitor(ast.NodeVisitor):\n",
    "    def generic_visit(self, node):\n",
    "        print(f'entering {node.__class__.__name__}')\n",
    "        super().generic_visit(node)\n",
    "\n",
    "visitor = MyVisitor()\n",
    "\n",
    "visitor.visit(aa)"
   ]
  },
  {
   "cell_type": "markdown",
   "id": "586c14ac",
   "metadata": {},
   "source": [
    "### Very helpful\n",
    "\n",
    "https://sadh.life/post/ast/#so-what-is-an-ast\n",
    "\n",
    "\n",
    "https://sadh.life/post/mypy-guide/\n",
    "\n",
    "\n",
    "https://sadh.life/post/builtins/#compile-exec-and-eval-how-the-code-works\n"
   ]
  },
  {
   "cell_type": "markdown",
   "id": "557b5fa4",
   "metadata": {},
   "source": [
    "#### Nodes are broadly categorized into four: \n",
    "- Literals\n",
    "- Variables\n",
    "- Statements\n",
    "- Expressions\n",
    "\n",
    "Expressions:  returns something : 3 + 6   \n",
    "Statements: doens't return :  if, import \n",
    "\n",
    "\n",
    "\n",
    "behavior of some statements need to be modified if ctxt is in arguments\n",
    "e.g.) \n",
    "\n",
    "#### example (AugAssign)\n",
    "\n",
    "```\n",
    "def simple(a):\n",
    "    a += 1\n",
    "    return a\n",
    "```\n",
    "simple()'s ast\n",
    "```\n",
    "AugAssign(\n",
    "     target=Name(id='a', ctx=Store()),\n",
    "     op=Add(),\n",
    "     value=Constant(value=1)),\n",
    "     \n",
    "   \n",
    "if 'a' is Ciphertext,  \n",
    "\n",
    "{step 1}\n",
    "FHEAddInplace(  # <-\n",
    "    target=Name(id='a', ctx=Store()),\n",
    "    op=ev.add_in_place(),   # <-\n",
    "    value=Constant(value=1)),\n",
    "\n",
    "{step 2}\n",
    "FHEAddInplace(\n",
    "    target=Name(id='a', ctx=Store()),\n",
    "    op=ev.add_in_place(),\n",
    "    value=Ptxt(value=1)),   # <-\n",
    "\n",
    "where Ptxt(value=1) maps to  \n",
    "encoder.encode(np.repeat(value, len(a)))\n",
    "```"
   ]
  },
  {
   "cell_type": "code",
   "execution_count": 22,
   "id": "a0891c16",
   "metadata": {},
   "outputs": [],
   "source": [
    "class NumberChanger(ast.NodeTransformer):\n",
    "    def generic_visit(self, node):\n",
    "        super().generic_visit(node)\n",
    "        \n",
    "        if not isinstance(node, ast.Constant) or not isinstance(node.value, int):\n",
    "            return node\n",
    "        else:\n",
    "            return ast.Constant(value=42)"
   ]
  },
  {
   "cell_type": "code",
   "execution_count": 33,
   "id": "74f73be4",
   "metadata": {},
   "outputs": [],
   "source": [
    "def test():\n",
    "    print(13)\n",
    "    print(32)\n",
    "    for i in range(3):\n",
    "        print(i)\n",
    "        "
   ]
  },
  {
   "cell_type": "code",
   "execution_count": 37,
   "id": "daf1cfc3",
   "metadata": {},
   "outputs": [
    {
     "ename": "OSError",
     "evalue": "could not get source code",
     "output_type": "error",
     "traceback": [
      "\u001b[0;31m---------------------------------------------------------------------------\u001b[0m",
      "\u001b[0;31mOSError\u001b[0m                                   Traceback (most recent call last)",
      "Cell \u001b[0;32mIn [37], line 1\u001b[0m\n\u001b[0;32m----> 1\u001b[0m tree \u001b[38;5;241m=\u001b[39m ast\u001b[38;5;241m.\u001b[39mparse(\u001b[43minspect\u001b[49m\u001b[38;5;241;43m.\u001b[39;49m\u001b[43mgetsource\u001b[49m\u001b[43m(\u001b[49m\u001b[43mtest\u001b[49m\u001b[43m)\u001b[49m)\n\u001b[1;32m      2\u001b[0m \u001b[38;5;66;03m# if new node is added, line number of the code needs to be updated.\u001b[39;00m\n\u001b[1;32m      3\u001b[0m modified_tree \u001b[38;5;241m=\u001b[39m ast\u001b[38;5;241m.\u001b[39mfix_missing_locations(NumberChanger()\u001b[38;5;241m.\u001b[39mvisit(tree))\n",
      "File \u001b[0;32m~/anaconda3/envs/fhe/lib/python3.10/inspect.py:1147\u001b[0m, in \u001b[0;36mgetsource\u001b[0;34m(object)\u001b[0m\n\u001b[1;32m   1141\u001b[0m \u001b[38;5;28;01mdef\u001b[39;00m \u001b[38;5;21mgetsource\u001b[39m(\u001b[38;5;28mobject\u001b[39m):\n\u001b[1;32m   1142\u001b[0m     \u001b[38;5;124;03m\"\"\"Return the text of the source code for an object.\u001b[39;00m\n\u001b[1;32m   1143\u001b[0m \n\u001b[1;32m   1144\u001b[0m \u001b[38;5;124;03m    The argument may be a module, class, method, function, traceback, frame,\u001b[39;00m\n\u001b[1;32m   1145\u001b[0m \u001b[38;5;124;03m    or code object.  The source code is returned as a single string.  An\u001b[39;00m\n\u001b[1;32m   1146\u001b[0m \u001b[38;5;124;03m    OSError is raised if the source code cannot be retrieved.\"\"\"\u001b[39;00m\n\u001b[0;32m-> 1147\u001b[0m     lines, lnum \u001b[38;5;241m=\u001b[39m \u001b[43mgetsourcelines\u001b[49m\u001b[43m(\u001b[49m\u001b[38;5;28;43mobject\u001b[39;49m\u001b[43m)\u001b[49m\n\u001b[1;32m   1148\u001b[0m     \u001b[38;5;28;01mreturn\u001b[39;00m \u001b[38;5;124m'\u001b[39m\u001b[38;5;124m'\u001b[39m\u001b[38;5;241m.\u001b[39mjoin(lines)\n",
      "File \u001b[0;32m~/anaconda3/envs/fhe/lib/python3.10/inspect.py:1129\u001b[0m, in \u001b[0;36mgetsourcelines\u001b[0;34m(object)\u001b[0m\n\u001b[1;32m   1121\u001b[0m \u001b[38;5;124;03m\"\"\"Return a list of source lines and starting line number for an object.\u001b[39;00m\n\u001b[1;32m   1122\u001b[0m \n\u001b[1;32m   1123\u001b[0m \u001b[38;5;124;03mThe argument may be a module, class, method, function, traceback, frame,\u001b[39;00m\n\u001b[0;32m   (...)\u001b[0m\n\u001b[1;32m   1126\u001b[0m \u001b[38;5;124;03moriginal source file the first line of code was found.  An OSError is\u001b[39;00m\n\u001b[1;32m   1127\u001b[0m \u001b[38;5;124;03mraised if the source code cannot be retrieved.\"\"\"\u001b[39;00m\n\u001b[1;32m   1128\u001b[0m \u001b[38;5;28mobject\u001b[39m \u001b[38;5;241m=\u001b[39m unwrap(\u001b[38;5;28mobject\u001b[39m)\n\u001b[0;32m-> 1129\u001b[0m lines, lnum \u001b[38;5;241m=\u001b[39m \u001b[43mfindsource\u001b[49m\u001b[43m(\u001b[49m\u001b[38;5;28;43mobject\u001b[39;49m\u001b[43m)\u001b[49m\n\u001b[1;32m   1131\u001b[0m \u001b[38;5;28;01mif\u001b[39;00m istraceback(\u001b[38;5;28mobject\u001b[39m):\n\u001b[1;32m   1132\u001b[0m     \u001b[38;5;28mobject\u001b[39m \u001b[38;5;241m=\u001b[39m \u001b[38;5;28mobject\u001b[39m\u001b[38;5;241m.\u001b[39mtb_frame\n",
      "File \u001b[0;32m~/anaconda3/envs/fhe/lib/python3.10/inspect.py:958\u001b[0m, in \u001b[0;36mfindsource\u001b[0;34m(object)\u001b[0m\n\u001b[1;32m    956\u001b[0m     lines \u001b[38;5;241m=\u001b[39m linecache\u001b[38;5;241m.\u001b[39mgetlines(file)\n\u001b[1;32m    957\u001b[0m \u001b[38;5;28;01mif\u001b[39;00m \u001b[38;5;129;01mnot\u001b[39;00m lines:\n\u001b[0;32m--> 958\u001b[0m     \u001b[38;5;28;01mraise\u001b[39;00m \u001b[38;5;167;01mOSError\u001b[39;00m(\u001b[38;5;124m'\u001b[39m\u001b[38;5;124mcould not get source code\u001b[39m\u001b[38;5;124m'\u001b[39m)\n\u001b[1;32m    960\u001b[0m \u001b[38;5;28;01mif\u001b[39;00m ismodule(\u001b[38;5;28mobject\u001b[39m):\n\u001b[1;32m    961\u001b[0m     \u001b[38;5;28;01mreturn\u001b[39;00m lines, \u001b[38;5;241m0\u001b[39m\n",
      "\u001b[0;31mOSError\u001b[0m: could not get source code"
     ]
    }
   ],
   "source": [
    "tree = ast.parse(inspect.getsource(test))\n",
    "# if new node is added, line number of the code needs to be updated.\n",
    "modified_tree = ast.fix_missing_locations(NumberChanger().visit(tree))"
   ]
  },
  {
   "cell_type": "markdown",
   "id": "4c33f3dd",
   "metadata": {},
   "source": [
    "### all numbers are now 42"
   ]
  },
  {
   "cell_type": "code",
   "execution_count": 41,
   "id": "bd77776c",
   "metadata": {
    "scrolled": true
   },
   "outputs": [
    {
     "name": "stdout",
     "output_type": "stream",
     "text": [
      "def test():\n",
      "    print(42)\n",
      "    print(42)\n",
      "    for i in range(42):\n",
      "        print(i)\n"
     ]
    }
   ],
   "source": [
    "print(ast.unparse(modified_tree))"
   ]
  },
  {
   "cell_type": "code",
   "execution_count": 31,
   "id": "c5a62da3",
   "metadata": {},
   "outputs": [
    {
     "data": {
      "text/plain": [
       "<ast.Module at 0x7faef7e7e800>"
      ]
     },
     "execution_count": 31,
     "metadata": {},
     "output_type": "execute_result"
    }
   ],
   "source": []
  },
  {
   "cell_type": "code",
   "execution_count": 44,
   "id": "28a3e786",
   "metadata": {},
   "outputs": [],
   "source": [
    "code_object = compile(modified_tree, '<string>', 'exec')\n",
    "exec(code_object)"
   ]
  },
  {
   "cell_type": "code",
   "execution_count": 43,
   "id": "27a4626e",
   "metadata": {},
   "outputs": [],
   "source": [
    "exec(compile(modified_tree, filename=\"\", mode=\"exec\"))"
   ]
  },
  {
   "cell_type": "code",
   "execution_count": 30,
   "id": "c4def3aa",
   "metadata": {},
   "outputs": [],
   "source": [
    "name_node = astroid.extract_node(source)"
   ]
  },
  {
   "cell_type": "code",
   "execution_count": 31,
   "id": "9ffa43c2",
   "metadata": {},
   "outputs": [
    {
     "data": {
      "text/plain": [
       "<bound method FilterStmtsBaseNode.assign_type of <FunctionDef.wrapper l.1 at 0x7f62ba00d720>>"
      ]
     },
     "execution_count": 31,
     "metadata": {},
     "output_type": "execute_result"
    }
   ],
   "source": [
    "nn.assign_type"
   ]
  },
  {
   "cell_type": "code",
   "execution_count": 32,
   "id": "1166e480",
   "metadata": {},
   "outputs": [
    {
     "name": "stdout",
     "output_type": "stream",
     "text": [
      "FunctionDef.wrapper(name='wrapper',\n",
      "                    doc=None,\n",
      "                    position=Position(lineno=1, col_offset=0, end_lineno=1, end_col_offset=11),\n",
      "                    decorators=None,\n",
      "                    args=<Arguments l.1 at 0x7f62b9fba200>,\n",
      "                    returns=None,\n",
      "                    doc_node=None,\n",
      "                    body=[ <Assign l.2 at 0x7f62b9fb8700>,\n",
      "                      <Assign l.3 at 0x7f62b9fbae30>,\n",
      "                      <Return l.4 at 0x7f62b9fba080>])\n"
     ]
    }
   ],
   "source": [
    "for nn in name_node.infer():\n",
    "    print(nn)\n",
    "    "
   ]
  },
  {
   "cell_type": "code",
   "execution_count": 17,
   "id": "d01e08c3",
   "metadata": {},
   "outputs": [],
   "source": [
    "from muxcnn.utils import get_channel_last, get_conv_params\n",
    "from muxcnn.hecnn_par import MultParPack, parMuxBN, ParMultWgt, \\\n",
    "    tensor_multiplexed_shifted_weight_par, tensor_multiplexed_selecting, Vec\n",
    "imgl = get_channel_last(img_tensor[0].detach().numpy())\n",
    "ki = 1 # initial ki\n",
    "hi, wi, ch = imgl.shape\n",
    "\n",
    "# early conv and bn\n",
    "_, ins0, outs0 = get_conv_params(model.conv1, {'k':ki, 'h':hi, 'w':wi})\n",
    "ct_a = MultParPack(imgl, ins0)"
   ]
  },
  {
   "cell_type": "code",
   "execution_count": 51,
   "id": "d9f1900b",
   "metadata": {},
   "outputs": [],
   "source": [
    "def SumSlots(ct_a,m,p):\n",
    "    \"\"\"Addition only\"\"\"\n",
    "    nrots = 0\n",
    "    n = int(np.floor(np.log2(m)))\n",
    "    #ct_b = []\n",
    "    #ct_b.append(ct_a._arr)\n",
    "    ctx_b = [] ####\n",
    "    ctx_b.append(ct_a) ####\n",
    "    for j in range(1,n+1):\n",
    "        lrots = int(p*2**(j-1))\n",
    "        #ct_b.append(ct_b[j-1]+np.roll(ct_b[j-1],-lrots))\n",
    "        ctx_b.append(ev.add(ctx_b[j-1], \n",
    "                            ev.lrot(ctx_b[j-1], lrots, inplace=False),\n",
    "                           inplace=False)) ####\n",
    "        if lrots!=0:\n",
    "            nrots=nrots+1  #______________________________ROTATION\n",
    "    #ct_c = ct_b[n]\n",
    "    ctx_c = ctx_b[n] ####\n",
    "    for j in range(0,n):\n",
    "        n1 = np.floor((m/(2**j))%2)\n",
    "        if n1==1:\n",
    "            n2 =int(np.floor((m/(2**(j+1)))%2))\n",
    "            lrots = int(p*2**(j+1))*n2\n",
    "            #ct_c += np.roll(ct_b[j],-lrots)\n",
    "            ev.add(ctx_c, \n",
    "                   ev.lrot(ctx_b[j],lrots, inplace=False),\n",
    "                  inplace=True) ####\n",
    "            if lrots!=0:\n",
    "                nrots=nrots+1#____________________________ROTATION\n",
    "    #print(ctx_c._arr == ct_c) ####\n",
    "    return ctx_c,nrots"
   ]
  }
 ],
 "metadata": {
  "kernelspec": {
   "display_name": "Python 3 (ipykernel)",
   "language": "python",
   "name": "python3"
  },
  "language_info": {
   "codemirror_mode": {
    "name": "ipython",
    "version": 3
   },
   "file_extension": ".py",
   "mimetype": "text/x-python",
   "name": "python",
   "nbconvert_exporter": "python",
   "pygments_lexer": "ipython3",
   "version": "3.10.4"
  },
  "vscode": {
   "interpreter": {
    "hash": "60d42a677e1abf850e158ee39e01a5d70da0f6529681f4a4eca4a35dff8a082c"
   }
  }
 },
 "nbformat": 4,
 "nbformat_minor": 5
}
