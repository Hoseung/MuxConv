{
 "cells": [
  {
   "cell_type": "markdown",
   "id": "f456a551",
   "metadata": {},
   "source": [
    "MuxConv 알고리즘 완성, FHE 적용 전에 Pure Python으로 테스트하는 스크립트. \n",
    "Pure Python버전 정상 작동 됨."
   ]
  },
  {
   "cell_type": "code",
   "execution_count": 1,
   "id": "bfd4f7f8",
   "metadata": {},
   "outputs": [],
   "source": [
    "%load_ext autoreload\n",
    "%autoreload 2"
   ]
  },
  {
   "cell_type": "code",
   "execution_count": 2,
   "id": "c7907150",
   "metadata": {},
   "outputs": [],
   "source": [
    "from time import time\n",
    "from muxcnn.utils import load_params, load_img\n",
    "import torch\n",
    "from muxcnn.resnet_muxconv import ResNet_MuxConv"
   ]
  },
  {
   "cell_type": "markdown",
   "id": "acbd4950",
   "metadata": {},
   "source": [
    "## Torch model"
   ]
  },
  {
   "cell_type": "code",
   "execution_count": 3,
   "id": "8d430ea2",
   "metadata": {},
   "outputs": [],
   "source": [
    "from muxcnn.models.ResNet20 import ResNet, BasicBlock\n",
    "\n",
    "model = ResNet(BasicBlock,[1,1,1])\n",
    "model.eval() ########## 필수! \n",
    "load_params(model, fn_param=\"./ResNet8.pt\",device='cpu')"
   ]
  },
  {
   "cell_type": "code",
   "execution_count": 4,
   "id": "be34ed92",
   "metadata": {},
   "outputs": [],
   "source": [
    "img_tensor = load_img(\"./cute.jpg\", hi=32, wi=32)"
   ]
  },
  {
   "cell_type": "code",
   "execution_count": 5,
   "id": "8bc68ada",
   "metadata": {},
   "outputs": [
    {
     "name": "stdout",
     "output_type": "stream",
     "text": [
      "before softmax tensor([[ -9.3005, -11.0586,  -2.9741,  -2.9179,  -9.3500,   4.1474,  -6.8721,\n",
      "          -3.6999,  -8.9446,  -7.6901]], grad_fn=<AddmmBackward0>)\n",
      "tensor([[-1.3450e+01, -1.5208e+01, -7.1236e+00, -7.0674e+00, -1.3500e+01,\n",
      "         -2.0791e-03, -1.1022e+01, -7.8494e+00, -1.3094e+01, -1.1840e+01]],\n",
      "       grad_fn=<LogSoftmaxBackward0>)\n"
     ]
    }
   ],
   "source": [
    "print(model(img_tensor))"
   ]
  },
  {
   "cell_type": "markdown",
   "id": "ded2ebd6",
   "metadata": {},
   "source": [
    "# FHE\n",
    "\n",
    "\n",
    "ResNet_MuxConv(model, alpha=12) 와 결과 비교\n",
    "\n",
    "`scripts/MuxConv_parBN_final_example.ipynb`"
   ]
  },
  {
   "cell_type": "code",
   "execution_count": 6,
   "id": "d1c6a1e7",
   "metadata": {},
   "outputs": [],
   "source": [
    "from muxcnn.hecnn_par import *"
   ]
  },
  {
   "cell_type": "code",
   "execution_count": 7,
   "id": "5768d127",
   "metadata": {},
   "outputs": [
    {
     "name": "stdout",
     "output_type": "stream",
     "text": [
      "[MultParConv] (hi,wi,ci,ki,ti,pi) =(32,32, 3, 1, 3,  8)\n",
      "[MultParConv] (ho,wo,co,ko,to,po) =(32,32,16, 1,16,  2)\n",
      "[MultParConv] q = 2\n",
      "[MultParConv] (hi,wi,ci,ki,ti,pi) =(32,32,16, 1,16,  2)\n",
      "[MultParConv] (ho,wo,co,ko,to,po) =(32,32,16, 1,16,  2)\n",
      "[MultParConv] q = 8\n",
      "[MultParConv] (hi,wi,ci,ki,ti,pi) =(32,32,16, 1,16,  2)\n",
      "[MultParConv] (ho,wo,co,ko,to,po) =(32,32,16, 1,16,  2)\n",
      "[MultParConv] q = 8\n",
      "[MultParConv] (hi,wi,ci,ki,ti,pi) =(32,32,16, 1,16,  2)\n",
      "[MultParConv] (ho,wo,co,ko,to,po) =(16,16,32, 2, 8,  4)\n",
      "[MultParConv] q = 16\n",
      "[MultParConv] (hi,wi,ci,ki,ti,pi) =(16,16,32, 2, 8,  4)\n",
      "[MultParConv] (ho,wo,co,ko,to,po) =(16,16,32, 2, 8,  4)\n",
      "[MultParConv] q = 8\n",
      "[MultParConv] (hi,wi,ci,ki,ti,pi) =(16,16,32, 2, 8,  4)\n",
      "[MultParConv] (ho,wo,co,ko,to,po) =( 8, 8,64, 4, 4,  8)\n",
      "[MultParConv] q = 16\n",
      "[MultParConv] (hi,wi,ci,ki,ti,pi) =( 8, 8,64, 4, 4,  8)\n",
      "[MultParConv] (ho,wo,co,ko,to,po) =( 8, 8,64, 4, 4,  8)\n",
      "[MultParConv] q = 8\n"
     ]
    }
   ],
   "source": [
    "imgl = get_channel_last(img_tensor[0].detach().numpy())\n",
    "ki = 1\n",
    "hi, wi, ch = imgl.shape\n",
    "\n",
    "U, ins, outs = get_conv_params(model.conv1, {'k':ki, 'h':hi, 'w':wi})\n",
    "ct_a = MultParPack(imgl, ins)\n",
    "out, un1 = forward_conv_par(model.conv1, ct_a, ins)\n",
    "\n",
    "U, ins, outs = get_conv_params(model.layer1[0].conv1, outs)\n",
    "out, un2 = forward_conv_par(model.layer1[0].conv1, out,  ins)\n",
    "\n",
    "U, ins, outs = get_conv_params(model.layer1[0].conv2, outs)\n",
    "out, un3 = forward_conv_par(model.layer1[0].conv2, out,  ins)\n",
    "\n",
    "U, ins, outs = get_conv_params(model.layer2[0].conv1, outs)\n",
    "out, un4 = forward_conv_par(model.layer2[0].conv1, out, ins)\n",
    "\n",
    "U, ins, outs = get_conv_params(model.layer2[0].conv2, outs)\n",
    "out, un5 = forward_conv_par(model.layer2[0].conv2, out, ins)\n",
    "\n",
    "U, ins, outs = get_conv_params(model.layer3[0].conv1, outs)\n",
    "out, un6 = forward_conv_par(model.layer3[0].conv1, out, ins)\n",
    "\n",
    "U, ins, outs = get_conv_params(model.layer3[0].conv2, outs)\n",
    "out, un7 = forward_conv_par(model.layer3[0].conv2, out, ins)"
   ]
  },
  {
   "cell_type": "code",
   "execution_count": 8,
   "id": "fbe6434c",
   "metadata": {},
   "outputs": [
    {
     "data": {
      "text/plain": [
       "array([-27.60442039,  43.06821207,  25.64662879, ...,  27.13122852,\n",
       "        -3.49895375, -26.09628137])"
      ]
     },
     "execution_count": 8,
     "metadata": {},
     "output_type": "execute_result"
    }
   ],
   "source": [
    "out"
   ]
  },
  {
   "cell_type": "code",
   "execution_count": null,
   "id": "5ede61b4",
   "metadata": {},
   "outputs": [],
   "source": []
  },
  {
   "cell_type": "code",
   "execution_count": null,
   "id": "8964ab3e",
   "metadata": {},
   "outputs": [],
   "source": []
  },
  {
   "cell_type": "code",
   "execution_count": 9,
   "id": "1803bb6b",
   "metadata": {},
   "outputs": [
    {
     "name": "stdout",
     "output_type": "stream",
     "text": [
      "functions set\n",
      "degrees = [15, 15, 15, 15], margin = 0.01, eps = 0.02\n"
     ]
    }
   ],
   "source": [
    "fhe_model = ResNet_MuxConv(model, alpha=12)"
   ]
  },
  {
   "cell_type": "code",
   "execution_count": 10,
   "id": "1872dfc1",
   "metadata": {},
   "outputs": [
    {
     "name": "stdout",
     "output_type": "stream",
     "text": [
      "[MultParConv] (hi,wi,ci,ki,ti,pi) =(32,32, 3, 1, 3,  8)\n",
      "1.2221 s\n",
      "1.2304 s\n"
     ]
    }
   ],
   "source": [
    "t0 = time()\n",
    "ctxt, outs0 = fhe_model.forward_early(img_tensor)\n",
    "print(f\"{time() - t0:.4f} s\")"
   ]
  },
  {
   "cell_type": "code",
   "execution_count": 11,
   "id": "01b59f15",
   "metadata": {},
   "outputs": [
    {
     "data": {
      "text/plain": [
       "array([ 1.23083757e+00,  4.86967574e-01,  2.75344729e-01, ...,\n",
       "        7.15849049e-11,  6.76558445e-11, -1.68027319e-11])"
      ]
     },
     "execution_count": 11,
     "metadata": {},
     "output_type": "execute_result"
    }
   ],
   "source": [
    "ctxt"
   ]
  },
  {
   "cell_type": "code",
   "execution_count": 8,
   "id": "4243a7c0",
   "metadata": {},
   "outputs": [
    {
     "name": "stdout",
     "output_type": "stream",
     "text": [
      "[ 1.23083757e+00 -6.04646501e-12  8.31757005e-01  5.57055145e-01\n",
      "  1.46344638e+00  5.52875764e-01  2.28876953e-11  3.22529486e-01\n",
      "  1.66880482e-01  1.38492884e-11 -4.83460327e-12  5.25957646e-02\n",
      " -2.84754336e-10  8.14742654e-01  3.52006406e-01  9.86855253e-01\n",
      " -1.37065966e-10  2.00778844e-12  2.00753381e-01  4.62600852e+00\n",
      "  1.45841416e+00  1.12151311e-01  2.53264000e-01  2.61802319e+00\n",
      "  6.75758608e-02  2.28868992e-02 -1.00897592e-10  1.05486982e-10\n",
      "  2.94736493e-10  9.83460246e-01  9.61286444e-01  4.02652655e-01\n",
      "  1.21398574e-10]\n"
     ]
    }
   ],
   "source": [
    "print(ctxt[::1000])"
   ]
  },
  {
   "cell_type": "code",
   "execution_count": 9,
   "id": "874b8d16",
   "metadata": {},
   "outputs": [
    {
     "name": "stdout",
     "output_type": "stream",
     "text": [
      "[MultParConv] (hi,wi,ci,ki,ti,pi) =(32,32,16, 1,16,  2)\n",
      "4.7524 s\n",
      "[MultParConv] (hi,wi,ci,ki,ti,pi) =(32,32,16, 1,16,  2)\n",
      "4.7195 s\n"
     ]
    }
   ],
   "source": [
    "ctxt2, outs1 = fhe_model.forward_bb(model.layer1[0], ctxt, outs0)"
   ]
  },
  {
   "cell_type": "code",
   "execution_count": 11,
   "id": "3558b8da",
   "metadata": {},
   "outputs": [
    {
     "name": "stdout",
     "output_type": "stream",
     "text": [
      "[ 2.29267628e+00  1.55754488e-01  2.07210187e-01  6.34624115e-01\n",
      "  1.73381882e+00  4.63571208e-11  9.20636667e-01  1.24996979e-01\n",
      "  7.27311266e-01  1.06821348e-10  4.58710870e-01  9.80976026e-01\n",
      " -6.73565785e-11  1.77517230e+00  1.86435264e-01  8.93211277e-01\n",
      "  9.10426754e-01  4.98329769e-04  1.02342104e+00  1.03988114e+00\n",
      "  1.41273578e+00  2.18611558e-11  1.30317306e-01  1.31060163e+00\n",
      "  1.66335217e-01  1.28632700e-10 -1.37378555e-10  1.61787374e-10\n",
      " -2.51920277e-12  7.86957636e-01  1.64642152e+00 -3.03935162e-12\n",
      "  8.46394818e-01]\n"
     ]
    }
   ],
   "source": [
    "print(ctxt2[::1000])"
   ]
  },
  {
   "cell_type": "code",
   "execution_count": 12,
   "id": "8945720e",
   "metadata": {},
   "outputs": [
    {
     "name": "stdout",
     "output_type": "stream",
     "text": [
      "[MultParConv] (hi,wi,ci,ki,ti,pi) =(32,32,16, 1,16,  2)\n",
      "4.6834 s\n",
      "[MultParConv] (hi,wi,ci,ki,ti,pi) =(32,32,16, 1,16,  2)\n",
      "4.7635 s\n"
     ]
    },
    {
     "name": "stderr",
     "output_type": "stream",
     "text": [
      "/home/hoseung/anaconda3/envs/fhe/lib/python3.10/site-packages/numpy/polynomial/polynomial.py:756: RuntimeWarning: overflow encountered in multiply\n",
      "  c0 = c[-i] + c0*x\n",
      "/home/hoseung/anaconda3/envs/fhe/lib/python3.10/site-packages/numpy/polynomial/polynomial.py:754: RuntimeWarning: invalid value encountered in multiply\n",
      "  c0 = c[-1] + x*0\n"
     ]
    }
   ],
   "source": [
    "ctxt2, outs1 = fhe_model.forward_bb(model.layer1[0], ctxt2, outs1)"
   ]
  },
  {
   "cell_type": "code",
   "execution_count": 14,
   "id": "d76caecc",
   "metadata": {
    "scrolled": true
   },
   "outputs": [
    {
     "name": "stdout",
     "output_type": "stream",
     "text": [
      "[MultParConv] (hi,wi,ci,ki,ti,pi) =(32,32, 3, 1, 3,  8)\n",
      "1.2153 s\n",
      "[MultParConv] (hi,wi,ci,ki,ti,pi) =(32,32,16, 1,16,  2)\n",
      "4.7146 s\n",
      "[MultParConv] (hi,wi,ci,ki,ti,pi) =(32,32,16, 1,16,  2)\n",
      "4.7215 s\n",
      "[MultParConv] (hi,wi,ci,ki,ti,pi) =(32,32,16, 1,16,  2)\n",
      "9.1421 s\n",
      "[MultParConv] (hi,wi,ci,ki,ti,pi) =(16,16,32, 2, 8,  4)\n",
      "4.3857 s\n",
      "[MultParConv] (hi,wi,ci,ki,ti,pi) =(32,32,16, 1,16,  2)\n",
      "1.3069 s\n",
      "[MultParConv] (hi,wi,ci,ki,ti,pi) =(16,16,32, 2, 8,  4)\n",
      "8.2088 s\n",
      "[MultParConv] (hi,wi,ci,ki,ti,pi) =( 8, 8,64, 4, 4,  8)\n",
      "4.0390 s\n",
      "[MultParConv] (hi,wi,ci,ki,ti,pi) =(16,16,32, 2, 8,  4)\n",
      "1.2497 s\n",
      "39.0005 s\n"
     ]
    }
   ],
   "source": [
    "t0 = time()\n",
    "result = fhe_model(img_tensor)\n",
    "print(f\"{time() - t0:.4f} s\")"
   ]
  },
  {
   "cell_type": "code",
   "execution_count": 15,
   "id": "2b96cb73",
   "metadata": {},
   "outputs": [
    {
     "data": {
      "text/plain": [
       "tensor([ -9.2678, -10.8151,  -3.1035,  -2.9026,  -9.4615,   4.3280,  -6.9753,\n",
       "         -3.5617,  -8.8841,  -7.5631], dtype=torch.float64)"
      ]
     },
     "execution_count": 15,
     "metadata": {},
     "output_type": "execute_result"
    }
   ],
   "source": [
    "torch.tensor(result[::64][:10])"
   ]
  }
 ],
 "metadata": {
  "kernelspec": {
   "display_name": "Python 3 (ipykernel)",
   "language": "python",
   "name": "python3"
  },
  "language_info": {
   "codemirror_mode": {
    "name": "ipython",
    "version": 3
   },
   "file_extension": ".py",
   "mimetype": "text/x-python",
   "name": "python",
   "nbconvert_exporter": "python",
   "pygments_lexer": "ipython3",
   "version": "3.10.11"
  },
  "vscode": {
   "interpreter": {
    "hash": "60d42a677e1abf850e158ee39e01a5d70da0f6529681f4a4eca4a35dff8a082c"
   }
  }
 },
 "nbformat": 4,
 "nbformat_minor": 5
}
