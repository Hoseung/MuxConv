{
 "cells": [
  {
   "cell_type": "code",
   "execution_count": 1,
   "id": "bfd4f7f8",
   "metadata": {},
   "outputs": [],
   "source": [
    "%load_ext autoreload\n",
    "%autoreload 2"
   ]
  },
  {
   "cell_type": "code",
   "execution_count": 2,
   "id": "c7907150",
   "metadata": {},
   "outputs": [],
   "source": [
    "from muxcnn.utils import *\n",
    "from muxcnn.hecnn_par import *\n",
    "from muxcnn.comparator import ApprRelu\n",
    "from icecream import ic\n",
    "import torch\n",
    "import torch.nn.functional as F"
   ]
  },
  {
   "cell_type": "markdown",
   "id": "acbd4950",
   "metadata": {},
   "source": [
    "## Torch model"
   ]
  },
  {
   "cell_type": "code",
   "execution_count": 3,
   "id": "8d430ea2",
   "metadata": {},
   "outputs": [],
   "source": [
    "from muxcnn.models.ResNet20 import ResNet, BasicBlock\n",
    "\n",
    "activation = F.relu\n",
    "\n",
    "model = ResNet(BasicBlock,[1,1,1])\n",
    "model.eval() ########## 필수! \n",
    "load_params(model, fn_param=\"./ResNet8.pt\",device='cpu')"
   ]
  },
  {
   "cell_type": "code",
   "execution_count": 4,
   "id": "c51f212b",
   "metadata": {},
   "outputs": [
    {
     "data": {
      "text/plain": [
       "ResNet(\n",
       "  (conv1): Conv2d(3, 16, kernel_size=(3, 3), stride=(1, 1), padding=(1, 1), bias=False)\n",
       "  (bn1): BatchNorm2d(16, eps=1e-05, momentum=0.1, affine=True, track_running_stats=True)\n",
       "  (layer1): Sequential(\n",
       "    (0): BasicBlock(\n",
       "      (conv1): Conv2d(16, 16, kernel_size=(3, 3), stride=(1, 1), padding=(1, 1), bias=False)\n",
       "      (bn1): BatchNorm2d(16, eps=1e-05, momentum=0.1, affine=False, track_running_stats=True)\n",
       "      (conv2): Conv2d(16, 16, kernel_size=(3, 3), stride=(1, 1), padding=(1, 1), bias=False)\n",
       "      (bn2): BatchNorm2d(16, eps=1e-05, momentum=0.1, affine=False, track_running_stats=True)\n",
       "      (shortcut): Sequential()\n",
       "    )\n",
       "  )\n",
       "  (layer2): Sequential(\n",
       "    (0): BasicBlock(\n",
       "      (conv1): Conv2d(16, 32, kernel_size=(3, 3), stride=(2, 2), padding=(1, 1), bias=False)\n",
       "      (bn1): BatchNorm2d(32, eps=1e-05, momentum=0.1, affine=False, track_running_stats=True)\n",
       "      (conv2): Conv2d(32, 32, kernel_size=(3, 3), stride=(1, 1), padding=(1, 1), bias=False)\n",
       "      (bn2): BatchNorm2d(32, eps=1e-05, momentum=0.1, affine=False, track_running_stats=True)\n",
       "      (shortcut): Sequential(\n",
       "        (0): Conv2d(16, 32, kernel_size=(1, 1), stride=(2, 2), bias=False)\n",
       "        (1): BatchNorm2d(32, eps=1e-05, momentum=0.1, affine=False, track_running_stats=True)\n",
       "      )\n",
       "    )\n",
       "  )\n",
       "  (layer3): Sequential(\n",
       "    (0): BasicBlock(\n",
       "      (conv1): Conv2d(32, 64, kernel_size=(3, 3), stride=(2, 2), padding=(1, 1), bias=False)\n",
       "      (bn1): BatchNorm2d(64, eps=1e-05, momentum=0.1, affine=False, track_running_stats=True)\n",
       "      (conv2): Conv2d(64, 64, kernel_size=(3, 3), stride=(1, 1), padding=(1, 1), bias=False)\n",
       "      (bn2): BatchNorm2d(64, eps=1e-05, momentum=0.1, affine=False, track_running_stats=True)\n",
       "      (shortcut): Sequential(\n",
       "        (0): Conv2d(32, 64, kernel_size=(1, 1), stride=(2, 2), bias=False)\n",
       "        (1): BatchNorm2d(64, eps=1e-05, momentum=0.1, affine=False, track_running_stats=True)\n",
       "      )\n",
       "    )\n",
       "  )\n",
       "  (linear): Linear(in_features=64, out_features=10, bias=True)\n",
       "  (avgpool): AvgPool2d(kernel_size=8, stride=8, padding=0)\n",
       ")"
      ]
     },
     "execution_count": 4,
     "metadata": {},
     "output_type": "execute_result"
    }
   ],
   "source": [
    "model"
   ]
  },
  {
   "cell_type": "code",
   "execution_count": 5,
   "id": "be34ed92",
   "metadata": {},
   "outputs": [],
   "source": [
    "img_tensor = load_img(\"./cute.jpg\", hi=32, wi=32)"
   ]
  },
  {
   "cell_type": "markdown",
   "id": "5b9e84c4",
   "metadata": {},
   "source": [
    "1. Pytorch 모델 순서대로 풀기 \n",
    "2. Downsampling 역할 확실히 \n",
    "3. AVG Pool 적용\n",
    "4. FC 적용\n",
    "5. Activation 적용\n",
    "6. 완성\n",
    "7. Simulator로 변환\n",
    "8. HEAAN으로 변환 "
   ]
  },
  {
   "cell_type": "code",
   "execution_count": 13,
   "id": "b305975a",
   "metadata": {},
   "outputs": [
    {
     "name": "stdout",
     "output_type": "stream",
     "text": [
      "after BN tensor(-5.1674, grad_fn=<MinBackward1>) tensor(6.1957, grad_fn=<MaxBackward1>)\n",
      "after BN tensor(-6.9089, grad_fn=<MinBackward1>) tensor(4.9942, grad_fn=<MaxBackward1>)\n",
      "after BN tensor(-6.3457, grad_fn=<MinBackward1>) tensor(7.9678, grad_fn=<MaxBackward1>)\n",
      "after BN tensor(-5.7823, grad_fn=<MinBackward1>) tensor(5.7063, grad_fn=<MaxBackward1>)\n",
      "after BN tensor(-8.9524, grad_fn=<MinBackward1>) tensor(6.3666, grad_fn=<MaxBackward1>)\n",
      "after BN tensor(-4.8953, grad_fn=<MinBackward1>) tensor(4.2816, grad_fn=<MaxBackward1>)\n",
      "after BN tensor(-4.5479, grad_fn=<MinBackward1>) tensor(6.0798, grad_fn=<MaxBackward1>)\n"
     ]
    }
   ],
   "source": [
    "out, smaxed = forward(model, img_tensor, do_activation=True)"
   ]
  },
  {
   "cell_type": "code",
   "execution_count": 6,
   "id": "8bc68ada",
   "metadata": {},
   "outputs": [
    {
     "name": "stdout",
     "output_type": "stream",
     "text": [
      "tensor([[-1.3450e+01, -1.5208e+01, -7.1236e+00, -7.0674e+00, -1.3500e+01,\n",
      "         -2.0791e-03, -1.1022e+01, -7.8494e+00, -1.3094e+01, -1.1840e+01]],\n",
      "       grad_fn=<LogSoftmaxBackward0>)\n"
     ]
    }
   ],
   "source": [
    "print(model(img_tensor))"
   ]
  },
  {
   "cell_type": "code",
   "execution_count": 12,
   "id": "dad768fd",
   "metadata": {},
   "outputs": [
    {
     "data": {
      "text/plain": [
       "tensor(1.)"
      ]
     },
     "execution_count": 12,
     "metadata": {},
     "output_type": "execute_result"
    }
   ],
   "source": [
    "img_tensor.max()"
   ]
  },
  {
   "cell_type": "markdown",
   "id": "976d8f8b",
   "metadata": {},
   "source": [
    "# Activation"
   ]
  },
  {
   "cell_type": "code",
   "execution_count": 8,
   "id": "0c7b4ce6",
   "metadata": {},
   "outputs": [],
   "source": [
    "from muxcnn.comparator import appr_relu\n",
    "#xin = np.linspace(-19, 19, 100000)\n",
    "#rappx = appr_relu(xin, xmin=-20, xmax=20, alpha=12)"
   ]
  },
  {
   "cell_type": "code",
   "execution_count": 15,
   "id": "d4a29335",
   "metadata": {},
   "outputs": [
    {
     "data": {
      "text/plain": [
       "array([[-1.3449995e+01, -1.5208085e+01, -7.1236320e+00, -7.0673981e+00,\n",
       "        -1.3499517e+01, -2.0791122e-03, -1.1021677e+01, -7.8493834e+00,\n",
       "        -1.3094085e+01, -1.1839599e+01]], dtype=float32)"
      ]
     },
     "execution_count": 15,
     "metadata": {},
     "output_type": "execute_result"
    }
   ],
   "source": [
    "smaxed"
   ]
  },
  {
   "cell_type": "code",
   "execution_count": 16,
   "id": "11b213f6",
   "metadata": {},
   "outputs": [
    {
     "data": {
      "text/plain": [
       "tensor([[-1.3450e+01, -1.5208e+01, -7.1236e+00, -7.0674e+00, -1.3500e+01,\n",
       "         -2.0791e-03, -1.1022e+01, -7.8494e+00, -1.3094e+01, -1.1840e+01]],\n",
       "       grad_fn=<LogSoftmaxBackward0>)"
      ]
     },
     "execution_count": 16,
     "metadata": {},
     "output_type": "execute_result"
    }
   ],
   "source": [
    "model(img_tensor)"
   ]
  },
  {
   "cell_type": "code",
   "execution_count": 68,
   "id": "242e4137",
   "metadata": {},
   "outputs": [
    {
     "data": {
      "text/plain": [
       "[<matplotlib.lines.Line2D at 0x7f7bd1ce7370>]"
      ]
     },
     "execution_count": 68,
     "metadata": {},
     "output_type": "execute_result"
    },
    {
     "data": {
      "image/png": "[encoded data removed]",
      "text/plain": [
       "<Figure size 640x480 with 1 Axes>"
      ]
     },
     "metadata": {},
     "output_type": "display_data"
    }
   ],
   "source": [
    "plt.plot(xin, rappx)\n",
    "#xin[xin<0] = 0\n",
    "#plt.plot(xin)\n",
    "\n",
    "#plt.plot(relu - rappx)"
   ]
  },
  {
   "cell_type": "markdown",
   "id": "60cedec8",
   "metadata": {},
   "source": [
    "## Activation auto scaling"
   ]
  },
  {
   "cell_type": "code",
   "execution_count": null,
   "id": "b2644ab2",
   "metadata": {},
   "outputs": [],
   "source": []
  },
  {
   "cell_type": "code",
   "execution_count": 9,
   "id": "80edcd89",
   "metadata": {},
   "outputs": [],
   "source": [
    "from muxcnn.resnet_fhe import ResNetFHE"
   ]
  },
  {
   "cell_type": "code",
   "execution_count": 10,
   "id": "1803bb6b",
   "metadata": {},
   "outputs": [
    {
     "name": "stdout",
     "output_type": "stream",
     "text": [
      "functions set\n",
      "degrees = [15, 15, 15, 15], margin = 0.01, eps = 0.02\n"
     ]
    }
   ],
   "source": [
    "fhe_model = ResNetFHE(model, alpha=12)"
   ]
  },
  {
   "cell_type": "code",
   "execution_count": 11,
   "id": "d76caecc",
   "metadata": {},
   "outputs": [
    {
     "name": "stdout",
     "output_type": "stream",
     "text": [
      "[MultParConv] (hi,wi,ci,ki,ti,pi) =(32,32, 3, 1, 3,  8)\n",
      "[MultParConv] (ho,wo,co,ko,to,po) =(32,32,16, 1,16,  2)\n",
      "[MultParConv] q = 2\n",
      "[MultParConv] (hi,wi,ci,ki,ti,pi) =(32,32,16, 1,16,  2)\n",
      "[MultParConv] (ho,wo,co,ko,to,po) =(32,32,16, 1,16,  2)\n",
      "[MultParConv] q = 8\n",
      "[MultParConv] (hi,wi,ci,ki,ti,pi) =(32,32,16, 1,16,  2)\n",
      "[MultParConv] (ho,wo,co,ko,to,po) =(32,32,16, 1,16,  2)\n",
      "[MultParConv] q = 8\n",
      "[MultParConv] (hi,wi,ci,ki,ti,pi) =(32,32,16, 1,16,  2)\n",
      "[MultParConv] (ho,wo,co,ko,to,po) =(16,16,32, 2, 8,  4)\n",
      "[MultParConv] q = 16\n",
      "[MultParConv] (hi,wi,ci,ki,ti,pi) =(16,16,32, 2, 8,  4)\n",
      "[MultParConv] (ho,wo,co,ko,to,po) =(16,16,32, 2, 8,  4)\n",
      "[MultParConv] q = 8\n",
      "[MultParConv] (hi,wi,ci,ki,ti,pi) =(32,32,16, 1,16,  2)\n",
      "[MultParConv] (ho,wo,co,ko,to,po) =(16,16,32, 2, 8,  4)\n",
      "[MultParConv] q = 16\n",
      "[MultParConv] (hi,wi,ci,ki,ti,pi) =(16,16,32, 2, 8,  4)\n",
      "[MultParConv] (ho,wo,co,ko,to,po) =( 8, 8,64, 4, 4,  8)\n",
      "[MultParConv] q = 16\n",
      "[MultParConv] (hi,wi,ci,ki,ti,pi) =( 8, 8,64, 4, 4,  8)\n",
      "[MultParConv] (ho,wo,co,ko,to,po) =( 8, 8,64, 4, 4,  8)\n",
      "[MultParConv] q = 8\n",
      "[MultParConv] (hi,wi,ci,ki,ti,pi) =(16,16,32, 2, 8,  4)\n",
      "[MultParConv] (ho,wo,co,ko,to,po) =( 8, 8,64, 4, 4,  8)\n",
      "[MultParConv] q = 16\n"
     ]
    }
   ],
   "source": [
    "result = fhe_model(img_tensor)"
   ]
  },
  {
   "cell_type": "code",
   "execution_count": 19,
   "id": "b649b49c",
   "metadata": {},
   "outputs": [
    {
     "name": "stderr",
     "output_type": "stream",
     "text": [
      "/tmp/ipykernel_70355/833395615.py:1: UserWarning: Implicit dimension choice for log_softmax has been deprecated. Change the call to include dim=X as an argument.\n",
      "  F.log_softmax(torch.tensor(result[::64][:10]))\n"
     ]
    },
    {
     "data": {
      "text/plain": [
       "tensor([-1.3598e+01, -1.5145e+01, -7.4333e+00, -7.2324e+00, -1.3791e+01,\n",
       "        -1.7128e-03, -1.1305e+01, -7.8917e+00, -1.3214e+01, -1.1893e+01],\n",
       "       dtype=torch.float64)"
      ]
     },
     "execution_count": 19,
     "metadata": {},
     "output_type": "execute_result"
    }
   ],
   "source": [
    "F.log_softmax(torch.tensor(result[::64][:10]))"
   ]
  },
  {
   "cell_type": "code",
   "execution_count": null,
   "id": "333d7da1",
   "metadata": {},
   "outputs": [],
   "source": []
  },
  {
   "cell_type": "code",
   "execution_count": null,
   "id": "0757f17c",
   "metadata": {},
   "outputs": [],
   "source": []
  },
  {
   "cell_type": "code",
   "execution_count": null,
   "id": "875a264e",
   "metadata": {},
   "outputs": [],
   "source": []
  },
  {
   "cell_type": "code",
   "execution_count": 71,
   "id": "1be1b257",
   "metadata": {},
   "outputs": [
    {
     "data": {
      "text/plain": [
       "(array([[ -9.3004675, -11.0585575,  -2.9741044,  -2.9178703,  -9.34999  ,\n",
       "           4.1474485,  -6.872149 ,  -3.6998558,  -8.944557 ,  -7.690071 ]],\n",
       "       dtype=float32),\n",
       " array([[-1.3449995e+01, -1.5208085e+01, -7.1236320e+00, -7.0673981e+00,\n",
       "         -1.3499517e+01, -2.0791122e-03, -1.1021677e+01, -7.8493834e+00,\n",
       "         -1.3094085e+01, -1.1839599e+01]], dtype=float32))"
      ]
     },
     "execution_count": 71,
     "metadata": {},
     "output_type": "execute_result"
    }
   ],
   "source": [
    "do_activation = True\n",
    "\n",
    "res1_ = model.conv1(img_tensor)\n",
    "res1 = model.bn1(res1_)\n",
    "if do_activation: res1 = model.activation(res1)\n",
    "\n",
    "### basicblock1 (no striding)\n",
    "res2_ = model.layer1[0].conv1(res1)\n",
    "res2 = model.layer1[0].bn1(res2_)\n",
    "if do_activation: res2 = model.activation(res2)\n",
    "\n",
    "res3_ = model.layer1[0].conv2(res2)\n",
    "res3 = model.layer1[0].bn2(res3_)\n",
    "res3 += res1 # simply add\n",
    "if do_activation: res3 = model.activation(res3)\n",
    "\n",
    "#### basicblock2\n",
    "res4_ = model.layer2[0].conv1(res3)\n",
    "res4 = model.layer2[0].bn1(res4_)\n",
    "if do_activation: res4 = model.activation(res4)\n",
    "\n",
    "res5_ = model.layer2[0].conv2(res4)\n",
    "res5 = model.layer2[0].bn2(res5_)\n",
    "\n",
    "# basicblock2 - shortcut\n",
    "sc1_conv1, sc1_bn1 = model.layer2[0].shortcut\n",
    "sc1 = sc1_bn1(sc1_conv1(res3))\n",
    "res5 += sc1\n",
    "if do_activation: res5 = model.activation(res5)\n",
    "\n",
    "#### basicblock3\n",
    "res6_ = model.layer3[0].conv1(res5)\n",
    "res6 = model.layer3[0].bn1(res6_)\n",
    "if do_activation: res6 = model.activation(res6)\n",
    "\n",
    "res7_ = model.layer3[0].conv2(res6)\n",
    "res7_ = model.layer3[0].bn2(res7_)\n",
    "\n",
    "# basicblock3 - shortcut\n",
    "sc2_conv1, sc2_bn1 = model.layer3[0].shortcut\n",
    "sc2 = sc2_bn1(sc2_conv1(res5))\n",
    "res7 = res7_ +sc2\n",
    "if do_activation: res7 = model.activation(res7)\n",
    "\n",
    "# terminal\n",
    "res_avg = model.avgpool(res7)\n",
    "res_flat = torch.flatten(res_avg, 1)\n",
    "res_linear = model.linear(res_flat)\n",
    "res_softmax = F.log_softmax(res_linear, dim=1)\n",
    "\n",
    "res_linear.detach().numpy(), res_softmax.detach().numpy()\n"
   ]
  },
  {
   "cell_type": "markdown",
   "id": "a1276577",
   "metadata": {},
   "source": [
    "# FHE"
   ]
  },
  {
   "cell_type": "code",
   "execution_count": null,
   "id": "c10e6b2a",
   "metadata": {},
   "outputs": [],
   "source": []
  },
  {
   "cell_type": "code",
   "execution_count": 10,
   "id": "342bdbc9",
   "metadata": {},
   "outputs": [],
   "source": [
    "from muxcnn.models import ResNet20\n",
    "\n"
   ]
  },
  {
   "cell_type": "code",
   "execution_count": 13,
   "id": "2494214c",
   "metadata": {},
   "outputs": [],
   "source": []
  },
  {
   "cell_type": "code",
   "execution_count": 147,
   "id": "b21b73a0",
   "metadata": {},
   "outputs": [],
   "source": [
    "ctxt = AVGPool(ctxt, outs3, nslots)\n",
    "result = forward_linear(ctxt, model.linear)"
   ]
  },
  {
   "cell_type": "code",
   "execution_count": 148,
   "id": "745a7b9b",
   "metadata": {},
   "outputs": [
    {
     "data": {
      "text/plain": [
       "array([ -9.26779364, -10.59266017, -10.51080964, ...,  -9.02272839,\n",
       "        -8.92453475,  -9.06375378])"
      ]
     },
     "execution_count": 148,
     "metadata": {},
     "output_type": "execute_result"
    }
   ],
   "source": [
    "result"
   ]
  },
  {
   "cell_type": "code",
   "execution_count": 14,
   "id": "dd4af641",
   "metadata": {},
   "outputs": [
    {
     "name": "stdout",
     "output_type": "stream",
     "text": [
      "functions set\n",
      "degrees = [15, 15, 15, 15], margin = 0.01, eps = 0.02\n",
      "[MultParConv] (hi,wi,ci,ki,ti,pi) =(32,32, 3, 1, 3,  8)\n",
      "[MultParConv] (ho,wo,co,ko,to,po) =(32,32,16, 1,16,  2)\n",
      "[MultParConv] q = 2\n",
      "[MultParConv] (hi,wi,ci,ki,ti,pi) =(32,32,16, 1,16,  2)\n",
      "[MultParConv] (ho,wo,co,ko,to,po) =(32,32,16, 1,16,  2)\n",
      "[MultParConv] q = 8\n"
     ]
    },
    {
     "ename": "NameError",
     "evalue": "name 'apr_relu' is not defined",
     "output_type": "error",
     "traceback": [
      "\u001b[0;31m---------------------------------------------------------------------------\u001b[0m",
      "\u001b[0;31mNameError\u001b[0m                                 Traceback (most recent call last)",
      "Cell \u001b[0;32mIn [14], line 1\u001b[0m\n\u001b[0;32m----> 1\u001b[0m result \u001b[38;5;241m=\u001b[39m \u001b[43mforward\u001b[49m\u001b[43m(\u001b[49m\u001b[43mmodel\u001b[49m\u001b[43m,\u001b[49m\u001b[43m \u001b[49m\u001b[43mimg_tensor\u001b[49m\u001b[43m)\u001b[49m\n",
      "Cell \u001b[0;32mIn [13], line 16\u001b[0m, in \u001b[0;36mforward\u001b[0;34m(model, img_tensor, alpha)\u001b[0m\n\u001b[1;32m     12\u001b[0m ctxt, un1 \u001b[38;5;241m=\u001b[39m forward_convbn_par(model\u001b[38;5;241m.\u001b[39mconv1, \n\u001b[1;32m     13\u001b[0m                                model\u001b[38;5;241m.\u001b[39mbn1, ct_a, ins0)\n\u001b[1;32m     14\u001b[0m ctxt \u001b[38;5;241m=\u001b[39m apr_relu(ctxt)\n\u001b[0;32m---> 16\u001b[0m ctxt, outs1 \u001b[38;5;241m=\u001b[39m \u001b[43mforward_bb\u001b[49m\u001b[43m(\u001b[49m\u001b[43mmodel\u001b[49m\u001b[38;5;241;43m.\u001b[39;49m\u001b[43mlayer1\u001b[49m\u001b[43m[\u001b[49m\u001b[38;5;241;43m0\u001b[39;49m\u001b[43m]\u001b[49m\u001b[43m,\u001b[49m\u001b[43m \u001b[49m\u001b[43mctxt\u001b[49m\u001b[43m,\u001b[49m\u001b[43m \u001b[49m\u001b[43mouts0\u001b[49m\u001b[43m)\u001b[49m\n\u001b[1;32m     17\u001b[0m ctxt, outs2 \u001b[38;5;241m=\u001b[39m forward_bb(model\u001b[38;5;241m.\u001b[39mlayer2[\u001b[38;5;241m0\u001b[39m], ctxt, outs1)\n\u001b[1;32m     18\u001b[0m ctxt, outs3 \u001b[38;5;241m=\u001b[39m forward_bb(model\u001b[38;5;241m.\u001b[39mlayer3[\u001b[38;5;241m0\u001b[39m], ctxt, outs2)\n",
      "Cell \u001b[0;32mIn [10], line 7\u001b[0m, in \u001b[0;36mforward_bb\u001b[0;34m(bb, ctxt_in, outs_in)\u001b[0m\n\u001b[1;32m      4\u001b[0m U, ins, outs \u001b[38;5;241m=\u001b[39m get_conv_params(bb\u001b[38;5;241m.\u001b[39mconv1, outs_in)\n\u001b[1;32m      5\u001b[0m ctxt, un \u001b[38;5;241m=\u001b[39m forward_convbn_par(bb\u001b[38;5;241m.\u001b[39mconv1,\n\u001b[1;32m      6\u001b[0m                               bb\u001b[38;5;241m.\u001b[39mbn1, ctxt_in, ins)\n\u001b[0;32m----> 7\u001b[0m ctxt \u001b[38;5;241m=\u001b[39m \u001b[43mapr_relu\u001b[49m(ctxt)\n\u001b[1;32m      9\u001b[0m U, ins, outs \u001b[38;5;241m=\u001b[39m get_conv_params(bb\u001b[38;5;241m.\u001b[39mconv2, outs)\n\u001b[1;32m     10\u001b[0m ctxt, un \u001b[38;5;241m=\u001b[39m forward_convbn_par(bb\u001b[38;5;241m.\u001b[39mconv2,\n\u001b[1;32m     11\u001b[0m                               bb\u001b[38;5;241m.\u001b[39mbn2, ctxt, ins)\n",
      "\u001b[0;31mNameError\u001b[0m: name 'apr_relu' is not defined"
     ]
    }
   ],
   "source": [
    "result = forward(model, img_tensor)"
   ]
  },
  {
   "cell_type": "code",
   "execution_count": 139,
   "id": "0141c2ed",
   "metadata": {},
   "outputs": [
    {
     "data": {
      "text/plain": [
       "[<matplotlib.lines.Line2D at 0x7f7bc9c93700>]"
      ]
     },
     "execution_count": 139,
     "metadata": {},
     "output_type": "execute_result"
    },
    {
     "data": {
      "image/png": "[encoded data removed]",
      "text/plain": [
       "<Figure size 640x480 with 1 Axes>"
      ]
     },
     "metadata": {},
     "output_type": "display_data"
    }
   ],
   "source": [
    "flattened = AVGPool(ctxt, outs3, nslots)\n",
    "\n",
    "plt.plot(flattened[:64])\n",
    "plt.plot(res_flat[0].detach().numpy())"
   ]
  },
  {
   "cell_type": "code",
   "execution_count": null,
   "id": "c729e987",
   "metadata": {},
   "outputs": [],
   "source": []
  },
  {
   "cell_type": "code",
   "execution_count": null,
   "id": "916f67cd",
   "metadata": {},
   "outputs": [],
   "source": []
  },
  {
   "cell_type": "code",
   "execution_count": null,
   "id": "af306398",
   "metadata": {},
   "outputs": [],
   "source": []
  },
  {
   "cell_type": "code",
   "execution_count": null,
   "id": "c7b6d958",
   "metadata": {},
   "outputs": [],
   "source": []
  },
  {
   "cell_type": "code",
   "execution_count": 72,
   "id": "c8a2ec73",
   "metadata": {},
   "outputs": [
    {
     "name": "stdout",
     "output_type": "stream",
     "text": [
      "[MultParConv] (hi,wi,ci,ki,ti,pi) =(32,32, 3, 1, 3,  8)\n",
      "[MultParConv] (ho,wo,co,ko,to,po) =(32,32,16, 1,16,  2)\n",
      "[MultParConv] q = 2\n",
      "[MultParConv] (hi,wi,ci,ki,ti,pi) =(32,32,16, 1,16,  2)\n",
      "[MultParConv] (ho,wo,co,ko,to,po) =(32,32,16, 1,16,  2)\n",
      "[MultParConv] q = 8\n",
      "[MultParConv] (hi,wi,ci,ki,ti,pi) =(32,32,16, 1,16,  2)\n",
      "[MultParConv] (ho,wo,co,ko,to,po) =(32,32,16, 1,16,  2)\n",
      "[MultParConv] q = 8\n"
     ]
    }
   ],
   "source": [
    "nslots = 2**15\n",
    "\n",
    "imgl = get_channel_last(img_tensor[0].detach().numpy())\n",
    "ki = 1\n",
    "hi, wi, ch = imgl.shape\n",
    "\n",
    "\n",
    "U, ins1, outs1 = get_conv_params(model.conv1, {'k':ki, 'h':hi, 'w':wi})\n",
    "ct_a = MultParPack(imgl, ins1)\n",
    "out1, un1 = forward_convbn_par(model.conv1, \n",
    "                              model.bn1, ct_a, ins1)\n",
    "if do_activation:\n",
    "    out1 = appr_relu(out1, xmin=-10, xmax=10, alpha=12)\n",
    "\n",
    "\n",
    "    \n",
    "    \n",
    "    \n",
    "    \n",
    "    U, ins2, outs2 = get_conv_params(model.layer1[0].conv1, outs1)\n",
    "out2, un2 = forward_convbn_par(model.layer1[0].conv1,\n",
    "                              model.layer1[0].bn1, out1, ins2)\n",
    "if do_activation:\n",
    "    out2 = appr_relu(out2, xmin=-10, xmax=10, alpha=12)\n",
    "\n",
    "U, ins3, outs3 = get_conv_params(model.layer1[0].conv2, outs2)\n",
    "out3, un3 = forward_convbn_par(model.layer1[0].conv2,\n",
    "                              model.layer1[0].bn2, out2, ins3)\n",
    "\n",
    "out3 += out1 # No downsampling\n",
    "\n",
    "if do_activation:\n",
    "    out3 = appr_relu(out3, xmin=-10, xmax=10, alpha=12)\n",
    "\n",
    "un3_sc = unpack(out3, outs3)\n",
    "compare(res3, un3_sc, ch=7, fn=\"layer3_with_shortcut.png\")\n"
   ]
  },
  {
   "cell_type": "markdown",
   "id": "e8555022",
   "metadata": {},
   "source": [
    "### Layer 2"
   ]
  },
  {
   "cell_type": "code",
   "execution_count": 74,
   "id": "b9cee4ff",
   "metadata": {},
   "outputs": [
    {
     "name": "stdout",
     "output_type": "stream",
     "text": [
      "[MultParConv] (hi,wi,ci,ki,ti,pi) =(32,32,16, 1,16,  2)\n",
      "[MultParConv] (ho,wo,co,ko,to,po) =(16,16,32, 2, 8,  4)\n",
      "[MultParConv] q = 16\n",
      "[MultParConv] (hi,wi,ci,ki,ti,pi) =(16,16,32, 2, 8,  4)\n",
      "[MultParConv] (ho,wo,co,ko,to,po) =(16,16,32, 2, 8,  4)\n",
      "[MultParConv] q = 8\n",
      "[MultParConv] (hi,wi,ci,ki,ti,pi) =(32,32,16, 1,16,  2)\n",
      "[MultParConv] (ho,wo,co,ko,to,po) =(16,16,32, 2, 8,  4)\n",
      "[MultParConv] q = 16\n"
     ]
    }
   ],
   "source": [
    "U, ins4, outs4 = get_conv_params(model.layer2[0].conv1, outs3)\n",
    "out4, un4 = forward_convbn_par(model.layer2[0].conv1,\n",
    "                              model.layer2[0].bn1, out3, ins4)\n",
    "if do_activation:\n",
    "    out4 = appr_relu(out4, xmin=-10, xmax=10, alpha=12)\n",
    "\n",
    "compare(res4, un4, ch=0, fn=\"layer4.png\")\n",
    "compare(res4, un4, ch=7, fn=\"layer4.png\")\n",
    "\n",
    "U, ins5, outs5 = get_conv_params(model.layer2[0].conv2, outs4)\n",
    "out5_, un5 = forward_convbn_par(model.layer2[0].conv2,\n",
    "                              model.layer2[0].bn2, out4, ins5)\n",
    "\n",
    "# Shortcut\n",
    "convl, bnl = model.layer2[0].shortcut\n",
    "\n",
    "U, ins4s, outs4s = get_conv_params(convl, outs3)\n",
    "out4s, un4s = forward_convbn_par(convl,\n",
    "                                bnl, out3, ins4s, (1,1))# kernel 1,1\n",
    "\n",
    "compare(sc1, un4s, ch=7, fn=\"layer5_with_shortcut.png\")\n",
    "\n",
    "out5 = out5_ + out4s\n",
    "if do_activation:\n",
    "    out5 = appr_relu(out5, xmin=-10, xmax=10, alpha=12)\n",
    "\n",
    "un5 = unpack(out5, outs5)\n",
    "compare(res5, un5, ch=7, fn=\"layer5_final.png\")"
   ]
  },
  {
   "cell_type": "markdown",
   "id": "4adba50d",
   "metadata": {},
   "source": [
    "## Layer3"
   ]
  },
  {
   "cell_type": "code",
   "execution_count": 75,
   "id": "0fd519c8",
   "metadata": {},
   "outputs": [
    {
     "name": "stdout",
     "output_type": "stream",
     "text": [
      "[MultParConv] (hi,wi,ci,ki,ti,pi) =(16,16,32, 2, 8,  4)\n",
      "[MultParConv] (ho,wo,co,ko,to,po) =( 8, 8,64, 4, 4,  8)\n",
      "[MultParConv] q = 16\n",
      "[MultParConv] (hi,wi,ci,ki,ti,pi) =( 8, 8,64, 4, 4,  8)\n",
      "[MultParConv] (ho,wo,co,ko,to,po) =( 8, 8,64, 4, 4,  8)\n",
      "[MultParConv] q = 8\n",
      "[MultParConv] (hi,wi,ci,ki,ti,pi) =(16,16,32, 2, 8,  4)\n",
      "[MultParConv] (ho,wo,co,ko,to,po) =( 8, 8,64, 4, 4,  8)\n",
      "[MultParConv] q = 16\n"
     ]
    }
   ],
   "source": [
    "U, ins6, outs6 = get_conv_params(model.layer3[0].conv1, outs5)\n",
    "out6, un6 = forward_convbn_par(model.layer3[0].conv1,\n",
    "                               model.layer3[0].bn1, out5, ins6)\n",
    "if do_activation:\n",
    "    out6 = appr_relu(out6, xmin=-20, xmax=20, alpha=12)\n",
    "\n",
    "compare(res6_, un6, ch=0, fn=\"layer6.png\")\n",
    "compare(res6_, un6, ch=7, fn=\"layer6.png\")\n",
    "\n",
    "U, ins7, outs7 = get_conv_params(model.layer3[0].conv2, outs6)\n",
    "out7, un7_ = forward_convbn_par(model.layer3[0].conv2, \n",
    "                              model.layer3[0].bn2, out6, ins7)\n",
    "compare(res7_, un7_, ch=0, fn=\"layer7_.png\")\n",
    "compare(res7_, un7_, ch=7, fn=\"layer7_.png\")\n",
    "\n",
    "convl, bnl = model.layer3[0].shortcut\n",
    "\n",
    "U, ins6s, outs6s = get_conv_params(convl, outs5)\n",
    "out6s, un6s = forward_convbn_par(convl,\n",
    "                                 bnl, out5, ins6s, (1,1))# kernel 1,1\n",
    "\n",
    "compare(sc2, un6s, ch=7, fn=\"layer7_with_shortcut.png\")\n",
    "\n",
    "out7 = out7 + out6s\n",
    "if do_activation:\n",
    "    out7 = appr_relu(out7, xmin=-20, xmax=20, alpha=12)\n",
    "\n",
    "\n",
    "un7 = unpack(out7, outs7)\n",
    "compare(res7, un7, ch=0, fn=\"layer7_2.png\")\n",
    "compare(res7, un7, ch=7, fn=\"layer7_2.png\")"
   ]
  },
  {
   "cell_type": "markdown",
   "id": "18137648",
   "metadata": {},
   "source": [
    "## AVG Pooling"
   ]
  },
  {
   "cell_type": "code",
   "execution_count": 76,
   "id": "dc0baf63",
   "metadata": {},
   "outputs": [],
   "source": [
    "flattened = AVGPool(out7, outs7, nslots)\n",
    "\n",
    "plt.plot(flattened[:64])\n",
    "plt.plot(res_flat[0].detach().numpy())"
   ]
  },
  {
   "cell_type": "markdown",
   "id": "c446b2b1",
   "metadata": {},
   "source": [
    "# Linear "
   ]
  },
  {
   "cell_type": "code",
   "execution_count": 144,
   "id": "a1621cf4",
   "metadata": {},
   "outputs": [],
   "source": [
    "def forward_linear(ctxt, linearl:torch.nn.modules.Linear):\n",
    "    no, ni = linearl.weight.shape\n",
    "\n",
    "    weight_vec = np.zeros(nslots)\n",
    "    weight_vec[:no*ni] = np.ravel(linearl.weight.detach().numpy())\n",
    "\n",
    "    # make 10 copies of 64 flattened values\n",
    "    for i in range(ceil(np.log2(no))):\n",
    "        ctxt += np.roll(ctxt, 2**i*ni)\n",
    "\n",
    "    # multiply 64 * 10 at once\n",
    "    # AVGPool에서 S_vec를 조절하면 이 단계의 일부를 미리 수행할 수 있음 !!\n",
    "    ctxt = weight_vec * ctxt\n",
    "\n",
    "    # Sum 64 numbers each \n",
    "    for j in range(int(np.log2(ni))):\n",
    "        ctxt += np.roll(ctxt, -2**j)\n",
    "\n",
    "    return ctxt"
   ]
  },
  {
   "cell_type": "code",
   "execution_count": 145,
   "id": "997079cf",
   "metadata": {},
   "outputs": [],
   "source": [
    "multed2 = forward_linear(flattened, model.linear)"
   ]
  },
  {
   "cell_type": "code",
   "execution_count": null,
   "id": "2ef2ea03",
   "metadata": {},
   "outputs": [],
   "source": []
  },
  {
   "cell_type": "code",
   "execution_count": null,
   "id": "f3af31a2",
   "metadata": {},
   "outputs": [],
   "source": []
  },
  {
   "cell_type": "code",
   "execution_count": null,
   "id": "eb402db9",
   "metadata": {},
   "outputs": [],
   "source": []
  },
  {
   "cell_type": "code",
   "execution_count": 78,
   "id": "19068bc5",
   "metadata": {},
   "outputs": [],
   "source": [
    "no, ni = model.linear.weight.shape\n",
    "\n",
    "weight_vec = np.zeros(nslots)\n",
    "weight_vec[:no*ni] = np.ravel(model.linear.weight.detach().numpy())\n",
    "\n",
    "# make 10 copies of 64 flattened values\n",
    "for i in range(ceil(np.log2(no))):\n",
    "    flattened += np.roll(flattened, 2**i*ni)\n",
    "\n",
    "# multiply 64 * 10 at once\n",
    "# AVGPool에서 S_vec를 조절하면 이 단계의 일부를 미리 수행할 수 있음 !!\n",
    "multed = weight_vec * flattened\n",
    "\n",
    "# Sum 64 numbers each \n",
    "for j in range(int(np.log2(ni))):\n",
    "    multed += np.roll(multed, -2**j)"
   ]
  },
  {
   "cell_type": "code",
   "execution_count": 82,
   "id": "f858cfdf",
   "metadata": {},
   "outputs": [
    {
     "data": {
      "text/plain": [
       "array([ -9.26866253, -10.81576363,  -3.103708  ,  -2.90243047,\n",
       "        -9.46088434,   4.32840621,  -6.97467135,  -3.56178458,\n",
       "        -8.88420169,  -7.56295177])"
      ]
     },
     "execution_count": 82,
     "metadata": {},
     "output_type": "execute_result"
    }
   ],
   "source": [
    "# 0~9 slot으로 굳이 모아야할까? \n",
    "print(multed[::64][:10],\n",
    "      res_linear)\n",
    "\n",
    "print(np.argmax(multed[::64][:10]),\n",
    "      np.argmax(res_linear.detach().numpy()),\n",
    "      np.argmax(res_softmax.detach().numpy()))"
   ]
  },
  {
   "cell_type": "code",
   "execution_count": null,
   "id": "19c385a1",
   "metadata": {},
   "outputs": [],
   "source": []
  },
  {
   "cell_type": "code",
   "execution_count": null,
   "id": "c0a72d3b",
   "metadata": {},
   "outputs": [],
   "source": []
  },
  {
   "cell_type": "code",
   "execution_count": null,
   "id": "b602564d",
   "metadata": {},
   "outputs": [],
   "source": []
  },
  {
   "cell_type": "markdown",
   "id": "6cb385ec",
   "metadata": {},
   "source": [
    "# Testing"
   ]
  },
  {
   "cell_type": "code",
   "execution_count": 62,
   "id": "c3844e34",
   "metadata": {},
   "outputs": [
    {
     "name": "stdout",
     "output_type": "stream",
     "text": [
      "[MultParConv] (hi,wi,ci,ki,ti,pi) =(32,32,16, 1,16,  2)\n",
      "[MultParConv] (ho,wo,co,ko,to,po) =(32,32,16, 1,16,  2)\n",
      "[MultParConv] q = 8\n"
     ]
    }
   ],
   "source": [
    "def run_compare(img_tensor, img, convl, bnl, ins):\n",
    "    # Torch\n",
    "    tout = bnl(convl(img_tensor))\n",
    "    # FHE\n",
    "    U, ins_new, outs_new = get_conv_params(convl, ins)\n",
    "    out_new, un_new = forward_convbn_par(convl, bnl, img, ins_new)\n",
    "    return out_new, un_new, ins_new, tout\n",
    "    \n",
    "    \n",
    "def run_bn(img, convl, bnl, ins):\n",
    "    U, ins_new, outs_new = get_conv_params(convl, ins)\n",
    "    out_new, un_new = forward_convbn_par(convl, bnl, img, ins_new)\n",
    "    return out_new, un_new, ins_new\n",
    "    \n",
    "U, ins2, outs2 = get_conv_params(model.layer1[0].conv1, ins)\n",
    "out2b, un2b = forward_convbn_par(model.layer1[0].conv1, model.layer1[0].bn1, outb, ins2)"
   ]
  },
  {
   "cell_type": "code",
   "execution_count": null,
   "id": "da7dbe6e",
   "metadata": {},
   "outputs": [],
   "source": []
  },
  {
   "cell_type": "code",
   "execution_count": 39,
   "id": "bbedb257",
   "metadata": {},
   "outputs": [],
   "source": [
    "compare(res1, un1, ch=0, fn=\"layer1.png\")\n",
    "compare(res2, un2, ch=0, fn=\"layer2.png\")\n",
    "compare(res3, un3, ch=0, fn=\"layer3.png\")\n",
    "compare(res4, un4, ch=0, fn=\"layer4.png\")\n",
    "compare(res5, un5, ch=0, fn=\"layer5.png\")\n",
    "compare(res6, un6, ch=0, fn=\"layer6.png\")\n",
    "compare(res7, un7, ch=0, fn=\"layer7.png\")"
   ]
  },
  {
   "cell_type": "code",
   "execution_count": 134,
   "id": "fedd048d",
   "metadata": {},
   "outputs": [
    {
     "name": "stdout",
     "output_type": "stream",
     "text": [
      "functions set\n",
      "degrees = [15, 15, 15, 15], margin = 0.01, eps = 0.02\n"
     ]
    }
   ],
   "source": [
    "apr_relu = ApprRelu(alpha=12, xmin=-10, xmax=10, min_depth=True)"
   ]
  },
  {
   "cell_type": "code",
   "execution_count": null,
   "id": "30c6f518",
   "metadata": {},
   "outputs": [],
   "source": []
  },
  {
   "cell_type": "markdown",
   "id": "dc0e512d",
   "metadata": {},
   "source": [
    "# Down sampling (conv with fh = fw = 1, stride =2)"
   ]
  },
  {
   "cell_type": "code",
   "execution_count": 10,
   "id": "913e5606",
   "metadata": {},
   "outputs": [],
   "source": [
    "def muxed_downsample_selecting(i1,i2, ins):\n",
    "    hi,wi,ci,ki,ti,pi = [ins[k] for k in ins.keys()]\n",
    "    out = np.zeros((ki*hi, wi*ki, ti))\n",
    "    for i3 in range(ki*hi):\n",
    "        for i4 in range(ki*wi):\n",
    "            for i5 in range(ti):\n",
    "                if floor(i3/ki) % 2 == 0 and \\\n",
    "                    floor(i4/ki) % 2 == 0 and \\\n",
    "                    i3 % ki == i1 and \\\n",
    "                    i5 == i2:\n",
    "                    out[i3,i4,i5] = 1\n",
    "                else:\n",
    "                    pass\n",
    "    return out\n",
    "\n",
    "def down_sample(ct_a, ins, outs, nslots):\n",
    "    hi,wi,ci,ki,ti,pi = [ins[k] for k in ins.keys()]\n",
    "    ho,wo,co,ko,to,po = [outs[k] for k in outs.keys()]\n",
    "    for i1 in range(ki):\n",
    "        for i2 in range(ti):\n",
    "            i3 = floor(((ki*i2+i1) % (2*ko))/2)\n",
    "            i4 = (ki*i2 + i1) % 2\n",
    "            i5 = floor((ki*i2 + i1)/(2*ko))\n",
    "\n",
    "            S_mp = muxed_downsample_selecting(i1,i2,ins)\n",
    "            ct_b = ct_a * Vec(S_mp, nslots)\n",
    "            ct_c = ct_b + np.roll(ct_b, -(ki**2*hi*wi*(i2-i5) + ki*wi*(i1-i3) - ki*i4))\n",
    "\n",
    "    ct_c = np.roll(ct_c, int(ko**2*ho*wo*ti/8))\n",
    "    for j in range(int(np.log2(po)-1)):\n",
    "        ct_c += np.roll(ct_c, 2**j*ko**2*ho*wo*to)\n",
    "    return ct_c"
   ]
  },
  {
   "cell_type": "markdown",
   "id": "c83bf4f5",
   "metadata": {},
   "source": [
    "### Downsample"
   ]
  },
  {
   "cell_type": "code",
   "execution_count": 25,
   "id": "f470f441",
   "metadata": {},
   "outputs": [],
   "source": [
    "nslots = 2**15\n",
    "out3_dn = down_sample(out3, ins4, outs4, nslots) # ins, outs from out3\n",
    "un3_dn = unpack(out3_dn, outs4)"
   ]
  },
  {
   "cell_type": "code",
   "execution_count": 33,
   "id": "d68fac20",
   "metadata": {},
   "outputs": [],
   "source": [
    "un3_dn = unpack(out3_dn, outs3)"
   ]
  },
  {
   "cell_type": "code",
   "execution_count": 45,
   "id": "a1a87a20",
   "metadata": {},
   "outputs": [
    {
     "data": {
      "text/plain": [
       "array([0., 0., 0., 0., 0., 0., 0., 0., 0., 0., 0., 0., 0., 0., 0., 0.])"
      ]
     },
     "execution_count": 45,
     "metadata": {},
     "output_type": "execute_result"
    }
   ],
   "source": [
    "un3_dn[:,4,4]"
   ]
  },
  {
   "cell_type": "code",
   "execution_count": 46,
   "id": "520180d8",
   "metadata": {},
   "outputs": [
    {
     "data": {
      "text/plain": [
       "286"
      ]
     },
     "execution_count": 46,
     "metadata": {},
     "output_type": "execute_result"
    }
   ],
   "source": [
    "np.sum(un3_dn > 0)"
   ]
  },
  {
   "cell_type": "code",
   "execution_count": 43,
   "id": "b81b494c",
   "metadata": {},
   "outputs": [
    {
     "data": {
      "text/plain": [
       "<matplotlib.image.AxesImage at 0x7f2355980ee0>"
      ]
     },
     "execution_count": 43,
     "metadata": {},
     "output_type": "execute_result"
    },
    {
     "data": {
      "image/png": "[encoded data removed]",
      "text/plain": [
       "<Figure size 640x480 with 1 Axes>"
      ]
     },
     "metadata": {},
     "output_type": "display_data"
    }
   ],
   "source": [
    "plt.imshow(un3_dn[5][1::2,1::2])"
   ]
  },
  {
   "cell_type": "code",
   "execution_count": 116,
   "id": "75978771",
   "metadata": {},
   "outputs": [],
   "source": [
    "#def forward_bb():\n",
    "bb = model.layer2[0]"
   ]
  },
  {
   "cell_type": "code",
   "execution_count": 110,
   "id": "8d8efd7f",
   "metadata": {},
   "outputs": [
    {
     "data": {
      "text/plain": [
       "0"
      ]
     },
     "execution_count": 110,
     "metadata": {},
     "output_type": "execute_result"
    }
   ],
   "source": [
    "len(bb.shortcut)"
   ]
  },
  {
   "cell_type": "code",
   "execution_count": 117,
   "id": "aa484ffa",
   "metadata": {},
   "outputs": [
    {
     "data": {
      "text/plain": [
       "Sequential(\n",
       "  (0): Conv2d(16, 32, kernel_size=(1, 1), stride=(2, 2), bias=False)\n",
       "  (1): BatchNorm2d(32, eps=1e-05, momentum=0.1, affine=False, track_running_stats=True)\n",
       ")"
      ]
     },
     "execution_count": 117,
     "metadata": {},
     "output_type": "execute_result"
    }
   ],
   "source": [
    "bb.shortcut"
   ]
  },
  {
   "cell_type": "code",
   "execution_count": 118,
   "id": "f160a2be",
   "metadata": {},
   "outputs": [],
   "source": [
    "convl, bnl = bb.shortcut"
   ]
  },
  {
   "cell_type": "code",
   "execution_count": 9,
   "id": "a0dbdb60",
   "metadata": {},
   "outputs": [],
   "source": [
    "from muxcnn.comparator import ApprRelu"
   ]
  },
  {
   "cell_type": "code",
   "execution_count": null,
   "id": "11f47881",
   "metadata": {},
   "outputs": [],
   "source": []
  },
  {
   "cell_type": "markdown",
   "id": "f8aae0f4",
   "metadata": {},
   "source": [
    "뭔가 downsample이 되기는 함. \n",
    "근데 어느 채널이 어디서 어디로 가는지는 모르겠음 \n",
    "\n",
    "shortcut도 BN(CONV(res3))임. \n",
    "\n",
    "CONV.weight = 1이 아니면, conv 계산을 해줘야함. \n",
    "conv 잘 됨. "
   ]
  },
  {
   "cell_type": "code",
   "execution_count": 146,
   "id": "e213bf65",
   "metadata": {},
   "outputs": [
    {
     "name": "stdout",
     "output_type": "stream",
     "text": [
      "[ -9.26866253 -10.81576363  -3.103708    -2.90243047  -9.46088434\n",
      "   4.32840621  -6.97467135  -3.56178458  -8.88420169  -7.56295177] tensor([[ -9.3005, -11.0586,  -2.9741,  -2.9179,  -9.3500,   4.1474,  -6.8721,\n",
      "          -3.6999,  -8.9446,  -7.6901]], grad_fn=<AddmmBackward0>)\n",
      "5 5 5\n"
     ]
    }
   ],
   "source": [
    "# 0~9 slot으로 굳이 모아야할까? \n",
    "print(multed[::64][:10],\n",
    "      res_linear)\n",
    "\n",
    "print(np.argmax(multed[::64][:10]),\n",
    "      np.argmax(res_linear.detach().numpy()),\n",
    "      np.argmax(res_softmax.detach().numpy()))"
   ]
  }
 ],
 "metadata": {
  "kernelspec": {
   "display_name": "Python 3 (ipykernel)",
   "language": "python",
   "name": "python3"
  },
  "language_info": {
   "codemirror_mode": {
    "name": "ipython",
    "version": 3
   },
   "file_extension": ".py",
   "mimetype": "text/x-python",
   "name": "python",
   "nbconvert_exporter": "python",
   "pygments_lexer": "ipython3",
   "version": "3.10.6"
  },
  "vscode": {
   "interpreter": {
    "hash": "60d42a677e1abf850e158ee39e01a5d70da0f6529681f4a4eca4a35dff8a082c"
   }
  }
 },
 "nbformat": 4,
 "nbformat_minor": 5
}
