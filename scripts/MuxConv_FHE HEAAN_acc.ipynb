{
 "cells": [
  {
   "cell_type": "code",
   "execution_count": 1,
   "id": "bfd4f7f8",
   "metadata": {},
   "outputs": [],
   "source": [
    "%load_ext autoreload\n",
    "%autoreload 2"
   ]
  },
  {
   "cell_type": "code",
   "execution_count": 2,
   "id": "6000028a",
   "metadata": {},
   "outputs": [],
   "source": [
    "from hemul import heaan\n",
    "import hemul.HEAAN as he\n",
    "from muxcnn.resnet_HEAAN import ResNetHEAAN\n",
    "from muxcnn.utils import load_params, load_img\n",
    "import torch\n",
    "from muxcnn.resnet_muxconv import ResNet_MuxConv\n",
    "from muxcnn.utils import get_channel_last, get_conv_params\n",
    "from muxcnn.hecnn_par import MultParPack\n",
    "from muxcnn.hecnn_par import forward_convbn_par"
   ]
  },
  {
   "cell_type": "markdown",
   "id": "acbd4950",
   "metadata": {},
   "source": [
    "## Torch model"
   ]
  },
  {
   "cell_type": "code",
   "execution_count": 3,
   "id": "8d430ea2",
   "metadata": {},
   "outputs": [],
   "source": [
    "from muxcnn.models.ResNet20 import ResNet, BasicBlock\n",
    "\n",
    "model = ResNet(BasicBlock,[1,1,1])\n",
    "model.eval() ########## 필수! \n",
    "load_params(model, fn_param=\"./ResNet8.pt\",device='cpu')\n",
    "\n",
    "img_tensor = load_img(\"./cute.jpg\", hi=32, wi=32)"
   ]
  },
  {
   "cell_type": "markdown",
   "id": "676f6b41",
   "metadata": {},
   "source": [
    "## Image"
   ]
  },
  {
   "cell_type": "code",
   "execution_count": 4,
   "id": "261e44ca",
   "metadata": {},
   "outputs": [],
   "source": [
    "imgl = get_channel_last(img_tensor[0].detach().numpy())\n",
    "ki = 1 # initial ki\n",
    "hi, wi, ch = imgl.shape"
   ]
  },
  {
   "cell_type": "markdown",
   "id": "ccda683f",
   "metadata": {},
   "source": [
    "# FHE"
   ]
  },
  {
   "cell_type": "code",
   "execution_count": 5,
   "id": "1a1c9a01",
   "metadata": {},
   "outputs": [
    {
     "name": "stdout",
     "output_type": "stream",
     "text": [
      "Initializing the scheme as the data owner\n",
      "Loading a secret key from:  ./SecretKey.txt\n",
      "loading secret key done.\n",
      "HEAAN CKKS setup is ready \n"
     ]
    }
   ],
   "source": [
    "rot_l = [2**i for i in range(15)]\n",
    "\n",
    "# prepare for all rotations\n",
    "rot_l = rot_l + [2**15-1, \n",
    "         2**15-33, 2**15-32, 2**15-31,\n",
    "         2**15-17, 2**15-16, 2**15-15, \n",
    "         2**15-9,2**15-8, 2**15-7] + [3,5,7,9,15,17, 31, 33]\n",
    "\n",
    "# try 40 & 800\n",
    "hec = heaan.HEAANContext(15, 40, 800, boot=False, load_sk=True, rot_l=rot_l)"
   ]
  },
  {
   "cell_type": "code",
   "execution_count": 6,
   "id": "b00f2d93",
   "metadata": {
    "scrolled": true
   },
   "outputs": [
    {
     "name": "stdout",
     "output_type": "stream",
     "text": [
      "functions set\n",
      "degrees = [15, 15, 15, 15], margin = 0.01, eps = 0.02\n"
     ]
    }
   ],
   "source": [
    "fhemodel = ResNetHEAAN(model, hec)\n",
    "\n",
    "ctxt = fhemodel.pack_img_ctxt(img_tensor)"
   ]
  },
  {
   "cell_type": "markdown",
   "id": "0e987342",
   "metadata": {},
   "source": [
    "# forward early"
   ]
  },
  {
   "cell_type": "code",
   "execution_count": 7,
   "id": "c7d20f4c",
   "metadata": {
    "scrolled": true
   },
   "outputs": [
    {
     "name": "stdout",
     "output_type": "stream",
     "text": [
      "[MultParConv] (hi,wi,ci,ki,ti,pi) =(32,32, 3, 1, 3,  8)\n",
      "[MultParConv] (ho,wo,co,ko,to,po) =(32,32,16, 1,16,  2)\n",
      "[MultParConv] q = 2\n",
      "ct_a 40 800 [-7.49019623e-01 -9.13725499e-01 -5.52941204e-01 -8.43137266e-01\n",
      " -9.40567289e-09 -4.11764679e-01  9.80392721e-02 -8.50980403e-01\n",
      " -1.26314386e-10 -2.47058828e-01  1.29411808e-01 -6.78431388e-01\n",
      "  4.14758520e-10  8.23529968e-02  2.94117690e-01  2.31372594e-01\n",
      " -4.66066948e-09  1.92156913e-01  1.52941228e-01  1.29411814e-01\n",
      " -1.82949109e-09  2.78431416e-01 -5.52941200e-01 -5.45098064e-01\n",
      " -1.20780713e-09  1.05882407e-01  4.98039249e-01  4.50980425e-01\n",
      " -1.02603173e-10  7.41176486e-01  7.41176484e-01 -4.27450951e-01\n",
      "  2.55702095e-09]\n",
      "ct_d 40 720\n",
      "40 760\n",
      "40 760\n",
      "Check 1\n",
      "[ 1.23083784  0.48697924  0.27534382 ... -0.65056937 -0.61289192\n",
      " -0.47934082]\n",
      "APPR 40 720\n",
      "[ 1.23083784  0.48697924  0.27534382 ... -0.65056937 -0.61289192\n",
      " -0.47934082]\n",
      "min max -5.745771389394943 5.543758011739413\n",
      "APPR 40 520\n",
      "[ 0.60359733  0.25016229  0.14227706 ... -0.3319452  -0.31326245\n",
      " -0.24630452]\n",
      "min max -1.1775591480004912 1.1775609761191421\n",
      "APPR 40 320\n",
      "[ 1.04696293  1.14461634  0.96831068 ... -1.03546726 -1.0673128\n",
      " -1.14640139]\n",
      "min max -1.1488642848723907 1.148865186136874\n",
      "APPR 40 120\n",
      "[ 0.99610618  1.00670867  1.00477971 ... -0.99762881 -0.994747\n",
      " -1.00620857]\n",
      "min max -1.0110060136719263 1.0110049512107395\n",
      "bootstrap done\n",
      "AFTER bootstrap 40 800\n"
     ]
    }
   ],
   "source": [
    "ctxt0, outs0 = fhemodel.forward_early(ctxt, 1, 32, 32)"
   ]
  },
  {
   "cell_type": "code",
   "execution_count": 8,
   "id": "7d173d85",
   "metadata": {
    "scrolled": true
   },
   "outputs": [
    {
     "name": "stdout",
     "output_type": "stream",
     "text": [
      "[ 1.23083789e+00  1.37002640e-09  9.00872489e-01 -4.38359752e-10\n",
      "  1.03879856e+00 -1.65514497e-03  1.72884406e-02  2.26538539e-01\n",
      " -2.33773276e-09  4.19786160e-09  3.50234374e-09 -7.55062574e-09\n",
      "  5.43471055e-09  4.46616520e-01 -5.76709296e-10  1.06025070e+00\n",
      " -3.20269816e-08  4.43068578e-10  2.69868618e-01  3.97408014e+00\n",
      "  1.03376660e+00  1.13955701e-09  5.28608122e-01  2.52203229e+00\n",
      "  3.99438942e-09  8.40950253e-02  1.34547451e-09  4.63119015e-09\n",
      "  1.73388720e-08  6.15333969e-01  5.37446504e-01  4.76048129e-01\n",
      "  7.81339991e-09]\n"
     ]
    }
   ],
   "source": [
    "dec = hec.decrypt(ctxt0)\n",
    "print(dec[::1000])"
   ]
  },
  {
   "cell_type": "code",
   "execution_count": 9,
   "id": "0a895945",
   "metadata": {},
   "outputs": [],
   "source": [
    "hec.rescale(ctxt0)"
   ]
  },
  {
   "cell_type": "code",
   "execution_count": null,
   "id": "f21a6c2d",
   "metadata": {
    "scrolled": false
   },
   "outputs": [
    {
     "name": "stdout",
     "output_type": "stream",
     "text": [
      "[MultParConv] (hi,wi,ci,ki,ti,pi) =(32,32,16, 1,16,  2)\n",
      "[MultParConv] (ho,wo,co,ko,to,po) =(32,32,16, 1,16,  2)\n",
      "[MultParConv] q = 8\n",
      "ct_a 40 520 [ 1.23083789e+00  1.30622336e-09  9.00872489e-01 -3.98414064e-10\n",
      "  1.03879856e+00 -1.65514445e-03  1.72884410e-02  2.26538539e-01\n",
      " -2.40784584e-09  4.79207252e-09  4.06273613e-09 -7.62289848e-09\n",
      "  5.12659448e-09  4.46616520e-01 -6.98286823e-10  1.06025070e+00\n",
      " -3.17134207e-08  4.05157479e-10  2.69868618e-01  3.97408014e+00\n",
      "  1.03376660e+00  1.25584526e-09  5.28608122e-01  2.52203229e+00\n",
      "  3.91535067e-09  8.40950255e-02  1.44473885e-09  4.58060144e-09\n",
      "  1.71692909e-08  6.15333969e-01  5.37446504e-01  4.76048127e-01\n",
      "  8.21522409e-09]\n",
      "ct_d 40 440\n",
      "40 480\n",
      "40 480\n",
      "40 480\n",
      "40 480\n",
      "40 480\n",
      "40 480\n",
      "40 480\n",
      "40 480\n",
      "APPR 40 440\n",
      "[ 0.86425903  1.07560652  0.71689016 ...  0.7777809   1.14699243\n",
      " -0.12684551]\n",
      "min max -7.502171073600742 4.664819357483846\n",
      "APPR 40 240\n",
      "[ 0.43581932  0.53437552  0.36458054 ...  0.39424057  0.56656664\n",
      " -0.06568679]\n",
      "min max -1.1775627451416508 1.1775629309704245\n",
      "APPR 40 40\n",
      "[ 0.91539708  0.97467717  0.98193495 ...  0.94322426  1.01184695\n",
      " -0.52264703]\n",
      "min max -1.1488648298388604 1.1488637932020616\n",
      "bootstrap done\n",
      "AFTER bootstrap 40 800\n",
      "APPR 40 600\n",
      "[ 1.00147963  1.00463989  1.00430695 ...  1.00404468  1.00117691\n",
      " -0.99296449]\n",
      "min max -1.0110061010376823 1.0110056947139197\n",
      "[MultParConv] (hi,wi,ci,ki,ti,pi) =(32,32,16, 1,16,  2)\n",
      "[MultParConv] (ho,wo,co,ko,to,po) =(32,32,16, 1,16,  2)\n",
      "[MultParConv] q = 8\n",
      "ct_a 80 360 [ 8.64259057e-01  2.88628684e-09 -1.42992710e-09 -1.16533948e-10\n",
      "  1.68611469e+00 -9.86210916e-09 -1.39925341e-08 -9.85994798e-09\n",
      "  1.49745260e+00  6.37801941e-03  3.68525817e-01  1.46304186e-09\n",
      " -2.84952938e-08  1.49336466e-01  1.28852708e-08  9.25317906e-02\n",
      "  7.83995052e-01 -2.19242267e-09 -4.40673733e-09  2.30991496e-08\n",
      "  1.42898772e+00  2.45832764e-09 -4.89114181e-09 -2.16520704e-08\n",
      "  1.47202409e+00  4.42432827e-01  1.64567522e+00  3.99331711e+00\n",
      " -7.07305948e-09  3.72102955e-01  5.92393959e-01  1.13692760e+00\n",
      "  6.40895836e-01]\n",
      "ct_d 40 280\n",
      "40 320\n",
      "40 320\n",
      "40 320\n",
      "40 320\n",
      "40 320\n",
      "40 320\n",
      "40 320\n",
      "40 320\n",
      "<class.Ciphertext logp: -200 logq: 520 n: 32768> <class.Ciphertext logp: 40 logq: 520 n: 32768>\n",
      "APPR -200 520\n",
      "[ 1.25845689e+77 -2.36880189e+76 -1.94089692e+75 ...  1.49635776e+74\n",
      " -4.82267813e+73  9.50983599e+74]\n",
      "min max -1.0743489951333967e+77 1.2584568885980624e+77\n",
      "APPR -200 320\n",
      "[ 8.20546877e+116 -3.43261962e+107  2.40442092e+099 ... -3.96439614e+098\n",
      "  3.78636502e+098 -1.97095393e+098]\n",
      "min max -3.8060969495000506e+114 8.20546877347418e+116\n",
      "APPR -200 120\n",
      "[ 2.20691710e+98  2.29062511e+98 -1.12541264e+98 ...  9.94735159e+96\n",
      "  1.13697998e+98  1.30561142e+98]\n",
      "min max -4.3466729815213863e+98 4.652424370634726e+98\n",
      "bootstrap done\n",
      "AFTER bootstrap 40 800\n",
      "APPR 40 600\n",
      "[-1.45502014e+169  2.32412419e+169 -1.67767611e+170 ... -4.86968042e+170\n",
      "  9.25841665e+169 -1.53508689e+170]\n"
     ]
    }
   ],
   "source": [
    "ctxt1, outs1 = fhemodel.forward_bb(model.layer1[0], ctxt0, outs0)"
   ]
  },
  {
   "cell_type": "code",
   "execution_count": null,
   "id": "e7593318",
   "metadata": {},
   "outputs": [],
   "source": [
    "ctxt2, outs2 = fhemodel.forward_bb(model.layer2[0], ctxt1, outs1)"
   ]
  },
  {
   "cell_type": "code",
   "execution_count": null,
   "id": "90839f85",
   "metadata": {},
   "outputs": [],
   "source": [
    "ctxt3, outs3 = fhemodel.forward_bb(model.layer3[0], ctxt2, outs2)"
   ]
  },
  {
   "cell_type": "code",
   "execution_count": null,
   "id": "931bf232",
   "metadata": {},
   "outputs": [],
   "source": []
  },
  {
   "cell_type": "code",
   "execution_count": 5,
   "id": "6fa95f9f",
   "metadata": {},
   "outputs": [],
   "source": [
    "# early conv and bn\n",
    "_, ins0, outs0 = get_conv_params(model.conv1, {'k':ki, 'h':hi, 'w':wi})\n",
    "ct_a = MultParPack(imgl, ins0)"
   ]
  },
  {
   "cell_type": "code",
   "execution_count": 6,
   "id": "a8b1fc65",
   "metadata": {},
   "outputs": [
    {
     "name": "stdout",
     "output_type": "stream",
     "text": [
      "[MultParConv] (hi,wi,ci,ki,ti,pi) =(32,32, 3, 1, 3,  8)\n",
      "[MultParConv] (ho,wo,co,ko,to,po) =(32,32,16, 1,16,  2)\n",
      "[MultParConv] q = 2\n",
      "2.7468 s\n"
     ]
    }
   ],
   "source": [
    "# Muxed\n",
    "U, ins1, outs1 = get_conv_params(model.conv1, {'k':ki, 'h':hi, 'w':wi})\n",
    "ct_a = MultParPack(imgl, ins1)\n",
    "\n",
    "out1, un1 = forward_convbn_par(model.conv1, \n",
    "                              model.bn1, ct_a, ins1)"
   ]
  },
  {
   "cell_type": "markdown",
   "id": "6008513a",
   "metadata": {},
   "source": [
    "## Activation"
   ]
  }
 ],
 "metadata": {
  "kernelspec": {
   "display_name": "Python 3 (ipykernel)",
   "language": "python",
   "name": "python3"
  },
  "language_info": {
   "codemirror_mode": {
    "name": "ipython",
    "version": 3
   },
   "file_extension": ".py",
   "mimetype": "text/x-python",
   "name": "python",
   "nbconvert_exporter": "python",
   "pygments_lexer": "ipython3",
   "version": "3.10.4"
  },
  "vscode": {
   "interpreter": {
    "hash": "312595a83d408892f860676df71d6f6088a279ffd0ace127ffe1e58bd7b9393c"
   }
  }
 },
 "nbformat": 4,
 "nbformat_minor": 5
}
