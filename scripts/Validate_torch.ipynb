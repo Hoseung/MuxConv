{
 "cells": [
  {
   "cell_type": "code",
   "execution_count": 1,
   "id": "b81bd6e5",
   "metadata": {},
   "outputs": [],
   "source": [
    "%load_ext autoreload\n",
    "%autoreload 2"
   ]
  },
  {
   "cell_type": "code",
   "execution_count": 2,
   "id": "fbadb58b",
   "metadata": {},
   "outputs": [
    {
     "name": "stdout",
     "output_type": "stream",
     "text": [
      "Using CPU version HEAAN\n",
      "Using CPU version HEAAN\n",
      "Using CPU version HEAAN\n"
     ]
    }
   ],
   "source": [
    "import matplotlib.pyplot as plt \n",
    "import numpy as np\n",
    "import hemul\n",
    "hemul.USE_FPGA=False\n",
    "from hemul import heaan\n",
    "from muxcnn.resnet_HEAAN import ResNetHEAAN\n",
    "from muxcnn.utils import get_channel_last\n",
    "\n",
    "from muxcnn.models.ResNet20 import ResNet, BasicBlock\n",
    "from muxcnn.utils import load_params, load_img, decrypt_result\n",
    "import struct"
   ]
  },
  {
   "cell_type": "markdown",
   "id": "7b9873d0",
   "metadata": {},
   "source": [
    "# 1. 원본 Pytorch 모델"
   ]
  },
  {
   "cell_type": "code",
   "execution_count": 3,
   "id": "013a2acf-74da-4c5e-b55c-8e98b0e68ead",
   "metadata": {},
   "outputs": [
    {
     "name": "stdout",
     "output_type": "stream",
     "text": [
      "Files already downloaded and verified\n",
      "Files already downloaded and verified\n"
     ]
    }
   ],
   "source": [
    "import torch\n",
    "import numpy as np\n",
    "from torchvision import datasets\n",
    "import torchvision.transforms as transforms\n",
    "from torch.utils.data.sampler import SubsetRandomSampler\n",
    "from torch import nn\n",
    "import torch.nn.functional as F\n",
    "\n",
    "num_workers = 0\n",
    "batch_size = 32\n",
    "valid_size = 0.2\n",
    "\n",
    "train_transform = transforms.Compose([\n",
    "    transforms.RandomHorizontalFlip(p=0.5),\n",
    "    transforms.RandomCrop(32, padding=4),\n",
    "    transforms.ToTensor(),\n",
    "    transforms.Normalize((0.5, 0.5, 0.5), (0.5, 0.5, 0.5))\n",
    "    ])\n",
    "\n",
    "test_transform = transforms.Compose([\n",
    "    transforms.ToTensor(),\n",
    "    transforms.Normalize((0.5, 0.5, 0.5), (0.5, 0.5, 0.5))\n",
    "    ])\n",
    "\n",
    "train_data = datasets.CIFAR10('data', train=True,\n",
    "                              download=True, transform=train_transform)\n",
    "test_data = datasets.CIFAR10('data', train=False,\n",
    "                             download=True, transform=test_transform)\n",
    "\n",
    "num_train = len(train_data)\n",
    "indices = list(range(num_train))\n",
    "np.random.shuffle(indices)\n",
    "split = int(np.floor(valid_size * num_train))\n",
    "train_idx, valid_idx = indices[split:], indices[:split]\n",
    "\n",
    "train_sampler = SubsetRandomSampler(train_idx)\n",
    "valid_sampler = SubsetRandomSampler(valid_idx)\n",
    "\n",
    "# prepare data loaders (combine dataset and sampler)\n",
    "train_loader = torch.utils.data.DataLoader(train_data, batch_size=batch_size,\n",
    "    sampler=train_sampler, num_workers=num_workers)\n",
    "valid_loader = torch.utils.data.DataLoader(test_data, batch_size=batch_size, \n",
    "    sampler=valid_sampler, num_workers=num_workers)"
   ]
  },
  {
   "cell_type": "markdown",
   "id": "8bc7d073",
   "metadata": {},
   "source": [
    "- compare each layer's output\n",
    "- Bad fit when alpha > 12?"
   ]
  },
  {
   "cell_type": "code",
   "execution_count": 4,
   "id": "3f2cea10-2aea-4f8a-bae8-827c27e264d3",
   "metadata": {},
   "outputs": [],
   "source": [
    "# CIFAR-10 classes\n",
    "classes = ['airplane', 'automobile', 'bird', 'cat', 'deer',\n",
    "           'dog', 'frog', 'horse', 'ship', 'truck']\n",
    "\n",
    "model = ResNet(BasicBlock,[1,1,1])\n",
    "model.eval() \n",
    "\n",
    "# Load trained parameters\n",
    "load_params(model, fn_param=\"./ResNet8.pt\",device='cpu')"
   ]
  },
  {
   "cell_type": "code",
   "execution_count": 21,
   "id": "7fef3512",
   "metadata": {},
   "outputs": [
    {
     "name": "stdout",
     "output_type": "stream",
     "text": [
      "functions set\n",
      "degrees = [7, 7, 15, 15, 27], margin = 0.01, eps = 0.02\n"
     ]
    }
   ],
   "source": [
    "from muxcnn.resnet_muxconv import ResNet_MuxConv\n",
    "\n",
    "muxmodel = ResNet_MuxConv(model, alpha=14)"
   ]
  },
  {
   "cell_type": "code",
   "execution_count": 24,
   "id": "5f7b9fda",
   "metadata": {
    "scrolled": false
   },
   "outputs": [
    {
     "name": "stdout",
     "output_type": "stream",
     "text": [
      "torch.Size([1, 3, 32, 32]) tensor([3])\n",
      "[MultParConv] (hi,wi,ci,ki,ti,pi) =(32,32, 3, 1, 3,  8)\n",
      "[MultParConv] (ho,wo,co,ko,to,po) =(32,32,16, 1,16,  2)\n",
      "[MultParConv] q = 2\n",
      "2.3874 s\n",
      "degree = 7\n",
      "min, max -0.6125703509544014 0.6588413181368161\n",
      "degree = 7\n",
      "min, max -1.194131933087873 1.1941330925990232\n",
      "degree = 15\n",
      "min, max -1.1785111535321642 1.1785111466937461\n",
      "degree = 15\n",
      "min, max -1.1224098171975778 1.1224097440271894\n",
      "degree = 27\n",
      "min, max -1.0000000002810192 1.0000000004272178\n",
      "[MultParConv] (hi,wi,ci,ki,ti,pi) =(32,32,16, 1,16,  2)\n",
      "[MultParConv] (ho,wo,co,ko,to,po) =(32,32,16, 1,16,  2)\n",
      "[MultParConv] q = 8\n",
      "9.0039 s\n",
      "degree = 7\n",
      "min, max -0.7737993258813269 0.6088410925354563\n",
      "degree = 7\n",
      "min, max -1.194133174958593 1.1941225449369914\n",
      "degree = 15\n",
      "min, max -1.1785106590375036 1.1785111493587235\n",
      "degree = 15\n",
      "min, max -1.1224099705876014 1.1224073366759697\n",
      "degree = 27\n",
      "min, max -1.0000000004001262 1.0000000004699783\n",
      "[MultParConv] (hi,wi,ci,ki,ti,pi) =(32,32,16, 1,16,  2)\n",
      "[MultParConv] (ho,wo,co,ko,to,po) =(32,32,16, 1,16,  2)\n",
      "[MultParConv] q = 8\n",
      "8.9537 s\n",
      "degree = 7\n",
      "min, max -0.6336783984727129 0.9142668408748296\n",
      "degree = 7\n",
      "min, max -1.1941320123738708 1.194131313359457\n",
      "degree = 15\n",
      "min, max -1.1785111397741075 1.1785110065558542\n",
      "degree = 15\n",
      "min, max -1.1223526092461156 1.1224093539665776\n",
      "degree = 27\n",
      "min, max -1.0000000003498237 1.0000000004157616\n",
      "[MultParConv] (hi,wi,ci,ki,ti,pi) =(32,32,16, 1,16,  2)\n",
      "[MultParConv] (ho,wo,co,ko,to,po) =(16,16,32, 2, 8,  4)\n",
      "[MultParConv] q = 16\n",
      "17.2467 s\n",
      "degree = 7\n",
      "min, max -0.6838194389069232 0.6441960010932986\n",
      "degree = 7\n",
      "min, max -1.194125469382268 1.1941248218739593\n",
      "degree = 15\n",
      "min, max -1.178511112131372 1.178510756014016\n",
      "degree = 15\n",
      "min, max -1.1224097986358363 1.1224023565323173\n",
      "degree = 27\n",
      "min, max -1.0000000002295206 1.0000000004194192\n",
      "[MultParConv] (hi,wi,ci,ki,ti,pi) =(16,16,32, 2, 8,  4)\n",
      "[MultParConv] (ho,wo,co,ko,to,po) =(16,16,32, 2, 8,  4)\n",
      "[MultParConv] q = 8\n",
      "8.0484 s\n",
      "[MultParConv] (hi,wi,ci,ki,ti,pi) =(32,32,16, 1,16,  2)\n",
      "[MultParConv] (ho,wo,co,ko,to,po) =(16,16,32, 2, 8,  4)\n",
      "[MultParConv] q = 16\n",
      "2.5281 s\n",
      "degree = 7\n",
      "min, max -0.8353972927544522 0.7448473959205403\n",
      "degree = 7\n",
      "min, max -1.1941004427426263 1.194130259560406\n",
      "degree = 15\n",
      "min, max -1.1785111455807484 1.1785085903045056\n",
      "degree = 15\n",
      "min, max -1.1224062466587823 1.1223805272140757\n",
      "degree = 27\n",
      "min, max -1.0000000004370007 1.0000000002634055\n",
      "[MultParConv] (hi,wi,ci,ki,ti,pi) =(16,16,32, 2, 8,  4)\n",
      "[MultParConv] (ho,wo,co,ko,to,po) =( 8, 8,64, 4, 4,  8)\n",
      "[MultParConv] q = 16\n",
      "15.5049 s\n",
      "degree = 7\n",
      "min, max -0.5022526967495778 0.45376424361751827\n",
      "degree = 7\n",
      "min, max -1.1941150899512296 1.1937172715219806\n",
      "degree = 15\n",
      "min, max -1.1785110700783452 1.1785099938063568\n",
      "degree = 15\n",
      "min, max -1.1223533739187854 1.1222991769539983\n",
      "degree = 27\n",
      "min, max -1.0000000002289051 1.0000000002304585\n",
      "[MultParConv] (hi,wi,ci,ki,ti,pi) =( 8, 8,64, 4, 4,  8)\n",
      "[MultParConv] (ho,wo,co,ko,to,po) =( 8, 8,64, 4, 4,  8)\n",
      "[MultParConv] q = 8\n",
      "7.5360 s\n",
      "[MultParConv] (hi,wi,ci,ki,ti,pi) =(16,16,32, 2, 8,  4)\n",
      "[MultParConv] (ho,wo,co,ko,to,po) =( 8, 8,64, 4, 4,  8)\n",
      "[MultParConv] q = 16\n",
      "2.3516 s\n",
      "degree = 7\n",
      "min, max -0.5868850503952996 0.6272451964052995\n",
      "degree = 7\n",
      "min, max -1.1941329694395586 1.1941315954560414\n",
      "degree = 15\n",
      "min, max -1.1785106717568592 1.1785056025083755\n",
      "degree = 15\n",
      "min, max -1.1224069214238812 1.1220032575459724\n",
      "degree = 27\n",
      "min, max -1.0000000002317622 1.0000000004705327\n",
      "[-7.64662224 -7.85483669 -7.71212476 ... -6.86962779 -6.8087323\n",
      " -7.24010474]\n"
     ]
    }
   ],
   "source": [
    "valid_loader = torch.utils.data.DataLoader(test_data, batch_size=1, \n",
    "    sampler=None, num_workers=num_workers)\n",
    "\n",
    "for img_tensor, label in valid_loader:    \n",
    "    print(img_tensor.shape, label)\n",
    "    result = muxmodel(img_tensor, debug=True)\n",
    "    debug_info = muxmodel._debug_log\n",
    "    print(result)\n",
    "    \n",
    "    break"
   ]
  },
  {
   "cell_type": "code",
   "execution_count": 27,
   "id": "88aec338",
   "metadata": {},
   "outputs": [
    {
     "data": {
      "text/plain": [
       "7"
      ]
     },
     "execution_count": 27,
     "metadata": {},
     "output_type": "execute_result"
    }
   ],
   "source": [
    "np.argmax(result[:10])"
   ]
  },
  {
   "cell_type": "code",
   "execution_count": 25,
   "id": "accc04bc",
   "metadata": {},
   "outputs": [
    {
     "data": {
      "text/plain": [
       "tensor([3])"
      ]
     },
     "execution_count": 25,
     "metadata": {},
     "output_type": "execute_result"
    }
   ],
   "source": [
    "label"
   ]
  },
  {
   "cell_type": "markdown",
   "id": "28af7d01",
   "metadata": {},
   "source": [
    "Non-FHE Version already seems to be WRONG! \n",
    "\n",
    "Likely for the same reason, ReLU approximation error.\n",
    "Fix it in this version first"
   ]
  },
  {
   "cell_type": "code",
   "execution_count": 23,
   "id": "598392f0",
   "metadata": {},
   "outputs": [
    {
     "name": "stdout",
     "output_type": "stream",
     "text": [
      "forward_early [1.12238944 1.63927188 1.55351724 1.55390433 1.70617009 1.76226107\n",
      " 1.64370447 1.71671222 1.74105677 1.7084376 ]\n",
      "basic0 [2.14905277 3.06722254 3.54111134 3.12994998 3.52839563 3.76825184\n",
      " 3.0705478  3.8774067  3.24791308 3.6480522 ]\n",
      "basic1 [-1.10434206e-10  6.80353096e-02 -5.28097437e-11  3.05748539e-01\n",
      "  1.56191796e-10  1.15490176e+00 -6.29298435e-12  1.68407361e+00\n",
      "  9.14756016e-11  1.52881001e+00]\n",
      "basic2 [ 8.11500200e-11  8.74411294e-11 -1.54851602e-10  8.99658278e-11\n",
      "  1.31389074e-10  4.01415603e-11  5.28198867e-11  1.49477728e-10\n",
      "  6.08829609e-11  8.23501374e-01]\n",
      "AVGPool [0.16420888 0.54411059 0.97069103 0.87823352 0.98644272 0.33636491\n",
      " 1.10909532 0.56453414 1.02233353 0.82363945]\n"
     ]
    }
   ],
   "source": [
    "for ll in debug_info:\n",
    "    print(ll[0], ll[1][:10])"
   ]
  },
  {
   "cell_type": "code",
   "execution_count": null,
   "id": "5e16926f",
   "metadata": {},
   "outputs": [],
   "source": []
  },
  {
   "cell_type": "markdown",
   "id": "1c676ba9",
   "metadata": {},
   "source": [
    "## FHE Setup"
   ]
  },
  {
   "cell_type": "code",
   "execution_count": 5,
   "id": "b3902b1f-9f3c-493d-b078-fb736931cc8e",
   "metadata": {},
   "outputs": [
    {
     "name": "stdout",
     "output_type": "stream",
     "text": [
      "Initializing the scheme as the data owner\n",
      "Loading a secret key from:  ./SecretKey.txt\n",
      "loading secret key done.\n",
      "HEAAN CKKS setup is ready \n"
     ]
    }
   ],
   "source": [
    "logp = 40\n",
    "logq = 800\n",
    "logn = 15\n",
    "\n",
    "# Rotation 미리 준비 \n",
    "rot_l = [2**i for i in range(15)]\n",
    "rot_l = rot_l + [2**15-1, \n",
    "                 2**15-33, 2**15-32, 2**15-31,\n",
    "                 2**15-17, 2**15-16, 2**15-15, \n",
    "                 2**15-9,2**15-8, 2**15-7] + [3,5,7,9,15,17, 31, 33]\n",
    "\n",
    "hec = heaan.HEAANContext(logn, logp, logq, load_keys=True, rot_l=rot_l)"
   ]
  },
  {
   "cell_type": "code",
   "execution_count": 7,
   "id": "e50b5318-3037-4c25-92bc-df303b8fc03b",
   "metadata": {},
   "outputs": [
    {
     "name": "stdout",
     "output_type": "stream",
     "text": [
      "function approximators set\n",
      "degrees = [15, 15, 15, 15, 27], margin = 0.0005, eps = 0.01\n"
     ]
    }
   ],
   "source": [
    "fhemodel = ResNetHEAAN(model, hec, alpha=16, xmin=-80, xmax=80, min_depth=True)"
   ]
  },
  {
   "cell_type": "markdown",
   "id": "0d2c4fa9",
   "metadata": {},
   "source": [
    "### Pack and Encrypt the tensor image"
   ]
  },
  {
   "cell_type": "code",
   "execution_count": null,
   "id": "89cba7d1-eda9-415f-8699-50c3404f8abf",
   "metadata": {
    "collapsed": true,
    "tags": []
   },
   "outputs": [
    {
     "name": "stdout",
     "output_type": "stream",
     "text": [
      "torch.Size([32, 3, 32, 32]) tensor([2, 2, 2, 7, 8, 1, 1, 8, 2, 7, 2, 3, 1, 5, 1, 9, 6, 1, 8, 0, 8, 9, 3, 8,\n",
      "        6, 3, 9, 7, 8, 4, 3, 1])\n",
      "[FHE_CNN] Inference started...\n",
      "[FHE_CNN_EARLY] ConvBN started...\n",
      "[MultParConv] Layer structure: (hi,wi,ci,ki,ti,pi) =(32,32, 3, 1, 3,  8)\n",
      "ct_d 40 720\n",
      "[FHE_CNN_EARLY] ConvBN finished in 25.67 sec\n",
      "[FHE_CNN_EARLY] ReLU started...\n",
      "APPR 15 40 720\n",
      "[-0.71731493 -0.20030718  0.3593875  ... -0.67000985 -0.67000985\n",
      " -0.45448394]\n",
      "min max -6.5997272566046234 8.248357129506793\n",
      "APPR 15 40 520\n",
      "[-0.09279812 -0.02594146  0.04653427 ... -0.08669126 -0.08669126\n",
      " -0.05883721]\n",
      "min max -0.774310193459385 0.915605557349621\n",
      "APPR 15 40 320\n",
      "[-0.74670286 -0.22685884  0.40061635 ... -0.70561557 -0.70561536\n",
      " -0.49968856]\n",
      "min max -1.1777810659994365 1.1777816071139817\n",
      "APPR 15 40 120\n",
      "[-0.98552142 -1.18351294  0.91484906 ... -1.0362515  -1.03625171\n",
      " -0.93369099]\n",
      "min max -1.1836926450942704 1.1836924408883467\n",
      "bootstrap done\n",
      "AFTER bootstrap 40 800\n",
      "APPR 27 40 600\n",
      "[-1.03732695 -0.99068509  1.00940043 ... -0.99575459 -0.99575432\n",
      " -1.02410716]\n",
      "min max -1.1072176473185273 1.1072179898254075\n",
      "After ApprSign 40 360\n",
      "[-1.00000027 -1.00000008  1.00000018 ... -1.00000001 -0.99999966\n",
      " -1.0000002 ]\n",
      "min max -1.000001328732449 1.0000017753026753\n",
      "After +1 40 360\n",
      "[-2.69939809e-07 -7.96867522e-08  2.00000018e+00 ... -6.76372243e-09\n",
      "  3.42238924e-07 -1.99079916e-07]\n",
      "min max -1.328732448813261e-06 2.000001775302675\n",
      "After *1 80 360\n",
      "[-1.34969904e-07 -3.98433761e-08  1.00000009e+00 ... -3.38186121e-09\n",
      "  1.71119462e-07 -9.95399578e-08]\n",
      "min max -6.643662244066305e-07 1.0000008876513375\n",
      "<class.Ciphertext logp: 40 logq: 720 n: 32768> <class.Ciphertext logp: 40 logq: 320 n: 32768>\n",
      "After mult 80 320\n",
      "[ 9.68158808e-08  7.98576297e-09  3.59387529e-01 ...  2.22254580e-09\n",
      " -1.14696502e-07  4.52401453e-08]\n",
      "min max -0.00039512603502491465 8.24835747072765\n",
      "[FHE_CNN_EARLY] ReLU hinished in 58.69 sec\n",
      "[FHE_CNN BasicBlock] ConvBN1 started...\n",
      "[MultParConv] Layer structure: (hi,wi,ci,ki,ti,pi) =(32,32,16, 1,16,  2)\n",
      "ct_d 40 200\n",
      "[FHE_CNN BasicBlock] ConvBN1 finished in 49.02 sec\n",
      "[FHE_CNN BasicBlock] ReLU1 started...\n",
      "APPR 15 40 200\n",
      "[ 1.46294698  0.84032542  0.09270533 ... -0.58230687 -0.51640219\n",
      " -0.81270547]\n",
      "min max -8.354370478405109 7.372101579368311\n",
      "bootstrap done\n",
      "AFTER bootstrap 40 800\n",
      "APPR 15 40 600\n",
      "[ 0.18856116  0.10866446  0.01200698 ... -0.07536236 -0.06684396\n",
      " -0.10510377]\n",
      "min max -0.9236952096766915 0.8440521146318759\n",
      "APPR 15 40 400\n",
      "[ 1.14814589  0.84562708  0.10558605 ... -0.62531889 -0.56172713\n",
      " -0.82444949]\n",
      "min max -1.1777811416878539 1.1777806741726329\n",
      "APPR 15 40 200\n",
      "[ 1.09904237  0.94326537  0.83421736 ... -1.07494358 -1.01776404\n",
      " -0.93417423]\n",
      "min max -1.1836929196873602 1.1836923072346457\n",
      "bootstrap done\n",
      "AFTER bootstrap 40 800\n",
      "APPR 27 40 600\n",
      "[ 0.96170081  1.03022936  0.95980441 ... -0.95933228 -1.01584766\n",
      " -1.02444372]\n",
      "min max -1.107216937308668 1.1072176529278783\n",
      "After ApprSign 40 360\n",
      "[ 0.99999986  1.00000021  1.00000014 ... -0.99999979 -1.00000009\n",
      " -0.99999971]\n",
      "min max -1.0000011748039368 1.000001175782911\n",
      "After +1 40 360\n",
      "[ 1.99999986e+00  2.00000021e+00  2.00000014e+00 ...  2.09245345e-07\n",
      " -9.22305175e-08  2.86659817e-07]\n",
      "min max -1.174803936932404e-06 2.000001175782911\n",
      "After *1 80 360\n",
      "[ 9.99999929e-01  1.00000010e+00  1.00000007e+00 ...  1.04622672e-07\n",
      " -4.61152588e-08  1.43329908e-07]\n",
      "min max -5.87401968466202e-07 1.0000005878914555\n",
      "<class.Ciphertext logp: 40 logq: 200 n: 32768> <class.Ciphertext logp: 40 logq: 320 n: 32768>\n",
      "After mult 80 200\n",
      "[ 1.46294687e+00  8.40325510e-01  9.27053400e-02 ... -6.09427362e-08\n",
      "  2.38021335e-08 -1.16456025e-07]\n",
      "min max -0.0003949839536198595 7.372101366073217\n",
      "[FHE_CNN BasicBlock] ReLU1 finished in 65.00 sec\n",
      "After activation <class.Ciphertext logp: 40 logq: 160 n: 32768>\n",
      "[ 1.46294687e+00  8.40325510e-01  9.27053399e-02 ... -6.09084480e-08\n",
      "  2.38137132e-08 -1.16439972e-07]\n",
      "[FHE_CNN BasicBlock] ConvBN2 started...\n",
      "[MultParConv] Layer structure: (hi,wi,ci,ki,ti,pi) =(32,32,16, 1,16,  2)\n",
      "ct_d 40 80\n",
      "[FHE_CNN BasicBlock] ConvBN2 finished in 45.15 sec\n",
      "\n",
      "\n",
      " ddddddd\n",
      "[ 1.41462032  0.99218883  1.38818573 ... -0.50145031 -0.4336487\n",
      " -0.25106176]\n",
      "[forward_bb] Shortcut <class.Ciphertext logp: 40 logq: 280 n: 32768>\n",
      "ctxt <class.Ciphertext logp: 40 logq: 80 n: 32768>\n",
      "<class.Ciphertext logp: 40 logq: 80 n: 32768> <class.Ciphertext logp: 40 logq: 80 n: 32768>\n",
      "[ 1.41462032  0.99218883  1.38818573 ... -0.50145031 -0.4336487\n",
      " -0.25106176]\n",
      "[ 9.68251252e-08  7.96254803e-09  3.59387529e-01 ...  2.25969631e-09\n",
      " -1.14632910e-07  4.52962922e-08]\n",
      "[FHE_CNN BasicBlock] ReLU2 started...\n",
      "bootstrap done\n",
      "APPR 15 40 800\n",
      "[ 1.41462041  0.99218884  1.74757325 ... -0.50145031 -0.43364882\n",
      " -0.25106171]\n",
      "min max -5.849950479743674 10.09476911219842\n",
      "APPR 15 40 600\n",
      "[ 0.18238995  0.1282211   0.22477943 ... -0.06491081 -0.05614227\n",
      " -0.0325129 ]\n",
      "min max -0.7010200975771629 1.0382679288696848\n",
      "APPR 15 40 400\n",
      "[ 1.13679196  0.95074775  1.17778001 ... -0.54694075 -0.47835375\n",
      " -0.28318162]\n",
      "min max -1.177781439570952 1.1777804603217688\n",
      "APPR 15 40 200\n",
      "[ 1.06578544  1.06016417  0.98631426 ... -0.99746787 -0.91207103\n",
      " -1.12396182]\n",
      "min max -1.1836926894117572 1.183692202238227\n",
      "bootstrap done\n",
      "AFTER bootstrap 40 800\n",
      "APPR 27 40 600\n",
      "[ 0.96506728  0.9698407   1.03707868 ... -1.03200521 -1.00706064\n",
      " -0.99712766]\n",
      "min max -1.1071891907268536 1.1071637234501637\n",
      "After ApprSign 40 360\n",
      "[ 1.00000037  1.00000024  1.00000021 ... -1.00000017 -0.99999988\n",
      " -1.00000034]\n",
      "min max -1.0000015038436092 1.0000017318315146\n",
      "After +1 40 360\n",
      "[ 2.00000037e+00  2.00000024e+00  2.00000021e+00 ... -1.68380932e-07\n",
      "  1.24902028e-07 -3.41241364e-07]\n",
      "min max -1.5038436088718477e-06 2.0000017318315146\n",
      "After *1 80 360\n",
      "[ 1.00000019e+00  1.00000012e+00  1.00000011e+00 ... -8.41904658e-08\n",
      "  6.24510142e-08 -1.70620682e-07]\n",
      "min max -7.519218044359239e-07 1.0000008659157573\n",
      "<class.Ciphertext logp: 40 logq: 800 n: 32768> <class.Ciphertext logp: 40 logq: 320 n: 32768>\n",
      "After mult 80 320\n",
      "[ 1.41462068e+00  9.92188956e-01  1.74757344e+00 ...  4.22378930e-08\n",
      " -2.70882391e-08  4.28478795e-08]\n",
      "min max -0.0003950917933998035 10.094769258707123\n",
      "[FHE_CNN BasicBlock] ReLU2 finished in 64.55 sec\n",
      "[FHE_CNN] First Basic Block finished in 224.20 sec\n",
      "\n",
      "[FHE_CNN BasicBlock] ConvBN1 started...\n",
      "[MultParConv] Layer structure: (hi,wi,ci,ki,ti,pi) =(32,32,16, 1,16,  2)\n",
      "ct_d 40 200\n",
      "[FHE_CNN BasicBlock] ConvBN1 finished in 135.59 sec\n",
      "[FHE_CNN BasicBlock] ReLU1 started...\n",
      "APPR 15 40 200\n",
      "[ 0.16261542 -0.31812172 -1.85878095 ... -0.49993969  0.53059054\n",
      " -0.37964105]\n",
      "min max -7.247199613968627 6.146092019121494\n",
      "bootstrap done\n",
      "AFTER bootstrap 40 800\n",
      "APPR 15 40 600\n",
      "[ 0.02106072 -0.04119371 -0.23886545 ... -0.06471549  0.06867821\n",
      " -0.04915507]\n",
      "min max -0.8331872456952076 0.7305987834563509\n",
      "APPR 15 40 400\n",
      "[ 0.18462092 -0.35638772 -1.1740553  ... -0.54543953  0.57563851\n",
      " -0.42206654]\n",
      "min max -1.1777815989077836 1.1777810174031578\n",
      "APPR 15 40 200\n",
      "[ 1.14848488 -0.9785317  -1.02979285 ... -0.99535364  1.03534017\n",
      " -0.89947081]\n",
      "min max -1.1836891212345764 1.1836924346951303\n",
      "bootstrap done\n",
      "AFTER bootstrap 40 800\n",
      "APPR 27 40 600\n",
      "[ 1.04974094 -1.03886674 -1.00310696 ... -1.03319016  0.99680234\n",
      " -0.99633917]\n",
      "min max -1.1071220141729414 1.107129471931491\n",
      "After ApprSign 40 360\n",
      "[ 1.0000001  -1.00000032 -1.         ... -1.0000002   1.00000026\n",
      " -0.99999977]\n",
      "min max -1.0000010405711104 1.0000009260955773\n",
      "After +1 40 360\n",
      "[ 2.00000010e+00 -3.24045649e-07  1.60861378e-09 ... -1.97350838e-07\n",
      "  2.00000026e+00  2.30235642e-07]\n",
      "min max -1.040571110470171e-06 2.0000009260955776\n",
      "After *1 80 360\n",
      "[ 1.00000005e+00 -1.62022824e-07  8.04306889e-10 ... -9.86754192e-08\n",
      "  1.00000013e+00  1.15117821e-07]\n",
      "min max -5.202855552350854e-07 1.0000004630477888\n",
      "<class.Ciphertext logp: 40 logq: 200 n: 32768> <class.Ciphertext logp: 40 logq: 320 n: 32768>\n",
      "After mult 80 200\n",
      "[ 1.62615430e-01  5.15456073e-08 -1.36793617e-09 ...  4.93159252e-08\n",
      "  5.30590612e-01 -4.37075294e-08]\n",
      "min max -0.0003524824816788478 6.146092581371557\n",
      "[FHE_CNN BasicBlock] ReLU1 finished in 64.91 sec\n",
      "After activation <class.Ciphertext logp: 40 logq: 160 n: 32768>\n",
      "[ 1.62615430e-01  5.15952426e-08 -1.39164864e-09 ...  4.93551082e-08\n",
      "  5.30590612e-01 -4.36543526e-08]\n",
      "[FHE_CNN BasicBlock] ConvBN2 started...\n",
      "[MultParConv] Layer structure: (hi,wi,ci,ki,ti,pi) =(16,16,32, 2, 8,  4)\n"
     ]
    },
    {
     "name": "stdout",
     "output_type": "stream",
     "text": [
      "ct_d 40 80\n",
      "[FHE_CNN BasicBlock] ConvBN2 finished in 95.50 sec\n",
      "\n",
      "\n",
      " ddddddd\n",
      "[-0.32695432  1.43273672 -1.73167034 ... -4.08846971 -0.03746072\n",
      " -1.04959604]\n",
      "[FHE_CNN BasicBlock] ConvBN_shortcut started...\n",
      "[MultParConv] Layer structure: (hi,wi,ci,ki,ti,pi) =(32,32,16, 1,16,  2)\n",
      "ct_d 40 200\n",
      "[FHE_CNN BasicBlock] ConvBN_shortcut finished in 86.46 sec\n",
      "[forward_bb] Shortcut <class.Ciphertext logp: 40 logq: 200 n: 32768>\n",
      "ctxt <class.Ciphertext logp: 40 logq: 80 n: 32768>\n",
      "<class.Ciphertext logp: 40 logq: 80 n: 32768> <class.Ciphertext logp: 40 logq: 80 n: 32768>\n",
      "[-0.32695432  1.43273672 -1.73167034 ... -4.08846971 -0.03746072\n",
      " -1.04959604]\n",
      "[-1.61392591  2.35783496 -0.81662397 ...  3.28412679  2.26527686\n",
      "  2.13223482]\n",
      "[FHE_CNN BasicBlock] ReLU2 started...\n",
      "bootstrap done\n",
      "APPR 15 40 800\n",
      "[-1.94088023  3.79057168 -2.54829431 ... -0.80434291  2.22781614\n",
      "  1.08263877]\n",
      "min max -7.592985176945214 9.465628941853579\n",
      "APPR 15 40 600\n",
      "[-0.24923888  0.47517821 -0.32521766 ... -0.10402548  0.28530884\n",
      "  0.13985029]\n",
      "min max -0.8628655946835246 1.0008706565957297\n",
      "APPR 15 40 400\n",
      "[-1.16671923  0.91200892 -1.04036534 ... -0.81791686  1.11776132\n",
      "  1.00390161]\n",
      "min max -1.177781541709565 1.1777814990788982\n",
      "APPR 15 40 200\n",
      "[-1.08376304  1.02167472 -0.97234049 ... -0.93360702  0.99672069\n",
      "  1.03604557]\n",
      "min max -1.1835672263840145 1.1836811250444983\n",
      "bootstrap done\n",
      "AFTER bootstrap 40 800\n",
      "APPR 27 40 600\n",
      "[-0.95688505  1.0118957  -1.03926341 ... -1.02404842  1.03243601\n",
      "  0.99599127]\n",
      "min max -1.106507178163321 1.1072028816212356\n",
      "After ApprSign 40 360\n",
      "[-1.00000013  1.00000023 -1.00000021 ... -1.00000019  1.0000001\n",
      "  0.99999972]\n",
      "min max -1.0000009558031804 1.0000011138585907\n",
      "After +1 40 360\n",
      "[-1.31135414e-07  2.00000023e+00 -2.11024829e-07 ... -1.89825432e-07\n",
      "  2.00000010e+00  1.99999972e+00]\n",
      "min max -9.55803180034807e-07 2.0000011138585907\n",
      "After *1 80 360\n",
      "[-6.55677069e-08  1.00000011e+00 -1.05512414e-07 ... -9.49127161e-08\n",
      "  1.00000005e+00  9.99999858e-01]\n",
      "min max -4.779015900174035e-07 1.0000005569292953\n",
      "<class.Ciphertext logp: 40 logq: 800 n: 32768> <class.Ciphertext logp: 40 logq: 320 n: 32768>\n",
      "After mult 80 320\n",
      "[1.27273998e-07 3.79057211e+00 2.68854535e-07 ... 7.63147504e-08\n",
      " 2.22781625e+00 1.08263862e+00]\n",
      "min max -0.00038243567098610384 9.465629805522585\n",
      "[FHE_CNN BasicBlock] ReLU2 finished in 65.42 sec\n",
      "[FHE_CNN] Second Basic Block finished in 448.31 sec\n",
      "\n",
      "[FHE_CNN BasicBlock] ConvBN1 started...\n",
      "[MultParConv] Layer structure: (hi,wi,ci,ki,ti,pi) =(16,16,32, 2, 8,  4)\n",
      "ct_d 40 200\n",
      "[FHE_CNN BasicBlock] ConvBN1 finished in 228.75 sec\n",
      "[FHE_CNN BasicBlock] ReLU1 started...\n",
      "APPR 15 40 200\n",
      "[-4.05392959  2.37718309 -3.64126714 ...  0.26568831 -9.15273256\n",
      " -4.03477637]\n",
      "min max -16.165223470436622 11.44743992837642\n",
      "bootstrap done\n",
      "AFTER bootstrap 40 800\n",
      "APPR 15 40 600\n",
      "[-0.50581255  0.30396202 -0.45761401 ...  0.03440648 -0.98056424\n",
      " -0.5036    ]\n",
      "min max -1.1739194648746325 1.103010023134137\n",
      "APPR 15 40 400\n",
      "[-0.9426048   1.08300762 -0.90188751 ...  0.29927578 -1.05767923\n",
      " -0.939965  ]\n",
      "min max -1.1777805287151848 1.1777816860061592\n",
      "APPR 15 40 200\n",
      "[-1.05498573  0.92996651 -1.00793951 ...  1.09362638 -0.94439401\n",
      " -1.05289628]\n",
      "min max -1.183687204717666 1.1836345733481481\n",
      "bootstrap done\n",
      "AFTER bootstrap 40 800\n",
      "APPR 27 40 600\n",
      "[-0.97487212  1.02142917 -1.02468167 ...  0.95855505 -1.0308677\n",
      " -0.97703798]\n",
      "min max -1.0971763879533063 1.1042346471855187\n",
      "After ApprSign 40 360\n",
      "[-1.00000005  0.99999991 -1.00000008 ...  1.0000001  -1.00000022\n",
      " -1.0000002 ]\n",
      "min max -1.0000007839856155 1.0000008133847091\n",
      "After +1 40 360\n",
      "[-5.11319928e-08  1.99999991e+00 -7.89617006e-08 ...  2.00000010e+00\n",
      " -2.19545157e-07 -1.99462962e-07]\n",
      "min max -7.83985615699421e-07 2.0000008133847094\n",
      "After *1 80 360\n",
      "[-2.55659964e-08  9.99999957e-01 -3.94808503e-08 ...  1.00000005e+00\n",
      " -1.09772579e-07 -9.97314809e-08]\n",
      "min max -3.919928078497105e-07 1.0000004066923547\n",
      "<class.Ciphertext logp: 40 logq: 200 n: 32768> <class.Ciphertext logp: 40 logq: 320 n: 32768>\n",
      "After mult 80 200\n",
      "[1.03437969e-07 2.37718299e+00 1.43779263e-07 ... 2.65688325e-01\n",
      " 1.00445106e-06 4.02315079e-07]\n",
      "min max -0.00039515455508458023 11.447440937981478\n",
      "[FHE_CNN BasicBlock] ReLU1 finished in 66.36 sec\n",
      "After activation <class.Ciphertext logp: 40 logq: 160 n: 32768>\n",
      "[1.03431357e-07 2.37718299e+00 1.43806689e-07 ... 2.65688325e-01\n",
      " 1.00446468e-06 4.02285880e-07]\n",
      "[FHE_CNN BasicBlock] ConvBN2 started...\n",
      "[MultParConv] Layer structure: (hi,wi,ci,ki,ti,pi) =( 8, 8,64, 4, 4,  8)\n",
      "ct_d 40 80\n",
      "[FHE_CNN BasicBlock] ConvBN2 finished in 173.95 sec\n",
      "\n",
      "\n",
      " ddddddd\n",
      "[-3.52437685  1.5617909  -0.25077714 ...  3.2984628  -0.32015559\n",
      " -3.32378504]\n",
      "[FHE_CNN BasicBlock] ConvBN_shortcut started...\n",
      "[MultParConv] Layer structure: (hi,wi,ci,ki,ti,pi) =(16,16,32, 2, 8,  4)\n",
      "ct_d 40 200\n",
      "[FHE_CNN BasicBlock] ConvBN_shortcut finished in 186.40 sec\n",
      "[forward_bb] Shortcut <class.Ciphertext logp: 40 logq: 200 n: 32768>\n",
      "ctxt <class.Ciphertext logp: 40 logq: 80 n: 32768>\n",
      "<class.Ciphertext logp: 40 logq: 80 n: 32768> <class.Ciphertext logp: 40 logq: 80 n: 32768>\n",
      "[-3.52437685  1.5617909  -0.25077714 ...  3.2984628  -0.32015559\n",
      " -3.32378504]\n",
      "[-4.09017951 -1.97129919 -1.88282872 ...  1.2941531  -0.74233009\n",
      "  0.11280663]\n",
      "[FHE_CNN BasicBlock] ReLU2 started...\n",
      "bootstrap done\n",
      "APPR 15 40 800\n",
      "[-7.61455636 -0.4095083  -2.13360586 ...  4.59261591 -1.06248568\n",
      " -3.2109784 ]\n",
      "min max -33.58494240710154 27.06298520364442\n",
      "APPR 15 40 600\n",
      "[-0.86467522 -0.05301937 -0.27349904 ...  0.5669948  -0.1372605\n",
      " -0.40625073]\n",
      "min max -1.1742269068561275 2.1525512226596977\n",
      "APPR 15 40 400\n",
      "[-0.96162799 -0.4533645  -1.13708942 ...  1.0238367  -0.99268369\n",
      " -0.91274719]\n",
      "min max -3892540.753679946 1.1777812678327757\n",
      "APPR 15 40 200\n",
      "[-1.12755192e+50  2.97390200e+49 -1.02272819e+50 ...  4.23057445e+49\n",
      " -4.70131532e+49 -4.71866338e+49]\n",
      "min max -3.211707795763763e+50 2.9351736699181944e+50\n"
     ]
    }
   ],
   "source": [
    "for img_tensor, label in valid_loader:    \n",
    "    print(img_tensor.shape, label)\n",
    "    for i in range(32):\n",
    "        ctxt = fhemodel.pack_img_ctxt(img_tensor[i:i+1,:,:,:])\n",
    "        result = fhemodel(ctxt)\n",
    "\n",
    "        class_num = decrypt_result(hec, result)\n",
    "        print(\"[FHE_CNN] Inference result:\", class_num)\n",
    "        print(f\"[FHE_CNN] It's a {classes[class_num]}, ANSWER:\", label[i])\n",
    "        \n",
    "        del ctxt"
   ]
  },
  {
   "cell_type": "code",
   "execution_count": 7,
   "id": "d83e7806",
   "metadata": {
    "scrolled": true
   },
   "outputs": [],
   "source": []
  },
  {
   "cell_type": "markdown",
   "id": "e47cb4a6",
   "metadata": {},
   "source": [
    "# 2. Cehck Ciphertext \n",
    "\n",
    "### 2.1. save Ciphertext to file"
   ]
  },
  {
   "cell_type": "code",
   "execution_count": 9,
   "id": "4a50751e",
   "metadata": {},
   "outputs": [],
   "source": [
    "heaan.he.SerializationUtils.writeCiphertext(ctxt, \"packed_img.dat\")"
   ]
  },
  {
   "cell_type": "markdown",
   "id": "2d45e538",
   "metadata": {},
   "source": [
    "### 2.2 Load using Python "
   ]
  },
  {
   "cell_type": "code",
   "execution_count": 84,
   "id": "2089a9a3",
   "metadata": {
    "collapsed": true,
    "jupyter": {
     "outputs_hidden": true
    },
    "tags": []
   },
   "outputs": [
    {
     "name": "stdout",
     "output_type": "stream",
     "text": [
      "Ciphertext has the following FHE parameters:\n",
      "nslots, logp, logq  =  (32768,) (40,) (800,)\n"
     ]
    }
   ],
   "source": [
    "import struct\n",
    "\n",
    "f = open(\"packed_img.dat\", \"rb\")\n",
    "encrypted_img = f.read()\n",
    "\n",
    "data = struct.iter_unpack('l', encrypted_img[:8*3]) # Ctxt header\n",
    "read_nslots, read_logp, read_logq = data\n",
    "\n",
    "print(\"Ciphertext has the following FHE parameters:\")\n",
    "print(\"nslots, logp, logq  = \", read_nslots, read_logp, read_logq)"
   ]
  },
  {
   "cell_type": "markdown",
   "id": "d8d22227",
   "metadata": {
    "tags": []
   },
   "source": [
    "### 2.3. Try to interpret encrypted data"
   ]
  },
  {
   "cell_type": "code",
   "execution_count": 85,
   "id": "728aa967",
   "metadata": {},
   "outputs": [
    {
     "data": {
      "text/plain": [
       "<matplotlib.image.AxesImage at 0x7f313fe70880>"
      ]
     },
     "execution_count": 85,
     "metadata": {},
     "output_type": "execute_result"
    },
    {
     "data": {
      "image/png": "[encoded data removed]",
      "text/plain": [
       "<Figure size 640x480 with 1 Axes>"
      ]
     },
     "metadata": {},
     "output_type": "display_data"
    }
   ],
   "source": [
    "arr = np.frombuffer(encrypted_img[8*3:], dtype=np.int64)\n",
    "reshaped = arr.reshape(32,32,-1)\n",
    "plt.imshow(reshaped[:,:,0])"
   ]
  },
  {
   "cell_type": "markdown",
   "id": "29308d49",
   "metadata": {},
   "source": [
    "# 3. FHE model inference"
   ]
  },
  {
   "cell_type": "code",
   "execution_count": null,
   "id": "56d4ff19",
   "metadata": {
    "collapsed": true,
    "jupyter": {
     "outputs_hidden": true
    },
    "tags": []
   },
   "outputs": [
    {
     "name": "stdout",
     "output_type": "stream",
     "text": [
      "[FHE_CNN] Inference started...\n",
      "[FHE_CNN_EARLY] ConvBN started...\n",
      "[MultParConv] Layer structure: (hi,wi,ci,ki,ti,pi) =(32,32, 3, 1, 3,  8)\n",
      "[FHE_CNN_EARLY] ConvBN finished in 33.48 sec\n",
      "[FHE_CNN_EARLY] ReLU started...\n",
      "bootstrap done\n",
      "[FHE_CNN_EARLY] ReLU hinished in 61.43 sec\n",
      "[FHE_CNN BasicBlock] ConvBN1 started...\n",
      "[MultParConv] Layer structure: (hi,wi,ci,ki,ti,pi) =(32,32,16, 1,16,  2)\n",
      "[FHE_CNN BasicBlock] ConvBN1 finished in 55.19 sec\n",
      "[FHE_CNN BasicBlock] ReLU1 started...\n",
      "bootstrap done\n",
      "bootstrap done\n",
      "[FHE_CNN BasicBlock] ReLU1 finished in 62.02 sec\n",
      "[FHE_CNN BasicBlock] ConvBN2 started...\n",
      "[MultParConv] Layer structure: (hi,wi,ci,ki,ti,pi) =(32,32,16, 1,16,  2)\n",
      "[FHE_CNN BasicBlock] ConvBN2 finished in 55.97 sec\n",
      "[FHE_CNN BasicBlock] ReLU2 started...\n",
      "bootstrap done\n",
      "bootstrap done\n",
      "[FHE_CNN BasicBlock] ReLU2 finished in 61.26 sec\n",
      "[FHE_CNN] First Basic Block finished in 234.51 sec\n",
      "\n",
      "[FHE_CNN BasicBlock] ConvBN1 started...\n",
      "[MultParConv] Layer structure: (hi,wi,ci,ki,ti,pi) =(32,32,16, 1,16,  2)\n",
      "[FHE_CNN BasicBlock] ConvBN1 finished in 175.82 sec\n",
      "[FHE_CNN BasicBlock] ReLU1 started...\n",
      "bootstrap done\n",
      "[FHE_CNN BasicBlock] ReLU1 finished in 55.32 sec\n",
      "[FHE_CNN BasicBlock] ConvBN2 started...\n",
      "bootstrap done\n",
      "[MultParConv] Layer structure: (hi,wi,ci,ki,ti,pi) =(16,16,32, 2, 8,  4)\n",
      "[FHE_CNN BasicBlock] ConvBN2 finished in 182.96 sec\n",
      "[FHE_CNN BasicBlock] ConvBN_shortcut started...\n",
      "[MultParConv] Layer structure: (hi,wi,ci,ki,ti,pi) =(32,32,16, 1,16,  2)\n",
      "[FHE_CNN BasicBlock] ConvBN_shortcut finished in 122.09 sec\n",
      "[FHE_CNN BasicBlock] ReLU2 started...\n",
      "bootstrap done\n",
      "[FHE_CNN BasicBlock] ReLU2 finished in 52.33 sec\n",
      "[FHE_CNN] Second Basic Block finished in 588.56 sec\n",
      "\n",
      "bootstrap done\n",
      "[FHE_CNN BasicBlock] ConvBN1 started...\n",
      "[MultParConv] Layer structure: (hi,wi,ci,ki,ti,pi) =(16,16,32, 2, 8,  4)\n",
      "[FHE_CNN BasicBlock] ConvBN1 finished in 352.66 sec\n",
      "[FHE_CNN BasicBlock] ReLU1 started...\n"
     ]
    }
   ],
   "source": [
    "result = fhemodel(ctxt)"
   ]
  },
  {
   "cell_type": "code",
   "execution_count": null,
   "id": "eeac6d3b",
   "metadata": {},
   "outputs": [],
   "source": [
    "class_num = decrypt_result(hec, result)\n",
    "print(\"[FHE_CNN] Inference result:\", class_num)\n",
    "print(f\"[FHE_CNN] It's a {classes[class_num]}\")"
   ]
  },
  {
   "cell_type": "markdown",
   "id": "cd08df39",
   "metadata": {},
   "source": [
    "### 3.1 Comparison with Pytorch result"
   ]
  },
  {
   "cell_type": "code",
   "execution_count": null,
   "id": "9c2f311f",
   "metadata": {},
   "outputs": [],
   "source": [
    "import torch\n",
    "torch_result = model(img_tensor)\n",
    "torch_class = torch.argmax(torch_result)\n",
    "print(f\"[PyTorch] It's a {classes[torch_class]}\")"
   ]
  },
  {
   "cell_type": "code",
   "execution_count": null,
   "id": "9102c97a",
   "metadata": {},
   "outputs": [],
   "source": []
  }
 ],
 "metadata": {
  "kernelspec": {
   "display_name": "Python 3 (ipykernel)",
   "language": "python",
   "name": "python3"
  },
  "language_info": {
   "codemirror_mode": {
    "name": "ipython",
    "version": 3
   },
   "file_extension": ".py",
   "mimetype": "text/x-python",
   "name": "python",
   "nbconvert_exporter": "python",
   "pygments_lexer": "ipython3",
   "version": "3.10.6"
  }
 },
 "nbformat": 4,
 "nbformat_minor": 5
}
