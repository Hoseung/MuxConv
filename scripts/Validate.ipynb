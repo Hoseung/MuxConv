{
 "cells": [
  {
   "cell_type": "code",
   "execution_count": 1,
   "id": "b81bd6e5",
   "metadata": {},
   "outputs": [],
   "source": [
    "%load_ext autoreload\n",
    "%autoreload 2"
   ]
  },
  {
   "cell_type": "code",
   "execution_count": 1,
   "id": "fbadb58b",
   "metadata": {},
   "outputs": [
    {
     "name": "stdout",
     "output_type": "stream",
     "text": [
      "Using CPU version HEAAN\n",
      "Using CPU version HEAAN\n",
      "Using CPU version HEAAN\n"
     ]
    }
   ],
   "source": [
    "import matplotlib.pyplot as plt \n",
    "import numpy as np\n",
    "import hemul\n",
    "hemul.USE_FPGA=False\n",
    "from hemul import heaan\n",
    "from muxcnn.resnet_HEAAN import ResNetHEAAN\n",
    "from muxcnn.utils import get_channel_last\n",
    "\n",
    "from muxcnn.models.ResNet20 import ResNet, BasicBlock\n",
    "from muxcnn.utils import load_params, load_img, decrypt_result\n",
    "import struct"
   ]
  },
  {
   "cell_type": "markdown",
   "id": "7b9873d0",
   "metadata": {},
   "source": [
    "# 1. 원본 Pytorch 모델"
   ]
  },
  {
   "cell_type": "code",
   "execution_count": 2,
   "id": "013a2acf-74da-4c5e-b55c-8e98b0e68ead",
   "metadata": {},
   "outputs": [
    {
     "name": "stdout",
     "output_type": "stream",
     "text": [
      "Files already downloaded and verified\n",
      "Files already downloaded and verified\n"
     ]
    }
   ],
   "source": [
    "import torch\n",
    "import numpy as np\n",
    "from torchvision import datasets\n",
    "import torchvision.transforms as transforms\n",
    "from torch.utils.data.sampler import SubsetRandomSampler\n",
    "from torch import nn\n",
    "import torch.nn.functional as F\n",
    "\n",
    "num_workers = 0\n",
    "batch_size = 32\n",
    "valid_size = 0.2\n",
    "\n",
    "train_transform = transforms.Compose([\n",
    "    transforms.RandomHorizontalFlip(p=0.5),\n",
    "    transforms.RandomCrop(32, padding=4),\n",
    "    transforms.ToTensor(),\n",
    "    transforms.Normalize((0.5, 0.5, 0.5), (0.5, 0.5, 0.5))\n",
    "    ])\n",
    "\n",
    "test_transform = transforms.Compose([\n",
    "    transforms.ToTensor(),\n",
    "    transforms.Normalize((0.5, 0.5, 0.5), (0.5, 0.5, 0.5))\n",
    "    ])\n",
    "\n",
    "train_data = datasets.CIFAR10('data', train=True,\n",
    "                              download=True, transform=train_transform)\n",
    "test_data = datasets.CIFAR10('data', train=False,\n",
    "                             download=True, transform=test_transform)\n",
    "\n",
    "num_train = len(train_data)\n",
    "indices = list(range(num_train))\n",
    "np.random.shuffle(indices)\n",
    "split = int(np.floor(valid_size * num_train))\n",
    "train_idx, valid_idx = indices[split:], indices[:split]\n",
    "\n",
    "train_sampler = SubsetRandomSampler(train_idx)\n",
    "valid_sampler = SubsetRandomSampler(valid_idx)\n",
    "\n",
    "# prepare data loaders (combine dataset and sampler)\n",
    "train_loader = torch.utils.data.DataLoader(train_data, batch_size=batch_size,\n",
    "    sampler=train_sampler, num_workers=num_workers)\n",
    "valid_loader = torch.utils.data.DataLoader(train_data, batch_size=batch_size, \n",
    "    sampler=valid_sampler, num_workers=num_workers)"
   ]
  },
  {
   "cell_type": "code",
   "execution_count": 3,
   "id": "3f2cea10-2aea-4f8a-bae8-827c27e264d3",
   "metadata": {},
   "outputs": [],
   "source": [
    "# CIFAR-10 classes\n",
    "classes = ['airplane', 'automobile', 'bird', 'cat', 'deer',\n",
    "           'dog', 'frog', 'horse', 'ship', 'truck']\n",
    "\n",
    "model = ResNet(BasicBlock,[1,1,1])\n",
    "model.eval() \n",
    "\n",
    "# Load trained parameters\n",
    "load_params(model, fn_param=\"./ResNet8.pt\",device='cpu')"
   ]
  },
  {
   "cell_type": "markdown",
   "id": "1c676ba9",
   "metadata": {},
   "source": [
    "## FHE Setup"
   ]
  },
  {
   "cell_type": "code",
   "execution_count": 4,
   "id": "b3902b1f-9f3c-493d-b078-fb736931cc8e",
   "metadata": {},
   "outputs": [
    {
     "name": "stdout",
     "output_type": "stream",
     "text": [
      "Initializing the scheme as the data owner\n",
      "Loading a secret key from:  ./SecretKey.txt\n",
      "loading secret key done.\n",
      "HEAAN CKKS setup is ready \n"
     ]
    }
   ],
   "source": [
    "logp = 40\n",
    "logq = 800\n",
    "logn = 15\n",
    "\n",
    "# Rotation 미리 준비 \n",
    "rot_l = [2**i for i in range(15)]\n",
    "rot_l = rot_l + [2**15-1, \n",
    "                 2**15-33, 2**15-32, 2**15-31,\n",
    "                 2**15-17, 2**15-16, 2**15-15, \n",
    "                 2**15-9,2**15-8, 2**15-7] + [3,5,7,9,15,17, 31, 33]\n",
    "\n",
    "hec = heaan.HEAANContext(logn, logp, logq, load_keys=True, rot_l=rot_l)"
   ]
  },
  {
   "cell_type": "code",
   "execution_count": 8,
   "id": "e50b5318-3037-4c25-92bc-df303b8fc03b",
   "metadata": {},
   "outputs": [
    {
     "name": "stdout",
     "output_type": "stream",
     "text": [
      "function approximators set\n",
      "degrees = [7, 7, 15, 15, 27], margin = 0.0005, eps = 0.01\n"
     ]
    }
   ],
   "source": [
    "fhemodel = ResNetHEAAN(model, hec, alpha=14, min_depth=True)"
   ]
  },
  {
   "cell_type": "markdown",
   "id": "0d2c4fa9",
   "metadata": {},
   "source": [
    "### Pack and Encrypt the tensor image"
   ]
  },
  {
   "cell_type": "code",
   "execution_count": 9,
   "id": "89cba7d1-eda9-415f-8699-50c3404f8abf",
   "metadata": {
    "tags": []
   },
   "outputs": [
    {
     "name": "stdout",
     "output_type": "stream",
     "text": [
      "torch.Size([32, 3, 32, 32]) tensor([9, 7, 3, 0, 5, 8, 0, 1, 5, 0, 0, 4, 1, 5, 2, 3, 0, 1, 0, 9, 0, 8, 7, 4,\n",
      "        0, 2, 4, 1, 6, 3, 5, 9])\n",
      "[FHE_CNN] Inference started...\n",
      "[FHE_CNN_EARLY] ConvBN started...\n",
      "[MultParConv] Layer structure: (hi,wi,ci,ki,ti,pi) =(32,32, 3, 1, 3,  8)\n",
      "ct_d 40 720\n",
      "[FHE_CNN_EARLY] ConvBN finished in 10.86 sec\n",
      "[FHE_CNN_EARLY] ReLU started...\n",
      "APPR 7 40 720\n",
      "[ 0.72535563  0.07396074  0.29663535 ... -0.67000996 -0.67000973\n",
      " -0.454484  ]\n",
      "min max -9.543108837309246 6.156781208800096\n",
      "APPR 7 40 560\n",
      "[ 0.09458583  0.00965537  0.03871797 ... -0.08738349 -0.08738346\n",
      " -0.05930565]\n",
      "min max -1.019015256187269 0.7396998857976873\n",
      "APPR 15 40 400\n",
      "[ 0.40751528  0.04252408  0.16992775 ... -0.37771357 -0.37771345\n",
      " -0.25898398]\n",
      "min max -1.1856622446216531 1.1856734944252572\n",
      "APPR 15 40 200\n",
      "[ 0.9124565   0.36677278  1.10877497 ... -0.94806298 -0.9480638\n",
      " -1.16094808]\n",
      "min max -1.1809134518493376 1.1809142203567755\n",
      "bootstrap done\n",
      "AFTER bootstrap 40 800\n",
      "APPR 27 40 600\n",
      "[ 1.01677025  0.96840471  0.96425209 ... -1.05217263 -1.05217287\n",
      " -1.09688216]\n",
      "min max -1.1676813965634742 1.1676773305110186\n",
      "After ApprSign 40 360\n",
      "[ 0.99998097  1.00000431  1.00001843 ... -0.99999204 -0.99996949\n",
      " -1.00008511]\n",
      "min max -1.0008304503067609 1.0005630323623838\n",
      "After +1 40 360\n",
      "[ 1.99998097e+00  2.00000431e+00  2.00001843e+00 ...  7.96048813e-06\n",
      "  3.05093918e-05 -8.51055015e-05]\n",
      "min max -0.0008304503067608009 2.0005630323623835\n",
      "After *1 80 360\n",
      "[ 9.99990487e-01  1.00000216e+00  1.00000921e+00 ...  3.98024407e-06\n",
      "  1.52546959e-05 -4.25527507e-05]\n",
      "min max -0.00041522515338040047 1.0002815161811918\n",
      "<class.Ciphertext logp: 40 logq: 720 n: 32768> <class.Ciphertext logp: 40 logq: 320 n: 32768>\n",
      "After mult 80 320\n",
      "[ 7.25348693e-01  7.39609019e-02  2.96638080e-01 ... -2.66673648e-06\n",
      " -1.02208113e-05  1.93396536e-05]\n",
      "min max -0.0005408564421798316 6.156854901959312\n",
      "[FHE_CNN_EARLY] ReLU hinished in 18.16 sec\n",
      "[FHE_CNN BasicBlock] ConvBN1 started...\n",
      "[MultParConv] Layer structure: (hi,wi,ci,ki,ti,pi) =(32,32,16, 1,16,  2)\n",
      "ct_d 40 200\n"
     ]
    },
    {
     "ename": "KeyboardInterrupt",
     "evalue": "",
     "output_type": "error",
     "traceback": [
      "\u001b[0;31m---------------------------------------------------------------------------\u001b[0m",
      "\u001b[0;31mKeyboardInterrupt\u001b[0m                         Traceback (most recent call last)",
      "Cell \u001b[0;32mIn [9], line 5\u001b[0m\n\u001b[1;32m      3\u001b[0m \u001b[38;5;28;01mfor\u001b[39;00m i \u001b[38;5;129;01min\u001b[39;00m \u001b[38;5;28mrange\u001b[39m(\u001b[38;5;241m32\u001b[39m):\n\u001b[1;32m      4\u001b[0m     ctxt \u001b[38;5;241m=\u001b[39m fhemodel\u001b[38;5;241m.\u001b[39mpack_img_ctxt(img_tensor[i:i\u001b[38;5;241m+\u001b[39m\u001b[38;5;241m1\u001b[39m,:,:,:])\n\u001b[0;32m----> 5\u001b[0m     result \u001b[38;5;241m=\u001b[39m \u001b[43mfhemodel\u001b[49m\u001b[43m(\u001b[49m\u001b[43mctxt\u001b[49m\u001b[43m)\u001b[49m\n\u001b[1;32m      7\u001b[0m     class_num \u001b[38;5;241m=\u001b[39m decrypt_result(hec, result)\n\u001b[1;32m      8\u001b[0m     \u001b[38;5;28mprint\u001b[39m(\u001b[38;5;124m\"\u001b[39m\u001b[38;5;124m[FHE_CNN] Inference result:\u001b[39m\u001b[38;5;124m\"\u001b[39m, class_num)\n",
      "File \u001b[0;32m~/Work/FHE/MuxConv/muxcnn/resnet_HEAAN.py:196\u001b[0m, in \u001b[0;36mResNetHEAAN.__call__\u001b[0;34m(self, img_tensor)\u001b[0m\n\u001b[1;32m    195\u001b[0m \u001b[38;5;28;01mdef\u001b[39;00m \u001b[38;5;21m__call__\u001b[39m(\u001b[38;5;28mself\u001b[39m, img_tensor):\n\u001b[0;32m--> 196\u001b[0m     \u001b[38;5;28;01mreturn\u001b[39;00m \u001b[38;5;28;43mself\u001b[39;49m\u001b[38;5;241;43m.\u001b[39;49m\u001b[43mforward\u001b[49m\u001b[43m(\u001b[49m\u001b[43mimg_tensor\u001b[49m\u001b[43m)\u001b[49m\n",
      "File \u001b[0;32m~/Work/FHE/MuxConv/muxcnn/resnet_HEAAN.py:42\u001b[0m, in \u001b[0;36mResNetHEAAN.forward\u001b[0;34m(self, ctxt, ki, hi, wi, debug, verbose)\u001b[0m\n\u001b[1;32m     39\u001b[0m \u001b[38;5;66;03m#self.hec.rescale(ctxt)\u001b[39;00m\n\u001b[1;32m     40\u001b[0m \u001b[38;5;66;03m# Basic blocks\u001b[39;00m\n\u001b[1;32m     41\u001b[0m t1 \u001b[38;5;241m=\u001b[39m time()\n\u001b[0;32m---> 42\u001b[0m ctxt, outs1 \u001b[38;5;241m=\u001b[39m \u001b[38;5;28;43mself\u001b[39;49m\u001b[38;5;241;43m.\u001b[39;49m\u001b[43mforward_bb\u001b[49m\u001b[43m(\u001b[49m\u001b[43mmodel\u001b[49m\u001b[38;5;241;43m.\u001b[39;49m\u001b[43mlayer1\u001b[49m\u001b[43m[\u001b[49m\u001b[38;5;241;43m0\u001b[39;49m\u001b[43m]\u001b[49m\u001b[43m,\u001b[49m\u001b[43m \u001b[49m\u001b[43mctxt\u001b[49m\u001b[43m,\u001b[49m\u001b[43m \u001b[49m\u001b[43mouts0\u001b[49m\u001b[43m)\u001b[49m\n\u001b[1;32m     43\u001b[0m \u001b[38;5;28;01mif\u001b[39;00m verbose: \u001b[38;5;28mprint\u001b[39m(\u001b[38;5;124m\"\u001b[39m\u001b[38;5;124m[FHE_CNN] First Basic Block finished in \u001b[39m\u001b[38;5;132;01m{:.2f}\u001b[39;00m\u001b[38;5;124m sec\u001b[39m\u001b[38;5;130;01m\\n\u001b[39;00m\u001b[38;5;124m\"\u001b[39m\u001b[38;5;241m.\u001b[39mformat(time()\u001b[38;5;241m-\u001b[39mt1))\n\u001b[1;32m     44\u001b[0m t1 \u001b[38;5;241m=\u001b[39m time()\n",
      "File \u001b[0;32m~/Work/FHE/MuxConv/muxcnn/resnet_HEAAN.py:99\u001b[0m, in \u001b[0;36mResNetHEAAN.forward_bb\u001b[0;34m(self, bb, ctxt_in, outs_in, debug, verbose)\u001b[0m\n\u001b[1;32m     97\u001b[0m t0 \u001b[38;5;241m=\u001b[39m time() \n\u001b[1;32m     98\u001b[0m \u001b[38;5;28;01mif\u001b[39;00m verbose: \u001b[38;5;28mprint\u001b[39m(\u001b[38;5;124m\"\u001b[39m\u001b[38;5;124m[FHE_CNN BasicBlock] ConvBN1 started...\u001b[39m\u001b[38;5;124m\"\u001b[39m)\n\u001b[0;32m---> 99\u001b[0m ctxt \u001b[38;5;241m=\u001b[39m \u001b[38;5;28;43mself\u001b[39;49m\u001b[38;5;241;43m.\u001b[39;49m\u001b[43mforward_convbn_par_fhe\u001b[49m\u001b[43m(\u001b[49m\u001b[43mbb\u001b[49m\u001b[38;5;241;43m.\u001b[39;49m\u001b[43mconv1\u001b[49m\u001b[43m,\u001b[49m\n\u001b[1;32m    100\u001b[0m \u001b[43m                                \u001b[49m\u001b[43mbb\u001b[49m\u001b[38;5;241;43m.\u001b[39;49m\u001b[43mbn1\u001b[49m\u001b[43m,\u001b[49m\u001b[43m \u001b[49m\u001b[43mctxt_in\u001b[49m\u001b[43m,\u001b[49m\u001b[43m \u001b[49m\u001b[43mins\u001b[49m\u001b[43m)\u001b[49m\n\u001b[1;32m    101\u001b[0m \u001b[38;5;28;01mif\u001b[39;00m verbose: \u001b[38;5;28mprint\u001b[39m(\u001b[38;5;124m\"\u001b[39m\u001b[38;5;124m[FHE_CNN BasicBlock] ConvBN1 finished in \u001b[39m\u001b[38;5;132;01m{:.2f}\u001b[39;00m\u001b[38;5;124m sec\u001b[39m\u001b[38;5;124m\"\u001b[39m\u001b[38;5;241m.\u001b[39mformat(time()\u001b[38;5;241m-\u001b[39mt0))\n\u001b[1;32m    102\u001b[0m t0 \u001b[38;5;241m=\u001b[39m time()\n",
      "File \u001b[0;32m~/Work/FHE/MuxConv/muxcnn/resnet_HEAAN.py:201\u001b[0m, in \u001b[0;36mResNetHEAAN.forward_convbn_par_fhe\u001b[0;34m(self, cnn_layer, bn_layer, ctx, ins, kernels)\u001b[0m\n\u001b[1;32m    199\u001b[0m \u001b[38;5;28;01mdef\u001b[39;00m \u001b[38;5;21mforward_convbn_par_fhe\u001b[39m(\u001b[38;5;28mself\u001b[39m, cnn_layer, bn_layer, ctx, ins, kernels\u001b[38;5;241m=\u001b[39m[\u001b[38;5;241m3\u001b[39m,\u001b[38;5;241m3\u001b[39m]):\n\u001b[1;32m    200\u001b[0m     U, ins, outs \u001b[38;5;241m=\u001b[39m get_conv_params(cnn_layer, ins)\n\u001b[0;32m--> 201\u001b[0m     \u001b[38;5;28;01mreturn\u001b[39;00m \u001b[38;5;28;43mself\u001b[39;49m\u001b[38;5;241;43m.\u001b[39;49m\u001b[43mMultParConvBN_fhe\u001b[49m\u001b[43m(\u001b[49m\u001b[43mctx\u001b[49m\u001b[43m,\u001b[49m\u001b[43m \u001b[49m\u001b[43mU\u001b[49m\u001b[43m,\u001b[49m\u001b[43m \u001b[49m\u001b[43mbn_layer\u001b[49m\u001b[43m,\u001b[49m\u001b[43m \u001b[49m\u001b[43mins\u001b[49m\u001b[43m,\u001b[49m\u001b[43m \u001b[49m\u001b[43mouts\u001b[49m\u001b[43m,\u001b[49m\u001b[43m \u001b[49m\u001b[43mkernels\u001b[49m\u001b[43m)\u001b[49m\n",
      "File \u001b[0;32m~/Work/FHE/MuxConv/muxcnn/resnet_HEAAN.py:274\u001b[0m, in \u001b[0;36mResNetHEAAN.MultParConvBN_fhe\u001b[0;34m(self, ct_a, U, bn_layer, ins, outs, kernels, nslots, scale_factor, debug)\u001b[0m\n\u001b[1;32m    272\u001b[0m \u001b[38;5;28;01mfor\u001b[39;00m i2 \u001b[38;5;129;01min\u001b[39;00m \u001b[38;5;28mrange\u001b[39m(fw):\n\u001b[1;32m    273\u001b[0m     w \u001b[38;5;241m=\u001b[39m ParMultWgt(U,i1,i2,i3,ins,co,kernels,nslots)\n\u001b[0;32m--> 274\u001b[0m     tmp \u001b[38;5;241m=\u001b[39m \u001b[43mev\u001b[49m\u001b[38;5;241;43m.\u001b[39;49m\u001b[43mmultByVec\u001b[49m\u001b[43m(\u001b[49m\u001b[43mct\u001b[49m\u001b[43m[\u001b[49m\u001b[43mi1\u001b[49m\u001b[43m]\u001b[49m\u001b[43m[\u001b[49m\u001b[43mi2\u001b[49m\u001b[43m]\u001b[49m\u001b[43m,\u001b[49m\u001b[43m \u001b[49m\u001b[43mw\u001b[49m\u001b[43m,\u001b[49m\u001b[43m \u001b[49m\u001b[43minplace\u001b[49m\u001b[38;5;241;43m=\u001b[39;49m\u001b[38;5;28;43;01mFalse\u001b[39;49;00m\u001b[43m)\u001b[49m\n\u001b[1;32m    275\u001b[0m     ev\u001b[38;5;241m.\u001b[39mrescale(tmp)\n\u001b[1;32m    276\u001b[0m     ev\u001b[38;5;241m.\u001b[39madd(ct_b, tmp, inplace\u001b[38;5;241m=\u001b[39m\u001b[38;5;28;01mTrue\u001b[39;00m) \u001b[38;5;66;03m####\u001b[39;00m\n",
      "File \u001b[0;32m~/Work/FHE/FHE_simulator/hemul/heaan.py:405\u001b[0m, in \u001b[0;36mHEAANContext.multByVec\u001b[0;34m(self, ctxt, val, inplace, rescale)\u001b[0m\n\u001b[1;32m    403\u001b[0m \u001b[38;5;28;01melse\u001b[39;00m:\n\u001b[1;32m    404\u001b[0m     new_ct \u001b[38;5;241m=\u001b[39m he\u001b[38;5;241m.\u001b[39mCiphertext()\n\u001b[0;32m--> 405\u001b[0m     \u001b[38;5;28;43mself\u001b[39;49m\u001b[38;5;241;43m.\u001b[39;49m\u001b[43m_scheme\u001b[49m\u001b[38;5;241;43m.\u001b[39;49m\u001b[43mmultByConstVec\u001b[49m\u001b[43m(\u001b[49m\u001b[43mnew_ct\u001b[49m\u001b[43m,\u001b[49m\u001b[43m \u001b[49m\u001b[43mctxt\u001b[49m\u001b[43m,\u001b[49m\u001b[43m \u001b[49m\u001b[43mhe\u001b[49m\u001b[38;5;241;43m.\u001b[39;49m\u001b[43mDouble\u001b[49m\u001b[43m(\u001b[49m\u001b[43mval\u001b[49m\u001b[43m)\u001b[49m\u001b[43m,\u001b[49m\u001b[43m \u001b[49m\u001b[43mctxt\u001b[49m\u001b[38;5;241;43m.\u001b[39;49m\u001b[43mlogp\u001b[49m\u001b[43m)\u001b[49m\n\u001b[1;32m    406\u001b[0m     \u001b[38;5;28;01mif\u001b[39;00m rescale: \u001b[38;5;28mself\u001b[39m\u001b[38;5;241m.\u001b[39mrescale(new_ct)\n\u001b[1;32m    407\u001b[0m     \u001b[38;5;28;01mreturn\u001b[39;00m new_ct\n",
      "\u001b[0;31mKeyboardInterrupt\u001b[0m: "
     ]
    }
   ],
   "source": [
    "for img_tensor, label in valid_loader:    \n",
    "    print(img_tensor.shape, label)\n",
    "    for i in range(32):\n",
    "        ctxt = fhemodel.pack_img_ctxt(img_tensor[i:i+1,:,:,:])\n",
    "        result = fhemodel(ctxt)\n",
    "\n",
    "        class_num = decrypt_result(hec, result)\n",
    "        print(\"[FHE_CNN] Inference result:\", class_num)\n",
    "        print(f\"[FHE_CNN] It's a {classes[class_num]}, ANSWER:\", label[i])\n",
    "        \n",
    "        del ctxt"
   ]
  },
  {
   "cell_type": "code",
   "execution_count": 7,
   "id": "d83e7806",
   "metadata": {
    "scrolled": true
   },
   "outputs": [],
   "source": []
  },
  {
   "cell_type": "markdown",
   "id": "e47cb4a6",
   "metadata": {},
   "source": [
    "# 2. Cehck Ciphertext \n",
    "\n",
    "### 2.1. save Ciphertext to file"
   ]
  },
  {
   "cell_type": "code",
   "execution_count": 9,
   "id": "4a50751e",
   "metadata": {},
   "outputs": [],
   "source": [
    "heaan.he.SerializationUtils.writeCiphertext(ctxt, \"packed_img.dat\")"
   ]
  },
  {
   "cell_type": "markdown",
   "id": "2d45e538",
   "metadata": {},
   "source": [
    "### 2.2 Load using Python "
   ]
  },
  {
   "cell_type": "code",
   "execution_count": 84,
   "id": "2089a9a3",
   "metadata": {
    "collapsed": true,
    "jupyter": {
     "outputs_hidden": true
    },
    "tags": []
   },
   "outputs": [
    {
     "name": "stdout",
     "output_type": "stream",
     "text": [
      "Ciphertext has the following FHE parameters:\n",
      "nslots, logp, logq  =  (32768,) (40,) (800,)\n"
     ]
    }
   ],
   "source": [
    "import struct\n",
    "\n",
    "f = open(\"packed_img.dat\", \"rb\")\n",
    "encrypted_img = f.read()\n",
    "\n",
    "data = struct.iter_unpack('l', encrypted_img[:8*3]) # Ctxt header\n",
    "read_nslots, read_logp, read_logq = data\n",
    "\n",
    "print(\"Ciphertext has the following FHE parameters:\")\n",
    "print(\"nslots, logp, logq  = \", read_nslots, read_logp, read_logq)"
   ]
  },
  {
   "cell_type": "markdown",
   "id": "d8d22227",
   "metadata": {
    "tags": []
   },
   "source": [
    "### 2.3. Try to interpret encrypted data"
   ]
  },
  {
   "cell_type": "code",
   "execution_count": 85,
   "id": "728aa967",
   "metadata": {},
   "outputs": [
    {
     "data": {
      "text/plain": [
       "<matplotlib.image.AxesImage at 0x7f313fe70880>"
      ]
     },
     "execution_count": 85,
     "metadata": {},
     "output_type": "execute_result"
    },
    {
     "data": {
      "image/png": "[encoded data removed]",
      "text/plain": [
       "<Figure size 640x480 with 1 Axes>"
      ]
     },
     "metadata": {},
     "output_type": "display_data"
    }
   ],
   "source": [
    "arr = np.frombuffer(encrypted_img[8*3:], dtype=np.int64)\n",
    "reshaped = arr.reshape(32,32,-1)\n",
    "plt.imshow(reshaped[:,:,0])"
   ]
  },
  {
   "cell_type": "markdown",
   "id": "29308d49",
   "metadata": {},
   "source": [
    "# 3. FHE model inference"
   ]
  },
  {
   "cell_type": "code",
   "execution_count": null,
   "id": "56d4ff19",
   "metadata": {
    "collapsed": true,
    "jupyter": {
     "outputs_hidden": true
    },
    "tags": []
   },
   "outputs": [
    {
     "name": "stdout",
     "output_type": "stream",
     "text": [
      "[FHE_CNN] Inference started...\n",
      "[FHE_CNN_EARLY] ConvBN started...\n",
      "[MultParConv] Layer structure: (hi,wi,ci,ki,ti,pi) =(32,32, 3, 1, 3,  8)\n",
      "[FHE_CNN_EARLY] ConvBN finished in 33.48 sec\n",
      "[FHE_CNN_EARLY] ReLU started...\n",
      "bootstrap done\n",
      "[FHE_CNN_EARLY] ReLU hinished in 61.43 sec\n",
      "[FHE_CNN BasicBlock] ConvBN1 started...\n",
      "[MultParConv] Layer structure: (hi,wi,ci,ki,ti,pi) =(32,32,16, 1,16,  2)\n",
      "[FHE_CNN BasicBlock] ConvBN1 finished in 55.19 sec\n",
      "[FHE_CNN BasicBlock] ReLU1 started...\n",
      "bootstrap done\n",
      "bootstrap done\n",
      "[FHE_CNN BasicBlock] ReLU1 finished in 62.02 sec\n",
      "[FHE_CNN BasicBlock] ConvBN2 started...\n",
      "[MultParConv] Layer structure: (hi,wi,ci,ki,ti,pi) =(32,32,16, 1,16,  2)\n",
      "[FHE_CNN BasicBlock] ConvBN2 finished in 55.97 sec\n",
      "[FHE_CNN BasicBlock] ReLU2 started...\n",
      "bootstrap done\n",
      "bootstrap done\n",
      "[FHE_CNN BasicBlock] ReLU2 finished in 61.26 sec\n",
      "[FHE_CNN] First Basic Block finished in 234.51 sec\n",
      "\n",
      "[FHE_CNN BasicBlock] ConvBN1 started...\n",
      "[MultParConv] Layer structure: (hi,wi,ci,ki,ti,pi) =(32,32,16, 1,16,  2)\n",
      "[FHE_CNN BasicBlock] ConvBN1 finished in 175.82 sec\n",
      "[FHE_CNN BasicBlock] ReLU1 started...\n",
      "bootstrap done\n",
      "[FHE_CNN BasicBlock] ReLU1 finished in 55.32 sec\n",
      "[FHE_CNN BasicBlock] ConvBN2 started...\n",
      "bootstrap done\n",
      "[MultParConv] Layer structure: (hi,wi,ci,ki,ti,pi) =(16,16,32, 2, 8,  4)\n",
      "[FHE_CNN BasicBlock] ConvBN2 finished in 182.96 sec\n",
      "[FHE_CNN BasicBlock] ConvBN_shortcut started...\n",
      "[MultParConv] Layer structure: (hi,wi,ci,ki,ti,pi) =(32,32,16, 1,16,  2)\n",
      "[FHE_CNN BasicBlock] ConvBN_shortcut finished in 122.09 sec\n",
      "[FHE_CNN BasicBlock] ReLU2 started...\n",
      "bootstrap done\n",
      "[FHE_CNN BasicBlock] ReLU2 finished in 52.33 sec\n",
      "[FHE_CNN] Second Basic Block finished in 588.56 sec\n",
      "\n",
      "bootstrap done\n",
      "[FHE_CNN BasicBlock] ConvBN1 started...\n",
      "[MultParConv] Layer structure: (hi,wi,ci,ki,ti,pi) =(16,16,32, 2, 8,  4)\n",
      "[FHE_CNN BasicBlock] ConvBN1 finished in 352.66 sec\n",
      "[FHE_CNN BasicBlock] ReLU1 started...\n"
     ]
    }
   ],
   "source": [
    "result = fhemodel(ctxt)"
   ]
  },
  {
   "cell_type": "code",
   "execution_count": null,
   "id": "eeac6d3b",
   "metadata": {},
   "outputs": [],
   "source": [
    "class_num = decrypt_result(hec, result)\n",
    "print(\"[FHE_CNN] Inference result:\", class_num)\n",
    "print(f\"[FHE_CNN] It's a {classes[class_num]}\")"
   ]
  },
  {
   "cell_type": "markdown",
   "id": "cd08df39",
   "metadata": {},
   "source": [
    "### 3.1 Comparison with Pytorch result"
   ]
  },
  {
   "cell_type": "code",
   "execution_count": null,
   "id": "9c2f311f",
   "metadata": {},
   "outputs": [],
   "source": [
    "import torch\n",
    "torch_result = model(img_tensor)\n",
    "torch_class = torch.argmax(torch_result)\n",
    "print(f\"[PyTorch] It's a {classes[torch_class]}\")"
   ]
  },
  {
   "cell_type": "code",
   "execution_count": null,
   "id": "9102c97a",
   "metadata": {},
   "outputs": [],
   "source": []
  }
 ],
 "metadata": {
  "kernelspec": {
   "display_name": "Python 3 (ipykernel)",
   "language": "python",
   "name": "python3"
  },
  "language_info": {
   "codemirror_mode": {
    "name": "ipython",
    "version": 3
   },
   "file_extension": ".py",
   "mimetype": "text/x-python",
   "name": "python",
   "nbconvert_exporter": "python",
   "pygments_lexer": "ipython3",
   "version": "3.10.8"
  }
 },
 "nbformat": 4,
 "nbformat_minor": 5
}
