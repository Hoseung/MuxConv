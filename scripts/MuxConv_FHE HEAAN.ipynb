{
 "cells": [
  {
   "cell_type": "code",
   "execution_count": 1,
   "id": "bfd4f7f8",
   "metadata": {},
   "outputs": [],
   "source": [
    "%load_ext autoreload\n",
    "%autoreload 2"
   ]
  },
  {
   "cell_type": "code",
   "execution_count": 2,
   "id": "8bcc2df7",
   "metadata": {},
   "outputs": [],
   "source": [
    "from hemul import heaan\n",
    "import hemul.HEAAN as he\n",
    "from muxcnn.resnet_HEAAN import ResNetHEAAN\n",
    "from muxcnn.utils import load_params, load_img\n",
    "import torch\n",
    "from muxcnn.resnet_muxconv import ResNet_MuxConv\n",
    "from muxcnn.utils import get_channel_last, get_conv_params\n",
    "from muxcnn.hecnn_par import MultParPack\n",
    "from muxcnn.hecnn_par import forward_convbn_par"
   ]
  },
  {
   "cell_type": "markdown",
   "id": "acbd4950",
   "metadata": {},
   "source": [
    "## Torch model"
   ]
  },
  {
   "cell_type": "code",
   "execution_count": 3,
   "id": "8d430ea2",
   "metadata": {},
   "outputs": [],
   "source": [
    "from muxcnn.models.ResNet20 import ResNet, BasicBlock\n",
    "\n",
    "model = ResNet(BasicBlock,[1,1,1])\n",
    "model.eval() ########## 필수! \n",
    "load_params(model, fn_param=\"./ResNet8.pt\",device='cpu')\n",
    "\n",
    "img_tensor = load_img(\"./cute.jpg\", hi=32, wi=32)"
   ]
  },
  {
   "cell_type": "markdown",
   "id": "3ec99b0f",
   "metadata": {},
   "source": [
    "# MuxedCNN"
   ]
  },
  {
   "cell_type": "code",
   "execution_count": 4,
   "id": "ad16462b",
   "metadata": {},
   "outputs": [],
   "source": [
    "imgl = get_channel_last(img_tensor[0].detach().numpy())\n",
    "ki = 1 # initial ki\n",
    "hi, wi, ch = imgl.shape"
   ]
  },
  {
   "cell_type": "code",
   "execution_count": 5,
   "id": "1803bb6b",
   "metadata": {},
   "outputs": [
    {
     "name": "stdout",
     "output_type": "stream",
     "text": [
      "functions set\n",
      "degrees = [15, 15, 15, 15], margin = 0.01, eps = 0.02\n"
     ]
    }
   ],
   "source": [
    "muxed_model = ResNet_MuxConv(model, alpha=12)"
   ]
  },
  {
   "cell_type": "markdown",
   "id": "ccda683f",
   "metadata": {},
   "source": [
    "# FHE Context"
   ]
  },
  {
   "cell_type": "code",
   "execution_count": 6,
   "id": "6c3c057a",
   "metadata": {},
   "outputs": [
    {
     "name": "stdout",
     "output_type": "stream",
     "text": [
      "Initializing the scheme as the data owner\n",
      "Loading a secret key from:  ./SecretKey.txt\n",
      "loading secret key done.\n",
      "HEAAN CKKS setup is ready \n"
     ]
    }
   ],
   "source": [
    "rot_l = [2**i for i in range(15)]\n",
    "\n",
    "# prepare for all rotations\n",
    "rot_l = rot_l + [2**15-1, \n",
    "         2**15-33, 2**15-32, 2**15-31,\n",
    "         2**15-17, 2**15-16, 2**15-15, \n",
    "         2**15-9,2**15-8, 2**15-7] + [3,5,7,9,15,17, 31, 33]\n",
    "\n",
    "hec = heaan.HEAANContext(15, 30, 600, boot=False, load_sk=True, rot_l=rot_l)"
   ]
  },
  {
   "cell_type": "code",
   "execution_count": 11,
   "id": "2143e69c",
   "metadata": {},
   "outputs": [],
   "source": [
    "fhemodel = ResNetHEAAN(model, hec)"
   ]
  },
  {
   "cell_type": "code",
   "execution_count": 12,
   "id": "68116974",
   "metadata": {},
   "outputs": [],
   "source": [
    "ctxt = fhemodel.pack_img_ctxt(img_tensor)"
   ]
  },
  {
   "cell_type": "markdown",
   "id": "d01eeb3a",
   "metadata": {},
   "source": [
    "decrypted = hec.decrypt(ctxt)"
   ]
  },
  {
   "cell_type": "markdown",
   "id": "3ebc3fcd",
   "metadata": {},
   "source": [
    "# forward early"
   ]
  },
  {
   "cell_type": "code",
   "execution_count": 13,
   "id": "d66daf81",
   "metadata": {},
   "outputs": [],
   "source": [
    "_, ins0, outs0 = get_conv_params(model.conv1, {'k':ki, 'h':hi, 'w':wi})"
   ]
  },
  {
   "cell_type": "code",
   "execution_count": 14,
   "id": "5a4a7152",
   "metadata": {
    "scrolled": true
   },
   "outputs": [
    {
     "name": "stdout",
     "output_type": "stream",
     "text": [
      "[MultParConv] (hi,wi,ci,ki,ti,pi) =(32,32, 3, 1, 3,  8)\n",
      "[MultParConv] (ho,wo,co,ko,to,po) =(32,32,16, 1,16,  2)\n",
      "[MultParConv] q = 2\n",
      "i1,i2, lrots 0 0 33\n",
      "Rotation by -33\n",
      "= Rotation by 32735\n",
      "Rotation by 32735\n",
      "ct\n",
      " 1\n",
      "i1,i2, lrots 0 1 32\n",
      "Rotation by -32\n",
      "= Rotation by 32736\n",
      "Rotation by 32736\n",
      "ct\n",
      " 2\n",
      "i1,i2, lrots 0 2 31\n",
      "Rotation by -31\n",
      "= Rotation by 32737\n",
      "Rotation by 32737\n",
      "ct\n",
      " 3\n",
      "ct\n",
      " 1\n",
      "i1,i2, lrots 1 0 1\n",
      "Rotation by -1\n",
      "= Rotation by 32767\n",
      "Rotation by 32767\n",
      "ct\n",
      " 1\n",
      "i1,i2, lrots 1 1 0\n",
      "ct\n",
      " 2\n",
      "i1,i2, lrots 1 2 -1\n",
      "Rotation by 1\n",
      "Rotation by 1\n",
      "ct\n",
      " 3\n",
      "ct\n",
      " 2\n",
      "i1,i2, lrots 2 0 -31\n",
      "Rotation by 31\n",
      "Rotation by 31\n",
      "ct\n",
      " 1\n",
      "i1,i2, lrots 2 1 -32\n",
      "Rotation by 32\n",
      "Rotation by 32\n",
      "ct\n",
      " 2\n",
      "i1,i2, lrots 2 2 -33\n",
      "Rotation by 33\n",
      "Rotation by 33\n",
      "ct\n",
      " 3\n",
      "ct\n",
      " 3\n",
      "aaaaa\n",
      "bbbbbb\n",
      "30 570\n",
      "cccccc\n",
      "xxxxxxxxxx\n",
      "ct[i1][i2]\n",
      " 30\n",
      "w [0. 0. 0. ... 0. 0. 0.]\n",
      "dddddd\n",
      "eeeeee\n",
      "fffff\n",
      "xxxxxxxxxx\n",
      "ct[i1][i2]\n",
      " 30\n",
      "w [0. 0. 0. ... 0. 0. 0.]\n",
      "dddddd\n",
      "eeeeee\n",
      "fffff\n",
      "xxxxxxxxxx\n",
      "ct[i1][i2]\n",
      " 30\n",
      "w [0. 0. 0. ... 0. 0. 0.]\n",
      "dddddd\n",
      "eeeeee\n",
      "fffff\n",
      "xxxxxxxxxx\n",
      "ct[i1][i2]\n",
      " 30\n",
      "w [0.        0.1208744 0.1208744 ... 0.        0.        0.       ]\n",
      "dddddd\n",
      "eeeeee\n",
      "fffff\n",
      "xxxxxxxxxx\n",
      "ct[i1][i2]\n",
      " 30\n",
      "w [-0.12832391 -0.12832391 -0.12832391 ...  0.          0.\n",
      "  0.        ]\n",
      "dddddd\n",
      "eeeeee\n",
      "fffff\n",
      "xxxxxxxxxx\n",
      "ct[i1][i2]\n",
      " 30\n",
      "w [0.07344919 0.07344919 0.07344919 ... 0.         0.         0.        ]\n",
      "dddddd\n",
      "eeeeee\n",
      "fffff\n",
      "xxxxxxxxxx\n",
      "ct[i1][i2]\n",
      " 30\n",
      "w [0.         0.25885454 0.25885454 ... 0.         0.         0.        ]\n",
      "dddddd\n",
      "eeeeee\n",
      "fffff\n",
      "xxxxxxxxxx\n",
      "ct[i1][i2]\n",
      " 30\n",
      "w [0.08414683 0.08414683 0.08414683 ... 0.         0.         0.        ]\n",
      "dddddd\n",
      "eeeeee\n",
      "fffff\n",
      "xxxxxxxxxx\n",
      "ct[i1][i2]\n",
      " 30\n",
      "w [0.09993148 0.09993148 0.09993148 ... 0.         0.         0.        ]\n",
      "dddddd\n",
      "eeeeee\n",
      "fffff\n",
      "Rotation by 1024\n",
      "Rotation by 1024\n",
      "Rotation by 2048\n",
      "Rotation by 2048\n",
      "Rotation by 3072\n",
      "rr 2048\n",
      "rr 1024\n",
      "Rotation by 6144\n",
      "rr 4096\n",
      "rr 2048\n",
      "Rotation by 9216\n",
      "rr 8192\n",
      "rr 1024\n",
      "Rotation by 12288\n",
      "rr 8192\n",
      "rr 4096\n",
      "Rotation by 15360\n",
      "rr 8192\n",
      "rr 4096\n",
      "rr 2048\n",
      "rr 1024\n",
      "Rotation by 18432\n",
      "rr 16384\n",
      "rr 2048\n",
      "Rotation by 21504\n",
      "rr 16384\n",
      "rr 4096\n",
      "rr 1024\n",
      "aaaaa\n",
      "bbbbbb\n",
      "30 570\n",
      "cccccc\n",
      "xxxxxxxxxx\n",
      "ct[i1][i2]\n",
      " 30\n",
      "w [0. 0. 0. ... 0. 0. 0.]\n",
      "dddddd\n",
      "eeeeee\n",
      "fffff\n",
      "xxxxxxxxxx\n",
      "ct[i1][i2]\n",
      " 30\n",
      "w [0. 0. 0. ... 0. 0. 0.]\n",
      "dddddd\n",
      "eeeeee\n",
      "fffff\n",
      "xxxxxxxxxx\n",
      "ct[i1][i2]\n",
      " 30\n",
      "w [0. 0. 0. ... 0. 0. 0.]\n",
      "dddddd\n",
      "eeeeee\n",
      "fffff\n",
      "xxxxxxxxxx\n",
      "ct[i1][i2]\n",
      " 30\n",
      "w [0.         0.04599195 0.04599195 ... 0.         0.         0.        ]\n",
      "dddddd\n",
      "eeeeee\n",
      "fffff\n",
      "xxxxxxxxxx\n",
      "ct[i1][i2]\n",
      " 30\n",
      "w [0.13947415 0.13947415 0.13947415 ... 0.         0.         0.        ]\n",
      "dddddd\n",
      "eeeeee\n",
      "fffff\n",
      "xxxxxxxxxx\n",
      "ct[i1][i2]\n",
      " 30\n",
      "w [-0.02535211 -0.02535211 -0.02535211 ...  0.          0.\n",
      "  0.        ]\n",
      "dddddd\n",
      "eeeeee\n",
      "fffff\n",
      "xxxxxxxxxx\n",
      "ct[i1][i2]\n",
      " 30\n",
      "w [0.         0.17708464 0.17708464 ... 0.         0.         0.        ]\n",
      "dddddd\n",
      "eeeeee\n",
      "fffff\n",
      "xxxxxxxxxx\n",
      "ct[i1][i2]\n",
      " 30\n",
      "w [0.08626837 0.08626837 0.08626837 ... 0.         0.         0.        ]\n",
      "dddddd\n",
      "eeeeee\n",
      "fffff\n",
      "xxxxxxxxxx\n",
      "ct[i1][i2]\n",
      " 30\n",
      "w [0.12046643 0.12046643 0.12046643 ... 0.         0.         0.        ]\n",
      "dddddd\n",
      "eeeeee\n",
      "fffff\n",
      "Rotation by 1024\n",
      "Rotation by 1024\n",
      "Rotation by 2048\n",
      "Rotation by 2048\n",
      "Rotation by -8192\n",
      "= Rotation by 24576\n",
      "rr 16384\n",
      "rr 8192\n",
      "Rotation by -5120\n",
      "= Rotation by 27648\n",
      "rr 16384\n",
      "rr 8192\n",
      "rr 2048\n",
      "rr 1024\n",
      "Rotation by -2048\n",
      "= Rotation by 30720\n",
      "rr 16384\n",
      "rr 8192\n",
      "rr 4096\n",
      "rr 2048\n",
      "Rotation by 1024\n",
      "Rotation by 1024\n",
      "Rotation by 4096\n",
      "Rotation by 4096\n",
      "Rotation by 7168\n",
      "rr 4096\n",
      "rr 2048\n",
      "rr 1024\n",
      "Rotation by 10240\n",
      "rr 8192\n",
      "rr 2048\n",
      "Rotation by 13312\n",
      "rr 8192\n",
      "rr 4096\n",
      "rr 1024\n",
      "Rotation by -16384\n",
      "= Rotation by 16384\n",
      "Rotation by 16384\n"
     ]
    }
   ],
   "source": [
    "# FHE\n",
    "cts = fhemodel.forward_convbn_par_fhe(model.conv1, \n",
    "                          model.bn1, ctxt, ins0)"
   ]
  },
  {
   "cell_type": "code",
   "execution_count": null,
   "id": "1f221dd3",
   "metadata": {},
   "outputs": [],
   "source": [
    "cts"
   ]
  },
  {
   "cell_type": "code",
   "execution_count": 13,
   "id": "fa017900",
   "metadata": {},
   "outputs": [
    {
     "name": "stdout",
     "output_type": "stream",
     "text": [
      "[ True  True  True  True  True  True  True  True  True  True  True  True\n",
      "  True  True  True  True  True  True  True  True  True  True  True  True\n",
      "  True  True  True  True  True  True  True  True  True  True  True  True\n",
      "  True  True  True  True  True  True  True  True  True  True  True  True\n",
      "  True  True]\n"
     ]
    }
   ],
   "source": [
    "print(ctxt._arr[2000:2050] == out1[2000:2050])"
   ]
  },
  {
   "cell_type": "code",
   "execution_count": 5,
   "id": "31554afd",
   "metadata": {},
   "outputs": [],
   "source": [
    "# early conv and bn\n",
    "_, ins0, outs0 = get_conv_params(model.conv1, {'k':ki, 'h':hi, 'w':wi})\n",
    "ct_a = MultParPack(imgl, ins0)"
   ]
  },
  {
   "cell_type": "code",
   "execution_count": 6,
   "id": "537ee192",
   "metadata": {},
   "outputs": [
    {
     "name": "stdout",
     "output_type": "stream",
     "text": [
      "[MultParConv] (hi,wi,ci,ki,ti,pi) =(32,32, 3, 1, 3,  8)\n",
      "[MultParConv] (ho,wo,co,ko,to,po) =(32,32,16, 1,16,  2)\n",
      "[MultParConv] q = 2\n",
      "2.7468 s\n"
     ]
    }
   ],
   "source": [
    "# Muxed\n",
    "U, ins1, outs1 = get_conv_params(model.conv1, {'k':ki, 'h':hi, 'w':wi})\n",
    "ct_a = MultParPack(imgl, ins1)\n",
    "\n",
    "out1, un1 = forward_convbn_par(model.conv1, \n",
    "                              model.bn1, ct_a, ins1)"
   ]
  },
  {
   "cell_type": "markdown",
   "id": "6008513a",
   "metadata": {},
   "source": [
    "## Activation"
   ]
  },
  {
   "cell_type": "code",
   "execution_count": 24,
   "id": "5eebd5d0",
   "metadata": {},
   "outputs": [],
   "source": [
    "from hemul.comparator_fhe import ApprRelu_FHE\n",
    "from hemul.comparator import ApprRelu"
   ]
  },
  {
   "cell_type": "code",
   "execution_count": 31,
   "id": "f9332281",
   "metadata": {},
   "outputs": [
    {
     "name": "stdout",
     "output_type": "stream",
     "text": [
      "functions set\n",
      "degrees = [15, 15, 15, 15], margin = 0.01, eps = 0.02\n",
      "[ 1.23083757e+00  4.86967574e-01  2.75344729e-01 ... -5.07712600e-10\n",
      "  7.09781745e-10  1.15660812e-10]\n"
     ]
    }
   ],
   "source": [
    "appr_relu = ApprRelu(xmin=-10, xmax=10, min_depth=True)\n",
    "out1 = appr_relu(out1)\n",
    "print(out1)"
   ]
  },
  {
   "cell_type": "code",
   "execution_count": 36,
   "id": "6fcce1aa",
   "metadata": {},
   "outputs": [
    {
     "name": "stdout",
     "output_type": "stream",
     "text": [
      "functions set\n",
      "degrees = [15, 15, 15, 15], margin = 0.01, eps = 0.02\n",
      "[ 1.23083757e+00  4.86967574e-01  2.75344729e-01 ... -5.07710431e-10\n",
      "  7.09780806e-10  1.15659451e-10]\n"
     ]
    }
   ],
   "source": [
    "appr = ApprRelu_FHE(ev, xmin=-10, xmax=10, min_depth=True)\n",
    "activated = appr(ctxt)\n",
    "print(activated._arr)"
   ]
  },
  {
   "cell_type": "code",
   "execution_count": 43,
   "id": "94524fad",
   "metadata": {},
   "outputs": [
    {
     "data": {
      "text/plain": [
       "True"
      ]
     },
     "execution_count": 43,
     "metadata": {},
     "output_type": "execute_result"
    }
   ],
   "source": [
    "np.all(np.isclose(out1,activated._arr))"
   ]
  },
  {
   "cell_type": "code",
   "execution_count": null,
   "id": "6d253789",
   "metadata": {},
   "outputs": [],
   "source": [
    "def forward_early(self, img_tensor):\n",
    "    model = self.torch_model\n",
    "    imgl = get_channel_last(img_tensor[0].detach().numpy())\n",
    "    ki = 1 # initial ki\n",
    "    hi, wi, ch = imgl.shape\n",
    "\n",
    "    # early conv and bn\n",
    "    _, ins0, outs0 = get_conv_params(model.conv1, {'k':ki, 'h':hi, 'w':wi})\n",
    "    ct_a = MultParPack(imgl, ins0)\n",
    "    ctxt, un1 = forward_convbn_par(model.conv1, \n",
    "                                   model.bn1, ct_a, ins0)\n",
    "    ctxt = self.activation(ctxt)\n",
    "    return ctxt, outs0 "
   ]
  },
  {
   "cell_type": "code",
   "execution_count": null,
   "id": "e351329d",
   "metadata": {},
   "outputs": [],
   "source": []
  },
  {
   "cell_type": "code",
   "execution_count": null,
   "id": "cba00d57",
   "metadata": {},
   "outputs": [],
   "source": []
  },
  {
   "cell_type": "code",
   "execution_count": null,
   "id": "dec95454",
   "metadata": {},
   "outputs": [],
   "source": []
  },
  {
   "cell_type": "code",
   "execution_count": 21,
   "id": "2b96cb73",
   "metadata": {},
   "outputs": [
    {
     "data": {
      "text/plain": [
       "tensor([ -9.2678, -10.8150,  -3.1036,  -2.9026,  -9.4616,   4.3280,  -6.9752,\n",
       "         -3.5619,  -8.8842,  -7.5630], dtype=torch.float64)"
      ]
     },
     "execution_count": 21,
     "metadata": {},
     "output_type": "execute_result"
    }
   ],
   "source": [
    "torch.tensor(result[::64][:10])"
   ]
  },
  {
   "cell_type": "code",
   "execution_count": 10,
   "id": "b649b49c",
   "metadata": {},
   "outputs": [
    {
     "data": {
      "text/plain": [
       "tensor([ -9.2678, -10.8150,  -3.1036,  -2.9026,  -9.4616,   4.3280,  -6.9752,\n",
       "         -3.5619,  -8.8842,  -7.5630], dtype=torch.float64)"
      ]
     },
     "execution_count": 10,
     "metadata": {},
     "output_type": "execute_result"
    }
   ],
   "source": [
    "torch.tensor(result[::64][:10])"
   ]
  }
 ],
 "metadata": {
  "kernelspec": {
   "display_name": "Python 3 (ipykernel)",
   "language": "python",
   "name": "python3"
  },
  "language_info": {
   "codemirror_mode": {
    "name": "ipython",
    "version": 3
   },
   "file_extension": ".py",
   "mimetype": "text/x-python",
   "name": "python",
   "nbconvert_exporter": "python",
   "pygments_lexer": "ipython3",
   "version": "3.10.4"
  },
  "vscode": {
   "interpreter": {
    "hash": "312595a83d408892f860676df71d6f6088a279ffd0ace127ffe1e58bd7b9393c"
   }
  }
 },
 "nbformat": 4,
 "nbformat_minor": 5
}
