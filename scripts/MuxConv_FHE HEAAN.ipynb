{
 "cells": [
  {
   "cell_type": "code",
   "execution_count": 1,
   "id": "bfd4f7f8",
   "metadata": {},
   "outputs": [],
   "source": [
    "%load_ext autoreload\n",
    "%autoreload 2"
   ]
  },
  {
   "cell_type": "code",
   "execution_count": 2,
   "id": "6000028a",
   "metadata": {},
   "outputs": [
    {
     "name": "stdout",
     "output_type": "stream",
     "text": [
      "Using CPU version HEAAN\n",
      "Using CPU version HEAAN\n",
      "Using CPU version HEAAN\n",
      "Using CPU version HEAAN\n"
     ]
    }
   ],
   "source": [
    "import hemul\n",
    "hemul.USE_FPGA=False\n",
    "from hemul import loader\n",
    "he = loader.load()\n",
    "from hemul import heaan\n",
    "from muxcnn.resnet_HEAAN import ResNetHEAAN\n",
    "from muxcnn.utils import load_params, load_img\n",
    "import torch\n",
    "from muxcnn.resnet_muxconv import ResNet_MuxConv\n",
    "from muxcnn.utils import get_channel_last, get_conv_params\n",
    "from muxcnn.hecnn_par import MultParPack\n",
    "from muxcnn.hecnn_par import forward_convbn_par"
   ]
  },
  {
   "cell_type": "markdown",
   "id": "acbd4950",
   "metadata": {},
   "source": [
    "## Torch model"
   ]
  },
  {
   "cell_type": "code",
   "execution_count": 3,
   "id": "8d430ea2",
   "metadata": {},
   "outputs": [],
   "source": [
    "from muxcnn.models.ResNet20 import ResNet, BasicBlock\n",
    "\n",
    "model = ResNet(BasicBlock,[1,1,1])\n",
    "model.eval() ########## 필수! \n",
    "load_params(model, fn_param=\"./ResNet8.pt\",device='cpu')\n",
    "\n",
    "img_tensor = load_img(\"./cute.jpg\", hi=32, wi=32)"
   ]
  },
  {
   "cell_type": "markdown",
   "id": "676f6b41",
   "metadata": {},
   "source": [
    "## Image"
   ]
  },
  {
   "cell_type": "code",
   "execution_count": 4,
   "id": "261e44ca",
   "metadata": {},
   "outputs": [],
   "source": [
    "imgl = get_channel_last(img_tensor[0].detach().numpy())\n",
    "ki = 1 # initial ki\n",
    "hi, wi, ch = imgl.shape"
   ]
  },
  {
   "cell_type": "markdown",
   "id": "ccda683f",
   "metadata": {},
   "source": [
    "# FHE"
   ]
  },
  {
   "cell_type": "code",
   "execution_count": 5,
   "id": "1a1c9a01",
   "metadata": {},
   "outputs": [
    {
     "name": "stdout",
     "output_type": "stream",
     "text": [
      "Initializing the scheme as the data owner\n",
      "Loading a secret key from:  ./SecretKey.txt\n",
      "loading secret key done.\n",
      "HEAAN CKKS setup is ready \n"
     ]
    }
   ],
   "source": [
    "rot_l = [2**i for i in range(15)]\n",
    "\n",
    "# prepare for all rotations\n",
    "rot_l = rot_l + [2**15-1, \n",
    "         2**15-33, 2**15-32, 2**15-31,\n",
    "         2**15-17, 2**15-16, 2**15-15, \n",
    "         2**15-9,2**15-8, 2**15-7] + [3,5,7,9,15,17, 31, 33]\n",
    "\n",
    "# try 40 & 800\n",
    "hec = heaan.HEAANContext(15, 40, 800, boot=False, load_sk=True, rot_l=rot_l)"
   ]
  },
  {
   "cell_type": "code",
   "execution_count": 6,
   "id": "b00f2d93",
   "metadata": {
    "scrolled": true
   },
   "outputs": [
    {
     "name": "stdout",
     "output_type": "stream",
     "text": [
      "functions set\n",
      "degrees = [15, 15, 15, 15], margin = 0.01, eps = 0.02\n"
     ]
    }
   ],
   "source": [
    "fhemodel = ResNetHEAAN(model, hec)\n",
    "\n",
    "ctxt = fhemodel.pack_img_ctxt(img_tensor)"
   ]
  },
  {
   "cell_type": "markdown",
   "id": "0e987342",
   "metadata": {},
   "source": [
    "# forward early"
   ]
  },
  {
   "cell_type": "code",
   "execution_count": 7,
   "id": "c7d20f4c",
   "metadata": {
    "scrolled": true
   },
   "outputs": [
    {
     "name": "stdout",
     "output_type": "stream",
     "text": [
      "[MultParConv] (hi,wi,ci,ki,ti,pi) =(32,32, 3, 1, 3,  8)\n",
      "[MultParConv] (ho,wo,co,ko,to,po) =(32,32,16, 1,16,  2)\n",
      "[MultParConv] q = 2\n",
      "ct_a 40 800 [-7.49019623e-01 -9.13725497e-01 -5.52941202e-01 -8.43137264e-01\n",
      "  1.18700309e-09 -4.11764677e-01  9.80392702e-02 -8.50980402e-01\n",
      " -2.75902376e-09 -2.47058813e-01  1.29411815e-01 -6.78431389e-01\n",
      " -9.98199988e-10  8.23529926e-02  2.94117688e-01  2.31372596e-01\n",
      "  6.34764651e-09  1.92156914e-01  1.52941235e-01  1.29411821e-01\n",
      "  6.57313531e-10  2.78431417e-01 -5.52941206e-01 -5.45098070e-01\n",
      " -1.21937052e-09  1.05882405e-01  4.98039241e-01  4.50980423e-01\n",
      " -8.91664277e-11  7.41176484e-01  7.41176488e-01 -4.27450954e-01\n",
      "  2.32312150e-09]\n",
      "ct_d 40 720\n",
      "40 760\n",
      "40 760\n",
      "Check 1\n",
      "[ 1.23083786  0.48697917  0.27534379 ... -0.65056945 -0.61289198\n",
      " -0.47934081]\n",
      "APPR 40 720\n",
      "[ 1.23083786  0.48697917  0.27534379 ... -0.65056945 -0.61289198\n",
      " -0.47934081]\n",
      "min max -5.745771387159031 5.543758366855267\n",
      "APPR 40 520\n",
      "[ 0.60359733  0.25016226  0.14227704 ... -0.33194524 -0.31326248\n",
      " -0.24630452]\n",
      "min max -1.177559147135529 1.177560975530977\n",
      "APPR 40 320\n",
      "[ 1.04696414  1.14461802  0.96830999 ... -1.03546751 -1.06731573\n",
      " -1.14640068]\n",
      "min max -1.1488637374617106 1.1488637455363955\n",
      "APPR 40 120\n",
      "[ 0.99610587  1.00670793  1.00477966 ... -0.99763025 -0.99474573\n",
      " -1.00620895]\n",
      "min max -1.0110053188711705 1.011005149497107\n",
      "bootstrap done\n",
      "AFTER bootstrap 40 800\n"
     ]
    }
   ],
   "source": [
    "ctxt0, outs0 = fhemodel.forward_early(ctxt, 1, 32, 32)"
   ]
  },
  {
   "cell_type": "code",
   "execution_count": 8,
   "id": "7d173d85",
   "metadata": {
    "scrolled": true
   },
   "outputs": [
    {
     "name": "stdout",
     "output_type": "stream",
     "text": [
      "Using CPU version HEAAN\n",
      "[ 1.23083790e+00 -3.27018611e-09  9.00872387e-01  4.33703741e-10\n",
      "  1.03879863e+00 -1.65501832e-03  1.72884925e-02  2.26538683e-01\n",
      "  7.03368487e-09 -4.52667923e-10 -3.11528386e-10 -6.20041315e-09\n",
      " -1.51824624e-10  4.46616290e-01  4.32714040e-10  1.06025075e+00\n",
      " -2.02556254e-08  5.96188892e-10  2.69868565e-01  3.97408023e+00\n",
      "  1.03376648e+00  7.15351707e-09  5.28608069e-01  2.52203241e+00\n",
      " -2.12115824e-09  8.40949255e-02 -4.77262249e-08 -2.99083129e-08\n",
      "  7.20822758e-09  6.15333972e-01  5.37446547e-01  4.76048093e-01\n",
      " -6.87114449e-09]\n"
     ]
    }
   ],
   "source": [
    "dec = hec.decrypt(ctxt0)\n",
    "print(dec[::1000])"
   ]
  },
  {
   "cell_type": "code",
   "execution_count": 9,
   "id": "0a895945",
   "metadata": {},
   "outputs": [],
   "source": [
    "hec.rescale(ctxt0)"
   ]
  },
  {
   "cell_type": "code",
   "execution_count": 10,
   "id": "dbcaa759",
   "metadata": {},
   "outputs": [
    {
     "name": "stdout",
     "output_type": "stream",
     "text": [
      "[MultParConv] (hi,wi,ci,ki,ti,pi) =(32,32,16, 1,16,  2)\n",
      "[MultParConv] (ho,wo,co,ko,to,po) =(32,32,16, 1,16,  2)\n",
      "[MultParConv] q = 8\n",
      "ct_a 40 520 [ 1.23083790e+00 -3.29777273e-09  9.00872387e-01  3.86034852e-10\n",
      "  1.03879862e+00 -1.65501896e-03  1.72884923e-02  2.26538683e-01\n",
      "  6.65668712e-09 -9.50798181e-10  5.78189352e-10 -6.42239504e-09\n",
      " -1.79728203e-10  4.46616291e-01  5.22594154e-10  1.06025075e+00\n",
      " -2.04062856e-08  6.16874283e-10  2.69868565e-01  3.97408023e+00\n",
      "  1.03376648e+00  7.85200960e-09  5.28608069e-01  2.52203241e+00\n",
      " -2.05317947e-09  8.40949257e-02 -4.73317680e-08 -2.94794796e-08\n",
      "  7.40494243e-09  6.15333972e-01  5.37446547e-01  4.76048092e-01\n",
      " -6.59084803e-09]\n",
      "ct_d 40 440\n",
      "40 480\n",
      "40 480\n",
      "40 480\n",
      "40 480\n",
      "40 480\n",
      "40 480\n",
      "40 480\n",
      "40 480\n",
      "APPR 40 440\n",
      "[ 0.86425901  1.07560649  0.71689009 ...  0.77778073  1.14699243\n",
      " -0.12684554]\n",
      "min max -7.502170828275916 4.664819436963656\n",
      "APPR 40 240\n",
      "[ 0.43581931  0.53437551  0.36458051 ...  0.39424049  0.56656664\n",
      " -0.0656868 ]\n",
      "min max -1.1775627448996573 1.1775629309090563\n",
      "APPR 40 40\n",
      "[ 0.91539688  0.97467748  0.9819354  ...  0.94322357  1.01184408\n",
      " -0.52264781]\n",
      "min max -1.1488664489333815 1.1488645811013574\n",
      "bootstrap done\n",
      "AFTER bootstrap 40 800\n",
      "APPR 40 600\n",
      "[ 1.00147935  1.00463917  1.00430668 ...  1.00404503  1.00117706\n",
      " -0.99296424]\n",
      "min max -1.0110059720249693 1.0110057459724389\n",
      "[MultParConv] (hi,wi,ci,ki,ti,pi) =(32,32,16, 1,16,  2)\n",
      "[MultParConv] (ho,wo,co,ko,to,po) =(32,32,16, 1,16,  2)\n",
      "[MultParConv] q = 8\n",
      "ct_a 80 360 [ 8.64259042e-01  2.01886165e-08  5.38638036e-09 -2.76370130e-09\n",
      "  1.68611468e+00  1.29100757e-08  6.39994201e-09  3.09700939e-09\n",
      "  1.49745257e+00  6.37802296e-03  3.68525833e-01 -1.49477560e-09\n",
      "  1.79690565e-08  1.49336049e-01  1.06900207e-08  9.25316956e-02\n",
      "  7.83995212e-01 -1.33529970e-09 -7.03286301e-09  6.72683207e-08\n",
      "  1.42898765e+00 -6.87021651e-09  9.05005059e-09 -1.39346272e-09\n",
      "  1.47202406e+00  4.42432844e-01  1.64567512e+00  3.99331699e+00\n",
      "  2.31234916e-08  3.72103115e-01  5.92393832e-01  1.13692750e+00\n",
      "  6.40896001e-01]\n",
      "ct_d 40 280\n",
      "40 320\n",
      "40 320\n",
      "40 320\n",
      "40 320\n",
      "40 320\n",
      "40 320\n",
      "40 320\n",
      "40 320\n",
      "<class.Ciphertext logp: -200 logq: 520 n: 32768> <class.Ciphertext logp: 40 logq: 520 n: 32768>\n",
      "APPR -200 520\n",
      "[ 1.25396549e+77 -2.37698016e+76 -1.76955858e+75 ...  5.79375029e+74\n",
      " -4.91108959e+74 -2.91771198e+74]\n",
      "min max -1.0847809156388404e+77 1.2539654868316744e+77\n",
      "APPR -200 320\n",
      "[ 8.86473584e+116 -3.97566289e+107  2.65858130e+099 ... -1.02387661e+098\n",
      "  3.35378753e+098  7.84889987e+098]\n",
      "min max -4.087654324756873e+114 8.864735835445406e+116\n",
      "APPR -200 120\n",
      "[-2.20061279e+98 -1.82931825e+97 -6.42850065e+97 ...  6.16207088e+97\n",
      "  4.61489992e+97 -3.40378506e+97]\n",
      "min max -5.084693950217383e+98 4.640306740202464e+98\n",
      "bootstrap done\n",
      "AFTER bootstrap 40 800\n",
      "APPR 40 600\n",
      "[ 1.46525143e+170  9.22851539e+169  2.13865923e+170 ...  8.06749093e+169\n",
      " -1.49481415e+170 -8.80690162e+169]\n",
      "min max -7.765304508501125e+170 7.740703170582739e+170\n"
     ]
    }
   ],
   "source": [
    "ctxt1, outs1 = fhemodel.forward_bb(model.layer1[0], ctxt0, outs0)"
   ]
  },
  {
   "cell_type": "code",
   "execution_count": null,
   "id": "c9ae1591",
   "metadata": {},
   "outputs": [],
   "source": []
  },
  {
   "cell_type": "code",
   "execution_count": 11,
   "id": "e7593318",
   "metadata": {},
   "outputs": [
    {
     "name": "stdout",
     "output_type": "stream",
     "text": [
      "[MultParConv] (hi,wi,ci,ki,ti,pi) =(32,32,16, 1,16,  2)\n",
      "[MultParConv] (ho,wo,co,ko,to,po) =(16,16,32, 2, 8,  4)\n",
      "[MultParConv] q = 16\n",
      "ct_a -160 360 [-7.55495086e+157 -5.19874646e+156 -1.43452015e+158  5.92495583e+157\n",
      "  3.14469788e+158  7.73574841e+156  1.88512267e+158  3.21361038e+157\n",
      "  5.50819414e+157 -3.15773732e+158 -2.71470983e+158 -1.31103105e+158\n",
      "  7.90035679e+157  6.77592755e+157  6.99490466e+157  1.68226352e+158\n",
      "  2.11461367e+158 -1.94913619e+157  2.39647162e+158 -1.19243521e+158\n",
      "  1.16999473e+158  8.14904659e+157 -1.97164266e+157  1.67444649e+158\n",
      "  1.86504860e+158  1.89382521e+158 -6.20627674e+157  2.36085322e+158\n",
      " -4.67296013e+156  1.73012432e+158  2.73635047e+157 -1.07806796e+158\n",
      " -3.90507233e+157]\n",
      "ct_d 40 280\n",
      "40 320\n",
      "40 320\n",
      "40 320\n",
      "40 320\n",
      "40 320\n",
      "40 320\n",
      "40 320\n",
      "40 320\n",
      "40 320\n",
      "40 320\n",
      "40 320\n",
      "40 320\n",
      "40 320\n",
      "40 320\n",
      "40 320\n",
      "40 320\n",
      "APPR 40 280\n",
      "[0.97729385 0.97729385 0.97729385 ... 0.97729385 0.97729385 0.97729385]\n",
      "min max 0.9772938467112908 0.9772938467112908\n",
      "APPR 40 80\n",
      "[0.48910557 0.48910557 0.48910557 ... 0.48910557 0.48910557 0.48910557]\n",
      "min max 0.4891055655743912 0.4891055655743912\n",
      "bootstrap done\n",
      "AFTER bootstrap 40 800\n",
      "APPR 40 600\n",
      "[0.9299546  0.9299539  0.9299536  ... 0.92995407 0.92995224 0.9299522 ]\n",
      "min max 0.9299476766126795 0.9299613834965996\n",
      "APPR 40 400\n",
      "[1.00298026 1.00298018 1.00298035 ... 1.00298046 1.00298049 1.00298027]\n",
      "min max 1.0029779159670855 1.0029828066779622\n",
      "[MultParConv] (hi,wi,ci,ki,ti,pi) =(16,16,32, 2, 8,  4)\n",
      "[MultParConv] (ho,wo,co,ko,to,po) =(16,16,32, 2, 8,  4)\n",
      "[MultParConv] q = 8\n",
      "ct_a 80 160 [0.97729387 0.97729385 0.97729385 0.97729385 0.97729388 0.97729384\n",
      " 0.97729384 0.97729386 0.97729386 0.97729385 0.97729386 0.97729385\n",
      " 0.97729385 0.97729386 0.97729385 0.97729385 0.97729386 0.97729384\n",
      " 0.97729386 0.97729385 0.97729384 0.97729384 0.97729386 0.97729379\n",
      " 0.97729383 0.97729383 0.97729384 0.97729385 0.97729384 0.97729384\n",
      " 0.97729383 0.97729385 0.97729384]\n",
      "ct_d 40 80\n",
      "40 120\n",
      "40 120\n",
      "40 120\n",
      "40 120\n"
     ]
    },
    {
     "name": "stderr",
     "output_type": "stream",
     "text": [
      "\n",
      "KeyboardInterrupt\n",
      "\n"
     ]
    }
   ],
   "source": [
    "ctxt2, outs2 = fhemodel.forward_bb(model.layer2[0], ctxt1, outs1)"
   ]
  },
  {
   "cell_type": "code",
   "execution_count": null,
   "id": "90839f85",
   "metadata": {},
   "outputs": [],
   "source": [
    "ctxt3, outs3 = fhemodel.forward_bb(model.layer3[0], ctxt2, outs2)"
   ]
  },
  {
   "cell_type": "code",
   "execution_count": null,
   "id": "931bf232",
   "metadata": {},
   "outputs": [],
   "source": []
  },
  {
   "cell_type": "code",
   "execution_count": 5,
   "id": "6fa95f9f",
   "metadata": {},
   "outputs": [],
   "source": [
    "# early conv and bn\n",
    "_, ins0, outs0 = get_conv_params(model.conv1, {'k':ki, 'h':hi, 'w':wi})\n",
    "ct_a = MultParPack(imgl, ins0)"
   ]
  },
  {
   "cell_type": "code",
   "execution_count": 6,
   "id": "a8b1fc65",
   "metadata": {},
   "outputs": [
    {
     "name": "stdout",
     "output_type": "stream",
     "text": [
      "[MultParConv] (hi,wi,ci,ki,ti,pi) =(32,32, 3, 1, 3,  8)\n",
      "[MultParConv] (ho,wo,co,ko,to,po) =(32,32,16, 1,16,  2)\n",
      "[MultParConv] q = 2\n",
      "2.7468 s\n"
     ]
    }
   ],
   "source": [
    "# Muxed\n",
    "U, ins1, outs1 = get_conv_params(model.conv1, {'k':ki, 'h':hi, 'w':wi})\n",
    "ct_a = MultParPack(imgl, ins1)\n",
    "\n",
    "out1, un1 = forward_convbn_par(model.conv1, \n",
    "                              model.bn1, ct_a, ins1)"
   ]
  },
  {
   "cell_type": "markdown",
   "id": "6008513a",
   "metadata": {},
   "source": [
    "## Activation"
   ]
  }
 ],
 "metadata": {
  "kernelspec": {
   "display_name": "Python 3 (ipykernel)",
   "language": "python",
   "name": "python3"
  },
  "language_info": {
   "codemirror_mode": {
    "name": "ipython",
    "version": 3
   },
   "file_extension": ".py",
   "mimetype": "text/x-python",
   "name": "python",
   "nbconvert_exporter": "python",
   "pygments_lexer": "ipython3",
   "version": "3.10.4"
  },
  "vscode": {
   "interpreter": {
    "hash": "312595a83d408892f860676df71d6f6088a279ffd0ace127ffe1e58bd7b9393c"
   }
  }
 },
 "nbformat": 4,
 "nbformat_minor": 5
}
