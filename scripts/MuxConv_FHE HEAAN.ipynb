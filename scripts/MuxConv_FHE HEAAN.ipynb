{
 "cells": [
  {
   "cell_type": "code",
   "execution_count": 1,
   "id": "bfd4f7f8",
   "metadata": {},
   "outputs": [],
   "source": [
    "%load_ext autoreload\n",
    "%autoreload 2"
   ]
  },
  {
   "cell_type": "code",
   "execution_count": 2,
   "id": "6000028a",
   "metadata": {},
   "outputs": [
    {
     "name": "stdout",
     "output_type": "stream",
     "text": [
      "Using CPU version HEAAN\n",
      "Using CPU version HEAAN\n",
      "Using CPU version HEAAN\n",
      "Using CPU version HEAAN\n"
     ]
    }
   ],
   "source": [
    "import hemul\n",
    "from hemul import loader\n",
    "he = loader.load()\n",
    "from hemul import heaan\n",
    "from muxcnn.resnet_HEAAN import ResNetHEAAN\n",
    "from muxcnn.utils import load_params, load_img\n",
    "import torch\n",
    "from muxcnn.resnet_muxconv import ResNet_MuxConv\n",
    "from muxcnn.utils import get_channel_last, get_conv_params\n",
    "from muxcnn.hecnn_par import MultParPack\n",
    "from muxcnn.hecnn_par import forward_convbn_par"
   ]
  },
  {
   "cell_type": "markdown",
   "id": "acbd4950",
   "metadata": {},
   "source": [
    "## Torch model"
   ]
  },
  {
   "cell_type": "code",
   "execution_count": 3,
   "id": "8d430ea2",
   "metadata": {},
   "outputs": [],
   "source": [
    "from muxcnn.models.ResNet20 import ResNet, BasicBlock\n",
    "\n",
    "model = ResNet(BasicBlock,[1,1,1])\n",
    "model.eval() ########## 필수! \n",
    "load_params(model, fn_param=\"./ResNet8.pt\",device='cpu')\n",
    "\n",
    "img_tensor = load_img(\"./cute.jpg\", hi=32, wi=32)"
   ]
  },
  {
   "cell_type": "markdown",
   "id": "676f6b41",
   "metadata": {},
   "source": [
    "## Image"
   ]
  },
  {
   "cell_type": "code",
   "execution_count": 4,
   "id": "261e44ca",
   "metadata": {},
   "outputs": [],
   "source": [
    "imgl = get_channel_last(img_tensor[0].detach().numpy())\n",
    "ki = 1 # initial ki\n",
    "hi, wi, ch = imgl.shape"
   ]
  },
  {
   "cell_type": "markdown",
   "id": "ccda683f",
   "metadata": {},
   "source": [
    "# FHE"
   ]
  },
  {
   "cell_type": "code",
   "execution_count": null,
   "id": "1a1c9a01",
   "metadata": {},
   "outputs": [
    {
     "name": "stdout",
     "output_type": "stream",
     "text": [
      "Initializing the scheme as the data owner\n",
      "Loading a secret key from:  ./SecretKey.txt\n"
     ]
    }
   ],
   "source": [
    "rot_l = [2**i for i in range(15)]\n",
    "\n",
    "# prepare for all rotations\n",
    "rot_l = rot_l + [2**15-1, \n",
    "         2**15-33, 2**15-32, 2**15-31,\n",
    "         2**15-17, 2**15-16, 2**15-15, \n",
    "         2**15-9,2**15-8, 2**15-7] + [3,5,7,9,15,17, 31, 33]\n",
    "\n",
    "# try 40 & 800\n",
    "hec = heaan.HEAANContext(15, 40, 800, boot=False, load_sk=True, rot_l=rot_l)"
   ]
  },
  {
   "cell_type": "code",
   "execution_count": null,
   "id": "b00f2d93",
   "metadata": {
    "scrolled": true
   },
   "outputs": [],
   "source": [
    "fhemodel = ResNetHEAAN(model, hec)\n",
    "\n",
    "ctxt = fhemodel.pack_img_ctxt(img_tensor)"
   ]
  },
  {
   "cell_type": "markdown",
   "id": "0e987342",
   "metadata": {},
   "source": [
    "# forward early"
   ]
  },
  {
   "cell_type": "code",
   "execution_count": null,
   "id": "c7d20f4c",
   "metadata": {
    "scrolled": true
   },
   "outputs": [],
   "source": [
    "ctxt0, outs0 = fhemodel.forward_early(ctxt, 1, 32, 32)"
   ]
  },
  {
   "cell_type": "code",
   "execution_count": null,
   "id": "7d173d85",
   "metadata": {
    "scrolled": true
   },
   "outputs": [],
   "source": [
    "dec = hec.decrypt(ctxt0)\n",
    "print(dec[::1000])"
   ]
  },
  {
   "cell_type": "code",
   "execution_count": null,
   "id": "0a895945",
   "metadata": {},
   "outputs": [],
   "source": [
    "hec.rescale(ctxt0)"
   ]
  },
  {
   "cell_type": "code",
   "execution_count": null,
   "id": "fc6cd14b",
   "metadata": {},
   "outputs": [],
   "source": [
    "ctxt1, outs1 = fhemodel.forward_bb(model.layer1[0], ctxt0, outs0)"
   ]
  },
  {
   "cell_type": "code",
   "execution_count": null,
   "id": "e951b26b",
   "metadata": {},
   "outputs": [],
   "source": []
  },
  {
   "cell_type": "code",
   "execution_count": 11,
   "id": "e7593318",
   "metadata": {},
   "outputs": [
    {
     "name": "stdout",
     "output_type": "stream",
     "text": [
      "[MultParConv] (hi,wi,ci,ki,ti,pi) =(32,32,16, 1,16,  2)\n",
      "[MultParConv] (ho,wo,co,ko,to,po) =(16,16,32, 2, 8,  4)\n",
      "[MultParConv] q = 16\n",
      "ct_a -160 360 [-7.55495086e+157 -5.19874646e+156 -1.43452015e+158  5.92495583e+157\n",
      "  3.14469788e+158  7.73574841e+156  1.88512267e+158  3.21361038e+157\n",
      "  5.50819414e+157 -3.15773732e+158 -2.71470983e+158 -1.31103105e+158\n",
      "  7.90035679e+157  6.77592755e+157  6.99490466e+157  1.68226352e+158\n",
      "  2.11461367e+158 -1.94913619e+157  2.39647162e+158 -1.19243521e+158\n",
      "  1.16999473e+158  8.14904659e+157 -1.97164266e+157  1.67444649e+158\n",
      "  1.86504860e+158  1.89382521e+158 -6.20627674e+157  2.36085322e+158\n",
      " -4.67296013e+156  1.73012432e+158  2.73635047e+157 -1.07806796e+158\n",
      " -3.90507233e+157]\n",
      "ct_d 40 280\n",
      "40 320\n",
      "40 320\n",
      "40 320\n",
      "40 320\n",
      "40 320\n",
      "40 320\n",
      "40 320\n",
      "40 320\n",
      "40 320\n",
      "40 320\n",
      "40 320\n",
      "40 320\n",
      "40 320\n",
      "40 320\n",
      "40 320\n",
      "40 320\n",
      "APPR 40 280\n",
      "[0.97729385 0.97729385 0.97729385 ... 0.97729385 0.97729385 0.97729385]\n",
      "min max 0.9772938467112908 0.9772938467112908\n",
      "APPR 40 80\n",
      "[0.48910557 0.48910557 0.48910557 ... 0.48910557 0.48910557 0.48910557]\n",
      "min max 0.4891055655743912 0.4891055655743912\n",
      "bootstrap done\n",
      "AFTER bootstrap 40 800\n",
      "APPR 40 600\n",
      "[0.9299546  0.9299539  0.9299536  ... 0.92995407 0.92995224 0.9299522 ]\n",
      "min max 0.9299476766126795 0.9299613834965996\n",
      "APPR 40 400\n",
      "[1.00298026 1.00298018 1.00298035 ... 1.00298046 1.00298049 1.00298027]\n",
      "min max 1.0029779159670855 1.0029828066779622\n",
      "[MultParConv] (hi,wi,ci,ki,ti,pi) =(16,16,32, 2, 8,  4)\n",
      "[MultParConv] (ho,wo,co,ko,to,po) =(16,16,32, 2, 8,  4)\n",
      "[MultParConv] q = 8\n",
      "ct_a 80 160 [0.97729387 0.97729385 0.97729385 0.97729385 0.97729388 0.97729384\n",
      " 0.97729384 0.97729386 0.97729386 0.97729385 0.97729386 0.97729385\n",
      " 0.97729385 0.97729386 0.97729385 0.97729385 0.97729386 0.97729384\n",
      " 0.97729386 0.97729385 0.97729384 0.97729384 0.97729386 0.97729379\n",
      " 0.97729383 0.97729383 0.97729384 0.97729385 0.97729384 0.97729384\n",
      " 0.97729383 0.97729385 0.97729384]\n",
      "ct_d 40 80\n",
      "40 120\n",
      "40 120\n",
      "40 120\n",
      "40 120\n"
     ]
    },
    {
     "name": "stderr",
     "output_type": "stream",
     "text": [
      "\n",
      "KeyboardInterrupt\n",
      "\n"
     ]
    }
   ],
   "source": [
    "ctxt2, outs2 = fhemodel.forward_bb(model.layer2[0], ctxt1, outs1)"
   ]
  },
  {
   "cell_type": "code",
   "execution_count": null,
   "id": "90839f85",
   "metadata": {},
   "outputs": [],
   "source": [
    "ctxt3, outs3 = fhemodel.forward_bb(model.layer3[0], ctxt2, outs2)"
   ]
  },
  {
   "cell_type": "code",
   "execution_count": null,
   "id": "931bf232",
   "metadata": {},
   "outputs": [],
   "source": []
  },
  {
   "cell_type": "code",
   "execution_count": 5,
   "id": "6fa95f9f",
   "metadata": {},
   "outputs": [],
   "source": [
    "# early conv and bn\n",
    "_, ins0, outs0 = get_conv_params(model.conv1, {'k':ki, 'h':hi, 'w':wi})\n",
    "ct_a = MultParPack(imgl, ins0)"
   ]
  },
  {
   "cell_type": "code",
   "execution_count": 6,
   "id": "a8b1fc65",
   "metadata": {},
   "outputs": [
    {
     "name": "stdout",
     "output_type": "stream",
     "text": [
      "[MultParConv] (hi,wi,ci,ki,ti,pi) =(32,32, 3, 1, 3,  8)\n",
      "[MultParConv] (ho,wo,co,ko,to,po) =(32,32,16, 1,16,  2)\n",
      "[MultParConv] q = 2\n",
      "2.7468 s\n"
     ]
    }
   ],
   "source": [
    "# Muxed\n",
    "U, ins1, outs1 = get_conv_params(model.conv1, {'k':ki, 'h':hi, 'w':wi})\n",
    "ct_a = MultParPack(imgl, ins1)\n",
    "\n",
    "out1, un1 = forward_convbn_par(model.conv1, \n",
    "                              model.bn1, ct_a, ins1)"
   ]
  },
  {
   "cell_type": "markdown",
   "id": "6008513a",
   "metadata": {},
   "source": [
    "## Activation"
   ]
  }
 ],
 "metadata": {
  "kernelspec": {
   "display_name": "Python 3 (ipykernel)",
   "language": "python",
   "name": "python3"
  },
  "language_info": {
   "codemirror_mode": {
    "name": "ipython",
    "version": 3
   },
   "file_extension": ".py",
   "mimetype": "text/x-python",
   "name": "python",
   "nbconvert_exporter": "python",
   "pygments_lexer": "ipython3",
   "version": "3.10.4"
  },
  "vscode": {
   "interpreter": {
    "hash": "312595a83d408892f860676df71d6f6088a279ffd0ace127ffe1e58bd7b9393c"
   }
  }
 },
 "nbformat": 4,
 "nbformat_minor": 5
}
