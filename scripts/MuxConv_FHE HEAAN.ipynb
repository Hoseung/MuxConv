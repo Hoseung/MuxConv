{
 "cells": [
  {
   "cell_type": "code",
   "execution_count": 1,
   "id": "bfd4f7f8",
   "metadata": {},
   "outputs": [],
   "source": [
    "%load_ext autoreload\n",
    "%autoreload 2"
   ]
  },
  {
   "cell_type": "code",
   "execution_count": 1,
   "id": "c7907150",
   "metadata": {},
   "outputs": [],
   "source": [
    "from muxcnn.utils import load_params, load_img\n",
    "import torch\n",
    "from muxcnn.resnet_muxconv import ResNet_MuxConv"
   ]
  },
  {
   "cell_type": "markdown",
   "id": "acbd4950",
   "metadata": {},
   "source": [
    "## Torch model"
   ]
  },
  {
   "cell_type": "code",
   "execution_count": 2,
   "id": "8d430ea2",
   "metadata": {},
   "outputs": [],
   "source": [
    "from muxcnn.models.ResNet20 import ResNet, BasicBlock\n",
    "\n",
    "model = ResNet(BasicBlock,[1,1,1])\n",
    "model.eval() ########## 필수! \n",
    "load_params(model, fn_param=\"./ResNet8.pt\",device='cpu')"
   ]
  },
  {
   "cell_type": "code",
   "execution_count": 3,
   "id": "be34ed92",
   "metadata": {},
   "outputs": [],
   "source": [
    "img_tensor = load_img(\"./cute.jpg\", hi=32, wi=32)"
   ]
  },
  {
   "cell_type": "code",
   "execution_count": 4,
   "id": "8bc68ada",
   "metadata": {},
   "outputs": [
    {
     "name": "stdout",
     "output_type": "stream",
     "text": [
      "before softmax tensor([[ -9.3005, -11.0586,  -2.9741,  -2.9179,  -9.3500,   4.1474,  -6.8721,\n",
      "          -3.6999,  -8.9446,  -7.6901]], grad_fn=<AddmmBackward0>)\n",
      "tensor([[-1.3450e+01, -1.5208e+01, -7.1236e+00, -7.0674e+00, -1.3500e+01,\n",
      "         -2.0791e-03, -1.1022e+01, -7.8494e+00, -1.3094e+01, -1.1840e+01]],\n",
      "       grad_fn=<LogSoftmaxBackward0>)\n"
     ]
    }
   ],
   "source": [
    "print(model(img_tensor))"
   ]
  },
  {
   "cell_type": "markdown",
   "id": "3ec99b0f",
   "metadata": {},
   "source": [
    "# MuxedCNN"
   ]
  },
  {
   "cell_type": "code",
   "execution_count": 5,
   "id": "1803bb6b",
   "metadata": {},
   "outputs": [
    {
     "name": "stdout",
     "output_type": "stream",
     "text": [
      "functions set\n",
      "degrees = [15, 15, 15, 15], margin = 0.01, eps = 0.02\n"
     ]
    }
   ],
   "source": [
    "muxed_model = ResNet_MuxConv(model, alpha=12)"
   ]
  },
  {
   "cell_type": "code",
   "execution_count": 6,
   "id": "d01e08c3",
   "metadata": {},
   "outputs": [],
   "source": [
    "from muxcnn.utils import get_channel_last, get_conv_params\n",
    "from muxcnn.hecnn_par import MultParPack\n",
    "imgl = get_channel_last(img_tensor[0].detach().numpy())\n",
    "ki = 1 # initial ki\n",
    "hi, wi, ch = imgl.shape\n",
    "\n",
    "# early conv and bn\n",
    "_, ins0, outs0 = get_conv_params(model.conv1, {'k':ki, 'h':hi, 'w':wi})\n",
    "ct_a = MultParPack(imgl, ins0)"
   ]
  },
  {
   "cell_type": "code",
   "execution_count": 7,
   "id": "4e72812e",
   "metadata": {},
   "outputs": [
    {
     "name": "stdout",
     "output_type": "stream",
     "text": [
      "[MultParConv] (hi,wi,ci,ki,ti,pi) =(32,32, 3, 1, 3,  8)\n",
      "[MultParConv] (ho,wo,co,ko,to,po) =(32,32,16, 1,16,  2)\n",
      "[MultParConv] q = 2\n",
      "2.2703 s\n"
     ]
    }
   ],
   "source": [
    "# Muxed\n",
    "U, ins1, outs1 = get_conv_params(model.conv1, {'k':ki, 'h':hi, 'w':wi})\n",
    "ct_a = MultParPack(imgl, ins1)\n",
    "from muxcnn.hecnn_par import forward_convbn_par\n",
    "out1, un1 = forward_convbn_par(model.conv1, \n",
    "                              model.bn1, ct_a, ins1)"
   ]
  },
  {
   "cell_type": "markdown",
   "id": "ccda683f",
   "metadata": {},
   "source": [
    "# FHE Context"
   ]
  },
  {
   "cell_type": "code",
   "execution_count": 8,
   "id": "b97a8a36",
   "metadata": {},
   "outputs": [
    {
     "name": "stdout",
     "output_type": "stream",
     "text": [
      "cwd =  /home/hoseung/Work/MuxConv/scripts\n",
      "binding to HEAAN\n",
      "FHE context is set\n"
     ]
    }
   ],
   "source": [
    "from muxcnn.resnet_fhe import ResNetFHE\n",
    "import numpy as np\n",
    "\n",
    "from hemul.cipher import *\n",
    "from hemul.scheme import *\n",
    "#from hemul.context import set_all\n",
    "\n",
    "class Param():\n",
    "    def __init__(self, n=None, logn=None, logp=None, logq=None, logQboot=None):\n",
    "        self.n = n\n",
    "        self.logn = logn\n",
    "        self.logp = logp\n",
    "        self.logq = logq \n",
    "        self.logQboot = logQboot\n",
    "        if self.logn == None:\n",
    "            self.logn = int(np.log2(n))\n",
    "\n",
    "import hemul.HEAAN as he\n",
    "def set_all(logp = 30, logq = 540, logn = 15):\n",
    "    \"\"\"\n",
    "    Do I have to return context?? \n",
    "    Need to check all required rotations first \n",
    "    (running emulator can do the job)\n",
    "\n",
    "    \"\"\"\n",
    "    n = 1*2**logn\n",
    "    slots = n\n",
    "    parms = Param(n=n, logp=logp, logq=logq)\n",
    "    do_reduction=False\n",
    "\n",
    "    ring = he.Ring()\n",
    "    secretKey = he.SecretKey(ring)\n",
    "    scheme = he.Scheme(secretKey, ring, False)\n",
    "\n",
    "    algo = he.SchemeAlgo(scheme)\n",
    "\n",
    "    # reduction때는 right rotation N_class개 필요. \n",
    "    ######\n",
    "    ######\n",
    "\n",
    "\n",
    "    if do_reduction:\n",
    "        Nclass = Nmodel.head.shape[0]\n",
    "        scheme.addLeftRotKeys(secretKey)\n",
    "        for i in range(Nclass):\n",
    "            scheme.addRightRotKey(secretKey, i+1) # \n",
    "    else:\n",
    "        # reduction 안 하면 하나짜리 rotation만 여러번 반복.\n",
    "        scheme.addLeftRotKey(secretKey, 1)\n",
    "\n",
    "    return \n",
    "\n",
    "\n",
    "context, ev, encoder, encryptor, decryptor = set_all(30, 900, 15)\n",
    "nslots = context.params.nslots"
   ]
  },
  {
   "cell_type": "code",
   "execution_count": 9,
   "id": "e9e83f8f",
   "metadata": {},
   "outputs": [
    {
     "name": "stdout",
     "output_type": "stream",
     "text": [
      "functions set\n",
      "degrees = [15, 15, 15, 15], margin = 0.01, eps = 0.02\n"
     ]
    }
   ],
   "source": [
    "fhemodel = ResNetFHE(model)\n",
    "fhemodel.set_agents(context, ev, encoder, encryptor)"
   ]
  },
  {
   "cell_type": "code",
   "execution_count": 12,
   "id": "5a4a7152",
   "metadata": {},
   "outputs": [
    {
     "name": "stdout",
     "output_type": "stream",
     "text": [
      "[MultParConv] (hi,wi,ci,ki,ti,pi) =(32,32, 3, 1, 3,  8)\n",
      "[MultParConv] (ho,wo,co,ko,to,po) =(32,32,16, 1,16,  2)\n",
      "[MultParConv] q = 2\n"
     ]
    }
   ],
   "source": [
    "# FHE\n",
    "ctx_a = encryptor.encrypt(ct_a)\n",
    "ctxt = fhemodel.forward_convbn_par_fhe(model.conv1, \n",
    "                          model.bn1, ctx_a, ins0)"
   ]
  },
  {
   "cell_type": "code",
   "execution_count": 13,
   "id": "fa017900",
   "metadata": {},
   "outputs": [
    {
     "name": "stdout",
     "output_type": "stream",
     "text": [
      "[ True  True  True  True  True  True  True  True  True  True  True  True\n",
      "  True  True  True  True  True  True  True  True  True  True  True  True\n",
      "  True  True  True  True  True  True  True  True  True  True  True  True\n",
      "  True  True  True  True  True  True  True  True  True  True  True  True\n",
      "  True  True]\n"
     ]
    }
   ],
   "source": [
    "print(ctxt._arr[2000:2050] == out1[2000:2050])"
   ]
  },
  {
   "cell_type": "markdown",
   "id": "6008513a",
   "metadata": {},
   "source": [
    "## Activation"
   ]
  },
  {
   "cell_type": "code",
   "execution_count": 24,
   "id": "5eebd5d0",
   "metadata": {},
   "outputs": [],
   "source": [
    "from hemul.comparator_fhe import ApprRelu_FHE\n",
    "from hemul.comparator import ApprRelu"
   ]
  },
  {
   "cell_type": "code",
   "execution_count": 31,
   "id": "f9332281",
   "metadata": {},
   "outputs": [
    {
     "name": "stdout",
     "output_type": "stream",
     "text": [
      "functions set\n",
      "degrees = [15, 15, 15, 15], margin = 0.01, eps = 0.02\n",
      "[ 1.23083757e+00  4.86967574e-01  2.75344729e-01 ... -5.07712600e-10\n",
      "  7.09781745e-10  1.15660812e-10]\n"
     ]
    }
   ],
   "source": [
    "appr_relu = ApprRelu(xmin=-10, xmax=10, min_depth=True)\n",
    "out1 = appr_relu(out1)\n",
    "print(out1)"
   ]
  },
  {
   "cell_type": "code",
   "execution_count": 36,
   "id": "6fcce1aa",
   "metadata": {},
   "outputs": [
    {
     "name": "stdout",
     "output_type": "stream",
     "text": [
      "functions set\n",
      "degrees = [15, 15, 15, 15], margin = 0.01, eps = 0.02\n",
      "[ 1.23083757e+00  4.86967574e-01  2.75344729e-01 ... -5.07710431e-10\n",
      "  7.09780806e-10  1.15659451e-10]\n"
     ]
    }
   ],
   "source": [
    "appr = ApprRelu_FHE(ev, xmin=-10, xmax=10, min_depth=True)\n",
    "activated = appr(ctxt)\n",
    "print(activated._arr)"
   ]
  },
  {
   "cell_type": "code",
   "execution_count": 43,
   "id": "94524fad",
   "metadata": {},
   "outputs": [
    {
     "data": {
      "text/plain": [
       "True"
      ]
     },
     "execution_count": 43,
     "metadata": {},
     "output_type": "execute_result"
    }
   ],
   "source": [
    "np.all(np.isclose(out1,activated._arr))"
   ]
  },
  {
   "cell_type": "code",
   "execution_count": null,
   "id": "6d253789",
   "metadata": {},
   "outputs": [],
   "source": [
    "def forward_early(self, img_tensor):\n",
    "    model = self.torch_model\n",
    "    imgl = get_channel_last(img_tensor[0].detach().numpy())\n",
    "    ki = 1 # initial ki\n",
    "    hi, wi, ch = imgl.shape\n",
    "\n",
    "    # early conv and bn\n",
    "    _, ins0, outs0 = get_conv_params(model.conv1, {'k':ki, 'h':hi, 'w':wi})\n",
    "    ct_a = MultParPack(imgl, ins0)\n",
    "    ctxt, un1 = forward_convbn_par(model.conv1, \n",
    "                                   model.bn1, ct_a, ins0)\n",
    "    ctxt = self.activation(ctxt)\n",
    "    return ctxt, outs0 "
   ]
  },
  {
   "cell_type": "code",
   "execution_count": null,
   "id": "e351329d",
   "metadata": {},
   "outputs": [],
   "source": []
  },
  {
   "cell_type": "code",
   "execution_count": null,
   "id": "cba00d57",
   "metadata": {},
   "outputs": [],
   "source": []
  },
  {
   "cell_type": "code",
   "execution_count": null,
   "id": "dec95454",
   "metadata": {},
   "outputs": [],
   "source": []
  },
  {
   "cell_type": "code",
   "execution_count": 21,
   "id": "2b96cb73",
   "metadata": {},
   "outputs": [
    {
     "data": {
      "text/plain": [
       "tensor([ -9.2678, -10.8150,  -3.1036,  -2.9026,  -9.4616,   4.3280,  -6.9752,\n",
       "         -3.5619,  -8.8842,  -7.5630], dtype=torch.float64)"
      ]
     },
     "execution_count": 21,
     "metadata": {},
     "output_type": "execute_result"
    }
   ],
   "source": [
    "torch.tensor(result[::64][:10])"
   ]
  },
  {
   "cell_type": "code",
   "execution_count": 10,
   "id": "b649b49c",
   "metadata": {},
   "outputs": [
    {
     "data": {
      "text/plain": [
       "tensor([ -9.2678, -10.8150,  -3.1036,  -2.9026,  -9.4616,   4.3280,  -6.9752,\n",
       "         -3.5619,  -8.8842,  -7.5630], dtype=torch.float64)"
      ]
     },
     "execution_count": 10,
     "metadata": {},
     "output_type": "execute_result"
    }
   ],
   "source": [
    "torch.tensor(result[::64][:10])"
   ]
  }
 ],
 "metadata": {
  "kernelspec": {
   "display_name": "Python 3 (ipykernel)",
   "language": "python",
   "name": "python3"
  },
  "language_info": {
   "codemirror_mode": {
    "name": "ipython",
    "version": 3
   },
   "file_extension": ".py",
   "mimetype": "text/x-python",
   "name": "python",
   "nbconvert_exporter": "python",
   "pygments_lexer": "ipython3",
   "version": "3.10.6"
  },
  "vscode": {
   "interpreter": {
    "hash": "312595a83d408892f860676df71d6f6088a279ffd0ace127ffe1e58bd7b9393c"
   }
  }
 },
 "nbformat": 4,
 "nbformat_minor": 5
}
