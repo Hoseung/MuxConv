{
 "cells": [
  {
   "cell_type": "code",
   "execution_count": 1,
   "id": "bfd4f7f8",
   "metadata": {},
   "outputs": [],
   "source": [
    "%load_ext autoreload\n",
    "%autoreload 2"
   ]
  },
  {
   "cell_type": "code",
   "execution_count": 2,
   "id": "afde5cd0",
   "metadata": {},
   "outputs": [],
   "source": [
    "from hemul import heaan\n",
    "import hemul.HEAAN as he\n",
    "from muxcnn.resnet_HEAAN import ResNetHEAAN\n",
    "from muxcnn.utils import load_params, load_img\n",
    "import torch\n",
    "from muxcnn.resnet_muxconv import ResNet_MuxConv\n",
    "from muxcnn.utils import get_channel_last, get_conv_params\n",
    "from muxcnn.hecnn_par import MultParPack\n",
    "from muxcnn.hecnn_par import forward_convbn_par"
   ]
  },
  {
   "cell_type": "markdown",
   "id": "acbd4950",
   "metadata": {},
   "source": [
    "## Torch model"
   ]
  },
  {
   "cell_type": "code",
   "execution_count": 3,
   "id": "8d430ea2",
   "metadata": {},
   "outputs": [],
   "source": [
    "from muxcnn.models.ResNet20 import ResNet, BasicBlock\n",
    "\n",
    "model = ResNet(BasicBlock,[1,1,1])\n",
    "model.eval() ########## 필수! \n",
    "load_params(model, fn_param=\"./ResNet8.pt\",device='cpu')\n",
    "\n",
    "img_tensor = load_img(\"./cute.jpg\", hi=32, wi=32)"
   ]
  },
  {
   "cell_type": "markdown",
   "id": "eeb317cf",
   "metadata": {},
   "source": [
    "## Image"
   ]
  },
  {
   "cell_type": "code",
   "execution_count": 4,
   "id": "104a6c2e",
   "metadata": {},
   "outputs": [],
   "source": [
    "imgl = get_channel_last(img_tensor[0].detach().numpy())\n",
    "ki = 1 # initial ki\n",
    "hi, wi, ch = imgl.shape"
   ]
  },
  {
   "cell_type": "markdown",
   "id": "ccda683f",
   "metadata": {},
   "source": [
    "# FHE"
   ]
  },
  {
   "cell_type": "code",
   "execution_count": 6,
   "id": "debe705b",
   "metadata": {},
   "outputs": [
    {
     "name": "stdout",
     "output_type": "stream",
     "text": [
      "Initializing the scheme as the data owner\n",
      "Loading a secret key from:  ./SecretKey.txt\n",
      "loading secret key done.\n",
      "HEAAN CKKS setup is ready \n"
     ]
    }
   ],
   "source": [
    "rot_l = [2**i for i in range(15)]\n",
    "\n",
    "# prepare for all rotations\n",
    "rot_l = rot_l + [2**15-1, \n",
    "         2**15-33, 2**15-32, 2**15-31,\n",
    "         2**15-17, 2**15-16, 2**15-15, \n",
    "         2**15-9,2**15-8, 2**15-7] + [3,5,7,9,15,17, 31, 33]\n",
    "\n",
    "# try 40 & 800\n",
    "hec = heaan.HEAANContext(15, 30, 600, boot=False, load_sk=True, rot_l=rot_l)"
   ]
  },
  {
   "cell_type": "code",
   "execution_count": 7,
   "id": "e43282e1",
   "metadata": {},
   "outputs": [
    {
     "name": "stdout",
     "output_type": "stream",
     "text": [
      "functions set\n",
      "degrees = [15, 15, 15, 15], margin = 0.01, eps = 0.02\n"
     ]
    }
   ],
   "source": [
    "fhemodel = ResNetHEAAN(model, hec)"
   ]
  },
  {
   "cell_type": "code",
   "execution_count": 8,
   "id": "70973dde",
   "metadata": {},
   "outputs": [],
   "source": [
    "ctxt = fhemodel.pack_img_ctxt(img_tensor)"
   ]
  },
  {
   "cell_type": "markdown",
   "id": "1638c6d0",
   "metadata": {},
   "source": [
    "# forward early"
   ]
  },
  {
   "cell_type": "code",
   "execution_count": 9,
   "id": "868736a8",
   "metadata": {
    "scrolled": true
   },
   "outputs": [
    {
     "name": "stdout",
     "output_type": "stream",
     "text": [
      "[MultParConv] (hi,wi,ci,ki,ti,pi) =(32,32, 3, 1, 3,  8)\n",
      "[MultParConv] (ho,wo,co,ko,to,po) =(32,32,16, 1,16,  2)\n",
      "[MultParConv] q = 2\n",
      "Check 1\n",
      "[ 1.23082668  0.48696742  0.27533217 ... -0.6505671  -0.61289941\n",
      " -0.4793413 ]\n",
      "APPR 30 540\n",
      "[ 1.23082668  0.48696742  0.27533217 ... -0.6505671  -0.61289941\n",
      " -0.4793413 ]\n",
      "min max -5.745795823261249 5.543789504823771\n",
      "APPR 30 390\n",
      "[ 0.60359263  0.25015599  0.14227105 ... -0.33194343 -0.31326628\n",
      " -0.24630497]\n",
      "min max -1.1776196965637782 1.1776222061654924\n",
      "APPR 30 240\n",
      "[ 1.04730287  1.14598853  0.96842739 ... -1.03412835 -1.06764562\n",
      " -1.14749952]\n",
      "min max -1.153626775194164 1.1530091993361065\n",
      "APPR 30 90\n",
      "[ 0.99703646  1.00711951  1.00434685 ... -0.99833077 -0.99489298\n",
      " -1.00535495]\n",
      "min max -1.0114610301698828 1.0114035415357514\n",
      "bootstrap done\n",
      "AFTER bootstrap 30 600\n"
     ]
    }
   ],
   "source": [
    "ctxt0, outs0 = fhemodel.forward_early(ctxt, 1, 32, 32)"
   ]
  },
  {
   "cell_type": "code",
   "execution_count": 10,
   "id": "05a5185c",
   "metadata": {},
   "outputs": [
    {
     "name": "stdout",
     "output_type": "stream",
     "text": [
      "[ 1.23080732e+00 -2.19172272e-06  9.00840631e-01  4.97676851e-07\n",
      "  1.03884788e+00 -1.64028233e-03  1.72917598e-02  2.26551253e-01\n",
      "  5.20674528e-06 -1.52607481e-06  6.20172372e-07 -2.70625058e-06\n",
      " -1.84631419e-06  4.46615700e-01 -3.47298700e-07  1.06025746e+00\n",
      "  1.89328142e-05  4.77775358e-08  2.69853589e-01  3.97405181e+00\n",
      "  1.03376779e+00 -5.89558119e-06  5.28603341e-01  2.52202193e+00\n",
      " -2.34386009e-06  8.40872827e-02 -1.59815229e-05  3.08667737e-05\n",
      "  7.58121725e-06  6.15326402e-01  5.37449316e-01  4.76051826e-01\n",
      "  2.18506417e-06]\n"
     ]
    }
   ],
   "source": [
    "dec = hec.decrypt(ctxt0)\n",
    "print(dec[::1000])"
   ]
  },
  {
   "cell_type": "code",
   "execution_count": null,
   "id": "d5533428",
   "metadata": {
    "scrolled": true
   },
   "outputs": [
    {
     "name": "stdout",
     "output_type": "stream",
     "text": [
      "[MultParConv] (hi,wi,ci,ki,ti,pi) =(32,32,16, 1,16,  2)\n",
      "[MultParConv] (ho,wo,co,ko,to,po) =(32,32,16, 1,16,  2)\n",
      "[MultParConv] q = 8\n"
     ]
    }
   ],
   "source": [
    "ctxt1, outs1 = fhemodel.forward_bb(model.layer1[0], ctxt0, outs0)"
   ]
  },
  {
   "cell_type": "code",
   "execution_count": null,
   "id": "d17f8e41",
   "metadata": {},
   "outputs": [],
   "source": [
    "ctxt2, outs2 = fhemodel.forward_bb(model.layer2[0], ctxt1, outs1)"
   ]
  },
  {
   "cell_type": "code",
   "execution_count": null,
   "id": "4d2bda7b",
   "metadata": {},
   "outputs": [],
   "source": [
    "ctxt3, outs3 = fhemodel.forward_bb(model.layer3[0], ctxt2, outs2)"
   ]
  },
  {
   "cell_type": "code",
   "execution_count": null,
   "id": "ea7ac126",
   "metadata": {},
   "outputs": [],
   "source": []
  },
  {
   "cell_type": "code",
   "execution_count": 5,
   "id": "049c11c7",
   "metadata": {},
   "outputs": [],
   "source": [
    "# early conv and bn\n",
    "_, ins0, outs0 = get_conv_params(model.conv1, {'k':ki, 'h':hi, 'w':wi})\n",
    "ct_a = MultParPack(imgl, ins0)"
   ]
  },
  {
   "cell_type": "code",
   "execution_count": 6,
   "id": "96398604",
   "metadata": {},
   "outputs": [
    {
     "name": "stdout",
     "output_type": "stream",
     "text": [
      "[MultParConv] (hi,wi,ci,ki,ti,pi) =(32,32, 3, 1, 3,  8)\n",
      "[MultParConv] (ho,wo,co,ko,to,po) =(32,32,16, 1,16,  2)\n",
      "[MultParConv] q = 2\n",
      "2.7468 s\n"
     ]
    }
   ],
   "source": [
    "# Muxed\n",
    "U, ins1, outs1 = get_conv_params(model.conv1, {'k':ki, 'h':hi, 'w':wi})\n",
    "ct_a = MultParPack(imgl, ins1)\n",
    "\n",
    "out1, un1 = forward_convbn_par(model.conv1, \n",
    "                              model.bn1, ct_a, ins1)"
   ]
  },
  {
   "cell_type": "markdown",
   "id": "6008513a",
   "metadata": {},
   "source": [
    "## Activation"
   ]
  }
 ],
 "metadata": {
  "kernelspec": {
   "display_name": "Python 3 (ipykernel)",
   "language": "python",
   "name": "python3"
  },
  "language_info": {
   "codemirror_mode": {
    "name": "ipython",
    "version": 3
   },
   "file_extension": ".py",
   "mimetype": "text/x-python",
   "name": "python",
   "nbconvert_exporter": "python",
   "pygments_lexer": "ipython3",
   "version": "3.10.4"
  },
  "vscode": {
   "interpreter": {
    "hash": "312595a83d408892f860676df71d6f6088a279ffd0ace127ffe1e58bd7b9393c"
   }
  }
 },
 "nbformat": 4,
 "nbformat_minor": 5
}
