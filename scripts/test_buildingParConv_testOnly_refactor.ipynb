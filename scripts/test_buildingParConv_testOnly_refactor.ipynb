{
 "cells": [
  {
   "cell_type": "markdown",
   "id": "04ede4fb",
   "metadata": {},
   "source": [
    "# 2022.10.30\n",
    "**Experimenting around MultConv vs. MultParConv**\n",
    "- Vec() : from np.reshape() --> definition in the reference."
   ]
  },
  {
   "cell_type": "markdown",
   "id": "3b9f9dc2",
   "metadata": {},
   "source": [
    "# Torch vs. MultConv vs. MultParConv"
   ]
  },
  {
   "cell_type": "code",
   "execution_count": 1,
   "id": "cd4378b9",
   "metadata": {},
   "outputs": [],
   "source": [
    "%load_ext autoreload\n",
    "%autoreload"
   ]
  },
  {
   "cell_type": "code",
   "execution_count": 2,
   "id": "c7907150",
   "metadata": {},
   "outputs": [],
   "source": [
    "from hlee_utils import *\n",
    "from hlee_notClass_multiplexed_lee22e import *\n",
    "#from hlee_notClass_multiplexed_lee22e_par import *\n",
    "from icecream import ic\n",
    "import torch\n",
    "import torch.nn.functional as F"
   ]
  },
  {
   "cell_type": "code",
   "execution_count": 3,
   "id": "6859d831",
   "metadata": {},
   "outputs": [],
   "source": [
    "################\n",
    "#  unpack()    #\n",
    "################\n",
    "def plot_4x4(img, co=None, fn=None):\n",
    "    fig, axs = plt.subplots(4,4, figsize=(8,8))\n",
    "    axs = axs.ravel()\n",
    "    vmin = img.min()\n",
    "    vmax = img.max()\n",
    "    if co is None:\n",
    "        co = len(img)\n",
    "    for ico in range(co):\n",
    "        axs[ico].imshow(img[ico], vmin=vmin, vmax=vmax)\n",
    "    plt.tight_layout()\n",
    "    if fn is not None:\n",
    "        plt.savefig(fn)\n",
    "        plt.close()"
   ]
  },
  {
   "cell_type": "markdown",
   "id": "acbd4950",
   "metadata": {},
   "source": [
    "## Torch model"
   ]
  },
  {
   "cell_type": "code",
   "execution_count": 4,
   "id": "2e3d8d1e",
   "metadata": {},
   "outputs": [],
   "source": [
    "def load_params(model, fn_param, device):\n",
    "    trained_param = torch.load(fn_param, map_location = torch.device(device))\n",
    "    trained_param = {key : value.cpu()   for key,value in trained_param.items()}\n",
    "    params_np     = {key : value.numpy() for key,value in trained_param.items()}\n",
    "    model.load_state_dict(trained_param)\n",
    "\n",
    "def load_img(fname, hi=None, wi=None):\n",
    "    image = cv2.imread(fname)\n",
    "    if hi is not None and wi is not None:\n",
    "        image = cv2.resize(image,(hi,wi))\n",
    "    img = get_channel_first(image)\n",
    "    img = torch.tensor(img)\n",
    "    return img.type(torch.FloatTensor)"
   ]
  },
  {
   "cell_type": "code",
   "execution_count": 5,
   "id": "8d430ea2",
   "metadata": {},
   "outputs": [],
   "source": [
    "from hlee_model import ConvNeuralNet_simple\n",
    "\n",
    "activation = F.relu\n",
    "\n",
    "model = ConvNeuralNet_simple(10, activation)\n",
    "load_params(model, fn_param=\"./models/simple_model_hlee_co16.pt\",device='cpu')"
   ]
  },
  {
   "cell_type": "code",
   "execution_count": 6,
   "id": "be34ed92",
   "metadata": {},
   "outputs": [],
   "source": [
    "img = load_img(\"./cute.jpg\", hi=32, wi=32)"
   ]
  },
  {
   "cell_type": "code",
   "execution_count": 7,
   "id": "edcb92ac",
   "metadata": {},
   "outputs": [
    {
     "name": "stdout",
     "output_type": "stream",
     "text": [
      "torch.Size([16, 32, 32])\n"
     ]
    },
    {
     "data": {
      "text/plain": [
       "<matplotlib.image.AxesImage at 0x7fa1397f1ab0>"
      ]
     },
     "execution_count": 7,
     "metadata": {},
     "output_type": "execute_result"
    },
    {
     "data": {
      "image/png": "[encoded data removed]",
      "text/plain": [
       "<Figure size 640x480 with 1 Axes>"
      ]
     },
     "metadata": {},
     "output_type": "display_data"
    }
   ],
   "source": [
    "res1 = model.conv_layer1(img)\n",
    "print(res1.shape)\n",
    "plt.imshow(res1[0,:,:].detach().numpy())"
   ]
  },
  {
   "cell_type": "code",
   "execution_count": 8,
   "id": "1c2997db",
   "metadata": {},
   "outputs": [
    {
     "data": {
      "text/plain": [
       "<matplotlib.image.AxesImage at 0x7fa131692f20>"
      ]
     },
     "execution_count": 8,
     "metadata": {},
     "output_type": "execute_result"
    },
    {
     "data": {
      "image/png": "[encoded data removed]",
      "text/plain": [
       "<Figure size 640x480 with 1 Axes>"
      ]
     },
     "metadata": {},
     "output_type": "display_data"
    }
   ],
   "source": [
    "res2 = model.conv_layer2(res1)\n",
    "plt.imshow(res2[0,:,:].detach().numpy())"
   ]
  },
  {
   "cell_type": "code",
   "execution_count": 9,
   "id": "f43159c8",
   "metadata": {},
   "outputs": [],
   "source": [
    "from torch import nn\n",
    "class MuxLayer():\n",
    "    def __init__(self, tor):\n",
    "        self.tor = tor\n",
    "        \n",
    "#     def _get_weight(self, name):\n",
    "#         layer = getattr(self.tor, name)\n",
    "#         return get_channel_last(np.array(layer.weight.detach())), layer.weight.shape    \n",
    "        \n",
    "    def _set_layer(self, ki, hi, wi, name):\n",
    "        tor = self.tor\n",
    "        layer = getattr(tor, name)\n",
    "        U, Ushape = tor.layer_info(name)\n",
    "        co, ci, fh, fw = Ushape\n",
    "        stride, stride = layer.stride\n",
    "        \n",
    "        if stride == 1:\n",
    "            ko = ki\n",
    "            ho = hi\n",
    "            wo = wi    \n",
    "        else:\n",
    "            ko = ki*stride\n",
    "            ho = int(hi/stride)\n",
    "            wo = int(wi/stride)\n",
    "\n",
    "        ti = get_t(ci,ki)\n",
    "        to = get_t(co,ko)\n",
    "        pi,ins,po,outs = get_dims(hi,wi,ci,ki,ti,ho,wo,co,ko,to)\n",
    "        return U, ins, outs\n",
    "    \n",
    "    "
   ]
  },
  {
   "cell_type": "code",
   "execution_count": null,
   "id": "798768ed",
   "metadata": {},
   "outputs": [],
   "source": []
  },
  {
   "cell_type": "code",
   "execution_count": 37,
   "id": "681d057f",
   "metadata": {},
   "outputs": [
    {
     "ename": "NameError",
     "evalue": "name 'layer' is not defined",
     "output_type": "error",
     "traceback": [
      "\u001b[0;31m---------------------------------------------------------------------------\u001b[0m",
      "\u001b[0;31mNameError\u001b[0m                                 Traceback (most recent call last)",
      "Cell \u001b[0;32mIn [37], line 1\u001b[0m\n\u001b[0;32m----> 1\u001b[0m \u001b[43mlayer\u001b[49m\n",
      "\u001b[0;31mNameError\u001b[0m: name 'layer' is not defined"
     ]
    }
   ],
   "source": [
    "layer"
   ]
  },
  {
   "cell_type": "code",
   "execution_count": 10,
   "id": "af42d3af",
   "metadata": {},
   "outputs": [],
   "source": [
    "def prepare_conv(conv_layer, ki, hi, wi):\n",
    "    U = get_channel_last(np.array(conv_layer.weight.detach()))\n",
    "    co, ci, fh, fw = conv_layer.weight.shape\n",
    "    stride, stride = conv_layer.stride\n",
    "\n",
    "    if stride == 1:\n",
    "        ko = ki\n",
    "        ho = hi\n",
    "        wo = wi    \n",
    "    else:\n",
    "        ko = ki*stride\n",
    "        ho = int(hi/stride)\n",
    "        wo = int(wi/stride)\n",
    "\n",
    "    ti = get_t(ci,ki)\n",
    "    to = get_t(co,ko)\n",
    "    pi,ins,po,outs = get_dims(hi,wi,ci,ki,ti,ho,wo,co,ko,to)\n",
    "    return U, ins, outs\n",
    "\n",
    "def prepare_bn2d(bn_layer, ki, hi, wi):\n",
    "    return U, ins, outs\n",
    "\n",
    "def prepare_fc(bn_layer, ki, hi, wi):\n",
    "    return U, ins, outs"
   ]
  },
  {
   "cell_type": "code",
   "execution_count": null,
   "id": "2018ecc0",
   "metadata": {},
   "outputs": [],
   "source": [
    "model"
   ]
  },
  {
   "cell_type": "code",
   "execution_count": 73,
   "id": "7528dfd5",
   "metadata": {},
   "outputs": [
    {
     "data": {
      "text/plain": [
       "'relu'"
      ]
     },
     "execution_count": 73,
     "metadata": {},
     "output_type": "execute_result"
    }
   ],
   "source": [
    "model.activation.__name__"
   ]
  },
  {
   "cell_type": "code",
   "execution_count": 75,
   "id": "bc80eb45",
   "metadata": {
    "scrolled": true
   },
   "outputs": [
    {
     "name": "stdout",
     "output_type": "stream",
     "text": [
      "Conv2d(3, 16, kernel_size=(3, 3), stride=(1, 1), padding=same)\n",
      "perform conv\n",
      "{'h': 32, 'w': 32, 'c': 3, 'k': 1, 't': 3, 'p': 8} {'h': 32, 'w': 32, 'c': 16, 'k': 1, 't': 16, 'p': 2}\n",
      "Conv2d(16, 16, kernel_size=(3, 3), stride=(1, 1), padding=same)\n",
      "perform conv\n",
      "{'h': 32, 'w': 32, 'c': 16, 'k': 1, 't': 16, 'p': 2} {'h': 32, 'w': 32, 'c': 16, 'k': 1, 't': 16, 'p': 2}\n",
      "AvgPool2d(kernel_size=2, stride=2, padding=0)\n",
      "Avg Pooling\n",
      "perform conv\n",
      "{'h': 32, 'w': 32, 'c': 16, 'k': 1, 't': 16, 'p': 2} {'h': 32, 'w': 32, 'c': 16, 'k': 1, 't': 16, 'p': 2}\n",
      "Conv2d(16, 32, kernel_size=(3, 3), stride=(1, 1), padding=same)\n",
      "perform conv\n",
      "{'h': 32, 'w': 32, 'c': 16, 'k': 1, 't': 16, 'p': 2} {'h': 32, 'w': 32, 'c': 32, 'k': 1, 't': 32, 'p': 1}\n",
      "BatchNorm2d(32, eps=1e-05, momentum=0.1, affine=True, track_running_stats=True)\n",
      "perform conv\n",
      "{'h': 32, 'w': 32, 'c': 16, 'k': 1, 't': 16, 'p': 2} {'h': 32, 'w': 32, 'c': 32, 'k': 1, 't': 32, 'p': 1}\n",
      "Conv2d(32, 64, kernel_size=(3, 3), stride=(1, 1), padding=same)\n",
      "perform conv\n",
      "{'h': 32, 'w': 32, 'c': 32, 'k': 1, 't': 32, 'p': 1} {'h': 32, 'w': 32, 'c': 64, 'k': 1, 't': 64, 'p': 0}\n",
      "Conv2d(64, 64, kernel_size=(3, 3), stride=(1, 1), padding=same)\n",
      "perform conv\n",
      "{'h': 32, 'w': 32, 'c': 64, 'k': 1, 't': 64, 'p': 0} {'h': 32, 'w': 32, 'c': 64, 'k': 1, 't': 64, 'p': 0}\n",
      "BatchNorm2d(64, eps=1e-05, momentum=0.1, affine=True, track_running_stats=True)\n",
      "perform conv\n",
      "{'h': 32, 'w': 32, 'c': 64, 'k': 1, 't': 64, 'p': 0} {'h': 32, 'w': 32, 'c': 64, 'k': 1, 't': 64, 'p': 0}\n",
      "Linear(in_features=1024, out_features=128, bias=True)\n",
      "perform conv\n",
      "{'h': 32, 'w': 32, 'c': 64, 'k': 1, 't': 64, 'p': 0} {'h': 32, 'w': 32, 'c': 64, 'k': 1, 't': 64, 'p': 0}\n",
      "Linear(in_features=128, out_features=10, bias=True)\n",
      "perform conv\n",
      "{'h': 32, 'w': 32, 'c': 64, 'k': 1, 't': 64, 'p': 0} {'h': 32, 'w': 32, 'c': 64, 'k': 1, 't': 64, 'p': 0}\n"
     ]
    }
   ],
   "source": [
    "ci, hi, wi = img.shape\n",
    "ki = 1\n",
    "for layer in model.children():\n",
    "    print(layer)\n",
    "    if hasattr(layer, 'weight'):\n",
    "        # Conv2d\n",
    "        if isinstance(layer, torch.nn.Conv2d):\n",
    "            U, ins, outs = prepare_conv(layer, ki, hi, wi)\n",
    "        elif isinstance(layer, torch.nn.BatchNorm2d):\n",
    "            U, ins, outs = prepare_bn2d(layer, ki, hi, wi)\n",
    "        elif isinstance(layer, torch.nn.Linear):\n",
    "            U, ins, outs = prepare_fc(layer, ki, hi, wi)\n",
    "    elif isinstance(layer, torch.nn.AvgPool2d):\n",
    "        print(\"Avg Pooling\")\n",
    "    elif layer.__name__ == \"relu\":\n",
    "        print(\"Activation\")\n",
    "        \n",
    "    print(\"perform conv\")\n",
    "    ki = outs['k']\n",
    "    hi = outs['h']\n",
    "    wi = outs['w']\n",
    "\n",
    "    print(ins, outs)\n"
   ]
  },
  {
   "cell_type": "code",
   "execution_count": 36,
   "id": "14b69ecf",
   "metadata": {},
   "outputs": [
    {
     "data": {
      "text/plain": [
       "{'h': 32, 'w': 32, 'c': 3, 'k': 1, 't': 3, 'p': 8}"
      ]
     },
     "execution_count": 36,
     "metadata": {},
     "output_type": "execute_result"
    }
   ],
   "source": [
    "ins"
   ]
  },
  {
   "cell_type": "code",
   "execution_count": 37,
   "id": "3d2b4e91",
   "metadata": {},
   "outputs": [
    {
     "data": {
      "text/plain": [
       "{'h': 32, 'w': 32, 'c': 16, 'k': 1, 't': 16, 'p': 2}"
      ]
     },
     "execution_count": 37,
     "metadata": {},
     "output_type": "execute_result"
    }
   ],
   "source": [
    "outs"
   ]
  },
  {
   "cell_type": "code",
   "execution_count": 13,
   "id": "086d1766",
   "metadata": {},
   "outputs": [],
   "source": [
    "ci, hi, wi = img.shape"
   ]
  },
  {
   "cell_type": "code",
   "execution_count": 13,
   "id": "729e66d2",
   "metadata": {},
   "outputs": [],
   "source": [
    "ci, hi, wi = img.shape"
   ]
  },
  {
   "cell_type": "code",
   "execution_count": 13,
   "id": "918c6337",
   "metadata": {},
   "outputs": [],
   "source": [
    "imgl = get_channel_last(img)"
   ]
  },
  {
   "cell_type": "code",
   "execution_count": 22,
   "id": "65e87abf",
   "metadata": {},
   "outputs": [
    {
     "data": {
      "text/plain": [
       "{'h': 32, 'w': 32, 'c': 3, 'k': 1, 't': 3, 'p': 8}"
      ]
     },
     "execution_count": 22,
     "metadata": {},
     "output_type": "execute_result"
    }
   ],
   "source": [
    "ins"
   ]
  },
  {
   "cell_type": "code",
   "execution_count": 23,
   "id": "43636fdf",
   "metadata": {},
   "outputs": [
    {
     "data": {
      "text/plain": [
       "{'h': 32, 'w': 32, 'c': 16, 'k': 1, 't': 16, 'p': 2}"
      ]
     },
     "execution_count": 23,
     "metadata": {},
     "output_type": "execute_result"
    }
   ],
   "source": [
    "outs"
   ]
  },
  {
   "cell_type": "code",
   "execution_count": 23,
   "id": "3b2a6682",
   "metadata": {},
   "outputs": [
    {
     "name": "stdout",
     "output_type": "stream",
     "text": [
      "(3, 3, 16, 16)\n"
     ]
    }
   ],
   "source": [
    "U2, ins, outs = prepare_conv(model.conv_layer2, ki=1, hi=32, wi=32)\n",
    "print(U2.shape)\n",
    "U, ins, outs = prepare_conv(model.conv_layer1, ki=1, hi=32, wi=32)\n"
   ]
  },
  {
   "cell_type": "code",
   "execution_count": 17,
   "id": "038c437e",
   "metadata": {},
   "outputs": [],
   "source": [
    "nslots = 2**15\n",
    "\n",
    "outs['k'] = 2\n",
    "outs['t'] = get_t(outs['c'], outs['k'])\n",
    "outs['p'] = get_p(nslots, outs['h'], outs['w'], outs['k'], outs['t'])"
   ]
  },
  {
   "cell_type": "code",
   "execution_count": 18,
   "id": "ddd1c8c5",
   "metadata": {},
   "outputs": [
    {
     "data": {
      "text/plain": [
       "{'h': 32, 'w': 32, 'c': 16, 'k': 2, 't': 4, 'p': 2}"
      ]
     },
     "execution_count": 18,
     "metadata": {},
     "output_type": "execute_result"
    }
   ],
   "source": [
    "outs"
   ]
  },
  {
   "cell_type": "code",
   "execution_count": 25,
   "id": "8fde082f",
   "metadata": {},
   "outputs": [
    {
     "data": {
      "text/plain": [
       "torch.Size([32, 16, 3, 3])"
      ]
     },
     "execution_count": 25,
     "metadata": {},
     "output_type": "execute_result"
    }
   ],
   "source": [
    "model.conv_layer3.weight.shape"
   ]
  },
  {
   "cell_type": "code",
   "execution_count": 50,
   "id": "a93bf370",
   "metadata": {},
   "outputs": [],
   "source": [
    "ct_a = MultPack(imgl,ins)\n",
    "U, ins, outs = prepare_conv(model.conv_layer1, ki=1, hi=32, wi=32)"
   ]
  },
  {
   "cell_type": "code",
   "execution_count": 51,
   "id": "a55813b9",
   "metadata": {},
   "outputs": [
    {
     "name": "stdout",
     "output_type": "stream",
     "text": [
      "{'h': 32, 'w': 32, 'c': 3, 'k': 1, 't': 3, 'p': 8}\n"
     ]
    }
   ],
   "source": [
    "print(ins)"
   ]
  },
  {
   "cell_type": "code",
   "execution_count": 34,
   "id": "d4c41058",
   "metadata": {},
   "outputs": [
    {
     "name": "stdout",
     "output_type": "stream",
     "text": [
      "[MultConv] (hi,wi,ci) =(32,32,3),(ho,wo,co)=(32,32,16),(fh,fw)=(3,3)\n",
      "[MultConv] (ki,ti) =(1,3), (ko,to) =(1,16)\n"
     ]
    }
   ],
   "source": [
    "out = MultConv(ct_a,U,ins,outs)\n",
    "un = unpack(out,outs)"
   ]
  },
  {
   "cell_type": "code",
   "execution_count": 49,
   "id": "bd71313b",
   "metadata": {},
   "outputs": [
    {
     "data": {
      "text/plain": [
       "torch.Size([32, 16, 3, 3])"
      ]
     },
     "execution_count": 49,
     "metadata": {},
     "output_type": "execute_result"
    }
   ],
   "source": [
    "model.conv_layer3.weight.shape"
   ]
  },
  {
   "cell_type": "code",
   "execution_count": 52,
   "id": "578fb2fd",
   "metadata": {},
   "outputs": [
    {
     "name": "stdout",
     "output_type": "stream",
     "text": [
      "{'h': 32, 'w': 32, 'c': 16, 'k': 1, 't': 16, 'p': 2}\n",
      "{'h': 32, 'w': 32, 'c': 32, 'k': 1, 't': 32, 'p': 1}\n"
     ]
    }
   ],
   "source": [
    "U2, ins2, outs2 = prepare_conv(model.conv_layer3, ki=outs['k'], hi=outs['h'], wi=outs['w'])\n",
    "print(ins2)\n",
    "print(outs2)"
   ]
  },
  {
   "cell_type": "code",
   "execution_count": 53,
   "id": "4b4ca463",
   "metadata": {},
   "outputs": [
    {
     "name": "stdout",
     "output_type": "stream",
     "text": [
      "{'h': 16, 'w': 16, 'c': 32, 'k': 2, 't': 8, 'p': 1}\n"
     ]
    }
   ],
   "source": [
    "#outs2.update({'s': 2})\n",
    "outs2['k'] = 2#outs2['s']\n",
    "outs2['t'] = get_t(outs2['c'], outs2['k'])\n",
    "outs2['p'] = get_p(nslots, outs2['h'], outs2['w'], outs2['k'], outs2['t'])\n",
    "\n",
    "\n",
    "outs2['h'] = 16\n",
    "outs2['w'] = 16\n",
    "print(outs2)"
   ]
  },
  {
   "cell_type": "code",
   "execution_count": 54,
   "id": "b4af8408",
   "metadata": {},
   "outputs": [
    {
     "data": {
      "text/plain": [
       "{'h': 32, 'w': 32, 'c': 16, 'k': 1, 't': 16, 'p': 2}"
      ]
     },
     "execution_count": 54,
     "metadata": {},
     "output_type": "execute_result"
    }
   ],
   "source": [
    "ins2"
   ]
  },
  {
   "cell_type": "code",
   "execution_count": 55,
   "id": "e219e1e6",
   "metadata": {},
   "outputs": [
    {
     "name": "stdout",
     "output_type": "stream",
     "text": [
      "[MultConv] (hi,wi,ci) =(32,32,16),(ho,wo,co)=(16,16,32),(fh,fw)=(3,3)\n",
      "[MultConv] (ki,ti) =(1,16), (ko,to) =(2,8)\n"
     ]
    }
   ],
   "source": [
    "out2 = MultConv(out,U2,ins2,outs2)\n",
    "un2 = unpack(out2,outs2)"
   ]
  },
  {
   "cell_type": "code",
   "execution_count": 56,
   "id": "d09e1c5f",
   "metadata": {},
   "outputs": [],
   "source": [
    "plot_4x4(un2, 16, fn=\"muxed_conv3.png\")"
   ]
  },
  {
   "cell_type": "markdown",
   "id": "511f64bb",
   "metadata": {},
   "source": [
    "# ParMultBN"
   ]
  },
  {
   "cell_type": "code",
   "execution_count": null,
   "id": "40e2ff3d",
   "metadata": {},
   "outputs": [],
   "source": [
    "bn = model.bn1"
   ]
  },
  {
   "cell_type": "code",
   "execution_count": null,
   "id": "bfaff677",
   "metadata": {},
   "outputs": [],
   "source": []
  },
  {
   "cell_type": "code",
   "execution_count": null,
   "id": "fd08411f",
   "metadata": {},
   "outputs": [],
   "source": []
  },
  {
   "cell_type": "code",
   "execution_count": 35,
   "id": "99dc9acf",
   "metadata": {},
   "outputs": [],
   "source": [
    "plot_4x4(un, fn=\"refactor_test.png\")\n",
    "plot_4x4(res1.detach().numpy(), fn=\"torch_test1.png\")"
   ]
  },
  {
   "cell_type": "code",
   "execution_count": 21,
   "id": "f522e301",
   "metadata": {},
   "outputs": [],
   "source": [
    "def unpack(ct,dims=[]):#제대로 작동(10.31) \n",
    "    fh,fw= 3,3\n",
    "    ha,wa,ca,ka,ta,pa = [dims[k] for k in dims.keys()]\n",
    "    tsize = ha*wa*ka**2\n",
    "    ct = ct[:ta*tsize]\n",
    "    ch  = []\n",
    "    nMultChs = ta*ka**2 \n",
    "    for channel in range(nMultChs):\n",
    "        r = channel%(ka**2)\n",
    "        idx_start_channel = int(np.floor(channel/ka**2))*tsize + int(np.floor(r/ka))*wa*ka + (r%ka)\n",
    "        mat=[]\n",
    "        for i in range(ha):\n",
    "            row = []\n",
    "            for j in range(wa):\n",
    "                idx = idx_start_channel+i*wa*ka**2+j*ka\n",
    "                row.append(ct[idx])\n",
    "            mat.append(row)\n",
    "        ch.append(mat)\n",
    "    return np.array(ch)"
   ]
  },
  {
   "cell_type": "code",
   "execution_count": null,
   "id": "3b655d5e",
   "metadata": {},
   "outputs": [],
   "source": []
  },
  {
   "cell_type": "code",
   "execution_count": null,
   "id": "4b5a32ea",
   "metadata": {},
   "outputs": [],
   "source": []
  },
  {
   "cell_type": "code",
   "execution_count": 18,
   "id": "4b8663dc",
   "metadata": {},
   "outputs": [],
   "source": [
    "U2, ins2, outs2 = mux._set_layer(outs['k'], outs['h'], outs['w'], \"conv_layer2\")"
   ]
  },
  {
   "cell_type": "code",
   "execution_count": 19,
   "id": "e15064b4",
   "metadata": {},
   "outputs": [
    {
     "name": "stdout",
     "output_type": "stream",
     "text": [
      "[MultConv] (hi,wi,ci) =(32,32,16),(ho,wo,co)=(32,32,16),(fh,fw)=(3,3)\n",
      "[MultConv] (ki,ti) =(1,16), (ko,to) =(1,16)\n"
     ]
    }
   ],
   "source": [
    "out2 = MultConv(out,U2,ins2,outs2)"
   ]
  },
  {
   "cell_type": "code",
   "execution_count": 62,
   "id": "7eab5ee2",
   "metadata": {},
   "outputs": [],
   "source": [
    "un2 = unpack(out2,outs2)"
   ]
  },
  {
   "cell_type": "code",
   "execution_count": 63,
   "id": "4a2169e5",
   "metadata": {},
   "outputs": [],
   "source": [
    "plot_4x4(un2, fn=\"refactor_test2.png\")\n",
    "plot_4x4(res2.detach().numpy(), fn=\"torch_test2.png\")"
   ]
  },
  {
   "cell_type": "code",
   "execution_count": null,
   "id": "750bf628",
   "metadata": {},
   "outputs": [],
   "source": []
  },
  {
   "cell_type": "code",
   "execution_count": 37,
   "id": "a50be103",
   "metadata": {},
   "outputs": [],
   "source": []
  },
  {
   "cell_type": "code",
   "execution_count": 39,
   "id": "dfea2ab8",
   "metadata": {},
   "outputs": [
    {
     "name": "stdout",
     "output_type": "stream",
     "text": [
      "channel out : 0\n"
     ]
    }
   ],
   "source": [
    "cnn = ConvNeuralNet_simple(10, nn.ReLU(inplace=True))"
   ]
  },
  {
   "cell_type": "code",
   "execution_count": 40,
   "id": "cad100d0",
   "metadata": {},
   "outputs": [],
   "source": [
    "model = cnn.model"
   ]
  },
  {
   "cell_type": "code",
   "execution_count": 42,
   "id": "2b03521e",
   "metadata": {},
   "outputs": [],
   "source": [
    "conv = model[0]"
   ]
  },
  {
   "cell_type": "code",
   "execution_count": 45,
   "id": "92e4d60e",
   "metadata": {},
   "outputs": [
    {
     "ename": "AttributeError",
     "evalue": "'Conv2d' object has no attribute 'keys'",
     "output_type": "error",
     "traceback": [
      "\u001b[0;31m---------------------------------------------------------------------------\u001b[0m",
      "\u001b[0;31mAttributeError\u001b[0m                            Traceback (most recent call last)",
      "Input \u001b[0;32mIn [45]\u001b[0m, in \u001b[0;36m<cell line: 1>\u001b[0;34m()\u001b[0m\n\u001b[0;32m----> 1\u001b[0m \u001b[43mconv\u001b[49m\u001b[38;5;241;43m.\u001b[39;49m\u001b[43mkeys\u001b[49m()\n",
      "File \u001b[0;32m~/anaconda3/envs/fhe/lib/python3.10/site-packages/torch/nn/modules/module.py:1207\u001b[0m, in \u001b[0;36mModule.__getattr__\u001b[0;34m(self, name)\u001b[0m\n\u001b[1;32m   1205\u001b[0m     \u001b[38;5;28;01mif\u001b[39;00m name \u001b[38;5;129;01min\u001b[39;00m modules:\n\u001b[1;32m   1206\u001b[0m         \u001b[38;5;28;01mreturn\u001b[39;00m modules[name]\n\u001b[0;32m-> 1207\u001b[0m \u001b[38;5;28;01mraise\u001b[39;00m \u001b[38;5;167;01mAttributeError\u001b[39;00m(\u001b[38;5;124m\"\u001b[39m\u001b[38;5;124m'\u001b[39m\u001b[38;5;132;01m{}\u001b[39;00m\u001b[38;5;124m'\u001b[39m\u001b[38;5;124m object has no attribute \u001b[39m\u001b[38;5;124m'\u001b[39m\u001b[38;5;132;01m{}\u001b[39;00m\u001b[38;5;124m'\u001b[39m\u001b[38;5;124m\"\u001b[39m\u001b[38;5;241m.\u001b[39mformat(\n\u001b[1;32m   1208\u001b[0m     \u001b[38;5;28mtype\u001b[39m(\u001b[38;5;28mself\u001b[39m)\u001b[38;5;241m.\u001b[39m\u001b[38;5;18m__name__\u001b[39m, name))\n",
      "\u001b[0;31mAttributeError\u001b[0m: 'Conv2d' object has no attribute 'keys'"
     ]
    }
   ],
   "source": [
    "conv."
   ]
  },
  {
   "cell_type": "code",
   "execution_count": null,
   "id": "b74b3526",
   "metadata": {},
   "outputs": [],
   "source": []
  },
  {
   "cell_type": "code",
   "execution_count": 112,
   "id": "e8893883",
   "metadata": {},
   "outputs": [],
   "source": [
    "#############################\n",
    "#  Edit here                #\n",
    "#############################\n",
    "hi,wi,ci,ki,ti = 32,32, 3, 1,3\n",
    "ho,wo,co,ko,to = 32,32, 16, 1,16\n",
    "line = 200*np.ones([hi,2])\n",
    "#############################\n",
    "#  Do Not Edit              #\n",
    "#############################\n",
    "pi,ins,po,outs = get_dims(hi,wi,ci,ki,ti,ho,wo,co,ko,to)\n",
    "nslots = 2**15\n",
    "fh,fw = 3,3\n",
    "classes = ['airplane', 'automobile', 'bird', 'cat', 'deer',\n",
    "           'dog',      'frog',       'horse','ship','truck']"
   ]
  },
  {
   "cell_type": "markdown",
   "id": "5e248a61",
   "metadata": {},
   "source": [
    "# 1. 입력 이미지  size=32x32\n",
    "\n",
    "- 이미지 크기 32x32 #channels=3 (첫번째 채널만 이미지데이터, 나머지 채널은 0)\n"
   ]
  },
  {
   "cell_type": "code",
   "execution_count": 3,
   "id": "001a9290",
   "metadata": {},
   "outputs": [
    {
     "ename": "NameError",
     "evalue": "name 'ins' is not defined",
     "output_type": "error",
     "traceback": [
      "\u001b[0;31m---------------------------------------------------------------------------\u001b[0m",
      "\u001b[0;31mNameError\u001b[0m                                 Traceback (most recent call last)",
      "Input \u001b[0;32mIn [3]\u001b[0m, in \u001b[0;36m<cell line: 3>\u001b[0;34m()\u001b[0m\n\u001b[1;32m      1\u001b[0m \u001b[38;5;66;03m#U=create_U_select(fh,fw,ci,co,\"dummy\")\u001b[39;00m\n\u001b[1;32m      2\u001b[0m \u001b[38;5;66;03m#u = get_channel_first(U)\u001b[39;00m\n\u001b[0;32m----> 3\u001b[0m img \u001b[38;5;241m=\u001b[39m create_img_single(\u001b[43mins\u001b[49m)\n\u001b[1;32m      4\u001b[0m a \u001b[38;5;241m=\u001b[39mget_channel_first(img)\n\u001b[1;32m      5\u001b[0m hstack\u001b[38;5;241m=\u001b[39ma[\u001b[38;5;241m0\u001b[39m]\n",
      "\u001b[0;31mNameError\u001b[0m: name 'ins' is not defined"
     ]
    }
   ],
   "source": [
    "#U=create_U_select(fh,fw,ci,co,\"dummy\")\n",
    "#u = get_channel_first(U)\n",
    "img = create_img_single(ins)\n",
    "a =get_channel_first(img)\n",
    "hstack=a[0]\n",
    "\n",
    "for i in range(1,ci):\n",
    "    hstack = np.hstack([hstack,line,a[i]])\n",
    "print(\"\\n\\n+++++++++++++++++++++++++++++++++++++++++++++++++++ IMAGE ch=0 remains (others filled with zeros).\")\n",
    "plt.imshow(hstack,cmap='gray')\n",
    "print(a[0][-1])"
   ]
  },
  {
   "cell_type": "markdown",
   "id": "ce594a3e",
   "metadata": {},
   "source": [
    "# 2. Torch Conv (ci=3, co=4) "
   ]
  },
  {
   "cell_type": "code",
   "execution_count": 119,
   "id": "df72efad",
   "metadata": {},
   "outputs": [
    {
     "name": "stdout",
     "output_type": "stream",
     "text": [
      "The autoreload extension is already loaded. To reload it, use:\n",
      "  %reload_ext autoreload\n",
      "channel out : 16\n",
      "channel out : 16\n",
      "[cnn] U_multconv  : (3, 3, 3, 16)\n",
      "[cnn] U_torchconv : torch.Size([16, 3, 3, 3])\n",
      "\n",
      "\n",
      "+++++++++++++++++++++++++++++++++++++++++++++++++++ TORCH out (CHANNEL :0>1>2>3)\n"
     ]
    },
    {
     "data": {
      "image/png": "[encoded data removed]",
      "text/plain": [
       "<Figure size 432x288 with 1 Axes>"
      ]
     },
     "metadata": {
      "needs_background": "light"
     },
     "output_type": "display_data"
    }
   ],
   "source": [
    "%load_ext autoreload\n",
    "%autoreload\n",
    "from hlee_cnn import *\n",
    "def torch_result(classes,ho,wo,co,img):\n",
    "    tor = TorchConv_infer(len(classes),ho,wo,co,F.relu,fn_param=\"./models/simple_model_hlee_co16.pt\",device='cpu')\n",
    "    torout = tor.TorchConv_single(img)\n",
    "    U_torchconv = tor.U_torchconv #with channel last.\n",
    "    U  = tor.U_multconv #with channel last.\n",
    "    hs_tor = torout[0]\n",
    "    for i in range(1,co):\n",
    "        hs_tor=np.hstack([hs_tor,line,torout[i]])\n",
    "    plt.imshow(hs_tor)\n",
    "    print(\"\\n\\n+++++++++++++++++++++++++++++++++++++++++++++++++++ TORCH out (CHANNEL :0>1>2>3)\")\n",
    "    return U,torout\n",
    "\n",
    "U,torout = torch_result(classes,ho,wo,co,img)"
   ]
  },
  {
   "cell_type": "code",
   "execution_count": 136,
   "id": "337e3f73",
   "metadata": {},
   "outputs": [],
   "source": [
    "plot_4x4(un-np.array(torout), \"diff.png\")"
   ]
  },
  {
   "cell_type": "code",
   "execution_count": 127,
   "id": "ce02455b",
   "metadata": {},
   "outputs": [
    {
     "data": {
      "image/png": "[encoded data removed]",
      "text/plain": [
       "<Figure size 576x576 with 16 Axes>"
      ]
     },
     "metadata": {
      "needs_background": "light"
     },
     "output_type": "display_data"
    }
   ],
   "source": [
    "fig, axs = plt.subplots(4,4, figsize=(8,8))\n",
    "axs = axs.ravel()\n",
    "for ico in range(co):\n",
    "    axs[ico].imshow(torout[ico])\n",
    "plt.tight_layout()\n",
    "plt.savefig(\"torch.png\")"
   ]
  }
 ],
 "metadata": {
  "kernelspec": {
   "display_name": "Python 3 (ipykernel)",
   "language": "python",
   "name": "python3"
  },
  "language_info": {
   "codemirror_mode": {
    "name": "ipython",
    "version": 3
   },
   "file_extension": ".py",
   "mimetype": "text/x-python",
   "name": "python",
   "nbconvert_exporter": "python",
   "pygments_lexer": "ipython3",
   "version": "3.10.6"
  },
  "vscode": {
   "interpreter": {
    "hash": "31f2aee4e71d21fbe5cf8b01ff0e069b9275f58929596ceb00d14d90e3e16cd6"
   }
  }
 },
 "nbformat": 4,
 "nbformat_minor": 5
}
