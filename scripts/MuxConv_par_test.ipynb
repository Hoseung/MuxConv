{
 "cells": [
  {
   "cell_type": "code",
   "execution_count": 26,
   "id": "c7907150",
   "metadata": {},
   "outputs": [],
   "source": [
    "#from muxcnn.utils import *\n",
    "from muxcnn.hecnn_par import *\n",
    "from icecream import ic\n",
    "import torch\n",
    "import torch.nn.functional as F"
   ]
  },
  {
   "cell_type": "markdown",
   "id": "acbd4950",
   "metadata": {},
   "source": [
    "## Torch model"
   ]
  },
  {
   "cell_type": "code",
   "execution_count": 27,
   "id": "2e3d8d1e",
   "metadata": {},
   "outputs": [],
   "source": [
    "def load_params(model, fn_param, device):\n",
    "    trained_param = torch.load(fn_param, map_location = torch.device(device))\n",
    "    trained_param = {key : value.cpu()   for key,value in trained_param.items()}\n",
    "    params_np     = {key : value.numpy() for key,value in trained_param.items()}\n",
    "    model.load_state_dict(trained_param)\n",
    "\n",
    "def load_img(fname, hi=None, wi=None):\n",
    "    image = cv2.imread(fname)\n",
    "    if hi is not None and wi is not None:\n",
    "        image = cv2.resize(image,(hi,wi))\n",
    "    img = get_channel_first(image)\n",
    "    img = torch.tensor(img).unsqueeze(0)\n",
    "    return img.type(torch.FloatTensor)"
   ]
  },
  {
   "cell_type": "code",
   "execution_count": 28,
   "id": "8d430ea2",
   "metadata": {},
   "outputs": [],
   "source": [
    "from muxcnn.models.ResNet20 import ResNet, BasicBlock\n",
    "\n",
    "activation = F.relu\n",
    "\n",
    "model = ResNet(BasicBlock,[1,1,1])\n",
    "load_params(model, fn_param=\"./ResNet8.pt\",device='cpu')"
   ]
  },
  {
   "cell_type": "code",
   "execution_count": 29,
   "id": "be34ed92",
   "metadata": {},
   "outputs": [],
   "source": [
    "img_tensor = load_img(\"./cute.jpg\", hi=32, wi=32)"
   ]
  },
  {
   "cell_type": "code",
   "execution_count": 30,
   "id": "edcb92ac",
   "metadata": {},
   "outputs": [
    {
     "name": "stdout",
     "output_type": "stream",
     "text": [
      "torch.Size([1, 16, 32, 32])\n"
     ]
    },
    {
     "data": {
      "text/plain": [
       "Text(0.5, 1.0, 'After bn1')"
      ]
     },
     "execution_count": 30,
     "metadata": {},
     "output_type": "execute_result"
    },
    {
     "data": {
      "image/png": "[encoded data removed]",
      "text/plain": [
       "<Figure size 640x480 with 2 Axes>"
      ]
     },
     "metadata": {},
     "output_type": "display_data"
    }
   ],
   "source": [
    "#img_tensor = convert_tensor(img)\n",
    "res1 = model.conv1(img_tensor)\n",
    "print(res1.shape)\n",
    "fig, axs = plt.subplots(1,2)\n",
    "axs[0].imshow(res1[0,0,:,:].detach().numpy())\n",
    "axs[0].set_title(\"After conv1\")\n",
    "\n",
    "res2 = model.bn1(res1)\n",
    "axs[1].imshow(res2[0,0,:,:].detach().numpy())\n",
    "axs[1].set_title(\"After bn1\")"
   ]
  },
  {
   "cell_type": "code",
   "execution_count": 31,
   "id": "10e7f2b7",
   "metadata": {},
   "outputs": [
    {
     "data": {
      "text/plain": [
       "BasicBlock(\n",
       "  (conv1): Conv2d(16, 16, kernel_size=(3, 3), stride=(1, 1), padding=(1, 1), bias=False)\n",
       "  (bn1): BatchNorm2d(16, eps=1e-05, momentum=0.1, affine=False, track_running_stats=True)\n",
       "  (conv2): Conv2d(16, 16, kernel_size=(3, 3), stride=(1, 1), padding=(1, 1), bias=False)\n",
       "  (bn2): BatchNorm2d(16, eps=1e-05, momentum=0.1, affine=False, track_running_stats=True)\n",
       "  (shortcut): Sequential()\n",
       ")"
      ]
     },
     "execution_count": 31,
     "metadata": {},
     "output_type": "execute_result"
    }
   ],
   "source": [
    "model.layer1[0]"
   ]
  },
  {
   "cell_type": "code",
   "execution_count": 32,
   "id": "c43e3a1b",
   "metadata": {},
   "outputs": [],
   "source": [
    "res1 = model.conv1(img_tensor)\n",
    "res1b = model.bn1(res1)"
   ]
  },
  {
   "cell_type": "code",
   "execution_count": 33,
   "id": "b2c55968",
   "metadata": {},
   "outputs": [
    {
     "data": {
      "text/plain": [
       "Parameter containing:\n",
       "tensor([0.6424, 0.5615, 1.0674, 0.7741, 0.9472, 0.8808, 1.0866, 1.0890, 0.4921,\n",
       "        0.8071, 0.5211, 1.0955, 1.0757, 0.6055, 0.4599, 0.5332],\n",
       "       requires_grad=True)"
      ]
     },
     "execution_count": 33,
     "metadata": {},
     "output_type": "execute_result"
    }
   ],
   "source": [
    "model.bn1.weight"
   ]
  },
  {
   "cell_type": "code",
   "execution_count": 34,
   "id": "67c97c72",
   "metadata": {},
   "outputs": [],
   "source": [
    "\n",
    "res2 = model.layer1[0].conv1(res1)\n",
    "res3 = model.layer1[0].conv2(res2)\n",
    "res4 = model.layer2[0].conv1(res3)\n",
    "res5 = model.layer2[0].conv2(res4)\n",
    "res6 = model.layer3[0].conv1(res5)\n",
    "res7 = model.layer3[0].conv2(res6)"
   ]
  },
  {
   "cell_type": "markdown",
   "id": "b1aac562",
   "metadata": {},
   "source": [
    "# FHE-frinedly model"
   ]
  },
  {
   "cell_type": "code",
   "execution_count": 36,
   "id": "f22212e9",
   "metadata": {
    "scrolled": false
   },
   "outputs": [
    {
     "name": "stdout",
     "output_type": "stream",
     "text": [
      "[MultParConv] (hi,wi,ci,ki,ti,pi) =(32,32, 3, 1, 3,  8)\n",
      "[MultParConv] (ho,wo,co,ko,to,po) =(32,32,16, 1,16,  2)\n",
      "[MultParConv] q = 2\n",
      "[MultParConv] (hi,wi,ci,ki,ti,pi) =(32,32,16, 1,16,  2)\n",
      "[MultParConv] (ho,wo,co,ko,to,po) =(32,32,16, 1,16,  2)\n",
      "[MultParConv] q = 8\n",
      "[MultParConv] (hi,wi,ci,ki,ti,pi) =(32,32,16, 1,16,  2)\n",
      "[MultParConv] (ho,wo,co,ko,to,po) =(32,32,16, 1,16,  2)\n",
      "[MultParConv] q = 8\n",
      "[MultParConv] (hi,wi,ci,ki,ti,pi) =(32,32,16, 1,16,  2)\n",
      "[MultParConv] (ho,wo,co,ko,to,po) =(16,16,32, 2, 8,  4)\n",
      "[MultParConv] q = 16\n",
      "[MultParConv] (hi,wi,ci,ki,ti,pi) =(16,16,32, 2, 8,  4)\n",
      "[MultParConv] (ho,wo,co,ko,to,po) =(16,16,32, 2, 8,  4)\n",
      "[MultParConv] q = 8\n",
      "[MultParConv] (hi,wi,ci,ki,ti,pi) =(16,16,32, 2, 8,  4)\n",
      "[MultParConv] (ho,wo,co,ko,to,po) =( 8, 8,64, 4, 4,  8)\n",
      "[MultParConv] q = 16\n",
      "[MultParConv] (hi,wi,ci,ki,ti,pi) =( 8, 8,64, 4, 4,  8)\n",
      "[MultParConv] (ho,wo,co,ko,to,po) =( 8, 8,64, 4, 4,  8)\n",
      "[MultParConv] q = 8\n"
     ]
    }
   ],
   "source": [
    "imgl = get_channel_last(img_tensor[0].detach().numpy())\n",
    "ki = 1\n",
    "hi, wi, ch = imgl.shape\n",
    "\n",
    "U, ins, outs = get_conv_params(model.conv1, {'k':ki, 'h':hi, 'w':wi})\n",
    "ct_a = MultParPack(imgl, ins)\n",
    "out, un1 = forward_conv_par(model.conv1, ct_a, ins)\n",
    "\n",
    "U, ins, outs = get_conv_params(model.layer1[0].conv1, outs)\n",
    "out, un2 = forward_conv_par(model.layer1[0].conv1, out,  ins)\n",
    "\n",
    "U, ins, outs = get_conv_params(model.layer1[0].conv2, outs)\n",
    "out, un3 = forward_conv_par(model.layer1[0].conv2, out,  ins)\n",
    "\n",
    "U, ins, outs = get_conv_params(model.layer2[0].conv1, outs)\n",
    "out, un4 = forward_conv_par(model.layer2[0].conv1, out, ins)\n",
    "\n",
    "U, ins, outs = get_conv_params(model.layer2[0].conv2, outs)\n",
    "out, un5 = forward_conv_par(model.layer2[0].conv2, out, ins)\n",
    "\n",
    "U, ins, outs = get_conv_params(model.layer3[0].conv1, outs)\n",
    "out, un6 = forward_conv_par(model.layer3[0].conv1, out, ins)\n",
    "\n",
    "U, ins, outs = get_conv_params(model.layer3[0].conv2, outs)\n",
    "out, un7 = forward_conv_par(model.layer3[0].conv2, out, ins)"
   ]
  },
  {
   "cell_type": "code",
   "execution_count": 37,
   "id": "5acd8396",
   "metadata": {},
   "outputs": [],
   "source": [
    "def compare(tout, fout, ch=0, fn=None, err_mag= 1e-5):\n",
    "    tt = tout.detach().numpy()[0,ch,:,:]\n",
    "    ff = fout[ch,:,:]\n",
    "    \n",
    "    fig, axs = plt.subplots(2,2)\n",
    "    vmin = tt.min()\n",
    "    vmax = tt.max()\n",
    "    axs[0,0].imshow(tt, vmin=vmin, vmax=vmax)\n",
    "    axs[0,0].set_title(\"torch\")\n",
    "    axs[0,1].imshow(ff, vmin=vmin, vmax=vmax)\n",
    "    axs[0,1].set_title(\"fhe\")\n",
    "    axs[1,0].imshow(tt-ff, vmin=vmin*err_mag, vmax=vmax*err_mag)\n",
    "    axs[1,0].set_title(f\"diff (min,max)*{err_mag:.2g}\")\n",
    "    plt.tight_layout()\n",
    "    if fn is not None:\n",
    "        plt.savefig(fn.replace(\".png\", f\"_{ch}.png\"))\n",
    "        plt.close()\n",
    "    "
   ]
  },
  {
   "cell_type": "code",
   "execution_count": 38,
   "id": "97ee8134",
   "metadata": {},
   "outputs": [],
   "source": [
    "compare(res6, un6, ch=0, fn=\"layer6.png\")\n",
    "compare(res6, un6, ch=1, fn=\"layer6.png\")\n",
    "compare(res6, un6, ch=4, fn=\"layer6.png\")\n",
    "compare(res6, un6, ch=7, fn=\"layer6.png\")"
   ]
  },
  {
   "cell_type": "code",
   "execution_count": 39,
   "id": "bbedb257",
   "metadata": {},
   "outputs": [],
   "source": [
    "compare(res1, un1, ch=0, fn=\"layer1.png\")\n",
    "compare(res2, un2, ch=0, fn=\"layer2.png\")\n",
    "compare(res3, un3, ch=0, fn=\"layer3.png\")\n",
    "compare(res4, un4, ch=0, fn=\"layer4.png\")\n",
    "compare(res5, un5, ch=0, fn=\"layer5.png\")\n",
    "compare(res6, un6, ch=0, fn=\"layer6.png\")\n",
    "compare(res7, un7, ch=0, fn=\"layer7.png\")"
   ]
  },
  {
   "cell_type": "code",
   "execution_count": null,
   "id": "30c6f518",
   "metadata": {},
   "outputs": [],
   "source": []
  },
  {
   "cell_type": "code",
   "execution_count": null,
   "id": "c1ed7746",
   "metadata": {},
   "outputs": [],
   "source": []
  }
 ],
 "metadata": {
  "kernelspec": {
   "display_name": "Python 3 (ipykernel)",
   "language": "python",
   "name": "python3"
  },
  "language_info": {
   "codemirror_mode": {
    "name": "ipython",
    "version": 3
   },
   "file_extension": ".py",
   "mimetype": "text/x-python",
   "name": "python",
   "nbconvert_exporter": "python",
   "pygments_lexer": "ipython3",
   "version": "3.10.4"
  },
  "vscode": {
   "interpreter": {
    "hash": "60d42a677e1abf850e158ee39e01a5d70da0f6529681f4a4eca4a35dff8a082c"
   }
  }
 },
 "nbformat": 4,
 "nbformat_minor": 5
}
